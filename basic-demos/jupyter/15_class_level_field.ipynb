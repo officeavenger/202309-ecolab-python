{
 "cells": [
  {
   "attachments": {},
   "cell_type": "markdown",
   "metadata": {},
   "source": [
    "## Let us Revisit Employee class"
   ]
  },
  {
   "cell_type": "code",
   "execution_count": 1,
   "metadata": {},
   "outputs": [],
   "source": [
    "class Employee:\n",
    "    def __init__(self, id,name,salary):\n",
    "        self._id=id\n",
    "        self._name=name\n",
    "        self._salary=salary\n",
    "\n",
    "    def info(self):\n",
    "        return f'{type(self).__name__}\\tId={self._id}\\tName={self._name}\\tSalary={self._salary}'"
   ]
  },
  {
   "cell_type": "code",
   "execution_count": 2,
   "metadata": {},
   "outputs": [
    {
     "name": "stdout",
     "output_type": "stream",
     "text": [
      "Employee\tId=1\tName=Sanjay\tSalary=50000\n",
      "Employee\tId=1\tName=Prabhat\tSalary=60000\n"
     ]
    }
   ],
   "source": [
    "employees=[ Employee(1,\"Sanjay\",50000), \n",
    "            Employee(1,'Prabhat',60000)]\n",
    "\n",
    "for employee in employees:\n",
    "    print(employee.info())"
   ]
  },
  {
   "attachments": {},
   "cell_type": "markdown",
   "metadata": {},
   "source": [
    "### Problem -- We have two Employees with same id\n",
    "\n",
    "* In real world employee id should be unique\n",
    "* But since we are allowed to pass this information, we may pass same information to different employee\n",
    "* This shouldn't be allowed.\n",
    "\n",
    "\n",
    "### Solution -- Auto generate Id\n",
    "\n",
    "* we can generate id using some algorithm rather than passing as parameter\n",
    "\n",
    "```python\n",
    "class Employee:\n",
    "    def __init__(self, name, salary):\n",
    "        self._id= generate_employee_id()\n",
    "        self._name=name\n",
    "        self._salary=salary\n",
    "```\n",
    "\n",
    "* we may generate the id is a simple sequence by incrementing last_id\n",
    "\n",
    "\n",
    "\n",
    "### Where to I keep trackof last_id\n",
    "\n",
    "* two objects by default don't know each other\n",
    "* we can't have a place to keep track of what id was assigned to the last object\n",
    "* we need to manage it outside the Employee object \n",
    "\n",
    "\n",
    "### Solution #1 -->  manage it as a global or module level variable"
   ]
  },
  {
   "cell_type": "code",
   "execution_count": 3,
   "metadata": {},
   "outputs": [
    {
     "name": "stdout",
     "output_type": "stream",
     "text": [
      "Overwriting employee.py\n"
     ]
    }
   ],
   "source": [
    "%%file employee.py\n",
    "\n",
    "last_id=0\n",
    "\n",
    "class Employee:\n",
    "    def __init__(self, name,salary):\n",
    "        global last_id\n",
    "        last_id+=1\n",
    "        self._id=last_id\n",
    "        self._name=name\n",
    "        self._salary=salary\n",
    "\n",
    "    def info(self):\n",
    "        return f'{type(self).__name__}\\tId={self._id}\\tName={self._name}\\tSalary={self._salary}'"
   ]
  },
  {
   "cell_type": "code",
   "execution_count": 4,
   "metadata": {},
   "outputs": [],
   "source": [
    "import employee as e"
   ]
  },
  {
   "cell_type": "code",
   "execution_count": 5,
   "metadata": {},
   "outputs": [],
   "source": [
    "employees=[]\n",
    "for i in range(10):\n",
    "    employee=e.Employee(f\"Employee {i}\",50000)\n",
    "    employees.append(employee)\n"
   ]
  },
  {
   "cell_type": "code",
   "execution_count": 6,
   "metadata": {},
   "outputs": [
    {
     "name": "stdout",
     "output_type": "stream",
     "text": [
      "Employee\tId=1\tName=Employee 0\tSalary=50000\n",
      "Employee\tId=2\tName=Employee 1\tSalary=50000\n",
      "Employee\tId=3\tName=Employee 2\tSalary=50000\n",
      "Employee\tId=4\tName=Employee 3\tSalary=50000\n",
      "Employee\tId=5\tName=Employee 4\tSalary=50000\n",
      "Employee\tId=6\tName=Employee 5\tSalary=50000\n",
      "Employee\tId=7\tName=Employee 6\tSalary=50000\n",
      "Employee\tId=8\tName=Employee 7\tSalary=50000\n",
      "Employee\tId=9\tName=Employee 8\tSalary=50000\n",
      "Employee\tId=10\tName=Employee 9\tSalary=50000\n"
     ]
    }
   ],
   "source": [
    "for employee in employees:\n",
    "    print(employee.info())"
   ]
  },
  {
   "attachments": {},
   "cell_type": "markdown",
   "metadata": {},
   "source": [
    "## Solution #2 class level fields\n",
    "\n",
    "* We can declare a field at the class level (just like methods)\n",
    "* These fields belong to the class and not to the objects\n",
    "    * A single copy of this field will be present in memory\n",
    "\n",
    "* They can however be \n",
    "    * accessed just like object fields \n",
    "    * they can be accessed inside class methods using\n",
    "        * ClassName.fieldName\n",
    "        * self.fieldName\n",
    "\n",
    "* These are similar to **static** of C++/Java/C#"
   ]
  },
  {
   "cell_type": "code",
   "execution_count": 8,
   "metadata": {},
   "outputs": [],
   "source": [
    "\n",
    "\n",
    "class Employee:\n",
    "\n",
    "    _last_id=0  #class level field\n",
    "    \n",
    "    def __init__(self, name,salary):\n",
    "        \n",
    "        Employee._last_id+=1  #accessed using class reference\n",
    "        self._id=self._last_id  #accessed using self\n",
    "        self._name=name\n",
    "        self._salary=salary\n",
    "\n",
    "\n",
    "\n",
    "    def info(self):\n",
    "        return f'{type(self).__name__}\\tId={self._id}\\tName={self._name}\\tSalary={self._salary}'\n",
    "    \n",
    "    def total_employees():\n",
    "        return Employee._last_id #class reference\n",
    "    \n",
    "    def get_last_id(self):\n",
    "        return self._last_id  #self reference\n",
    "    "
   ]
  },
  {
   "cell_type": "code",
   "execution_count": 9,
   "metadata": {},
   "outputs": [
    {
     "name": "stdout",
     "output_type": "stream",
     "text": [
      "['Employee\\tId=1\\tName=Employee 1\\tSalary=50000', 'Employee\\tId=2\\tName=Employee 2\\tSalary=50000', 'Employee\\tId=3\\tName=Employee 3\\tSalary=50000', 'Employee\\tId=4\\tName=Employee 4\\tSalary=50000', 'Employee\\tId=5\\tName=Employee 5\\tSalary=50000']\n"
     ]
    }
   ],
   "source": [
    "employees=[]\n",
    "for x in range(5):\n",
    "    employees.append(Employee(f'Employee {x+1}',50000))\n",
    "\n",
    "print([ e.info() for e in employees])"
   ]
  },
  {
   "cell_type": "code",
   "execution_count": 10,
   "metadata": {},
   "outputs": [
    {
     "name": "stdout",
     "output_type": "stream",
     "text": [
      "Employee\tId=6\tName=Sanjay\tSalary=50000\n"
     ]
    }
   ],
   "source": [
    "e= Employee('Sanjay',50000)\n",
    "print(e.info())"
   ]
  },
  {
   "cell_type": "code",
   "execution_count": 11,
   "metadata": {},
   "outputs": [
    {
     "name": "stdout",
     "output_type": "stream",
     "text": [
      "6\n",
      "6\n"
     ]
    }
   ],
   "source": [
    "print(Employee._last_id) #6\n",
    "print(e._last_id) #6"
   ]
  },
  {
   "attachments": {},
   "cell_type": "markdown",
   "metadata": {},
   "source": [
    "### How is a field resolved?\n",
    "\n",
    "* there are two different strategies, one for access and other for modification\n",
    "\n",
    "### 1. To Access a Field (reading) --> print(obj.something)\n",
    "\n",
    "1. does 'something' exists in obj\n",
    "    * if yes use it\n",
    "\n",
    "2. does 'soemthing' exist in type(obj)\n",
    "    * if yes use it\n",
    "\n",
    "3. if no raise error\n",
    "\n",
    "\n",
    "#### Example 1\n",
    "\n",
    "```python\n",
    "e=Employee('Fagun', 50000)\n",
    "print(e._name) # name exists in e object\n",
    "print(e._id) # id exists in e object\n",
    "print(e._last_id) # _last_id doesn't exit in e object. it exists is type(e) => Employee.\n",
    "```\n",
    "\n",
    "\n",
    "### 2. To Modify a Field (writing) —> obj.something=10\n",
    "\n",
    "* just add the information to object\n",
    "* **doesn't check if same field exists at class level**"
   ]
  },
  {
   "cell_type": "code",
   "execution_count": 12,
   "metadata": {},
   "outputs": [
    {
     "name": "stdout",
     "output_type": "stream",
     "text": [
      "6\n",
      "100\n",
      "6\n"
     ]
    }
   ],
   "source": [
    "print(e._last_id) # e._last_id doesn't exist prints Employee._last_id\n",
    "\n",
    "e._last_id=100 # create e._last_id=10.  Doesn't change Employee._last_id\n",
    "\n",
    "print(e._last_id) # e._last_id now exists. Doesn't show Employee._last_id\n",
    "\n",
    "print(Employee._last_id) #this is the original class field"
   ]
  },
  {
   "cell_type": "code",
   "execution_count": 13,
   "metadata": {},
   "outputs": [
    {
     "name": "stdout",
     "output_type": "stream",
     "text": [
      "6\n",
      "100\n",
      "6\n"
     ]
    }
   ],
   "source": [
    "print(employees[0]._last_id) #6\n",
    "print(e._last_id) #100\n",
    "print(Employee._last_id) #100"
   ]
  },
  {
   "attachments": {},
   "cell_type": "markdown",
   "metadata": {},
   "source": [
    "### Recommendation\n",
    "\n",
    "* To avoid confusion, always use Class Reference to access class level fields\n",
    "* Do NOT use self reference to access class level fields. T"
   ]
  },
  {
   "cell_type": "code",
   "execution_count": 14,
   "metadata": {},
   "outputs": [],
   "source": [
    "### class level field will be inherited (because class inherits class)"
   ]
  },
  {
   "cell_type": "code",
   "execution_count": 15,
   "metadata": {},
   "outputs": [],
   "source": [
    "class Manager(Employee):\n",
    "    pass"
   ]
  },
  {
   "cell_type": "code",
   "execution_count": 16,
   "metadata": {},
   "outputs": [
    {
     "name": "stdout",
     "output_type": "stream",
     "text": [
      "Manager\tId=7\tName=Sanjay\tSalary=10000\n",
      "Manager\tId=8\tName=Prabhat\tSalary=100000\n"
     ]
    }
   ],
   "source": [
    "m1=Manager('Sanjay',10000)\n",
    "m2=Manager('Prabhat',100000)\n",
    "\n",
    "print(m1.info())\n",
    "print(m2.info())"
   ]
  },
  {
   "cell_type": "code",
   "execution_count": 17,
   "metadata": {},
   "outputs": [
    {
     "name": "stdout",
     "output_type": "stream",
     "text": [
      "8\n"
     ]
    }
   ],
   "source": [
    "print(Manager._last_id)"
   ]
  },
  {
   "cell_type": "code",
   "execution_count": 18,
   "metadata": {},
   "outputs": [
    {
     "name": "stdout",
     "output_type": "stream",
     "text": [
      "8\n"
     ]
    }
   ],
   "source": [
    "print(Employee._last_id)"
   ]
  },
  {
   "attachments": {},
   "cell_type": "markdown",
   "metadata": {},
   "source": [
    "## Do we need class level field? What do they mean in real world?\n",
    "\n",
    "* the class level fields can be replaced with global/module level also.\n",
    "    * what does that mean?\n",
    "\n",
    "* A class represents the object.\n",
    "    * what doesn't belong to object, shouldn't belong to class object\n",
    "\n",
    "* Doesn't a class level field mean a class oriented design?\n",
    "    * Why is this information not part of this object?\n",
    "\n",
    "* Does an employee know the last_id?\n",
    "    * Can it know?\n",
    "    * Should it know?\n",
    "\n",
    "### Who owns the last_id generated?\n",
    "    \n",
    "* it is not Employee but the organization that owns the last_id and generates id for the next employee they hire\n",
    "* last_id \n",
    "    * doesn't belong to \"Employee class\"\n",
    "    * It belongs to \"Organization object\"\n",
    "\n",
    "### IMPORTANT\n",
    "\n",
    "* In real world there is no need of class level fields\n",
    "    * classes don't exist\n",
    "* Everything belongs to one or the other object \n",
    "    * if we think 'something' is class level information in class X\n",
    "        * it may actually be object information of object type Y\n",
    "\n",
    "* ~~Employee._last_id~~  => **organization._last_id**\n",
    "\n",
    "### How is Employee created?\n",
    "\n",
    "* using Employee constructor?\n",
    "    * this may be semantically\n",
    "\n",
    "#### how is an object created in real world?\n",
    "\n",
    "*\n",
    "* object doesn't get created by itself\n",
    "\n",
    "~~e1= Employee('Sanjay', 50000);~~\n",
    "\n",
    "* some object creates another object\n",
    "\n",
    "**e1 = ecolab.appoint( 'Sanjay', 50000)** # internally calls employee constructor\n",
    "\n",
    "\n",
    "\n",
    "## What is the role of an Organization?\n",
    "\n",
    "* create an employee \n",
    "    * also fire an employee\n",
    "* maintain list of employees\n",
    "* manage last_id\n",
    "* assign works\n",
    "\n"
   ]
  },
  {
   "cell_type": "code",
   "execution_count": 22,
   "metadata": {},
   "outputs": [],
   "source": [
    "\n",
    "\n",
    "class Employee:\n",
    "\n",
    "   \n",
    "    \n",
    "    def __init__(self, id, name,salary, designation):\n",
    "        \n",
    "        \n",
    "        self._id=id  #accessed using self\n",
    "        self._name=name\n",
    "        self._salary=salary\n",
    "        self._designation=designation\n",
    "\n",
    "\n",
    "\n",
    "    def info(self):\n",
    "        return f'{type(self).__name__}\\tId={self._id}\\tName={self._name}\\tSalary={self._salary}\\tDesignation={self._designation}'\n",
    "    \n",
    "    def total_employees():\n",
    "        return Employee._last_id #class reference\n",
    "    \n",
    "    def get_last_id(self):\n",
    "        return self._last_id  #self reference\n",
    "    \n",
    "\n",
    "class Organization:\n",
    "    def __init__(self,name):\n",
    "        self._name=name\n",
    "        self._last_id=0\n",
    "        self._employees=[]\n",
    "\n",
    "    def appoint(self,name,salary,designation=None):\n",
    "        self._last_id+=1\n",
    "        e=Employee(self._last_id,name,salary,designation)\n",
    "        \n",
    "        self._employees.append(e)\n",
    "        return e._id\n",
    "\n",
    "    "
   ]
  },
  {
   "cell_type": "code",
   "execution_count": 23,
   "metadata": {},
   "outputs": [
    {
     "data": {
      "text/plain": [
       "2"
      ]
     },
     "execution_count": 23,
     "metadata": {},
     "output_type": "execute_result"
    }
   ],
   "source": [
    "ecolab=Organization(\"Ecolab\")\n",
    "\n",
    "ecolab.appoint(\"Sanjay\",10000,\"Manager\")\n",
    "ecolab.appoint('Fagun', 40000, 'Technical Writer')"
   ]
  },
  {
   "cell_type": "code",
   "execution_count": 24,
   "metadata": {},
   "outputs": [
    {
     "name": "stdout",
     "output_type": "stream",
     "text": [
      "Employee\tId=1\tName=Sanjay\tSalary=10000\tDesignation=Manager\n",
      "Employee\tId=2\tName=Fagun\tSalary=40000\tDesignation=Technical Writer\n"
     ]
    }
   ],
   "source": [
    "for employee in ecolab._employees:\n",
    "    print(employee.info())"
   ]
  },
  {
   "cell_type": "markdown",
   "metadata": {},
   "source": []
  },
  {
   "cell_type": "markdown",
   "metadata": {},
   "source": [
    "##"
   ]
  }
 ],
 "metadata": {
  "kernelspec": {
   "display_name": "Python 3",
   "language": "python",
   "name": "python3"
  },
  "language_info": {
   "codemirror_mode": {
    "name": "ipython",
    "version": 3
   },
   "file_extension": ".py",
   "mimetype": "text/x-python",
   "name": "python",
   "nbconvert_exporter": "python",
   "pygments_lexer": "ipython3",
   "version": "3.9.1"
  },
  "orig_nbformat": 4,
  "vscode": {
   "interpreter": {
    "hash": "bc4e78314997db9a44b6830e0aa6b75a33973256eb5fdaf587cb7b38c9328874"
   }
  }
 },
 "nbformat": 4,
 "nbformat_minor": 2
}
