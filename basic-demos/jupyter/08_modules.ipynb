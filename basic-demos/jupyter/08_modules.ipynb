{
 "cells": [
  {
   "cell_type": "markdown",
   "id": "b54b545b-1f5e-4dcd-9723-5efaead9c41a",
   "metadata": {},
   "source": [
    "# Global Problem\n",
    "\n",
    "* in python there is nothing like protected or reserve\n",
    "* all names are at same level\n",
    "* if we assign a value, it replaces anything that already exists"
   ]
  },
  {
   "cell_type": "code",
   "execution_count": 1,
   "id": "63b892c3-6fe3-4cfc-85c4-23bd45634687",
   "metadata": {},
   "outputs": [],
   "source": [
    "def sum(x,y): return x+y"
   ]
  },
  {
   "cell_type": "code",
   "execution_count": 2,
   "id": "1be3f357-8a6f-42f8-8cba-00c789d7482f",
   "metadata": {},
   "outputs": [
    {
     "data": {
      "text/plain": [
       "5"
      ]
     },
     "execution_count": 2,
     "metadata": {},
     "output_type": "execute_result"
    }
   ],
   "source": [
    "sum(2,3)"
   ]
  },
  {
   "cell_type": "code",
   "execution_count": 4,
   "id": "c68aad32-d1b4-4b38-a13f-26abbd55cf48",
   "metadata": {},
   "outputs": [],
   "source": [
    "sum=20 # removes the reference to sum"
   ]
  },
  {
   "cell_type": "code",
   "execution_count": 5,
   "id": "e1c55889-4025-4769-8aeb-58728bff4e36",
   "metadata": {},
   "outputs": [
    {
     "ename": "TypeError",
     "evalue": "'int' object is not callable",
     "output_type": "error",
     "traceback": [
      "\u001b[1;31m---------------------------------------------------------------------------\u001b[0m",
      "\u001b[1;31mTypeError\u001b[0m                                 Traceback (most recent call last)",
      "Cell \u001b[1;32mIn[5], line 1\u001b[0m\n\u001b[1;32m----> 1\u001b[0m \u001b[38;5;28;43msum\u001b[39;49m\u001b[43m(\u001b[49m\u001b[38;5;241;43m2\u001b[39;49m\u001b[43m,\u001b[49m\u001b[38;5;241;43m3\u001b[39;49m\u001b[43m)\u001b[49m\n",
      "\u001b[1;31mTypeError\u001b[0m: 'int' object is not callable"
     ]
    }
   ],
   "source": [
    "sum(2,3)"
   ]
  },
  {
   "cell_type": "markdown",
   "id": "cadbffee-2c08-466d-8649-ba59f57e0b1a",
   "metadata": {},
   "source": [
    "#### The same problem applies even to existing names"
   ]
  },
  {
   "cell_type": "code",
   "execution_count": 6,
   "id": "5d6430ce-eb03-41dc-b5a4-ca1da0842573",
   "metadata": {},
   "outputs": [],
   "source": [
    "print='Hello World' # we just lost our print function"
   ]
  },
  {
   "cell_type": "code",
   "execution_count": 7,
   "id": "12e5eb23-2581-498a-98ee-ada1e9108713",
   "metadata": {},
   "outputs": [
    {
     "ename": "TypeError",
     "evalue": "'str' object is not callable",
     "output_type": "error",
     "traceback": [
      "\u001b[1;31m---------------------------------------------------------------------------\u001b[0m",
      "\u001b[1;31mTypeError\u001b[0m                                 Traceback (most recent call last)",
      "Cell \u001b[1;32mIn[7], line 1\u001b[0m\n\u001b[1;32m----> 1\u001b[0m \u001b[38;5;28;43mprint\u001b[39;49m\u001b[43m(\u001b[49m\u001b[38;5;124;43m'\u001b[39;49m\u001b[38;5;124;43mHello World\u001b[39;49m\u001b[38;5;124;43m'\u001b[39;49m\u001b[43m)\u001b[49m\n",
      "\u001b[1;31mTypeError\u001b[0m: 'str' object is not callable"
     ]
    }
   ],
   "source": [
    "print('Hello World')"
   ]
  },
  {
   "cell_type": "markdown",
   "id": "795b2009-cff6-4bd1-86d8-aafde661058e",
   "metadata": {},
   "source": [
    "# Modules\n",
    "\n",
    "* Modules can be compared to\n",
    "      * namespace of c++/c#\n",
    "      * package of java\n",
    "      * modules of java script\n",
    "\n",
    "* They help us eliminate global codes by wrapping everything in module object\n",
    "\n",
    "\n",
    "## How module works\n",
    "\n",
    "* A python file can be mapped to a module\n",
    "      * Programmetically a **module object** will represent the content of a python file\n",
    "      * All contents (names/references) defined in the file will become part of a module object\n",
    "          * This ~~eliminates~~ reduces global name\n",
    "              * module name will be like global.\n",
    "* An entire folder structure could be considered as a module\n",
    "* for more details check one-note\n",
    "\n",
    "### IMPORTANT MODULES AND REPL/SHELL/JUPYTER\n",
    "\n",
    "1. A module can't be created in REPL/SHELL/JUPYTER\n",
    "    * It MUST BE PYTHON SCRIPT\n",
    "  \n",
    "2. A existing module (python script) can, however, be used in REPL/SHELL"
   ]
  },
  {
   "cell_type": "code",
   "execution_count": null,
   "id": "339a33d2-58b1-4126-9d91-b364b99ba42b",
   "metadata": {},
   "outputs": [],
   "source": []
  }
 ],
 "metadata": {
  "kernelspec": {
   "display_name": "Python 3 (ipykernel)",
   "language": "python",
   "name": "python3"
  },
  "language_info": {
   "codemirror_mode": {
    "name": "ipython",
    "version": 3
   },
   "file_extension": ".py",
   "mimetype": "text/x-python",
   "name": "python",
   "nbconvert_exporter": "python",
   "pygments_lexer": "ipython3",
   "version": "3.11.5"
  }
 },
 "nbformat": 4,
 "nbformat_minor": 5
}
