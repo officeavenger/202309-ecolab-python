{
 "cells": [
  {
   "cell_type": "markdown",
   "id": "b54b545b-1f5e-4dcd-9723-5efaead9c41a",
   "metadata": {},
   "source": [
    "# Global Problem\n",
    "\n",
    "* in python there is nothing like protected or reserve\n",
    "* all names are at same level\n",
    "* if we assign a value, it replaces anything that already exists"
   ]
  },
  {
   "cell_type": "code",
   "execution_count": 1,
   "id": "63b892c3-6fe3-4cfc-85c4-23bd45634687",
   "metadata": {},
   "outputs": [],
   "source": [
    "def sum(x,y): return x+y"
   ]
  },
  {
   "cell_type": "code",
   "execution_count": 2,
   "id": "1be3f357-8a6f-42f8-8cba-00c789d7482f",
   "metadata": {},
   "outputs": [
    {
     "data": {
      "text/plain": [
       "5"
      ]
     },
     "execution_count": 2,
     "metadata": {},
     "output_type": "execute_result"
    }
   ],
   "source": [
    "sum(2,3)"
   ]
  },
  {
   "cell_type": "code",
   "execution_count": 4,
   "id": "c68aad32-d1b4-4b38-a13f-26abbd55cf48",
   "metadata": {},
   "outputs": [],
   "source": [
    "sum=20 # removes the reference to sum"
   ]
  },
  {
   "cell_type": "code",
   "execution_count": 5,
   "id": "e1c55889-4025-4769-8aeb-58728bff4e36",
   "metadata": {},
   "outputs": [
    {
     "ename": "TypeError",
     "evalue": "'int' object is not callable",
     "output_type": "error",
     "traceback": [
      "\u001b[1;31m---------------------------------------------------------------------------\u001b[0m",
      "\u001b[1;31mTypeError\u001b[0m                                 Traceback (most recent call last)",
      "Cell \u001b[1;32mIn[5], line 1\u001b[0m\n\u001b[1;32m----> 1\u001b[0m \u001b[38;5;28;43msum\u001b[39;49m\u001b[43m(\u001b[49m\u001b[38;5;241;43m2\u001b[39;49m\u001b[43m,\u001b[49m\u001b[38;5;241;43m3\u001b[39;49m\u001b[43m)\u001b[49m\n",
      "\u001b[1;31mTypeError\u001b[0m: 'int' object is not callable"
     ]
    }
   ],
   "source": [
    "sum(2,3)"
   ]
  },
  {
   "cell_type": "markdown",
   "id": "cadbffee-2c08-466d-8649-ba59f57e0b1a",
   "metadata": {},
   "source": [
    "#### The same problem applies even to existing names"
   ]
  },
  {
   "cell_type": "code",
   "execution_count": 6,
   "id": "5d6430ce-eb03-41dc-b5a4-ca1da0842573",
   "metadata": {},
   "outputs": [],
   "source": [
    "print='Hello World' # we just lost our print function"
   ]
  },
  {
   "cell_type": "code",
   "execution_count": 7,
   "id": "12e5eb23-2581-498a-98ee-ada1e9108713",
   "metadata": {},
   "outputs": [
    {
     "ename": "TypeError",
     "evalue": "'str' object is not callable",
     "output_type": "error",
     "traceback": [
      "\u001b[1;31m---------------------------------------------------------------------------\u001b[0m",
      "\u001b[1;31mTypeError\u001b[0m                                 Traceback (most recent call last)",
      "Cell \u001b[1;32mIn[7], line 1\u001b[0m\n\u001b[1;32m----> 1\u001b[0m \u001b[38;5;28;43mprint\u001b[39;49m\u001b[43m(\u001b[49m\u001b[38;5;124;43m'\u001b[39;49m\u001b[38;5;124;43mHello World\u001b[39;49m\u001b[38;5;124;43m'\u001b[39;49m\u001b[43m)\u001b[49m\n",
      "\u001b[1;31mTypeError\u001b[0m: 'str' object is not callable"
     ]
    }
   ],
   "source": [
    "print('Hello World')"
   ]
  },
  {
   "cell_type": "markdown",
   "id": "795b2009-cff6-4bd1-86d8-aafde661058e",
   "metadata": {},
   "source": [
    "# Modules\n",
    "\n",
    "* Modules can be compared to\n",
    "      * namespace of c++/c#\n",
    "      * package of java\n",
    "      * modules of java script\n",
    "\n",
    "* They help us eliminate global codes by wrapping everything in module object\n",
    "\n",
    "\n",
    "## How module works\n",
    "\n",
    "* A python file can be mapped to a module\n",
    "      * Programmetically a **module object** will represent the content of a python file\n",
    "      * All contents (names/references) defined in the file will become part of a module object\n",
    "          * This ~~eliminates~~ reduces global name\n",
    "              * module name will be like global.\n",
    "* An entire folder structure could be considered as a module\n",
    "* for more details check one-note\n",
    "\n",
    "### IMPORTANT MODULES AND REPL/SHELL/JUPYTER\n",
    "\n",
    "1. A module can't be created in REPL/SHELL/JUPYTER\n",
    "    * It MUST BE PYTHON SCRIPT\n",
    "  \n",
    "2. A existing module (python script) can, however, be used in REPL/SHELL"
   ]
  },
  {
   "attachments": {},
   "cell_type": "markdown",
   "id": "339a33d2-58b1-4126-9d91-b364b99ba42b",
   "metadata": {},
   "source": [
    "### IMPORTANT PYTHON MODULES\n",
    "\n",
    "* sys\n",
    "* json\n",
    "* threading\n",
    "* random\n",
    "* _many more_\n",
    "\n",
    "\n",
    "## Most important python module \\_\\_builtins\\_\\_\n",
    "\n",
    "* it contains the core features of python including\n",
    "    * print\n",
    "    * input\n",
    "    * True\n",
    "    * False\n",
    "    * int\n",
    "    * str\n",
    "    * list\n",
    "    * dict\n",
    "\n",
    "* It is so important that it is imported implicilty in every module as \n",
    "\n",
    "```python\n",
    "from __builtins__ import *\n",
    "import __builtins__\n",
    "```\n",
    "\n",
    "### What does it contain?\n",
    "\n"
   ]
  },
  {
   "cell_type": "code",
   "execution_count": 1,
   "id": "dfade982",
   "metadata": {},
   "outputs": [
    {
     "name": "stdout",
     "output_type": "stream",
     "text": [
      "['ArithmeticError', 'AssertionError', 'AttributeError', 'BaseException', 'BlockingIOError', 'BrokenPipeError', 'BufferError', 'BytesWarning', 'ChildProcessError', 'ConnectionAbortedError', 'ConnectionError', 'ConnectionRefusedError', 'ConnectionResetError', 'DeprecationWarning', 'EOFError', 'Ellipsis', 'EnvironmentError', 'Exception', 'False', 'FileExistsError', 'FileNotFoundError', 'FloatingPointError', 'FutureWarning', 'GeneratorExit', 'IOError', 'ImportError', 'ImportWarning', 'IndentationError', 'IndexError', 'InterruptedError', 'IsADirectoryError', 'KeyError', 'KeyboardInterrupt', 'LookupError', 'MemoryError', 'ModuleNotFoundError', 'NameError', 'None', 'NotADirectoryError', 'NotImplemented', 'NotImplementedError', 'OSError', 'OverflowError', 'PendingDeprecationWarning', 'PermissionError', 'ProcessLookupError', 'RecursionError', 'ReferenceError', 'ResourceWarning', 'RuntimeError', 'RuntimeWarning', 'StopAsyncIteration', 'StopIteration', 'SyntaxError', 'SyntaxWarning', 'SystemError', 'SystemExit', 'TabError', 'TimeoutError', 'True', 'TypeError', 'UnboundLocalError', 'UnicodeDecodeError', 'UnicodeEncodeError', 'UnicodeError', 'UnicodeTranslateError', 'UnicodeWarning', 'UserWarning', 'ValueError', 'Warning', 'ZeroDivisionError', '__IPYTHON__', '__build_class__', '__debug__', '__doc__', '__import__', '__loader__', '__name__', '__package__', '__spec__', 'abs', 'all', 'any', 'ascii', 'bin', 'bool', 'breakpoint', 'bytearray', 'bytes', 'callable', 'chr', 'classmethod', 'compile', 'complex', 'copyright', 'credits', 'delattr', 'dict', 'dir', 'display', 'divmod', 'enumerate', 'eval', 'exec', 'execfile', 'filter', 'float', 'format', 'frozenset', 'get_ipython', 'getattr', 'globals', 'hasattr', 'hash', 'help', 'hex', 'id', 'input', 'int', 'isinstance', 'issubclass', 'iter', 'len', 'license', 'list', 'locals', 'map', 'max', 'memoryview', 'min', 'next', 'object', 'oct', 'open', 'ord', 'pow', 'print', 'property', 'range', 'repr', 'reversed', 'round', 'runfile', 'set', 'setattr', 'slice', 'sorted', 'staticmethod', 'str', 'sum', 'super', 'tuple', 'type', 'vars', 'zip']\n"
     ]
    }
   ],
   "source": [
    "print(dir(__builtins__))"
   ]
  },
  {
   "cell_type": "code",
   "execution_count": 2,
   "id": "cf2e5e72",
   "metadata": {},
   "outputs": [
    {
     "ename": "TypeError",
     "evalue": "'str' object is not callable",
     "output_type": "error",
     "traceback": [
      "\u001b[0;31m---------------------------------------------------------------------------\u001b[0m",
      "\u001b[0;31mTypeError\u001b[0m                                 Traceback (most recent call last)",
      "Cell \u001b[0;32mIn[2], line 2\u001b[0m\n\u001b[1;32m      1\u001b[0m \u001b[39mprint\u001b[39m\u001b[39m=\u001b[39m\u001b[39m'\u001b[39m\u001b[39mHello\u001b[39m\u001b[39m'\u001b[39m\n\u001b[0;32m----> 2\u001b[0m \u001b[39mprint\u001b[39;49m(\u001b[39m'\u001b[39;49m\u001b[39mHello\u001b[39;49m\u001b[39m'\u001b[39;49m)\n",
      "\u001b[0;31mTypeError\u001b[0m: 'str' object is not callable"
     ]
    }
   ],
   "source": [
    "print='Hello'\n",
    "print('Hello')"
   ]
  },
  {
   "attachments": {},
   "cell_type": "markdown",
   "id": "8c696139",
   "metadata": {},
   "source": [
    "#### How do I get print functionality back?\n",
    "\n",
    "* it is present in \\_\\_builtins\\_\\_\n"
   ]
  },
  {
   "cell_type": "code",
   "execution_count": 3,
   "id": "068cd059",
   "metadata": {},
   "outputs": [
    {
     "name": "stdout",
     "output_type": "stream",
     "text": [
      "Hello World\n"
     ]
    }
   ],
   "source": [
    "print=__builtins__.print\n",
    "print('Hello World')"
   ]
  },
  {
   "attachments": {},
   "cell_type": "markdown",
   "id": "4e4e73a1",
   "metadata": {},
   "source": [
    "### sys module\n",
    "\n",
    "* contains important system related information\n",
    "* second most used module in python"
   ]
  },
  {
   "cell_type": "code",
   "execution_count": 4,
   "id": "54b78bc1",
   "metadata": {},
   "outputs": [
    {
     "name": "stdout",
     "output_type": "stream",
     "text": [
      "['__breakpointhook__', '__displayhook__', '__doc__', '__excepthook__', '__interactivehook__', '__loader__', '__name__', '__package__', '__spec__', '__stderr__', '__stdin__', '__stdout__', '__unraisablehook__', '_base_executable', '_clear_type_cache', '_current_frames', '_debugmallocstats', '_framework', '_getframe', '_git', '_home', '_xoptions', 'abiflags', 'addaudithook', 'api_version', 'argv', 'audit', 'base_exec_prefix', 'base_prefix', 'breakpointhook', 'builtin_module_names', 'byteorder', 'call_tracing', 'copyright', 'displayhook', 'dont_write_bytecode', 'exc_info', 'excepthook', 'exec_prefix', 'executable', 'exit', 'flags', 'float_info', 'float_repr_style', 'get_asyncgen_hooks', 'get_coroutine_origin_tracking_depth', 'getallocatedblocks', 'getdefaultencoding', 'getdlopenflags', 'getfilesystemencodeerrors', 'getfilesystemencoding', 'getprofile', 'getrecursionlimit', 'getrefcount', 'getsizeof', 'getswitchinterval', 'gettrace', 'hash_info', 'hexversion', 'implementation', 'int_info', 'intern', 'is_finalizing', 'last_traceback', 'last_type', 'last_value', 'maxsize', 'maxunicode', 'meta_path', 'modules', 'path', 'path_hooks', 'path_importer_cache', 'platform', 'platlibdir', 'prefix', 'ps1', 'ps2', 'ps3', 'pycache_prefix', 'set_asyncgen_hooks', 'set_coroutine_origin_tracking_depth', 'setdlopenflags', 'setprofile', 'setrecursionlimit', 'setswitchinterval', 'settrace', 'stderr', 'stdin', 'stdout', 'thread_info', 'unraisablehook', 'version', 'version_info', 'warnoptions']\n"
     ]
    }
   ],
   "source": [
    "import sys\n",
    "print(dir(sys))"
   ]
  },
  {
   "cell_type": "code",
   "execution_count": 6,
   "id": "dc8235d2",
   "metadata": {},
   "outputs": [
    {
     "name": "stdout",
     "output_type": "stream",
     "text": [
      "3.9.1 (default, Jan 20 2021, 14:43:58) \n",
      "[Clang 11.0.0 (clang-1100.0.33.16)]\n",
      "sys.version_info(major=3, minor=9, micro=1, releaselevel='final', serial=0)\n",
      "3\n"
     ]
    }
   ],
   "source": [
    "print(sys.version) #python runtime version as string\n",
    "print(sys.version_info) #python runtime version as object\n",
    "print(sys.version_info.major)"
   ]
  },
  {
   "attachments": {},
   "cell_type": "markdown",
   "id": "c9d73891",
   "metadata": {},
   "source": [
    "### Other important sys functions\n",
    "\n",
    "#### argv\n",
    "\n",
    "* it is a list of command line arguments supplied to a python script\n",
    "* check out the example to \"sum.py\" to understand the use case\n",
    "    * it can be tested as python script"
   ]
  },
  {
   "attachments": {},
   "cell_type": "markdown",
   "id": "b7e9e473",
   "metadata": {},
   "source": [
    "### How do I access modules present in a different location NOT set by PYTHONPATH\n",
    "\n",
    "* If a module is present in a different location and path is not set by enviornment variable by default it will not be accessible"
   ]
  },
  {
   "cell_type": "code",
   "execution_count": 7,
   "id": "d285b662",
   "metadata": {},
   "outputs": [
    {
     "ename": "ModuleNotFoundError",
     "evalue": "No module named 'stats'",
     "output_type": "error",
     "traceback": [
      "\u001b[0;31m---------------------------------------------------------------------------\u001b[0m",
      "\u001b[0;31mModuleNotFoundError\u001b[0m                       Traceback (most recent call last)",
      "Cell \u001b[0;32mIn[7], line 1\u001b[0m\n\u001b[0;32m----> 1\u001b[0m \u001b[39mfrom\u001b[39;00m \u001b[39mstats\u001b[39;00m\u001b[39m.\u001b[39;00m\u001b[39mcharts\u001b[39;00m\u001b[39m.\u001b[39;00m\u001b[39mhistogram\u001b[39;00m \u001b[39mimport\u001b[39;00m plot_histogram\n",
      "\u001b[0;31mModuleNotFoundError\u001b[0m: No module named 'stats'"
     ]
    }
   ],
   "source": [
    "from stats.charts.histogram import plot_histogram"
   ]
  },
  {
   "attachments": {},
   "cell_type": "markdown",
   "id": "b20fc5fe",
   "metadata": {},
   "source": [
    "### sys.path"
   ]
  },
  {
   "cell_type": "code",
   "execution_count": 8,
   "id": "985c22cc",
   "metadata": {},
   "outputs": [
    {
     "name": "stdout",
     "output_type": "stream",
     "text": [
      "['/Users/vivek/works/corporate/202309-ecolab-python/basic-demos/jupyter', '/Users/vivek/.pyenv/versions/3.9.1/lib/python39.zip', '/Users/vivek/.pyenv/versions/3.9.1/lib/python3.9', '/Users/vivek/.pyenv/versions/3.9.1/lib/python3.9/lib-dynload', '', '/Users/vivek/.pyenv/versions/3.9.1/lib/python3.9/site-packages']\n"
     ]
    }
   ],
   "source": [
    "import sys\n",
    "print(sys.path)"
   ]
  },
  {
   "attachments": {},
   "cell_type": "markdown",
   "id": "52c9da54",
   "metadata": {},
   "source": [
    "#### this list is a mutable list\n",
    "* we can add new paths to this folder\n"
   ]
  },
  {
   "cell_type": "code",
   "execution_count": 10,
   "id": "3b780e88",
   "metadata": {},
   "outputs": [],
   "source": [
    "sys.path.append('../../common_modules/')"
   ]
  },
  {
   "cell_type": "code",
   "execution_count": 11,
   "id": "ef2d4ae0",
   "metadata": {},
   "outputs": [],
   "source": [
    "from stats.charts.histogram import plot_histogram"
   ]
  },
  {
   "cell_type": "code",
   "execution_count": 13,
   "id": "b8717412",
   "metadata": {},
   "outputs": [
    {
     "name": "stdout",
     "output_type": "stream",
     "text": [
      "2014|============================================= 15\n",
      "2015|================================= 11\n",
      "2017|========================================== 14\n"
     ]
    }
   ],
   "source": [
    "plot_histogram({2014:15, 2015:5,2015:11, 2017:14})"
   ]
  },
  {
   "attachments": {},
   "cell_type": "markdown",
   "id": "cdc45cec",
   "metadata": {},
   "source": [
    "### module names\n",
    "\n",
    "* every module has a name\n",
    "* this name can be accessed using a special value called \\_\\_name\\_\\_\n",
    "* In case of module (imports)\n",
    "    * the name will be same as the name of python script\n",
    "* In case of main script (when executed with python command line)\n",
    "    * the name will always be \\_\\_main\\_\\_ irrespective of python files\n",
    "\n",
    "* we can use this knowledge to run particular commands only when\n",
    "    * loaded as script\n",
    "    * loaded as module"
   ]
  },
  {
   "cell_type": "markdown",
   "id": "a081f8ad",
   "metadata": {},
   "source": []
  }
 ],
 "metadata": {
  "kernelspec": {
   "display_name": "Python 3",
   "language": "python",
   "name": "python3"
  },
  "language_info": {
   "codemirror_mode": {
    "name": "ipython",
    "version": 3
   },
   "file_extension": ".py",
   "mimetype": "text/x-python",
   "name": "python",
   "nbconvert_exporter": "python",
   "pygments_lexer": "ipython3",
   "version": "3.9.1"
  },
  "vscode": {
   "interpreter": {
    "hash": "bc4e78314997db9a44b6830e0aa6b75a33973256eb5fdaf587cb7b38c9328874"
   }
  }
 },
 "nbformat": 4,
 "nbformat_minor": 5
}
