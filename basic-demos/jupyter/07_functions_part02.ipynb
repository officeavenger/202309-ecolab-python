{
 "cells": [
  {
   "cell_type": "code",
   "execution_count": 1,
   "id": "93fcb108-77b5-4368-a6bd-ad669613f3d5",
   "metadata": {},
   "outputs": [],
   "source": [
    "def divide(nr,dr):\n",
    "    return nr/dr"
   ]
  },
  {
   "cell_type": "code",
   "execution_count": 2,
   "id": "567e97ff-3f55-4fdd-b8c8-cabc59d5ff78",
   "metadata": {},
   "outputs": [
    {
     "data": {
      "text/plain": [
       "3.0"
      ]
     },
     "execution_count": 2,
     "metadata": {},
     "output_type": "execute_result"
    }
   ],
   "source": [
    "divide(12,4)"
   ]
  },
  {
   "cell_type": "markdown",
   "id": "60e33c0b-98ec-49c8-bc6e-d09aabb0e2f7",
   "metadata": {},
   "source": [
    "### Named Parameters\n",
    "\n",
    "* In python we can pass parameters in two different ways\n",
    "    1. positional parameters\n",
    "       * based on the order arguments are assigned to parameters\n",
    "         * 12 is assigned to nr\n",
    "         * 4 is assigned to dr\n",
    "        \n",
    "    2. named parameters\n",
    "       * we can explcitly assign a value to a given parameter by name\n",
    "       * we can do it any order, rather than using same order as defined in function"
   ]
  },
  {
   "cell_type": "code",
   "execution_count": 3,
   "id": "c54252a3-2d8e-4f3a-872f-c0787a53d765",
   "metadata": {},
   "outputs": [
    {
     "data": {
      "text/plain": [
       "2.0"
      ]
     },
     "execution_count": 3,
     "metadata": {},
     "output_type": "execute_result"
    }
   ],
   "source": [
    "divide(nr=12, dr=6)"
   ]
  },
  {
   "cell_type": "code",
   "execution_count": 4,
   "id": "b3471675-29d3-4351-bc02-02b709d2925a",
   "metadata": {},
   "outputs": [
    {
     "data": {
      "text/plain": [
       "5.0"
      ]
     },
     "execution_count": 4,
     "metadata": {},
     "output_type": "execute_result"
    }
   ],
   "source": [
    "divide( dr=8, nr=40)"
   ]
  },
  {
   "cell_type": "markdown",
   "id": "e2d9b816-e224-44cb-9f07-391f941f23d4",
   "metadata": {},
   "source": [
    "### Use Case\n",
    "\n",
    "* This works well with default value parameters\n",
    "* If some parameters have default, we can supply value for only what we want to"
   ]
  },
  {
   "cell_type": "code",
   "execution_count": 5,
   "id": "408b0dfe-e1c0-4802-965f-80ae6bf26e67",
   "metadata": {},
   "outputs": [],
   "source": [
    "def show_info( name, email=None, phone=None):\n",
    "    print(f'name={name}')\n",
    "    print(f'email={email}')\n",
    "    print(f'phone={phone}')"
   ]
  },
  {
   "cell_type": "code",
   "execution_count": 6,
   "id": "2859718e-57a7-4db9-8267-ec8cdaf43701",
   "metadata": {},
   "outputs": [
    {
     "name": "stdout",
     "output_type": "stream",
     "text": [
      "name=Sanjay\n",
      "email=san@gmail.com\n",
      "phone=11223333\n"
     ]
    }
   ],
   "source": [
    "show_info('Sanjay', 'san@gmail.com', '11223333')"
   ]
  },
  {
   "cell_type": "code",
   "execution_count": 7,
   "id": "ce6302c3-2edb-4d4e-84b0-e827f70aaa7e",
   "metadata": {},
   "outputs": [
    {
     "name": "stdout",
     "output_type": "stream",
     "text": [
      "name=Sanjay\n",
      "email=22334343\n",
      "phone=None\n"
     ]
    }
   ],
   "source": [
    "# by default the second parameter goes to email\n",
    "show_info('Sanjay', '22334343')"
   ]
  },
  {
   "cell_type": "code",
   "execution_count": 8,
   "id": "bc9f5f22-e976-4179-a126-b2f60b28bfa0",
   "metadata": {},
   "outputs": [
    {
     "name": "stdout",
     "output_type": "stream",
     "text": [
      "name=Sanjay\n",
      "email=None\n",
      "phone=22334334\n"
     ]
    }
   ],
   "source": [
    "show_info('Sanjay', phone='22334334')"
   ]
  },
  {
   "cell_type": "markdown",
   "id": "74fcbb12-af65-4e52-8185-e169b5e2eee6",
   "metadata": {},
   "source": [
    "#### Positional Parameters\n",
    "\n",
    "* By default a function must get exact number of parameters as required\n",
    "* Passing more or less is an error\n",
    "* A parameter with default is still considered as a passed parameter"
   ]
  },
  {
   "cell_type": "code",
   "execution_count": 9,
   "id": "62bbcb8f-427a-4f0d-ba82-649acd9e929f",
   "metadata": {},
   "outputs": [],
   "source": [
    "def sum(a,b):\n",
    "    return a+b"
   ]
  },
  {
   "cell_type": "code",
   "execution_count": 10,
   "id": "a8a61002-976b-4872-9c8f-55c65b34180c",
   "metadata": {},
   "outputs": [
    {
     "data": {
      "text/plain": [
       "5"
      ]
     },
     "execution_count": 10,
     "metadata": {},
     "output_type": "execute_result"
    }
   ],
   "source": [
    "sum(2,3)"
   ]
  },
  {
   "cell_type": "code",
   "execution_count": 11,
   "id": "59ac12d4-76fc-4a27-93cc-380257eb036f",
   "metadata": {},
   "outputs": [
    {
     "ename": "TypeError",
     "evalue": "sum() takes 2 positional arguments but 3 were given",
     "output_type": "error",
     "traceback": [
      "\u001b[1;31m---------------------------------------------------------------------------\u001b[0m",
      "\u001b[1;31mTypeError\u001b[0m                                 Traceback (most recent call last)",
      "Cell \u001b[1;32mIn[11], line 1\u001b[0m\n\u001b[1;32m----> 1\u001b[0m \u001b[38;5;28;43msum\u001b[39;49m\u001b[43m(\u001b[49m\u001b[38;5;241;43m2\u001b[39;49m\u001b[43m,\u001b[49m\u001b[38;5;241;43m3\u001b[39;49m\u001b[43m,\u001b[49m\u001b[38;5;241;43m4\u001b[39;49m\u001b[43m)\u001b[49m\n",
      "\u001b[1;31mTypeError\u001b[0m: sum() takes 2 positional arguments but 3 were given"
     ]
    }
   ],
   "source": [
    "sum(2,3,4)"
   ]
  },
  {
   "cell_type": "code",
   "execution_count": 12,
   "id": "a2339bc2-0d56-4ac4-ba83-1da18fa85888",
   "metadata": {},
   "outputs": [
    {
     "ename": "TypeError",
     "evalue": "sum() missing 1 required positional argument: 'b'",
     "output_type": "error",
     "traceback": [
      "\u001b[1;31m---------------------------------------------------------------------------\u001b[0m",
      "\u001b[1;31mTypeError\u001b[0m                                 Traceback (most recent call last)",
      "Cell \u001b[1;32mIn[12], line 1\u001b[0m\n\u001b[1;32m----> 1\u001b[0m \u001b[38;5;28;43msum\u001b[39;49m\u001b[43m(\u001b[49m\u001b[38;5;241;43m2\u001b[39;49m\u001b[43m)\u001b[49m\n",
      "\u001b[1;31mTypeError\u001b[0m: sum() missing 1 required positional argument: 'b'"
     ]
    }
   ],
   "source": [
    "sum(2)"
   ]
  },
  {
   "cell_type": "markdown",
   "id": "c40d6697-7005-4356-98ce-262f6250f4cc",
   "metadata": {},
   "source": [
    "### Variable Argument Functions (params syntax)\n",
    "\n",
    "* sometimes we are not sure how many parameters a function need\n",
    "* it may work with multiple parameters\n",
    "* Example\n",
    "  * How many parameters **print()** take?\n",
    "* Example 2\n",
    "  * We want to sum a few numbers together\n",
    " \n",
    "#### Approach #1  sum a sequence of values"
   ]
  },
  {
   "cell_type": "code",
   "execution_count": 16,
   "id": "5ef819ae-8fd4-4cef-981f-b9c56801e710",
   "metadata": {},
   "outputs": [],
   "source": [
    "def sum( seq ):\n",
    "    result=0\n",
    "    for value in seq:\n",
    "        result+=value\n",
    "    return result"
   ]
  },
  {
   "cell_type": "code",
   "execution_count": 17,
   "id": "461e537c-99d9-440d-a59d-99629367b40f",
   "metadata": {},
   "outputs": [
    {
     "data": {
      "text/plain": [
       "10"
      ]
     },
     "execution_count": 17,
     "metadata": {},
     "output_type": "execute_result"
    }
   ],
   "source": [
    "sum([1,2,3,4])"
   ]
  },
  {
   "cell_type": "code",
   "execution_count": 18,
   "id": "e643e0d9-fbc2-4199-adc8-a32f14be1d09",
   "metadata": {},
   "outputs": [
    {
     "data": {
      "text/plain": [
       "22"
      ]
     },
     "execution_count": 18,
     "metadata": {},
     "output_type": "execute_result"
    }
   ],
   "source": [
    "sum((2,9,1,8,2))"
   ]
  },
  {
   "cell_type": "markdown",
   "id": "6f7db97d-98cc-4c77-8430-3b1e891b48fb",
   "metadata": {},
   "source": [
    "#### But  in print we don't pass sequence, we just pass individual values\n",
    "\n",
    "### Variable argument function\n",
    "\n",
    "* we can pass any number of arguments to be collected as tuple in parameter prefixed with **\\***"
   ]
  },
  {
   "cell_type": "code",
   "execution_count": 20,
   "id": "c8958f56-e16b-48aa-a1a1-8ce50b68f332",
   "metadata": {},
   "outputs": [],
   "source": [
    "def sum( *numbers) :\n",
    "    print(f'{type(numbers)}={numbers}')\n",
    "    result=0\n",
    "    for number in numbers:\n",
    "        result+=number\n",
    "    return result"
   ]
  },
  {
   "cell_type": "code",
   "execution_count": 21,
   "id": "4414feaa-42f9-442f-8eca-a04ff45d1dfb",
   "metadata": {},
   "outputs": [
    {
     "name": "stdout",
     "output_type": "stream",
     "text": [
      "<class 'tuple'>=(1, 2, 3, 4)\n"
     ]
    },
    {
     "data": {
      "text/plain": [
       "10"
      ]
     },
     "execution_count": 21,
     "metadata": {},
     "output_type": "execute_result"
    }
   ],
   "source": [
    "sum(1,2,3,4)"
   ]
  },
  {
   "cell_type": "code",
   "execution_count": 22,
   "id": "146ae0da-53a9-4757-a71c-f8105d41077a",
   "metadata": {},
   "outputs": [
    {
     "name": "stdout",
     "output_type": "stream",
     "text": [
      "<class 'tuple'>=(1, 2)\n"
     ]
    },
    {
     "data": {
      "text/plain": [
       "3"
      ]
     },
     "execution_count": 22,
     "metadata": {},
     "output_type": "execute_result"
    }
   ],
   "source": [
    "sum(1,2)"
   ]
  },
  {
   "cell_type": "code",
   "execution_count": 23,
   "id": "b51b8c90-3b84-40db-a444-040a5c9ecd18",
   "metadata": {},
   "outputs": [
    {
     "name": "stdout",
     "output_type": "stream",
     "text": [
      "<class 'tuple'>=(1,)\n"
     ]
    },
    {
     "data": {
      "text/plain": [
       "1"
      ]
     },
     "execution_count": 23,
     "metadata": {},
     "output_type": "execute_result"
    }
   ],
   "source": [
    "sum(1)"
   ]
  },
  {
   "cell_type": "code",
   "execution_count": 24,
   "id": "796189f4-c24c-4eef-873b-c95208e7f622",
   "metadata": {},
   "outputs": [
    {
     "name": "stdout",
     "output_type": "stream",
     "text": [
      "<class 'tuple'>=()\n"
     ]
    },
    {
     "data": {
      "text/plain": [
       "0"
      ]
     },
     "execution_count": 24,
     "metadata": {},
     "output_type": "execute_result"
    }
   ],
   "source": [
    "sum()"
   ]
  },
  {
   "cell_type": "markdown",
   "id": "0ac3710a-2ab2-421d-bb7e-09d0563c5eb5",
   "metadata": {},
   "source": [
    "### What does \\* do?\n",
    "\n",
    "* the **\\*** prefix gathers all the suppplied parameters into a tuple\n",
    "* Think! as if it wraps given parameters inside a tuple\n",
    "\n",
    "### Naming convention\n",
    "\n",
    "* python community recommends naming variable argument function as **\\*args**\n",
    "    * This is just a convention and not syntatical compulsion\n",
    "* It is strongly recommended to always use convetion"
   ]
  },
  {
   "cell_type": "markdown",
   "id": "f1313648-3437-4020-aae8-d7a00b5b95b0",
   "metadata": {},
   "source": [
    "### Assignment 4.1\n",
    "\n",
    "* create sum function to sum a given set of variable values\n",
    "* create an average function to average a given set of variable values\n",
    "* the average function should reuse the sum() function to sum all the items\n",
    "  * average is sum() / total items"
   ]
  },
  {
   "cell_type": "code",
   "execution_count": 25,
   "id": "7b013d5b-e488-4035-951d-e68ec0394c64",
   "metadata": {},
   "outputs": [],
   "source": [
    "def average(*args):\n",
    "    return sum(args)/ len(args)"
   ]
  },
  {
   "cell_type": "code",
   "execution_count": 26,
   "id": "bd471667-2140-44e2-804d-63b42dd7c60f",
   "metadata": {},
   "outputs": [
    {
     "name": "stdout",
     "output_type": "stream",
     "text": [
      "<class 'tuple'>=((1, 2, 3, 4),)\n"
     ]
    },
    {
     "ename": "TypeError",
     "evalue": "unsupported operand type(s) for +=: 'int' and 'tuple'",
     "output_type": "error",
     "traceback": [
      "\u001b[1;31m---------------------------------------------------------------------------\u001b[0m",
      "\u001b[1;31mTypeError\u001b[0m                                 Traceback (most recent call last)",
      "Cell \u001b[1;32mIn[26], line 1\u001b[0m\n\u001b[1;32m----> 1\u001b[0m \u001b[43maverage\u001b[49m\u001b[43m(\u001b[49m\u001b[38;5;241;43m1\u001b[39;49m\u001b[43m,\u001b[49m\u001b[38;5;241;43m2\u001b[39;49m\u001b[43m,\u001b[49m\u001b[38;5;241;43m3\u001b[39;49m\u001b[43m,\u001b[49m\u001b[38;5;241;43m4\u001b[39;49m\u001b[43m)\u001b[49m\n",
      "Cell \u001b[1;32mIn[25], line 2\u001b[0m, in \u001b[0;36maverage\u001b[1;34m(*args)\u001b[0m\n\u001b[0;32m      1\u001b[0m \u001b[38;5;28;01mdef\u001b[39;00m \u001b[38;5;21maverage\u001b[39m(\u001b[38;5;241m*\u001b[39margs):\n\u001b[1;32m----> 2\u001b[0m     \u001b[38;5;28;01mreturn\u001b[39;00m \u001b[38;5;28;43msum\u001b[39;49m\u001b[43m(\u001b[49m\u001b[43margs\u001b[49m\u001b[43m)\u001b[49m\u001b[38;5;241m/\u001b[39m \u001b[38;5;28mlen\u001b[39m(args)\n",
      "Cell \u001b[1;32mIn[20], line 5\u001b[0m, in \u001b[0;36msum\u001b[1;34m(*numbers)\u001b[0m\n\u001b[0;32m      3\u001b[0m result\u001b[38;5;241m=\u001b[39m\u001b[38;5;241m0\u001b[39m\n\u001b[0;32m      4\u001b[0m \u001b[38;5;28;01mfor\u001b[39;00m number \u001b[38;5;129;01min\u001b[39;00m numbers:\n\u001b[1;32m----> 5\u001b[0m     \u001b[43mresult\u001b[49m\u001b[38;5;241;43m+\u001b[39;49m\u001b[38;5;241;43m=\u001b[39;49m\u001b[43mnumber\u001b[49m\n\u001b[0;32m      6\u001b[0m \u001b[38;5;28;01mreturn\u001b[39;00m result\n",
      "\u001b[1;31mTypeError\u001b[0m: unsupported operand type(s) for +=: 'int' and 'tuple'"
     ]
    }
   ],
   "source": [
    "average(1,2,3,4)"
   ]
  },
  {
   "attachments": {},
   "cell_type": "markdown",
   "id": "d7a55df3-361a-4762-8e9e-9dc1034359ae",
   "metadata": {},
   "source": [
    "## Solution (spread operator)\n",
    "\n",
    "* A spread operator is just the opposite of params syntax\r",
    "*  It spreads the value of a sequence as normal comma separated value\n",
    "* • You can imagine, it is taking all values out of any given sequenc* \t• Interestingly it has same syntax as para\\ms* \\\t\t○ * operator in def is params\r\n",
    "*  when used within an expression is spread\r\n"
   ]
  },
  {
   "cell_type": "code",
   "execution_count": 27,
   "id": "5e657d63-5938-4b32-888e-4acd2995d689",
   "metadata": {},
   "outputs": [],
   "source": [
    "def average( *args) :\n",
    "    return sum(*args)/len(args)"
   ]
  },
  {
   "cell_type": "code",
   "execution_count": 28,
   "id": "4dadad7f-ccdb-40b5-ad8f-38d9c18d3bcb",
   "metadata": {},
   "outputs": [
    {
     "name": "stdout",
     "output_type": "stream",
     "text": [
      "<class 'tuple'>=(1, 2, 3, 4)\n"
     ]
    },
    {
     "data": {
      "text/plain": [
       "2.5"
      ]
     },
     "execution_count": 28,
     "metadata": {},
     "output_type": "execute_result"
    }
   ],
   "source": [
    "average(1,2,3,4)"
   ]
  },
  {
   "cell_type": "markdown",
   "id": "534c2417-69ab-4f2d-aef4-6751589e3662",
   "metadata": {},
   "source": [
    "### Passing both positional and \\*args parameter to a function\n",
    "\n",
    "* we may pass both positional  and **\\*args** parameter to the same function\n",
    "* generally we pass **\\*args** parameter at the end\n",
    "* there can eb onely one **\\*args** parameter in a function"
   ]
  },
  {
   "cell_type": "code",
   "execution_count": 29,
   "id": "01f389e0-0cdd-456b-9ca5-f844a97a6bad",
   "metadata": {},
   "outputs": [],
   "source": [
    "def call_me(x,y=10,*args):\n",
    "    print(f'x={x}')\n",
    "    print(f'y={y}')\n",
    "    print(f'args={args}')"
   ]
  },
  {
   "cell_type": "code",
   "execution_count": 30,
   "id": "1a10a897-f49f-4479-a459-b1ef23b57e72",
   "metadata": {},
   "outputs": [
    {
     "name": "stdout",
     "output_type": "stream",
     "text": [
      "x=1\n",
      "y=2\n",
      "args=(3, 4, 5, 6, 7)\n"
     ]
    }
   ],
   "source": [
    "call_me(1,2,3,4,5,6,7)"
   ]
  },
  {
   "cell_type": "code",
   "execution_count": 31,
   "id": "bf9a61a9-6f21-4dd6-9779-b7f3d7aab1e3",
   "metadata": {},
   "outputs": [
    {
     "name": "stdout",
     "output_type": "stream",
     "text": [
      "x=1\n",
      "y=2\n",
      "args=(3,)\n"
     ]
    }
   ],
   "source": [
    "call_me(1,2,3)"
   ]
  },
  {
   "cell_type": "code",
   "execution_count": 32,
   "id": "935f5726-11da-41b6-9e24-89a977341353",
   "metadata": {},
   "outputs": [
    {
     "name": "stdout",
     "output_type": "stream",
     "text": [
      "x=1\n",
      "y=2\n",
      "args=()\n"
     ]
    }
   ],
   "source": [
    "call_me(1,2)"
   ]
  },
  {
   "cell_type": "code",
   "execution_count": 33,
   "id": "80d7dcc4-470a-49d0-91a6-36a20c1d7a94",
   "metadata": {},
   "outputs": [
    {
     "name": "stdout",
     "output_type": "stream",
     "text": [
      "x=1\n",
      "y=10\n",
      "args=()\n"
     ]
    }
   ],
   "source": [
    "call_me(1)"
   ]
  },
  {
   "cell_type": "code",
   "execution_count": 34,
   "id": "49acbb32-83f9-44ed-b06b-b23be67b8c17",
   "metadata": {},
   "outputs": [
    {
     "ename": "TypeError",
     "evalue": "call_me() missing 1 required positional argument: 'x'",
     "output_type": "error",
     "traceback": [
      "\u001b[1;31m---------------------------------------------------------------------------\u001b[0m",
      "\u001b[1;31mTypeError\u001b[0m                                 Traceback (most recent call last)",
      "Cell \u001b[1;32mIn[34], line 1\u001b[0m\n\u001b[1;32m----> 1\u001b[0m \u001b[43mcall_me\u001b[49m\u001b[43m(\u001b[49m\u001b[43m)\u001b[49m\n",
      "\u001b[1;31mTypeError\u001b[0m: call_me() missing 1 required positional argument: 'x'"
     ]
    }
   ],
   "source": [
    "call_me()"
   ]
  },
  {
   "cell_type": "markdown",
   "id": "a94714c6-9a04-4cb6-922e-69ceecd802df",
   "metadata": {},
   "source": [
    "### What if we pass a positional parameter after args?"
   ]
  },
  {
   "cell_type": "code",
   "execution_count": 35,
   "id": "c86382bb-5b6b-4f2d-8452-28ffd11868dd",
   "metadata": {},
   "outputs": [],
   "source": [
    "def call_me(x,*args,y):\n",
    "    print(f'x={x}')\n",
    "    print(f'args={args}')\n",
    "    print(f'y={y}')"
   ]
  },
  {
   "cell_type": "code",
   "execution_count": 36,
   "id": "04d28a02-5bfc-4717-8730-84e0ee05df45",
   "metadata": {},
   "outputs": [
    {
     "ename": "TypeError",
     "evalue": "call_me() missing 1 required keyword-only argument: 'y'",
     "output_type": "error",
     "traceback": [
      "\u001b[1;31m---------------------------------------------------------------------------\u001b[0m",
      "\u001b[1;31mTypeError\u001b[0m                                 Traceback (most recent call last)",
      "Cell \u001b[1;32mIn[36], line 1\u001b[0m\n\u001b[1;32m----> 1\u001b[0m \u001b[43mcall_me\u001b[49m\u001b[43m(\u001b[49m\u001b[38;5;241;43m1\u001b[39;49m\u001b[43m,\u001b[49m\u001b[38;5;241;43m2\u001b[39;49m\u001b[43m,\u001b[49m\u001b[38;5;241;43m3\u001b[39;49m\u001b[43m)\u001b[49m \u001b[38;5;66;03m# x=1, args=(2,3), y=(not supplied)\u001b[39;00m\n\u001b[0;32m      2\u001b[0m call_me(\u001b[38;5;241m1\u001b[39m,\u001b[38;5;241m2\u001b[39m,\u001b[38;5;241m3\u001b[39m,\u001b[38;5;241m4\u001b[39m,\u001b[38;5;241m5\u001b[39m) \u001b[38;5;66;03m# x=1, args(2,3,4,5), y=(not supplied)\u001b[39;00m\n",
      "\u001b[1;31mTypeError\u001b[0m: call_me() missing 1 required keyword-only argument: 'y'"
     ]
    }
   ],
   "source": [
    "call_me(1,2,3) # x=1, args=(2,3), y=(not supplied)\n",
    "call_me(1,2,3,4,5) # x=1, args(2,3,4,5), y=(not supplied)"
   ]
  },
  {
   "cell_type": "markdown",
   "id": "27ea6e78-daf3-4fb1-8849-bce606f7c5a9",
   "metadata": {},
   "source": [
    "### Note the error message: \"required keyword-only (named) argument y\"\n",
    "\n",
    "* any argument that comes after **\\*args** is no more a positional parameter\n",
    "    * They are named/keyword only parameter\n",
    "* must be supplied by the name"
   ]
  },
  {
   "cell_type": "code",
   "execution_count": 38,
   "id": "537c6257-6f98-4ef8-a712-ad4fe4241d0b",
   "metadata": {},
   "outputs": [
    {
     "name": "stdout",
     "output_type": "stream",
     "text": [
      "x=10\n",
      "args=(1, 2, 3, 4)\n",
      "y=30\n"
     ]
    }
   ],
   "source": [
    "call_me(10, 1,2,3,4, y=30)"
   ]
  },
  {
   "cell_type": "markdown",
   "id": "77987af2-3de4-41e5-8ed2-d2ed8df27b5f",
   "metadata": {},
   "source": [
    "### We can make it optional keyword-only argument by supplying a default"
   ]
  },
  {
   "cell_type": "code",
   "execution_count": 39,
   "id": "9fc59791-a850-4de3-9b74-c71ecf81fb2f",
   "metadata": {},
   "outputs": [],
   "source": [
    "def call_me(x,*args,y=10):\n",
    "    print(f'x={x}')\n",
    "    print(f'args={args}')\n",
    "    print(f'y={y}')"
   ]
  },
  {
   "cell_type": "code",
   "execution_count": 40,
   "id": "4a84ea2d-0991-4e87-a2e9-76d99394b9eb",
   "metadata": {},
   "outputs": [
    {
     "name": "stdout",
     "output_type": "stream",
     "text": [
      "x=1\n",
      "args=(2, 3, 4)\n",
      "y=10\n"
     ]
    }
   ],
   "source": [
    "call_me(1,2,3,4)"
   ]
  },
  {
   "cell_type": "code",
   "execution_count": 41,
   "id": "bc91f413-0816-4287-ad2a-929d73c0ab86",
   "metadata": {},
   "outputs": [
    {
     "name": "stdout",
     "output_type": "stream",
     "text": [
      "x=1\n",
      "args=(2, 3, 4)\n",
      "y=100\n"
     ]
    }
   ],
   "source": [
    "call_me(1,2,3,4, y=100)"
   ]
  },
  {
   "cell_type": "markdown",
   "id": "62daa652-cf96-47c9-acf0-157d6b7ee7c6",
   "metadata": {},
   "source": [
    "### Alternative Keyword Argument syntax\n",
    "\n",
    "* The above syntax didn't work in python#2\n",
    "* We have an alternative syntax with which we can pass keyword (named) parameters to a function\n",
    "\n",
    "## **\\*\\*kwargs**\n",
    "\n",
    "* now the parameter name **kwargs** is a conventional name just like **args**\n",
    "* here we prefix double star **\\*\\***\n",
    "* It will collect any given named/keyword parameters into a dictionary"
   ]
  },
  {
   "cell_type": "code",
   "execution_count": 42,
   "id": "25cc61f6-3dec-4212-93f4-328f011c3979",
   "metadata": {},
   "outputs": [],
   "source": [
    "def call_me(x,y,*args,**kwargs):\n",
    "    print(f'x={x}')\n",
    "    print(f'y={y})')\n",
    "    print(f'args={args}')\n",
    "    print(f'kwargs={kwargs}')"
   ]
  },
  {
   "cell_type": "code",
   "execution_count": 43,
   "id": "4e249d7b-cbb6-4b3b-80f8-94324771f751",
   "metadata": {},
   "outputs": [
    {
     "name": "stdout",
     "output_type": "stream",
     "text": [
      "x=1\n",
      "y=2)\n",
      "args=(3, 4)\n",
      "kwargs={}\n"
     ]
    }
   ],
   "source": [
    "call_me(1,2,3,4)"
   ]
  },
  {
   "cell_type": "code",
   "execution_count": 44,
   "id": "ecd44acd-f55c-4daf-aab0-311f8bf509dc",
   "metadata": {},
   "outputs": [
    {
     "name": "stdout",
     "output_type": "stream",
     "text": [
      "x=1\n",
      "y=2)\n",
      "args=(3, 4)\n",
      "kwargs={'sep': '\\t', 'end': '\\n', 'color': 'blue'}\n"
     ]
    }
   ],
   "source": [
    "call_me(1,2,3,4, sep='\\t', end='\\n', color='blue')"
   ]
  },
  {
   "cell_type": "code",
   "execution_count": 45,
   "id": "ce46f06f-00ed-4ad5-a8d3-f85652a78b54",
   "metadata": {},
   "outputs": [],
   "source": [
    "def print_info( name, **kwargs):\n",
    "    print(f'name={name}')\n",
    "    for key,value in kwargs.items():\n",
    "        print(f'{key}={value}')"
   ]
  },
  {
   "cell_type": "code",
   "execution_count": 46,
   "id": "6e30bd2d-fd2b-4dbb-9f52-2fc11c998caf",
   "metadata": {},
   "outputs": [
    {
     "name": "stdout",
     "output_type": "stream",
     "text": [
      "name=Vivek Dutta Mishra\n"
     ]
    }
   ],
   "source": [
    "print_info('Vivek Dutta Mishra')"
   ]
  },
  {
   "cell_type": "code",
   "execution_count": 47,
   "id": "3c141122-7a9b-42d8-9ccd-fae38b23987a",
   "metadata": {},
   "outputs": [
    {
     "name": "stdout",
     "output_type": "stream",
     "text": [
      "name=Vivek Dutta Mishra\n",
      "email=vivek@thelostepic.com\n",
      "instagram=@vivekduttamishra\n"
     ]
    }
   ],
   "source": [
    "print_info('Vivek Dutta Mishra', email='vivek@thelostepic.com', instagram='@vivekduttamishra')"
   ]
  },
  {
   "cell_type": "markdown",
   "id": "60d3b51c-3052-49a9-83cf-aee102c4457d",
   "metadata": {},
   "source": [
    "### What is the difference between positional keyword parameter (after *args) and **kwargs\n",
    "\n",
    "1. \\*\\*kwargs works with all python versions\n",
    "    * named parameters works with python 3+\n",
    "2. kwargs syntax can be used without args syntax\n",
    "3. kwargs can take even unknown keys\n",
    "   * positional parameters names are fixed\n",
    "  \n",
    "4. kwargs values are traditionally optional (as no key is fixed)\n",
    "   * positional parameters may be required or optional but not unknown."
   ]
  },
  {
   "cell_type": "markdown",
   "id": "70f0e163-b453-4fbb-a307-94143ec30001",
   "metadata": {},
   "source": [
    "### Assignment 4.2\n",
    "\n",
    "* rewrite histogram function to add following customizations\n",
    "* customization should be passed as parameters\n",
    "\n",
    "##### 1. we can change the **design** of the bar which defaults to '==='\n",
    "\n",
    "<pre>\n",
    "    2 | +++++ +++++ +++++ +++++ 4\n",
    "    9 | +++++ 1\n",
    "    11| +++++ +++++ +++++ +++++ +++++ +++++ 6\n",
    "    7 | +++++ +++++ +++++ 3\n",
    "</pre>\n",
    "\n",
    "#### 2. we may want to **hide/show** the exact frequency value (default show)\n",
    "\n",
    "<pre>\n",
    "    2 | +++++ +++++ +++++ +++++ \n",
    "    9 | +++++ \n",
    "    11| +++++ +++++ +++++ +++++ +++++ +++++ \n",
    "    7 | +++++ +++++ +++++ \n",
    "</pre>\n",
    "\n",
    "\n",
    "#### 3. we may want to **align** the  frequency value (default false)\n",
    "\n",
    "* when true\n",
    "\n",
    "<pre>\n",
    "    2 | +++++ +++++ +++++ +++++              4\n",
    "    9 | +++++                                1\n",
    "    11| +++++ +++++ +++++ +++++ +++++ +++++  6\n",
    "    7 | +++++ +++++ +++++                    3\n",
    "</pre>\n"
   ]
  },
  {
   "cell_type": "markdown",
   "id": "a3ee7561-43ed-49a4-be2f-f6546b5969b0",
   "metadata": {},
   "source": [
    "### Functions are Objects\n",
    "\n",
    "* In python even a function is an object like int, str or list\n",
    "* They have their own type and id"
   ]
  },
  {
   "cell_type": "code",
   "execution_count": 48,
   "id": "2ed55d9e-75b7-40e0-8e57-4b72a3a33f98",
   "metadata": {},
   "outputs": [],
   "source": [
    "def sum(x,y):\n",
    "    return x+y"
   ]
  },
  {
   "cell_type": "code",
   "execution_count": 49,
   "id": "6daef3b7-7763-4f11-a895-09ac86861dd3",
   "metadata": {},
   "outputs": [
    {
     "data": {
      "text/plain": [
       "7"
      ]
     },
     "execution_count": 49,
     "metadata": {},
     "output_type": "execute_result"
    }
   ],
   "source": [
    "sum(3,4)"
   ]
  },
  {
   "cell_type": "code",
   "execution_count": 50,
   "id": "867dc459-3dbd-4d25-a5a4-95935f7c6e64",
   "metadata": {},
   "outputs": [
    {
     "name": "stdout",
     "output_type": "stream",
     "text": [
      "<class 'function'>\n"
     ]
    }
   ],
   "source": [
    "print(type(sum))"
   ]
  },
  {
   "cell_type": "code",
   "execution_count": 51,
   "id": "09e5fbf3-e410-449b-bae5-e1b63c219fad",
   "metadata": {},
   "outputs": [
    {
     "name": "stdout",
     "output_type": "stream",
     "text": [
      "2688141672288\n"
     ]
    }
   ],
   "source": [
    "print(id(sum))"
   ]
  },
  {
   "cell_type": "markdown",
   "id": "c0149694-537d-4a42-ac4d-5092952c53fe",
   "metadata": {},
   "source": [
    "#### A function name is just a reference to actual function object\n",
    "\n",
    "* we can attach another reference to function object"
   ]
  },
  {
   "cell_type": "code",
   "execution_count": 52,
   "id": "30acc6a7-0281-429a-bd0e-d484ac448e4c",
   "metadata": {},
   "outputs": [
    {
     "name": "stdout",
     "output_type": "stream",
     "text": [
      "<class 'function'>\n"
     ]
    }
   ],
   "source": [
    "add=sum\n",
    "print(type(add))"
   ]
  },
  {
   "cell_type": "code",
   "execution_count": 53,
   "id": "1555194d-ebc1-4c65-8cfa-67040897c2b6",
   "metadata": {},
   "outputs": [
    {
     "data": {
      "text/plain": [
       "7"
      ]
     },
     "execution_count": 53,
     "metadata": {},
     "output_type": "execute_result"
    }
   ],
   "source": [
    "add(3,4)"
   ]
  },
  {
   "cell_type": "markdown",
   "id": "fddc5a63-7c8d-40c9-b04f-22a0b4d7aa0c",
   "metadata": {},
   "source": [
    "### Even a function name can refer to another type"
   ]
  },
  {
   "cell_type": "code",
   "execution_count": 54,
   "id": "4d01026b-5431-46cb-9847-c2d5911b5a48",
   "metadata": {},
   "outputs": [
    {
     "name": "stdout",
     "output_type": "stream",
     "text": [
      "30\n"
     ]
    }
   ],
   "source": [
    "sum=30\n",
    "print(sum)"
   ]
  },
  {
   "cell_type": "code",
   "execution_count": 55,
   "id": "dd901d02-ea8c-4b6b-b8e9-726b61fdbc1a",
   "metadata": {},
   "outputs": [
    {
     "ename": "TypeError",
     "evalue": "'int' object is not callable",
     "output_type": "error",
     "traceback": [
      "\u001b[1;31m---------------------------------------------------------------------------\u001b[0m",
      "\u001b[1;31mTypeError\u001b[0m                                 Traceback (most recent call last)",
      "Cell \u001b[1;32mIn[55], line 1\u001b[0m\n\u001b[1;32m----> 1\u001b[0m \u001b[38;5;28;43msum\u001b[39;49m\u001b[43m(\u001b[49m\u001b[38;5;241;43m3\u001b[39;49m\u001b[43m,\u001b[49m\u001b[38;5;241;43m4\u001b[39;49m\u001b[43m)\u001b[49m\n",
      "\u001b[1;31mTypeError\u001b[0m: 'int' object is not callable"
     ]
    }
   ],
   "source": [
    "sum(3,4)"
   ]
  },
  {
   "cell_type": "code",
   "execution_count": 56,
   "id": "41db179c-acef-4a28-a6e1-6d977a1f02dc",
   "metadata": {},
   "outputs": [
    {
     "data": {
      "text/plain": [
       "7"
      ]
     },
     "execution_count": 56,
     "metadata": {},
     "output_type": "execute_result"
    }
   ],
   "source": [
    "add(3,4)"
   ]
  },
  {
   "cell_type": "markdown",
   "id": "204ac5bf-9be6-4264-8d74-8f120247271e",
   "metadata": {},
   "source": [
    "### A function has a name of it's own\n",
    "\n",
    "* when we defined sum function we created a function with\n",
    "      * name **sum()** and\n",
    "      * assigned it to a reference also called sum\n",
    "\n",
    "```ptyhon\n",
    "def sum(x,y):\n",
    "    return x+y\n",
    "```\n",
    "\n",
    "* when we say **add=sum**\n",
    "      * a new reference add refers to function whose name is **sum**\n",
    "\n",
    "```ptyhon\n",
    "add=sum # add is a reference to function whose name is sum\n",
    "```\n",
    "\n",
    "* when we say **sum=10**\n",
    "      * sum no more refers to the function. it refers to int\n",
    "      * add still refers to the function whose name is **sum**\n"
   ]
  },
  {
   "cell_type": "code",
   "execution_count": 57,
   "id": "591f31dd-b269-4b24-b471-dca754eb79a9",
   "metadata": {},
   "outputs": [],
   "source": [
    "def sum(x,y):\n",
    "    return x+y"
   ]
  },
  {
   "cell_type": "code",
   "execution_count": 58,
   "id": "ff4ceec7-d714-4c04-93cf-ad928882cc8d",
   "metadata": {},
   "outputs": [
    {
     "name": "stdout",
     "output_type": "stream",
     "text": [
      "sum\n"
     ]
    }
   ],
   "source": [
    "print(sum.__name__)"
   ]
  },
  {
   "cell_type": "code",
   "execution_count": 59,
   "id": "b7c2e841-f0b7-4ce6-a8af-73953be8a0b2",
   "metadata": {},
   "outputs": [
    {
     "name": "stdout",
     "output_type": "stream",
     "text": [
      "sum\n"
     ]
    }
   ],
   "source": [
    "add=sum\n",
    "print(add.__name__)"
   ]
  },
  {
   "cell_type": "code",
   "execution_count": 60,
   "id": "653100be-a702-4e74-a063-33ac8d90bff1",
   "metadata": {},
   "outputs": [
    {
     "ename": "TypeError",
     "evalue": "'int' object is not callable",
     "output_type": "error",
     "traceback": [
      "\u001b[1;31m---------------------------------------------------------------------------\u001b[0m",
      "\u001b[1;31mTypeError\u001b[0m                                 Traceback (most recent call last)",
      "Cell \u001b[1;32mIn[60], line 2\u001b[0m\n\u001b[0;32m      1\u001b[0m \u001b[38;5;28msum\u001b[39m\u001b[38;5;241m=\u001b[39m\u001b[38;5;241m10\u001b[39m\n\u001b[1;32m----> 2\u001b[0m \u001b[38;5;28;43msum\u001b[39;49m\u001b[43m(\u001b[49m\u001b[38;5;241;43m1\u001b[39;49m\u001b[43m,\u001b[49m\u001b[38;5;241;43m2\u001b[39;49m\u001b[43m)\u001b[49m\n",
      "\u001b[1;31mTypeError\u001b[0m: 'int' object is not callable"
     ]
    }
   ],
   "source": [
    "sum=10\n",
    "sum(1,2)"
   ]
  },
  {
   "cell_type": "code",
   "execution_count": 61,
   "id": "101a0884-5435-4693-b713-d414aa961618",
   "metadata": {},
   "outputs": [
    {
     "name": "stdout",
     "output_type": "stream",
     "text": [
      "3\n",
      "sum\n"
     ]
    }
   ],
   "source": [
    "print(add(1,2))\n",
    "print(add.__name__)"
   ]
  },
  {
   "cell_type": "markdown",
   "id": "a6709a16-8007-496a-bec2-77f40b9e7f93",
   "metadata": {},
   "source": [
    "### We can create a list of functions"
   ]
  },
  {
   "cell_type": "code",
   "execution_count": 62,
   "id": "029c8890-118d-4266-8c56-1383b2163be7",
   "metadata": {},
   "outputs": [],
   "source": [
    "def plus(x,y): return x+y\n",
    "def minus(x,y):return x-y\n",
    "def multiply(x,y):return x*y\n",
    "def divide(x,y):return x/y"
   ]
  },
  {
   "cell_type": "code",
   "execution_count": 63,
   "id": "d817fad7-3bf8-45fe-9a78-bf150d81fd78",
   "metadata": {},
   "outputs": [],
   "source": [
    "operations=[plus,minus,multiply,divide]"
   ]
  },
  {
   "cell_type": "code",
   "execution_count": 64,
   "id": "0c5d9d69-9a45-47c6-8b9d-cc96e31ce27d",
   "metadata": {},
   "outputs": [
    {
     "name": "stdout",
     "output_type": "stream",
     "text": [
      "65\n",
      "35\n",
      "750\n",
      "3.3333333333333335\n"
     ]
    }
   ],
   "source": [
    "a=50\n",
    "b=15\n",
    "for operation in operations:\n",
    "    result=operation(a,b)\n",
    "    print(result)"
   ]
  },
  {
   "cell_type": "markdown",
   "id": "5c677868-8baa-44ef-badc-8d9e2776b09e",
   "metadata": {},
   "source": [
    "### A function can return another function "
   ]
  },
  {
   "cell_type": "code",
   "execution_count": 66,
   "id": "9f254b7b-820f-4b30-a3ac-01f26dc37c61",
   "metadata": {},
   "outputs": [],
   "source": [
    "def get_operator(opr):\n",
    "    if opr=='+':\n",
    "        return plus\n",
    "    elif opr=='-':\n",
    "        return minus"
   ]
  },
  {
   "cell_type": "code",
   "execution_count": 69,
   "id": "cf974f30-7f84-470a-b90a-23e5161199b2",
   "metadata": {},
   "outputs": [
    {
     "name": "stdout",
     "output_type": "stream",
     "text": [
      "30\n",
      "-10\n"
     ]
    }
   ],
   "source": [
    "o=get_operator(\"+\")\n",
    "print(o(10,20))\n",
    "\n",
    "o=get_operator(\"-\")\n",
    "print(o(10,20))"
   ]
  },
  {
   "cell_type": "markdown",
   "id": "5a203f78-205e-42ef-99a0-884c3c5d7e5f",
   "metadata": {},
   "source": [
    "### We can pass a function to another function as an argument"
   ]
  },
  {
   "cell_type": "code",
   "execution_count": 71,
   "id": "9e306139-b446-415f-b92d-411c6dec70fe",
   "metadata": {},
   "outputs": [],
   "source": [
    "def print_greeting( name, greeter):\n",
    "    message=greeter(name)\n",
    "    print(message)"
   ]
  },
  {
   "cell_type": "code",
   "execution_count": 72,
   "id": "55406416-3e40-433f-adf8-ecd655c6729a",
   "metadata": {},
   "outputs": [],
   "source": [
    "def greet_in_english(name):\n",
    "    return f'Hello {name}'\n",
    "\n",
    "def greet_in_hindi(name):\n",
    "    return f'नमस्ते {name}'"
   ]
  },
  {
   "cell_type": "code",
   "execution_count": 73,
   "id": "a1bf6327-c15e-4c14-ace3-a285081a15c9",
   "metadata": {},
   "outputs": [
    {
     "name": "stdout",
     "output_type": "stream",
     "text": [
      "Hello Ecolab\n",
      "नमस्ते Ecolab\n"
     ]
    }
   ],
   "source": [
    "print_greeting('Ecolab', greet_in_english)\n",
    "print_greeting('Ecolab', greet_in_hindi)"
   ]
  },
  {
   "cell_type": "markdown",
   "id": "eb3dd23d-8cb3-4f86-ac9b-d203cd486060",
   "metadata": {},
   "source": [
    "### Scope Rules\n",
    "\n",
    "* scope rules in python are simple. There are three scopes\n",
    "\n",
    "1. Global scope\n",
    "       * a value defined in global space can be accessed (for readonly) by any function\n",
    "       * we need special syntax to change it\n",
    "\n",
    "2. Local scope\n",
    " * function defined within a function is accessible and visible only in that function\n",
    "\n",
    "3. Closure scope\n",
    " * we will discuss it later!\n",
    "\n",
    "#### 1. global can be accessed for \"readonly\" by any function\n",
    "\n",
    "* function variable can't be accessed outside function"
   ]
  },
  {
   "cell_type": "code",
   "execution_count": 84,
   "id": "03d6d8a7-26ab-4256-bd51-cf2c510901a6",
   "metadata": {},
   "outputs": [],
   "source": [
    "g='I am Global'\n",
    "\n",
    "def f1():\n",
    "    f1Local='I am F1Local'\n",
    "    print(f'global={g}')\n",
    "    print(f'f1local={f1Local}')\n",
    "\n"
   ]
  },
  {
   "cell_type": "code",
   "execution_count": 85,
   "id": "73f029fc-f55b-4ee0-b7d6-758a684c1944",
   "metadata": {},
   "outputs": [
    {
     "name": "stdout",
     "output_type": "stream",
     "text": [
      "I am Global\n"
     ]
    }
   ],
   "source": [
    "print(g)"
   ]
  },
  {
   "cell_type": "code",
   "execution_count": 86,
   "id": "a5922e7a-0dee-40fe-9f27-d9feab2c726b",
   "metadata": {},
   "outputs": [
    {
     "name": "stdout",
     "output_type": "stream",
     "text": [
      "global=I am Global\n",
      "f1local=I am F1Local\n"
     ]
    }
   ],
   "source": [
    "f1()"
   ]
  },
  {
   "cell_type": "code",
   "execution_count": 87,
   "id": "070d02e0-e918-4deb-a8b6-0f9565ee4723",
   "metadata": {},
   "outputs": [
    {
     "ename": "NameError",
     "evalue": "name 'f1Local' is not defined",
     "output_type": "error",
     "traceback": [
      "\u001b[1;31m---------------------------------------------------------------------------\u001b[0m",
      "\u001b[1;31mNameError\u001b[0m                                 Traceback (most recent call last)",
      "Cell \u001b[1;32mIn[87], line 1\u001b[0m\n\u001b[1;32m----> 1\u001b[0m \u001b[43mf1Local\u001b[49m\n",
      "\u001b[1;31mNameError\u001b[0m: name 'f1Local' is not defined"
     ]
    }
   ],
   "source": [
    "f1Local"
   ]
  },
  {
   "cell_type": "markdown",
   "id": "a79d9d48-335f-4cd6-a418-b9e89a767e76",
   "metadata": {},
   "source": [
    "### 2. If we try to modify a global variable\n",
    "\n",
    "* if we modify a variable with same name as that of global\n",
    "    * function creates a local variable with same name\n",
    "    * it doesn't modify the global"
   ]
  },
  {
   "cell_type": "code",
   "execution_count": 93,
   "id": "59a6af05-8793-4a9b-b422-b813890c35de",
   "metadata": {},
   "outputs": [],
   "source": [
    "g=\"I am global\"\n",
    "\n",
    "def f2():\n",
    "    g='Global changed by f2' # this is a local 'g' not global 'g'\n",
    "    print(f'Global changed by f2 : {g}')\n"
   ]
  },
  {
   "cell_type": "code",
   "execution_count": 91,
   "id": "290a433e-5835-42ed-889d-8ed8a191e250",
   "metadata": {},
   "outputs": [
    {
     "name": "stdout",
     "output_type": "stream",
     "text": [
      "Global changed by f2 : Global changed by f2\n"
     ]
    }
   ],
   "source": [
    "f2()"
   ]
  },
  {
   "cell_type": "code",
   "execution_count": 92,
   "id": "3a33ece7-d32d-41d3-9c81-b48fd9a7da45",
   "metadata": {},
   "outputs": [
    {
     "data": {
      "text/plain": [
       "'I am global'"
      ]
     },
     "execution_count": 92,
     "metadata": {},
     "output_type": "execute_result"
    }
   ],
   "source": [
    "g"
   ]
  },
  {
   "cell_type": "markdown",
   "id": "1e259d9d-ed37-4eb2-a581-2751ee547f84",
   "metadata": {},
   "source": [
    "### 3. If we try to read first modify later\n",
    "\n",
    "* now since we are modifying it should be local\n",
    "* a variable is created on the first assignment of value\n",
    "* but we can't print a local before creating it (assigning a value)"
   ]
  },
  {
   "cell_type": "code",
   "execution_count": 94,
   "id": "d3d272a9-14be-40a4-b148-403e382d9256",
   "metadata": {},
   "outputs": [],
   "source": [
    "g='I am global'\n",
    "def f3():\n",
    "    print(f'Current value of global is {g}') #g will be created in next line. can't use before creation\n",
    "    g='Global changed by f3'\n",
    "    print(f'New value of global is {g}')"
   ]
  },
  {
   "cell_type": "code",
   "execution_count": 95,
   "id": "3ab73df9-0538-4775-8cc3-df57805be422",
   "metadata": {},
   "outputs": [
    {
     "ename": "UnboundLocalError",
     "evalue": "cannot access local variable 'g' where it is not associated with a value",
     "output_type": "error",
     "traceback": [
      "\u001b[1;31m---------------------------------------------------------------------------\u001b[0m",
      "\u001b[1;31mUnboundLocalError\u001b[0m                         Traceback (most recent call last)",
      "Cell \u001b[1;32mIn[95], line 1\u001b[0m\n\u001b[1;32m----> 1\u001b[0m \u001b[43mf3\u001b[49m\u001b[43m(\u001b[49m\u001b[43m)\u001b[49m\n",
      "Cell \u001b[1;32mIn[94], line 3\u001b[0m, in \u001b[0;36mf3\u001b[1;34m()\u001b[0m\n\u001b[0;32m      2\u001b[0m \u001b[38;5;28;01mdef\u001b[39;00m \u001b[38;5;21mf3\u001b[39m():\n\u001b[1;32m----> 3\u001b[0m     \u001b[38;5;28mprint\u001b[39m(\u001b[38;5;124mf\u001b[39m\u001b[38;5;124m'\u001b[39m\u001b[38;5;124mCurrent value of global is \u001b[39m\u001b[38;5;132;01m{\u001b[39;00m\u001b[43mg\u001b[49m\u001b[38;5;132;01m}\u001b[39;00m\u001b[38;5;124m'\u001b[39m) \u001b[38;5;66;03m#g will be created in next line. can't use before creation\u001b[39;00m\n\u001b[0;32m      4\u001b[0m     g\u001b[38;5;241m=\u001b[39m\u001b[38;5;124m'\u001b[39m\u001b[38;5;124mGlobal changed by f3\u001b[39m\u001b[38;5;124m'\u001b[39m\n\u001b[0;32m      5\u001b[0m     \u001b[38;5;28mprint\u001b[39m(\u001b[38;5;124mf\u001b[39m\u001b[38;5;124m'\u001b[39m\u001b[38;5;124mNew value of global is \u001b[39m\u001b[38;5;132;01m{\u001b[39;00mg\u001b[38;5;132;01m}\u001b[39;00m\u001b[38;5;124m'\u001b[39m)\n",
      "\u001b[1;31mUnboundLocalError\u001b[0m: cannot access local variable 'g' where it is not associated with a value"
     ]
    }
   ],
   "source": [
    "f3()"
   ]
  },
  {
   "cell_type": "markdown",
   "id": "d5bdef2f-c45f-4644-a139-18ecbf2d2211",
   "metadata": {},
   "source": [
    "### How to access and modify a global variable inside a function\n",
    "\n",
    "##### IMPORTANT RECOMMENDATION\n",
    "* avoid using global varaible\n",
    "* They are problemetic!\n",
    "\n",
    "### use global keyword to indicate we want to modify global\n",
    "* The process is made explicit to avoid accidental modification of global\n",
    "  "
   ]
  },
  {
   "cell_type": "code",
   "execution_count": 102,
   "id": "b6472fa0-8938-4df6-86ee-d094e132e7b9",
   "metadata": {},
   "outputs": [],
   "source": [
    "g=\"global\"\n",
    "\n",
    "def f4():\n",
    "    global g # we are going to modify global\n",
    "    print(f'Current value of global is {g}')\n",
    "    g='Global changed by f4'\n",
    "    print(f'New value of global is {g}')"
   ]
  },
  {
   "cell_type": "code",
   "execution_count": 103,
   "id": "dd6d7cc4-5cba-4192-a97d-91853128f60c",
   "metadata": {},
   "outputs": [
    {
     "name": "stdout",
     "output_type": "stream",
     "text": [
      "Current value of global is global\n",
      "New value of global is Global changed by f4\n"
     ]
    }
   ],
   "source": [
    "f4()"
   ]
  },
  {
   "cell_type": "code",
   "execution_count": 104,
   "id": "a37321f6-1dd0-4c9b-84fc-70053111bd32",
   "metadata": {},
   "outputs": [
    {
     "data": {
      "text/plain": [
       "'Global changed by f4'"
      ]
     },
     "execution_count": 104,
     "metadata": {},
     "output_type": "execute_result"
    }
   ],
   "source": [
    "g"
   ]
  },
  {
   "cell_type": "markdown",
   "id": "cf9defb0-0a2e-4f02-9348-1711cd763d9b",
   "metadata": {},
   "source": [
    "### dir()\n",
    "\n",
    "* returns the content/members of any given object"
   ]
  },
  {
   "cell_type": "code",
   "execution_count": 106,
   "id": "c8ea91d2-b667-40e1-971a-c9291eb37274",
   "metadata": {},
   "outputs": [
    {
     "name": "stdout",
     "output_type": "stream",
     "text": [
      "['__add__', '__class__', '__class_getitem__', '__contains__', '__delattr__', '__delitem__', '__dir__', '__doc__', '__eq__', '__format__', '__ge__', '__getattribute__', '__getitem__', '__getstate__', '__gt__', '__hash__', '__iadd__', '__imul__', '__init__', '__init_subclass__', '__iter__', '__le__', '__len__', '__lt__', '__mul__', '__ne__', '__new__', '__reduce__', '__reduce_ex__', '__repr__', '__reversed__', '__rmul__', '__setattr__', '__setitem__', '__sizeof__', '__str__', '__subclasshook__', 'append', 'clear', 'copy', 'count', 'extend', 'index', 'insert', 'pop', 'remove', 'reverse', 'sort']\n"
     ]
    }
   ],
   "source": [
    "print(dir(list))"
   ]
  },
  {
   "cell_type": "code",
   "execution_count": 107,
   "id": "7467341d-7141-4552-9fa4-6de8d297569e",
   "metadata": {},
   "outputs": [
    {
     "name": "stdout",
     "output_type": "stream",
     "text": [
      "['__abs__', '__add__', '__and__', '__bool__', '__ceil__', '__class__', '__delattr__', '__dir__', '__divmod__', '__doc__', '__eq__', '__float__', '__floor__', '__floordiv__', '__format__', '__ge__', '__getattribute__', '__getnewargs__', '__getstate__', '__gt__', '__hash__', '__index__', '__init__', '__init_subclass__', '__int__', '__invert__', '__le__', '__lshift__', '__lt__', '__mod__', '__mul__', '__ne__', '__neg__', '__new__', '__or__', '__pos__', '__pow__', '__radd__', '__rand__', '__rdivmod__', '__reduce__', '__reduce_ex__', '__repr__', '__rfloordiv__', '__rlshift__', '__rmod__', '__rmul__', '__ror__', '__round__', '__rpow__', '__rrshift__', '__rshift__', '__rsub__', '__rtruediv__', '__rxor__', '__setattr__', '__sizeof__', '__str__', '__sub__', '__subclasshook__', '__truediv__', '__trunc__', '__xor__', 'as_integer_ratio', 'bit_count', 'bit_length', 'conjugate', 'denominator', 'from_bytes', 'imag', 'numerator', 'real', 'to_bytes']\n"
     ]
    }
   ],
   "source": [
    "print(dir(int))"
   ]
  },
  {
   "cell_type": "code",
   "execution_count": 108,
   "id": "63f38d9e-c40d-4216-9b8d-64556c5ed211",
   "metadata": {},
   "outputs": [
    {
     "data": {
      "text/plain": [
       "b'\\x1d'"
      ]
     },
     "execution_count": 108,
     "metadata": {},
     "output_type": "execute_result"
    }
   ],
   "source": [
    "x=29\n",
    "x.to_bytes()"
   ]
  },
  {
   "cell_type": "code",
   "execution_count": null,
   "id": "8a361ba8-4cda-4699-a451-eff1caec0b49",
   "metadata": {},
   "outputs": [],
   "source": []
  }
 ],
 "metadata": {
  "kernelspec": {
   "display_name": "Python 3 (ipykernel)",
   "language": "python",
   "name": "python3"
  },
  "language_info": {
   "codemirror_mode": {
    "name": "ipython",
    "version": 3
   },
   "file_extension": ".py",
   "mimetype": "text/x-python",
   "name": "python",
   "nbconvert_exporter": "python",
   "pygments_lexer": "ipython3",
   "version": "3.11.5"
  }
 },
 "nbformat": 4,
 "nbformat_minor": 5
}
