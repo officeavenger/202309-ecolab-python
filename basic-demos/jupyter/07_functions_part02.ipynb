{
 "cells": [
  {
   "cell_type": "code",
   "execution_count": 1,
   "id": "93fcb108-77b5-4368-a6bd-ad669613f3d5",
   "metadata": {},
   "outputs": [],
   "source": [
    "def divide(nr,dr):\n",
    "    return nr/dr"
   ]
  },
  {
   "cell_type": "code",
   "execution_count": 2,
   "id": "567e97ff-3f55-4fdd-b8c8-cabc59d5ff78",
   "metadata": {},
   "outputs": [
    {
     "data": {
      "text/plain": [
       "3.0"
      ]
     },
     "execution_count": 2,
     "metadata": {},
     "output_type": "execute_result"
    }
   ],
   "source": [
    "divide(12,4)"
   ]
  },
  {
   "cell_type": "markdown",
   "id": "60e33c0b-98ec-49c8-bc6e-d09aabb0e2f7",
   "metadata": {},
   "source": [
    "### Named Parameters\n",
    "\n",
    "* In python we can pass parameters in two different ways\n",
    "    1. positional parameters\n",
    "       * based on the order arguments are assigned to parameters\n",
    "         * 12 is assigned to nr\n",
    "         * 4 is assigned to dr\n",
    "        \n",
    "    2. named parameters\n",
    "       * we can explcitly assign a value to a given parameter by name\n",
    "       * we can do it any order, rather than using same order as defined in function"
   ]
  },
  {
   "cell_type": "code",
   "execution_count": 3,
   "id": "c54252a3-2d8e-4f3a-872f-c0787a53d765",
   "metadata": {},
   "outputs": [
    {
     "data": {
      "text/plain": [
       "2.0"
      ]
     },
     "execution_count": 3,
     "metadata": {},
     "output_type": "execute_result"
    }
   ],
   "source": [
    "divide(nr=12, dr=6)"
   ]
  },
  {
   "cell_type": "code",
   "execution_count": 4,
   "id": "b3471675-29d3-4351-bc02-02b709d2925a",
   "metadata": {},
   "outputs": [
    {
     "data": {
      "text/plain": [
       "5.0"
      ]
     },
     "execution_count": 4,
     "metadata": {},
     "output_type": "execute_result"
    }
   ],
   "source": [
    "divide( dr=8, nr=40)"
   ]
  },
  {
   "cell_type": "markdown",
   "id": "e2d9b816-e224-44cb-9f07-391f941f23d4",
   "metadata": {},
   "source": [
    "### Use Case\n",
    "\n",
    "* This works well with default value parameters\n",
    "* If some parameters have default, we can supply value for only what we want to"
   ]
  },
  {
   "cell_type": "code",
   "execution_count": 5,
   "id": "408b0dfe-e1c0-4802-965f-80ae6bf26e67",
   "metadata": {},
   "outputs": [],
   "source": [
    "def show_info( name, email=None, phone=None):\n",
    "    print(f'name={name}')\n",
    "    print(f'email={email}')\n",
    "    print(f'phone={phone}')"
   ]
  },
  {
   "cell_type": "code",
   "execution_count": 6,
   "id": "2859718e-57a7-4db9-8267-ec8cdaf43701",
   "metadata": {},
   "outputs": [
    {
     "name": "stdout",
     "output_type": "stream",
     "text": [
      "name=Sanjay\n",
      "email=san@gmail.com\n",
      "phone=11223333\n"
     ]
    }
   ],
   "source": [
    "show_info('Sanjay', 'san@gmail.com', '11223333')"
   ]
  },
  {
   "cell_type": "code",
   "execution_count": 7,
   "id": "ce6302c3-2edb-4d4e-84b0-e827f70aaa7e",
   "metadata": {},
   "outputs": [
    {
     "name": "stdout",
     "output_type": "stream",
     "text": [
      "name=Sanjay\n",
      "email=22334343\n",
      "phone=None\n"
     ]
    }
   ],
   "source": [
    "# by default the second parameter goes to email\n",
    "show_info('Sanjay', '22334343')"
   ]
  },
  {
   "cell_type": "code",
   "execution_count": 8,
   "id": "bc9f5f22-e976-4179-a126-b2f60b28bfa0",
   "metadata": {},
   "outputs": [
    {
     "name": "stdout",
     "output_type": "stream",
     "text": [
      "name=Sanjay\n",
      "email=None\n",
      "phone=22334334\n"
     ]
    }
   ],
   "source": [
    "show_info('Sanjay', phone='22334334')"
   ]
  },
  {
   "cell_type": "markdown",
   "id": "74fcbb12-af65-4e52-8185-e169b5e2eee6",
   "metadata": {},
   "source": [
    "#### Positional Parameters\n",
    "\n",
    "* By default a function must get exact number of parameters as required\n",
    "* Passing more or less is an error\n",
    "* A parameter with default is still considered as a passed parameter"
   ]
  },
  {
   "cell_type": "code",
   "execution_count": 9,
   "id": "62bbcb8f-427a-4f0d-ba82-649acd9e929f",
   "metadata": {},
   "outputs": [],
   "source": [
    "def sum(a,b):\n",
    "    return a+b"
   ]
  },
  {
   "cell_type": "code",
   "execution_count": 10,
   "id": "a8a61002-976b-4872-9c8f-55c65b34180c",
   "metadata": {},
   "outputs": [
    {
     "data": {
      "text/plain": [
       "5"
      ]
     },
     "execution_count": 10,
     "metadata": {},
     "output_type": "execute_result"
    }
   ],
   "source": [
    "sum(2,3)"
   ]
  },
  {
   "cell_type": "code",
   "execution_count": 11,
   "id": "59ac12d4-76fc-4a27-93cc-380257eb036f",
   "metadata": {},
   "outputs": [
    {
     "ename": "TypeError",
     "evalue": "sum() takes 2 positional arguments but 3 were given",
     "output_type": "error",
     "traceback": [
      "\u001b[1;31m---------------------------------------------------------------------------\u001b[0m",
      "\u001b[1;31mTypeError\u001b[0m                                 Traceback (most recent call last)",
      "Cell \u001b[1;32mIn[11], line 1\u001b[0m\n\u001b[1;32m----> 1\u001b[0m \u001b[38;5;28;43msum\u001b[39;49m\u001b[43m(\u001b[49m\u001b[38;5;241;43m2\u001b[39;49m\u001b[43m,\u001b[49m\u001b[38;5;241;43m3\u001b[39;49m\u001b[43m,\u001b[49m\u001b[38;5;241;43m4\u001b[39;49m\u001b[43m)\u001b[49m\n",
      "\u001b[1;31mTypeError\u001b[0m: sum() takes 2 positional arguments but 3 were given"
     ]
    }
   ],
   "source": [
    "sum(2,3,4)"
   ]
  },
  {
   "cell_type": "code",
   "execution_count": 12,
   "id": "a2339bc2-0d56-4ac4-ba83-1da18fa85888",
   "metadata": {},
   "outputs": [
    {
     "ename": "TypeError",
     "evalue": "sum() missing 1 required positional argument: 'b'",
     "output_type": "error",
     "traceback": [
      "\u001b[1;31m---------------------------------------------------------------------------\u001b[0m",
      "\u001b[1;31mTypeError\u001b[0m                                 Traceback (most recent call last)",
      "Cell \u001b[1;32mIn[12], line 1\u001b[0m\n\u001b[1;32m----> 1\u001b[0m \u001b[38;5;28;43msum\u001b[39;49m\u001b[43m(\u001b[49m\u001b[38;5;241;43m2\u001b[39;49m\u001b[43m)\u001b[49m\n",
      "\u001b[1;31mTypeError\u001b[0m: sum() missing 1 required positional argument: 'b'"
     ]
    }
   ],
   "source": [
    "sum(2)"
   ]
  },
  {
   "cell_type": "markdown",
   "id": "c40d6697-7005-4356-98ce-262f6250f4cc",
   "metadata": {},
   "source": [
    "### Variable Argument Functions (params syntax)\n",
    "\n",
    "* sometimes we are not sure how many parameters a function need\n",
    "* it may work with multiple parameters\n",
    "* Example\n",
    "  * How many parameters **print()** take?\n",
    "* Example 2\n",
    "  * We want to sum a few numbers together\n",
    " \n",
    "#### Approach #1  sum a sequence of values"
   ]
  },
  {
   "cell_type": "code",
   "execution_count": 16,
   "id": "5ef819ae-8fd4-4cef-981f-b9c56801e710",
   "metadata": {},
   "outputs": [],
   "source": [
    "def sum( seq ):\n",
    "    result=0\n",
    "    for value in seq:\n",
    "        result+=value\n",
    "    return result"
   ]
  },
  {
   "cell_type": "code",
   "execution_count": 17,
   "id": "461e537c-99d9-440d-a59d-99629367b40f",
   "metadata": {},
   "outputs": [
    {
     "data": {
      "text/plain": [
       "10"
      ]
     },
     "execution_count": 17,
     "metadata": {},
     "output_type": "execute_result"
    }
   ],
   "source": [
    "sum([1,2,3,4])"
   ]
  },
  {
   "cell_type": "code",
   "execution_count": 18,
   "id": "e643e0d9-fbc2-4199-adc8-a32f14be1d09",
   "metadata": {},
   "outputs": [
    {
     "data": {
      "text/plain": [
       "22"
      ]
     },
     "execution_count": 18,
     "metadata": {},
     "output_type": "execute_result"
    }
   ],
   "source": [
    "sum((2,9,1,8,2))"
   ]
  },
  {
   "cell_type": "markdown",
   "id": "6f7db97d-98cc-4c77-8430-3b1e891b48fb",
   "metadata": {},
   "source": [
    "#### But  in print we don't pass sequence, we just pass individual values\n",
    "\n",
    "### Variable argument function\n",
    "\n",
    "* we can pass any number of arguments to be collected as tuple in parameter prefixed with **\\***"
   ]
  },
  {
   "cell_type": "code",
   "execution_count": 20,
   "id": "c8958f56-e16b-48aa-a1a1-8ce50b68f332",
   "metadata": {},
   "outputs": [],
   "source": [
    "def sum( *numbers) :\n",
    "    print(f'{type(numbers)}={numbers}')\n",
    "    result=0\n",
    "    for number in numbers:\n",
    "        result+=number\n",
    "    return result"
   ]
  },
  {
   "cell_type": "code",
   "execution_count": 21,
   "id": "4414feaa-42f9-442f-8eca-a04ff45d1dfb",
   "metadata": {},
   "outputs": [
    {
     "name": "stdout",
     "output_type": "stream",
     "text": [
      "<class 'tuple'>=(1, 2, 3, 4)\n"
     ]
    },
    {
     "data": {
      "text/plain": [
       "10"
      ]
     },
     "execution_count": 21,
     "metadata": {},
     "output_type": "execute_result"
    }
   ],
   "source": [
    "sum(1,2,3,4)"
   ]
  },
  {
   "cell_type": "code",
   "execution_count": 22,
   "id": "146ae0da-53a9-4757-a71c-f8105d41077a",
   "metadata": {},
   "outputs": [
    {
     "name": "stdout",
     "output_type": "stream",
     "text": [
      "<class 'tuple'>=(1, 2)\n"
     ]
    },
    {
     "data": {
      "text/plain": [
       "3"
      ]
     },
     "execution_count": 22,
     "metadata": {},
     "output_type": "execute_result"
    }
   ],
   "source": [
    "sum(1,2)"
   ]
  },
  {
   "cell_type": "code",
   "execution_count": 23,
   "id": "b51b8c90-3b84-40db-a444-040a5c9ecd18",
   "metadata": {},
   "outputs": [
    {
     "name": "stdout",
     "output_type": "stream",
     "text": [
      "<class 'tuple'>=(1,)\n"
     ]
    },
    {
     "data": {
      "text/plain": [
       "1"
      ]
     },
     "execution_count": 23,
     "metadata": {},
     "output_type": "execute_result"
    }
   ],
   "source": [
    "sum(1)"
   ]
  },
  {
   "cell_type": "code",
   "execution_count": 24,
   "id": "796189f4-c24c-4eef-873b-c95208e7f622",
   "metadata": {},
   "outputs": [
    {
     "name": "stdout",
     "output_type": "stream",
     "text": [
      "<class 'tuple'>=()\n"
     ]
    },
    {
     "data": {
      "text/plain": [
       "0"
      ]
     },
     "execution_count": 24,
     "metadata": {},
     "output_type": "execute_result"
    }
   ],
   "source": [
    "sum()"
   ]
  },
  {
   "cell_type": "markdown",
   "id": "0ac3710a-2ab2-421d-bb7e-09d0563c5eb5",
   "metadata": {},
   "source": [
    "### What does \\* do?\n",
    "\n",
    "* the **\\*** prefix gathers all the suppplied parameters into a tuple\n",
    "* Think! as if it wraps given parameters inside a tuple\n",
    "\n",
    "### Naming convention\n",
    "\n",
    "* python community recommends naming variable argument function as **\\*args**\n",
    "    * This is just a convention and not syntatical compulsion\n",
    "* It is strongly recommended to always use convetion"
   ]
  },
  {
   "cell_type": "markdown",
   "id": "f1313648-3437-4020-aae8-d7a00b5b95b0",
   "metadata": {},
   "source": [
    "### Assignment 4.1\n",
    "\n",
    "* create sum function to sum a given set of variable values\n",
    "* create an average function to average a given set of variable values\n",
    "* the average function should reuse the sum() function to sum all the items\n",
    "  * average is sum() / total items"
   ]
  },
  {
   "cell_type": "code",
   "execution_count": 25,
   "id": "7b013d5b-e488-4035-951d-e68ec0394c64",
   "metadata": {},
   "outputs": [],
   "source": [
    "def average(*args):\n",
    "    return sum(args)/ len(args)"
   ]
  },
  {
   "cell_type": "code",
   "execution_count": 26,
   "id": "bd471667-2140-44e2-804d-63b42dd7c60f",
   "metadata": {},
   "outputs": [
    {
     "name": "stdout",
     "output_type": "stream",
     "text": [
      "<class 'tuple'>=((1, 2, 3, 4),)\n"
     ]
    },
    {
     "ename": "TypeError",
     "evalue": "unsupported operand type(s) for +=: 'int' and 'tuple'",
     "output_type": "error",
     "traceback": [
      "\u001b[1;31m---------------------------------------------------------------------------\u001b[0m",
      "\u001b[1;31mTypeError\u001b[0m                                 Traceback (most recent call last)",
      "Cell \u001b[1;32mIn[26], line 1\u001b[0m\n\u001b[1;32m----> 1\u001b[0m \u001b[43maverage\u001b[49m\u001b[43m(\u001b[49m\u001b[38;5;241;43m1\u001b[39;49m\u001b[43m,\u001b[49m\u001b[38;5;241;43m2\u001b[39;49m\u001b[43m,\u001b[49m\u001b[38;5;241;43m3\u001b[39;49m\u001b[43m,\u001b[49m\u001b[38;5;241;43m4\u001b[39;49m\u001b[43m)\u001b[49m\n",
      "Cell \u001b[1;32mIn[25], line 2\u001b[0m, in \u001b[0;36maverage\u001b[1;34m(*args)\u001b[0m\n\u001b[0;32m      1\u001b[0m \u001b[38;5;28;01mdef\u001b[39;00m \u001b[38;5;21maverage\u001b[39m(\u001b[38;5;241m*\u001b[39margs):\n\u001b[1;32m----> 2\u001b[0m     \u001b[38;5;28;01mreturn\u001b[39;00m \u001b[38;5;28;43msum\u001b[39;49m\u001b[43m(\u001b[49m\u001b[43margs\u001b[49m\u001b[43m)\u001b[49m\u001b[38;5;241m/\u001b[39m \u001b[38;5;28mlen\u001b[39m(args)\n",
      "Cell \u001b[1;32mIn[20], line 5\u001b[0m, in \u001b[0;36msum\u001b[1;34m(*numbers)\u001b[0m\n\u001b[0;32m      3\u001b[0m result\u001b[38;5;241m=\u001b[39m\u001b[38;5;241m0\u001b[39m\n\u001b[0;32m      4\u001b[0m \u001b[38;5;28;01mfor\u001b[39;00m number \u001b[38;5;129;01min\u001b[39;00m numbers:\n\u001b[1;32m----> 5\u001b[0m     \u001b[43mresult\u001b[49m\u001b[38;5;241;43m+\u001b[39;49m\u001b[38;5;241;43m=\u001b[39;49m\u001b[43mnumber\u001b[49m\n\u001b[0;32m      6\u001b[0m \u001b[38;5;28;01mreturn\u001b[39;00m result\n",
      "\u001b[1;31mTypeError\u001b[0m: unsupported operand type(s) for +=: 'int' and 'tuple'"
     ]
    }
   ],
   "source": [
    "average(1,2,3,4)"
   ]
  },
  {
   "attachments": {},
   "cell_type": "markdown",
   "id": "d7a55df3-361a-4762-8e9e-9dc1034359ae",
   "metadata": {},
   "source": [
    "## Solution (spread operator)\n",
    "\n",
    "* A spread operator is just the opposite of params syntax\r",
    "*  It spreads the value of a sequence as normal comma separated value\n",
    "* • You can imagine, it is taking all values out of any given sequenc* \t• Interestingly it has same syntax as para\\ms* \\\t\t○ * operator in def is params\r\n",
    "*  when used within an expression is spread\r\n"
   ]
  },
  {
   "cell_type": "code",
   "execution_count": 27,
   "id": "5e657d63-5938-4b32-888e-4acd2995d689",
   "metadata": {},
   "outputs": [],
   "source": [
    "def average( *args) :\n",
    "    return sum(*args)/len(args)"
   ]
  },
  {
   "cell_type": "code",
   "execution_count": 28,
   "id": "4dadad7f-ccdb-40b5-ad8f-38d9c18d3bcb",
   "metadata": {},
   "outputs": [
    {
     "name": "stdout",
     "output_type": "stream",
     "text": [
      "<class 'tuple'>=(1, 2, 3, 4)\n"
     ]
    },
    {
     "data": {
      "text/plain": [
       "2.5"
      ]
     },
     "execution_count": 28,
     "metadata": {},
     "output_type": "execute_result"
    }
   ],
   "source": [
    "average(1,2,3,4)"
   ]
  },
  {
   "cell_type": "markdown",
   "id": "534c2417-69ab-4f2d-aef4-6751589e3662",
   "metadata": {},
   "source": [
    "### Passing both positional and \\*args parameter to a function\n",
    "\n",
    "* we may pass both positional  and **\\*args** parameter to the same function\n",
    "* generally we pass **\\*args** parameter at the end\n",
    "* there can eb onely one **\\*args** parameter in a function"
   ]
  },
  {
   "cell_type": "code",
   "execution_count": 29,
   "id": "01f389e0-0cdd-456b-9ca5-f844a97a6bad",
   "metadata": {},
   "outputs": [],
   "source": [
    "def call_me(x,y=10,*args):\n",
    "    print(f'x={x}')\n",
    "    print(f'y={y}')\n",
    "    print(f'args={args}')"
   ]
  },
  {
   "cell_type": "code",
   "execution_count": 30,
   "id": "1a10a897-f49f-4479-a459-b1ef23b57e72",
   "metadata": {},
   "outputs": [
    {
     "name": "stdout",
     "output_type": "stream",
     "text": [
      "x=1\n",
      "y=2\n",
      "args=(3, 4, 5, 6, 7)\n"
     ]
    }
   ],
   "source": [
    "call_me(1,2,3,4,5,6,7)"
   ]
  },
  {
   "cell_type": "code",
   "execution_count": 31,
   "id": "bf9a61a9-6f21-4dd6-9779-b7f3d7aab1e3",
   "metadata": {},
   "outputs": [
    {
     "name": "stdout",
     "output_type": "stream",
     "text": [
      "x=1\n",
      "y=2\n",
      "args=(3,)\n"
     ]
    }
   ],
   "source": [
    "call_me(1,2,3)"
   ]
  },
  {
   "cell_type": "code",
   "execution_count": 32,
   "id": "935f5726-11da-41b6-9e24-89a977341353",
   "metadata": {},
   "outputs": [
    {
     "name": "stdout",
     "output_type": "stream",
     "text": [
      "x=1\n",
      "y=2\n",
      "args=()\n"
     ]
    }
   ],
   "source": [
    "call_me(1,2)"
   ]
  },
  {
   "cell_type": "code",
   "execution_count": 33,
   "id": "80d7dcc4-470a-49d0-91a6-36a20c1d7a94",
   "metadata": {},
   "outputs": [
    {
     "name": "stdout",
     "output_type": "stream",
     "text": [
      "x=1\n",
      "y=10\n",
      "args=()\n"
     ]
    }
   ],
   "source": [
    "call_me(1)"
   ]
  },
  {
   "cell_type": "code",
   "execution_count": 34,
   "id": "49acbb32-83f9-44ed-b06b-b23be67b8c17",
   "metadata": {},
   "outputs": [
    {
     "ename": "TypeError",
     "evalue": "call_me() missing 1 required positional argument: 'x'",
     "output_type": "error",
     "traceback": [
      "\u001b[1;31m---------------------------------------------------------------------------\u001b[0m",
      "\u001b[1;31mTypeError\u001b[0m                                 Traceback (most recent call last)",
      "Cell \u001b[1;32mIn[34], line 1\u001b[0m\n\u001b[1;32m----> 1\u001b[0m \u001b[43mcall_me\u001b[49m\u001b[43m(\u001b[49m\u001b[43m)\u001b[49m\n",
      "\u001b[1;31mTypeError\u001b[0m: call_me() missing 1 required positional argument: 'x'"
     ]
    }
   ],
   "source": [
    "call_me()"
   ]
  },
  {
   "cell_type": "markdown",
   "id": "a94714c6-9a04-4cb6-922e-69ceecd802df",
   "metadata": {},
   "source": [
    "### What if we pass a positional parameter after args?"
   ]
  },
  {
   "cell_type": "code",
   "execution_count": 35,
   "id": "c86382bb-5b6b-4f2d-8452-28ffd11868dd",
   "metadata": {},
   "outputs": [],
   "source": [
    "def call_me(x,*args,y):\n",
    "    print(f'x={x}')\n",
    "    print(f'args={args}')\n",
    "    print(f'y={y}')"
   ]
  },
  {
   "cell_type": "code",
   "execution_count": 36,
   "id": "04d28a02-5bfc-4717-8730-84e0ee05df45",
   "metadata": {},
   "outputs": [
    {
     "ename": "TypeError",
     "evalue": "call_me() missing 1 required keyword-only argument: 'y'",
     "output_type": "error",
     "traceback": [
      "\u001b[1;31m---------------------------------------------------------------------------\u001b[0m",
      "\u001b[1;31mTypeError\u001b[0m                                 Traceback (most recent call last)",
      "Cell \u001b[1;32mIn[36], line 1\u001b[0m\n\u001b[1;32m----> 1\u001b[0m \u001b[43mcall_me\u001b[49m\u001b[43m(\u001b[49m\u001b[38;5;241;43m1\u001b[39;49m\u001b[43m,\u001b[49m\u001b[38;5;241;43m2\u001b[39;49m\u001b[43m,\u001b[49m\u001b[38;5;241;43m3\u001b[39;49m\u001b[43m)\u001b[49m \u001b[38;5;66;03m# x=1, args=(2,3), y=(not supplied)\u001b[39;00m\n\u001b[0;32m      2\u001b[0m call_me(\u001b[38;5;241m1\u001b[39m,\u001b[38;5;241m2\u001b[39m,\u001b[38;5;241m3\u001b[39m,\u001b[38;5;241m4\u001b[39m,\u001b[38;5;241m5\u001b[39m) \u001b[38;5;66;03m# x=1, args(2,3,4,5), y=(not supplied)\u001b[39;00m\n",
      "\u001b[1;31mTypeError\u001b[0m: call_me() missing 1 required keyword-only argument: 'y'"
     ]
    }
   ],
   "source": [
    "call_me(1,2,3) # x=1, args=(2,3), y=(not supplied)\n",
    "call_me(1,2,3,4,5) # x=1, args(2,3,4,5), y=(not supplied)"
   ]
  },
  {
   "cell_type": "markdown",
   "id": "27ea6e78-daf3-4fb1-8849-bce606f7c5a9",
   "metadata": {},
   "source": [
    "### Note the error message: \"required keyword-only (named) argument y\"\n",
    "\n",
    "* any argument that comes after **\\*args** is no more a positional parameter\n",
    "    * They are named/keyword only parameter\n",
    "* must be supplied by the name"
   ]
  },
  {
   "cell_type": "code",
   "execution_count": 38,
   "id": "537c6257-6f98-4ef8-a712-ad4fe4241d0b",
   "metadata": {},
   "outputs": [
    {
     "name": "stdout",
     "output_type": "stream",
     "text": [
      "x=10\n",
      "args=(1, 2, 3, 4)\n",
      "y=30\n"
     ]
    }
   ],
   "source": [
    "call_me(10, 1,2,3,4, y=30)"
   ]
  },
  {
   "cell_type": "markdown",
   "id": "77987af2-3de4-41e5-8ed2-d2ed8df27b5f",
   "metadata": {},
   "source": [
    "### We can make it optional keyword-only argument by supplying a default"
   ]
  },
  {
   "cell_type": "code",
   "execution_count": 39,
   "id": "9fc59791-a850-4de3-9b74-c71ecf81fb2f",
   "metadata": {},
   "outputs": [],
   "source": [
    "def call_me(x,*args,y=10):\n",
    "    print(f'x={x}')\n",
    "    print(f'args={args}')\n",
    "    print(f'y={y}')"
   ]
  },
  {
   "cell_type": "code",
   "execution_count": 40,
   "id": "4a84ea2d-0991-4e87-a2e9-76d99394b9eb",
   "metadata": {},
   "outputs": [
    {
     "name": "stdout",
     "output_type": "stream",
     "text": [
      "x=1\n",
      "args=(2, 3, 4)\n",
      "y=10\n"
     ]
    }
   ],
   "source": [
    "call_me(1,2,3,4)"
   ]
  },
  {
   "cell_type": "code",
   "execution_count": 41,
   "id": "bc91f413-0816-4287-ad2a-929d73c0ab86",
   "metadata": {},
   "outputs": [
    {
     "name": "stdout",
     "output_type": "stream",
     "text": [
      "x=1\n",
      "args=(2, 3, 4)\n",
      "y=100\n"
     ]
    }
   ],
   "source": [
    "call_me(1,2,3,4, y=100)"
   ]
  },
  {
   "cell_type": "markdown",
   "id": "62daa652-cf96-47c9-acf0-157d6b7ee7c6",
   "metadata": {},
   "source": [
    "### Alternative Keyword Argument syntax\n",
    "\n",
    "* The above syntax didn't work in python#2\n",
    "* We have an alternative syntax with which we can pass keyword (named) parameters to a function\n",
    "\n",
    "## **\\*\\*kwargs**\n",
    "\n",
    "* now the parameter name **kwargs** is a conventional name just like **args**\n",
    "* here we prefix double star **\\*\\***\n",
    "* It will collect any given named/keyword parameters into a dictionary"
   ]
  },
  {
   "cell_type": "code",
   "execution_count": 42,
   "id": "25cc61f6-3dec-4212-93f4-328f011c3979",
   "metadata": {},
   "outputs": [],
   "source": [
    "def call_me(x,y,*args,**kwargs):\n",
    "    print(f'x={x}')\n",
    "    print(f'y={y})')\n",
    "    print(f'args={args}')\n",
    "    print(f'kwargs={kwargs}')"
   ]
  },
  {
   "cell_type": "code",
   "execution_count": 43,
   "id": "4e249d7b-cbb6-4b3b-80f8-94324771f751",
   "metadata": {},
   "outputs": [
    {
     "name": "stdout",
     "output_type": "stream",
     "text": [
      "x=1\n",
      "y=2)\n",
      "args=(3, 4)\n",
      "kwargs={}\n"
     ]
    }
   ],
   "source": [
    "call_me(1,2,3,4)"
   ]
  },
  {
   "cell_type": "code",
   "execution_count": 44,
   "id": "ecd44acd-f55c-4daf-aab0-311f8bf509dc",
   "metadata": {},
   "outputs": [
    {
     "name": "stdout",
     "output_type": "stream",
     "text": [
      "x=1\n",
      "y=2)\n",
      "args=(3, 4)\n",
      "kwargs={'sep': '\\t', 'end': '\\n', 'color': 'blue'}\n"
     ]
    }
   ],
   "source": [
    "call_me(1,2,3,4, sep='\\t', end='\\n', color='blue')"
   ]
  },
  {
   "cell_type": "code",
   "execution_count": 45,
   "id": "ce46f06f-00ed-4ad5-a8d3-f85652a78b54",
   "metadata": {},
   "outputs": [],
   "source": [
    "def print_info( name, **kwargs):\n",
    "    print(f'name={name}')\n",
    "    for key,value in kwargs.items():\n",
    "        print(f'{key}={value}')"
   ]
  },
  {
   "cell_type": "code",
   "execution_count": 46,
   "id": "6e30bd2d-fd2b-4dbb-9f52-2fc11c998caf",
   "metadata": {},
   "outputs": [
    {
     "name": "stdout",
     "output_type": "stream",
     "text": [
      "name=Vivek Dutta Mishra\n"
     ]
    }
   ],
   "source": [
    "print_info('Vivek Dutta Mishra')"
   ]
  },
  {
   "cell_type": "code",
   "execution_count": 47,
   "id": "3c141122-7a9b-42d8-9ccd-fae38b23987a",
   "metadata": {},
   "outputs": [
    {
     "name": "stdout",
     "output_type": "stream",
     "text": [
      "name=Vivek Dutta Mishra\n",
      "email=vivek@thelostepic.com\n",
      "instagram=@vivekduttamishra\n"
     ]
    }
   ],
   "source": [
    "print_info('Vivek Dutta Mishra', email='vivek@thelostepic.com', instagram='@vivekduttamishra')"
   ]
  },
  {
   "cell_type": "markdown",
   "id": "60d3b51c-3052-49a9-83cf-aee102c4457d",
   "metadata": {},
   "source": [
    "### What is the difference between positional keyword parameter (after *args) and **kwargs\n",
    "\n",
    "1. \\*\\*kwargs works with all python versions\n",
    "    * named parameters works with python 3+\n",
    "2. kwargs syntax can be used without args syntax\n",
    "3. kwargs can take even unknown keys\n",
    "   * positional parameters names are fixed\n",
    "  \n",
    "4. kwargs values are traditionally optional (as no key is fixed)\n",
    "   * positional parameters may be required or optional but not unknown."
   ]
  },
  {
   "cell_type": "markdown",
   "id": "70f0e163-b453-4fbb-a307-94143ec30001",
   "metadata": {},
   "source": [
    "### Assignment 4.2\n",
    "\n",
    "* rewrite histogram function to add following customizations\n",
    "\n",
    "##### 1. we can change the design of the bar which defaults to '==='\n",
    "\n",
    "<pre>\n",
    "    2 | +++++ +++++ +++++ +++++ 4\n",
    "    9 | +++++ 1\n",
    "    11| +++++ +++++ +++++ +++++ +++++ +++++ 6\n",
    "    7 | +++++ +++++ +++++ 3\n",
    "</pre>\n",
    "\n",
    "#### 2. we may want to hide the exact frequency value (default show)\n",
    "\n",
    "<pre>\n",
    "    2 | +++++ +++++ +++++ +++++ \n",
    "    9 | +++++ \n",
    "    11| +++++ +++++ +++++ +++++ +++++ +++++ \n",
    "    7 | +++++ +++++ +++++ \n",
    "</pre>\n",
    "\n",
    "\n",
    "#### 2. we may want to align the  frequency value (default false)\n",
    "\n",
    "* when true\n",
    "\n",
    "<pre>\n",
    "    2 | +++++ +++++ +++++ +++++              \n",
    "    9 | +++++ \n",
    "    11| +++++ +++++ +++++ +++++ +++++ +++++ \n",
    "    7 | +++++ +++++ +++++ \n",
    "</pre>\n"
   ]
  }
 ],
 "metadata": {
  "kernelspec": {
   "display_name": "Python 3 (ipykernel)",
   "language": "python",
   "name": "python3"
  },
  "language_info": {
   "codemirror_mode": {
    "name": "ipython",
    "version": 3
   },
   "file_extension": ".py",
   "mimetype": "text/x-python",
   "name": "python",
   "nbconvert_exporter": "python",
   "pygments_lexer": "ipython3",
   "version": "3.11.5"
  }
 },
 "nbformat": 4,
 "nbformat_minor": 5
}
