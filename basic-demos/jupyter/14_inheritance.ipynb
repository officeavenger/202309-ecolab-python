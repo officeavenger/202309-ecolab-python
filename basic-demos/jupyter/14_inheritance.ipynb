{
 "cells": [
  {
   "attachments": {},
   "cell_type": "markdown",
   "metadata": {},
   "source": [
    "# Inhertiance\n",
    "\n",
    "* Inheritance allows us to create a classificiation-subclassification class hierarchy\n",
    "* It represents a broader \"**is a type of** relationship\n",
    "    * We can say \"**Tiger is a type of Animal**\n",
    "\n",
    "* Any behavior of the **inherited class** also becomes the behavior of the **inheriting class**\n",
    "* There are different terms used to describe the two classes. \n",
    "    1. class being inherited\n",
    "        * base class\n",
    "        * **super class** <-- PREFERED\n",
    "            * Represents the role clearly\n",
    "        * Any class can be super class\n",
    "            * There is no specific syntax to denote the super class.\n",
    "\n",
    "    2. class that inherits other class\n",
    "        * derived class\n",
    "        * **subclass** <—- PREFERRED\n",
    "            * Represents sub classfication\n",
    "\n",
    "\n",
    "## Simplest way to inherit\n",
    "\n",
    "* Note, the syntax is quite different from C++ style syntax\n",
    "* It looks like as if we are passing super class as an argument to sub class\n"
   ]
  },
  {
   "cell_type": "code",
   "execution_count": 1,
   "metadata": {},
   "outputs": [],
   "source": [
    "#This class will act as super class\n",
    "class Animal:\n",
    "    pass\n",
    "\n",
    "#This class is a sub class of Animal and may be super class to some other class\n",
    "class Mammal(Animal):\n",
    "    pass\n",
    "\n",
    "class Tiger(Mammal):\n",
    "    pass\n",
    "\n",
    "class Horse(Mammal):\n",
    "    pass\n",
    "\n",
    "class Reptile(Animal):\n",
    "    pass\n",
    "\n",
    "class Snake(Reptile):\n",
    "    pass\n",
    "\n",
    "class Crocodile(Reptile):\n",
    "    pass\n"
   ]
  },
  {
   "attachments": {},
   "cell_type": "markdown",
   "metadata": {},
   "source": [
    "### What is the signficance of this hierarhy\n",
    "\n",
    "* Here we have indicated\n",
    "    * Mammal is a subclass of Animal\n",
    "    * Tiger is a subclass of Mammal\n",
    "    * Tiger implicitly becomes the subclass of Animal\n",
    "\n"
   ]
  },
  {
   "cell_type": "code",
   "execution_count": 7,
   "metadata": {},
   "outputs": [
    {
     "data": {
      "text/plain": [
       "True"
      ]
     },
     "execution_count": 7,
     "metadata": {},
     "output_type": "execute_result"
    }
   ],
   "source": [
    "issubclass(Tiger,Mammal)"
   ]
  },
  {
   "cell_type": "code",
   "execution_count": 8,
   "metadata": {},
   "outputs": [],
   "source": [
    "def print_subclass(x,y):\n",
    "    relation = \"is subclass\" if issubclass(x,y) else \"is not subclass\"\n",
    "\n",
    "    print(f'{x.__name__} {relation} {y.__name__}')"
   ]
  },
  {
   "cell_type": "code",
   "execution_count": 12,
   "metadata": {},
   "outputs": [
    {
     "name": "stdout",
     "output_type": "stream",
     "text": [
      "Tiger is subclass Mammal\n",
      "Tiger is subclass Animal\n",
      "Snake is subclass Animal\n",
      "Snake is not subclass Mammal\n",
      "Snake is not subclass Tiger\n",
      "Reptile is not subclass Mammal\n",
      "Tiger is not subclass str\n"
     ]
    }
   ],
   "source": [
    "print_subclass(Tiger,Mammal)\n",
    "print_subclass(Tiger,Animal)\n",
    "print_subclass(Snake,Animal)\n",
    "print_subclass(Snake,Mammal)\n",
    "print_subclass(Snake,Tiger)\n",
    "print_subclass(Reptile,Mammal)\n",
    "print_subclass(Tiger,str)"
   ]
  },
  {
   "attachments": {},
   "cell_type": "markdown",
   "metadata": {},
   "source": [
    "### The same relationship extends even to objects\n",
    "\n",
    "* A tiger object \n",
    "    * is instance of Tiger\n",
    "    * is instance of Mammal\n",
    "    * is instance of Animal"
   ]
  },
  {
   "cell_type": "code",
   "execution_count": 13,
   "metadata": {},
   "outputs": [
    {
     "name": "stdout",
     "output_type": "stream",
     "text": [
      "True\n",
      "True\n",
      "True\n",
      "False\n",
      "False\n"
     ]
    }
   ],
   "source": [
    "t=Tiger()\n",
    "print(isinstance(t,Tiger))  #True\n",
    "print(isinstance(t,Mammal)) #True\n",
    "print(isinstance(t,Animal)) #True\n",
    "\n",
    "print(isinstance(t,Crocodile)) #False\n",
    "print(isinstance(t,list)) #False\n"
   ]
  },
  {
   "attachments": {},
   "cell_type": "markdown",
   "metadata": {},
   "source": [
    "### difference between **type()** and **isinstance**\n",
    "\n",
    "* **type()** looks for exact type\n",
    "    * type(tiger) == Tiger\n",
    "    * type(tiger) != Mammal\n",
    "\n",
    "* **isinstance()** works over class hierarcy\n",
    "    * isinstance(tiger,Tiger) #True\n",
    "    * isinstance(tiger,Mammal) #True"
   ]
  },
  {
   "cell_type": "code",
   "execution_count": 14,
   "metadata": {},
   "outputs": [
    {
     "name": "stdout",
     "output_type": "stream",
     "text": [
      "True\n",
      "False\n",
      "\n",
      "True\n",
      "True\n"
     ]
    }
   ],
   "source": [
    "t=Tiger()\n",
    "print(type(t)==Tiger) #True\n",
    "print(type(t)==Mammal) #False\n",
    "\n",
    "print()\n",
    "\n",
    "print(isinstance(t,Tiger)) #True\n",
    "print(isinstance(t,Mammal)) #True"
   ]
  },
  {
   "attachments": {},
   "cell_type": "markdown",
   "metadata": {},
   "source": [
    "### What does a subclass inherit\n",
    "\n",
    "* A **subclass** inherits all the **behaviors** of the superclass\n",
    "\n",
    "### What does subclass doesn't inherit\n",
    "\n",
    "* A **subclass** doesn't inherits the **fields/properties/state** of the superclass\n",
    "* the **fields** are not inherited because they belong to **object** and **not** to **classes**\n",
    "\n",
    "### How do we get the fields of the base class?\n",
    "\n",
    "* fields are generally attached to the object using \\_\\_init\\_\\_() method\n",
    "* And since \\_\\_init\\_\\_() is inherited, it can attach same fields to subclass objects also\n",
    "* indirectly we can also get the fields for super class in subclass\n",
    "    * but remember we didn't inherit fields\n",
    "    * we will get them because we inherited \\_\\_init\\_\\_()\n",
    "\n",
    "\n",
    "\n",
    "### A superclass candidate with fields (attached via \\_\\_init\\_\\_()) and behavior"
   ]
  },
  {
   "cell_type": "code",
   "execution_count": 39,
   "metadata": {},
   "outputs": [],
   "source": [
    "class Employee:\n",
    "    def __init__(self,id,name,salary):\n",
    "        self._id=id\n",
    "        self._salary=salary\n",
    "        self._name=name\n",
    "\n",
    "    def work(self):\n",
    "        print(f'{self._name} works as employee#{self._id} for a salary of {self._salary}')\n",
    "\n",
    "    def get_id(self): return self._id\n",
    "\n",
    "    def get_salary(self): return self._salary\n",
    "\n",
    "    def get_name(self):return self._name\n",
    "\n",
    "    def info(self): \n",
    "        return f'Employee\\tId={self._id}\\tName={self._name}\\tSalary={self._salary}'"
   ]
  },
  {
   "cell_type": "code",
   "execution_count": 42,
   "metadata": {},
   "outputs": [],
   "source": [
    "def test_employee(emp):\n",
    "    #if type(emp)==Employee:\n",
    "    if isinstance(emp,Employee):\n",
    "        print(emp.info())\n",
    "        print('id',emp.get_id())\n",
    "        print('name',emp.get_name())\n",
    "        print('salary',emp.get_salary())\n",
    "        \n",
    "        emp.work()\n",
    "    else:\n",
    "        print(f'{type(emp).__name__} is not an employee')\n",
    "    print()"
   ]
  },
  {
   "cell_type": "code",
   "execution_count": 43,
   "metadata": {},
   "outputs": [
    {
     "name": "stdout",
     "output_type": "stream",
     "text": [
      "Employee\tId=1\tName=Sanjay\tSalary=20000\n",
      "id 1\n",
      "name Sanjay\n",
      "salary 20000\n",
      "Sanjay works as employee#1 for a salary of 20000\n",
      "\n"
     ]
    }
   ],
   "source": [
    "emp=Employee(1,'Sanjay',20000)\n",
    "test_employee(emp)"
   ]
  },
  {
   "attachments": {},
   "cell_type": "markdown",
   "metadata": {},
   "source": [
    "### An Employee subclass by default gets all behaviors of Employee"
   ]
  },
  {
   "cell_type": "code",
   "execution_count": 44,
   "metadata": {},
   "outputs": [],
   "source": [
    "class Manager(Employee):\n",
    "    pass"
   ]
  },
  {
   "cell_type": "code",
   "execution_count": 45,
   "metadata": {},
   "outputs": [
    {
     "name": "stdout",
     "output_type": "stream",
     "text": [
      "Employee\tId=2\tName=Prabhat\tSalary=40000\n",
      "id 2\n",
      "name Prabhat\n",
      "salary 40000\n",
      "Prabhat works as employee#2 for a salary of 40000\n",
      "\n"
     ]
    }
   ],
   "source": [
    "m=Manager(2,\"Prabhat\",40000)\n",
    "\n",
    "test_employee(m)"
   ]
  },
  {
   "cell_type": "code",
   "execution_count": 46,
   "metadata": {},
   "outputs": [
    {
     "name": "stdout",
     "output_type": "stream",
     "text": [
      "Tiger is not an employee\n",
      "\n"
     ]
    }
   ],
   "source": [
    "test_employee(t)"
   ]
  },
  {
   "attachments": {},
   "cell_type": "markdown",
   "metadata": {},
   "source": [
    "### A subclass can add additional behavior not defined in super classes\n",
    "\n",
    "* subclass will have access to both superclass and subclass behaviors"
   ]
  },
  {
   "cell_type": "code",
   "execution_count": 47,
   "metadata": {},
   "outputs": [],
   "source": [
    "class Manager(Employee):\n",
    "    def manage_team(self):\n",
    "        print(f'{self._name} manages a team')\n",
    "\n",
    "        "
   ]
  },
  {
   "cell_type": "code",
   "execution_count": 48,
   "metadata": {},
   "outputs": [
    {
     "name": "stdout",
     "output_type": "stream",
     "text": [
      "Employee\tId=2\tName=Prabhat\tSalary=50000\n",
      "id 2\n",
      "name Prabhat\n",
      "salary 50000\n",
      "Prabhat works as employee#2 for a salary of 50000\n",
      "\n",
      "Prabhat manages a team\n"
     ]
    }
   ],
   "source": [
    "m=Manager(2, 'Prabhat',50000)\n",
    "\n",
    "test_employee(m) # tests all beahviors inherited from Employee\n",
    "\n",
    "#now we can test the new behavior\n",
    "\n",
    "m.manage_team()"
   ]
  },
  {
   "attachments": {},
   "cell_type": "markdown",
   "metadata": {},
   "source": [
    "### a subclass can also modify the existing behavior\n",
    "\n",
    "* To modify the existing behavior is easy.\n",
    "* You can simply define another function with same name and it will overwrite/**replace** the inherited one"
   ]
  },
  {
   "cell_type": "code",
   "execution_count": 64,
   "metadata": {},
   "outputs": [],
   "source": [
    "class Manager(Employee):\n",
    "    def manage_team(self):\n",
    "        print(f'{self._name} manages a team')\n",
    "    \n",
    "    def info(self):\n",
    "        return \"Manager\"\n",
    "    "
   ]
  },
  {
   "cell_type": "code",
   "execution_count": 66,
   "metadata": {},
   "outputs": [
    {
     "name": "stdout",
     "output_type": "stream",
     "text": [
      "Manager\n",
      "id 2\n",
      "name Prabhat\n",
      "salary 50000\n",
      "Prabhat works as employee#2 for a salary of 50000\n",
      "\n",
      "Employee\tId=3\tName=Amit\tSalary=20000\n",
      "id 3\n",
      "name Amit\n",
      "salary 20000\n",
      "Amit works as employee#3 for a salary of 20000\n",
      "\n"
     ]
    }
   ],
   "source": [
    "m=Manager(2,'Prabhat',50000 )\n",
    "\n",
    "test_employee(m)\n",
    "\n",
    "e=Employee(3, 'Amit',20000)\n",
    "test_employee(e)"
   ]
  },
  {
   "attachments": {},
   "cell_type": "markdown",
   "metadata": {},
   "source": [
    "### Partial override/modification\n",
    "\n",
    "* sometimes we don't want to completely replace a behavior\n",
    "    * just a slight modification\n",
    "* Use Case\n",
    "    * In info(): \n",
    "        * We may want to change the word **Employee** with the word **Manager** \n",
    "        * We may still want to display the remainging info like Id,Name,Salary\n",
    "            * There is no point in rewriting same logic\n",
    "\n",
    "#### Solution \n",
    "\n",
    "1. Replace the method completely with new method in subclass\n",
    "2. **Call the super class method to do the common (reusable) job**\n",
    "3. Make necessary modification to the result\n",
    "4. return result if needed\n",
    "\n",
    "#### What will NOT work\n",
    "\n",
    "```python\n",
    "class Manager(Employee):\n",
    "    def info(self):  #step 1\n",
    "        str= self.info() # Step 2\n",
    "        str=str.replace('Employee', 'Manager') #step 3\n",
    "        return str\n",
    "\n",
    "```\n",
    "* Here in step#2, **self.info()** calls the newly replaced function (itself)\n",
    "    * it becomes recursive\n",
    "        * endless loop\n",
    "        "
   ]
  },
  {
   "cell_type": "code",
   "execution_count": 67,
   "metadata": {},
   "outputs": [],
   "source": [
    "class Manager(Employee):\n",
    "    def info(self):  #step 1\n",
    "        str= self.info() # Step 2\n",
    "        str=str.replace('Employee', 'Manager') #step 3\n",
    "        return str\n"
   ]
  },
  {
   "cell_type": "code",
   "execution_count": 52,
   "metadata": {},
   "outputs": [
    {
     "name": "stderr",
     "output_type": "stream",
     "text": [
      "\n",
      "KeyboardInterrupt\n",
      "\n"
     ]
    }
   ],
   "source": [
    "m=Manager(2,'Prabhat',50000)\n",
    "print(m.info())"
   ]
  },
  {
   "attachments": {},
   "cell_type": "markdown",
   "metadata": {},
   "source": [
    "#### Solution #1 Call the Employee method explicitly using starndard semantic"
   ]
  },
  {
   "cell_type": "code",
   "execution_count": 68,
   "metadata": {},
   "outputs": [],
   "source": [
    "class Manager(Employee):\n",
    "    def info(self): #step 1. replaces inherited method\n",
    "        str = Employee.info(self) #step 2. Employee.info will still work!\n",
    "        str=str.replace('Employee','Manager')\n",
    "        return str\n",
    "\n"
   ]
  },
  {
   "cell_type": "code",
   "execution_count": 69,
   "metadata": {},
   "outputs": [
    {
     "name": "stdout",
     "output_type": "stream",
     "text": [
      "Manager\tId=2\tName=Prabhat\tSalary=50000\n"
     ]
    }
   ],
   "source": [
    "m=Manager(2,'Prabhat', 50000)\n",
    "\n",
    "print(m.info())"
   ]
  },
  {
   "attachments": {},
   "cell_type": "markdown",
   "metadata": {},
   "source": [
    "### Solution #2 super() method\n",
    "\n",
    "* python supports **super()** method to represent the super class \n",
    "* we can call this method instead of step#2 in Solution#1\n",
    "* There are two ways to call super()\n",
    "\n",
    "#### Solution 2.1  (Legacy Syntax from Python 2)\n",
    "\n",
    "```python\n",
    "class Manager(Employee):\n",
    "    def info(self):\n",
    "        str = super(Manager,self).info()\n",
    "```\n",
    "\n",
    "* Note\n",
    "    1. first parameter to super is the name of current class not super class\n",
    "        * it is like super of Manager\n",
    "        * **This is kind of redundant info** we are already in Manager\n",
    "\n",
    "    2. second parameter is **self** object\n",
    "        * **this is also a redundant info**\n",
    "\n",
    "    3. we don't pass **self** to info function itself that needs it.\n",
    "        * it will be passed internally"
   ]
  },
  {
   "cell_type": "code",
   "execution_count": 70,
   "metadata": {},
   "outputs": [],
   "source": [
    "class Manager(Employee):\n",
    "    def info(self): #step 1. replaces inherited method\n",
    "        str = super(Manager,self).info() #step 2. Employee.info will still work!\n",
    "        str=str.replace('Employee','Manager')\n",
    "        return str"
   ]
  },
  {
   "cell_type": "code",
   "execution_count": 71,
   "metadata": {},
   "outputs": [
    {
     "name": "stdout",
     "output_type": "stream",
     "text": [
      "Manager\tId=2\tName=Prabhat\tSalary=50000\n"
     ]
    }
   ],
   "source": [
    "m=Manager(2,'Prabhat', 50000)\n",
    "\n",
    "print(m.info())"
   ]
  },
  {
   "attachments": {},
   "cell_type": "markdown",
   "metadata": {},
   "source": [
    "#### Solution #2.2  simplified super() with python 3\n",
    "\n",
    "* Since both parameters to super() were redundant can be detected, they are now optional in python 3"
   ]
  },
  {
   "cell_type": "code",
   "execution_count": 72,
   "metadata": {},
   "outputs": [],
   "source": [
    "class Manager(Employee):\n",
    "    def info(self): #step 1. replaces inherited method\n",
    "        str = super().info() #step 2. Employee.info will still work!\n",
    "        str=str.replace('Employee','Manager')\n",
    "        return str"
   ]
  },
  {
   "cell_type": "code",
   "execution_count": 73,
   "metadata": {},
   "outputs": [
    {
     "name": "stdout",
     "output_type": "stream",
     "text": [
      "Manager\tId=2\tName=Prabhat\tSalary=50000\n"
     ]
    }
   ],
   "source": [
    "m=Manager(2,'Prabhat', 50000)\n",
    "print(m.info())"
   ]
  },
  {
   "attachments": {},
   "cell_type": "markdown",
   "metadata": {},
   "source": [
    "### Adding new behaviors to sub class\n",
    "\n",
    "* Use Case:  \n",
    "    * Manager has a team that works along with him\n",
    "        * self._team=[]\n",
    "    * We can add a member to the team\n",
    "        * add_to_team()\n",
    "    * When a manage works\n",
    "        * manager works as in employee in individual capacity\n",
    "        * the team works as a part of manager's job\n",
    "\n",
    "\n",
    "* We can define the \\_\\_init\\_\\_ method to initalize the self._team\n"
   ]
  },
  {
   "cell_type": "code",
   "execution_count": 74,
   "metadata": {},
   "outputs": [],
   "source": [
    "class Manager(Employee):\n",
    "    def __init__(self, id,name,salary):\n",
    "        self._team=[]\n",
    "\n",
    "    def add_to_team(self, other):\n",
    "        if isinstance(other, Employee):\n",
    "            self._team.append(other)\n",
    "\n",
    "    def work(self):\n",
    "        print(f'Manager works with team size {len(self._team)}')\n",
    "        for member in self._team:\n",
    "            member.work()"
   ]
  },
  {
   "cell_type": "code",
   "execution_count": 75,
   "metadata": {},
   "outputs": [
    {
     "name": "stdout",
     "output_type": "stream",
     "text": [
      "Manager works with team size 2\n",
      "Sanjay works as employee#2 for a salary of 10000\n",
      "Amit works as employee#3 for a salary of 10000\n"
     ]
    }
   ],
   "source": [
    "m=Manager(1, 'Prabhat', 20000)\n",
    "m.add_to_team(Employee(2,'Sanjay',10000))\n",
    "m.add_to_team(Employee(3,'Amit',10000))\n",
    "m.work()"
   ]
  },
  {
   "cell_type": "code",
   "execution_count": 76,
   "metadata": {},
   "outputs": [
    {
     "ename": "AttributeError",
     "evalue": "'Manager' object has no attribute '_id'",
     "output_type": "error",
     "traceback": [
      "\u001b[0;31m---------------------------------------------------------------------------\u001b[0m",
      "\u001b[0;31mAttributeError\u001b[0m                            Traceback (most recent call last)",
      "Cell \u001b[0;32mIn[76], line 1\u001b[0m\n\u001b[0;32m----> 1\u001b[0m \u001b[39mprint\u001b[39m(m\u001b[39m.\u001b[39;49minfo())\n",
      "Cell \u001b[0;32mIn[39], line 17\u001b[0m, in \u001b[0;36mEmployee.info\u001b[0;34m(self)\u001b[0m\n\u001b[1;32m     16\u001b[0m \u001b[39mdef\u001b[39;00m \u001b[39minfo\u001b[39m(\u001b[39mself\u001b[39m): \n\u001b[0;32m---> 17\u001b[0m     \u001b[39mreturn\u001b[39;00m \u001b[39mf\u001b[39m\u001b[39m'\u001b[39m\u001b[39mEmployee\u001b[39m\u001b[39m\\t\u001b[39;00m\u001b[39mId=\u001b[39m\u001b[39m{\u001b[39;00m\u001b[39mself\u001b[39m\u001b[39m.\u001b[39m_id\u001b[39m}\u001b[39;00m\u001b[39m\\t\u001b[39;00m\u001b[39mName=\u001b[39m\u001b[39m{\u001b[39;00m\u001b[39mself\u001b[39m\u001b[39m.\u001b[39m_name\u001b[39m}\u001b[39;00m\u001b[39m\\t\u001b[39;00m\u001b[39mSalary=\u001b[39m\u001b[39m{\u001b[39;00m\u001b[39mself\u001b[39m\u001b[39m.\u001b[39m_salary\u001b[39m}\u001b[39;00m\u001b[39m'\u001b[39m\n",
      "\u001b[0;31mAttributeError\u001b[0m: 'Manager' object has no attribute '_id'"
     ]
    }
   ],
   "source": [
    "print(m.info())"
   ]
  },
  {
   "cell_type": "code",
   "execution_count": 77,
   "metadata": {},
   "outputs": [
    {
     "ename": "AttributeError",
     "evalue": "'Manager' object has no attribute '_name'",
     "output_type": "error",
     "traceback": [
      "\u001b[0;31m---------------------------------------------------------------------------\u001b[0m",
      "\u001b[0;31mAttributeError\u001b[0m                            Traceback (most recent call last)",
      "Cell \u001b[0;32mIn[77], line 1\u001b[0m\n\u001b[0;32m----> 1\u001b[0m m\u001b[39m.\u001b[39;49m_name\n",
      "\u001b[0;31mAttributeError\u001b[0m: 'Manager' object has no attribute '_name'"
     ]
    }
   ],
   "source": [
    "m._name"
   ]
  },
  {
   "attachments": {},
   "cell_type": "markdown",
   "metadata": {},
   "source": [
    "### Why Manager doesn't have _name or _id?\n",
    "\n",
    "* A subclass doesn't inherit fields\n",
    "    * class doesn't have fields\n",
    "* We get field because we inherit \\_\\_init\\_\\_\n",
    "\n",
    "* In our current code we have replaced the \\_\\_init\\_\\_ with our version\n",
    "    * now Employee.\\_\\_init\\_\\_ is not working for Manager.\n",
    "\n",
    "* if we need those fields back, we have to call Employee.\\_\\_init\\_\\_ explicitly\n",
    "\n",
    "\n",
    "#### Language Alert!\n",
    "\n",
    "* in C++ style language, a sub class constructor automatically calls super class constructor \n",
    "    * this is NOT optional\n",
    "* in python \\_\\_init\\_\\_ is NOT really constructor but yet another method\n",
    "* we must call it explicitly"
   ]
  },
  {
   "cell_type": "code",
   "execution_count": 81,
   "metadata": {},
   "outputs": [],
   "source": [
    "class Manager(Employee):\n",
    "    def __init__(self, id,name,salary):\n",
    "        super().__init__(id,name,salary) # this will initialize super class related fields\n",
    "        self._team=[]\n",
    "\n",
    "    def add_to_team(self, other):\n",
    "\n",
    "        if isinstance(other, Employee):\n",
    "            self._team.append(other)\n",
    "\n",
    "    def work(self):\n",
    "        #print(f'Manager works with team size {len(self._team)}')\n",
    "        super().work()\n",
    "        for member in self._team:\n",
    "            member.work()\n",
    "        print()"
   ]
  },
  {
   "cell_type": "code",
   "execution_count": 82,
   "metadata": {},
   "outputs": [
    {
     "name": "stdout",
     "output_type": "stream",
     "text": [
      "Prabhat works as employee#1 for a salary of 100000\n",
      "Sanjay works as employee#2 for a salary of 80000\n",
      "Amit works as employee#3 for a salary of 25000\n",
      "Ajit works as employee#4 for a salary of 50000\n",
      "\n",
      "Reena works as employee#5 for a salary of 50000\n",
      "\n"
     ]
    }
   ],
   "source": [
    "m1=Manager(1,'Prabhat', 100000 )\n",
    "\n",
    "m2=Manager(2,\"Sanjay\",80000)\n",
    "m2.add_to_team(Employee(3,\"Amit\",25000))\n",
    "m2.add_to_team(Employee(4,\"Ajit\",50000))\n",
    "\n",
    "m1.add_to_team(m2)\n",
    "m1.add_to_team(Employee(5,'Reena',50000))\n",
    "\n",
    "m1.work()"
   ]
  },
  {
   "attachments": {},
   "cell_type": "markdown",
   "metadata": {},
   "source": [
    "## Object Class\n",
    "\n",
    "* Python has a special predefined class called **object**\n",
    "* It is the supermost class of python hierarchy\n",
    "    * It is similar to Object class of java/c#\n",
    "\n",
    "* Any class that doesn't inherit, implicitly inherits object\n",
    "\n",
    "* issubclass(X, object) is always true for all values of X\n",
    "* isinstance( x, object) is always true for all values of X"
   ]
  },
  {
   "cell_type": "code",
   "execution_count": 87,
   "metadata": {},
   "outputs": [
    {
     "name": "stdout",
     "output_type": "stream",
     "text": [
      "Tiger is subclass object\n",
      "list is subclass object\n",
      "int is subclass object\n"
     ]
    }
   ],
   "source": [
    "print_subclass(Tiger, object)\n",
    "print_subclass(list,object)\n",
    "print_subclass(int, object)"
   ]
  },
  {
   "cell_type": "code",
   "execution_count": 88,
   "metadata": {},
   "outputs": [
    {
     "name": "stdout",
     "output_type": "stream",
     "text": [
      "True\n",
      "True\n",
      "True\n",
      "True\n"
     ]
    }
   ],
   "source": [
    "print(isinstance(Tiger(), object))\n",
    "print(isinstance(m,object))\n",
    "print(isinstance(20, object))\n",
    "print(isinstance([1,2,3,4,5],object))"
   ]
  },
  {
   "attachments": {},
   "cell_type": "markdown",
   "metadata": {},
   "source": [
    "## Multiple Inheritance\n",
    "\n",
    "* A sub class can inherit more than one super class\n",
    "    * A class may belong to mulitple hierarchy\n",
    "    * Example\n",
    "        * A Tiger is\n",
    "            * Mammal\n",
    "            * Carnivourous\n",
    "            * Wild\n",
    "\n",
    "\n",
    "### Simple Syntax"
   ]
  },
  {
   "cell_type": "code",
   "execution_count": 83,
   "metadata": {},
   "outputs": [],
   "source": [
    "class Employee:\n",
    "    pass\n",
    "\n",
    "class TechnicalPerson:\n",
    "    pass\n",
    "\n",
    "class Engineer(Employee, TechnicalPerson):\n",
    "    pass"
   ]
  },
  {
   "cell_type": "code",
   "execution_count": 84,
   "metadata": {},
   "outputs": [
    {
     "name": "stdout",
     "output_type": "stream",
     "text": [
      "Engineer is subclass Employee\n",
      "Engineer is subclass TechnicalPerson\n"
     ]
    }
   ],
   "source": [
    "print_subclass(Engineer,Employee) #True\n",
    "print_subclass(Engineer,TechnicalPerson) #True"
   ]
  },
  {
   "cell_type": "code",
   "execution_count": 85,
   "metadata": {},
   "outputs": [
    {
     "name": "stdout",
     "output_type": "stream",
     "text": [
      "True\n",
      "True\n",
      "True\n"
     ]
    }
   ],
   "source": [
    "e=Engineer()\n",
    "print(isinstance(e,Engineer))\n",
    "print(isinstance(e,Employee))\n",
    "print(isinstance(e,TechnicalPerson))\n"
   ]
  },
  {
   "attachments": {},
   "cell_type": "markdown",
   "metadata": {},
   "source": [
    "### Engineer gets all behaviors from both super classes\n",
    "\n",
    "* The rule of override is same as in case of single inheritance\n",
    "\n",
    "### \\_\\_init\\_\\_ in multiple inheritance\n",
    "\n",
    "* How will the object be initialized?"
   ]
  },
  {
   "cell_type": "code",
   "execution_count": 89,
   "metadata": {},
   "outputs": [],
   "source": [
    "class Employee(object): # can inherit object explicitly\n",
    "    def __init__(self):\n",
    "        print('Employee.__init__ called')\n",
    "\n",
    "class TechnicalPerson: # also inheris object implicitly\n",
    "    def __init__(self):\n",
    "        print('Employee.__init__ called')\n",
    "\n",
    "class Engineer(Employee,TechnicalPerson): \n",
    "    def __init__(self):\n",
    "        print('Engineer.__init__ called')"
   ]
  },
  {
   "cell_type": "code",
   "execution_count": 90,
   "metadata": {},
   "outputs": [
    {
     "name": "stdout",
     "output_type": "stream",
     "text": [
      "Engineer.__init__ called\n"
     ]
    }
   ],
   "source": [
    "e=Engineer()"
   ]
  },
  {
   "attachments": {},
   "cell_type": "markdown",
   "metadata": {},
   "source": [
    "### By default Engineer.\\_\\_init__ doesn't call other \\_\\_init\\_\\_\n",
    "\n",
    "* if we want the sub class to call the super class constructors we need to invoke using super()\n",
    "\n",
    "#### which super() constructor will be called?"
   ]
  },
  {
   "cell_type": "code",
   "execution_count": 94,
   "metadata": {},
   "outputs": [],
   "source": [
    "class Employee(object): # can inherit object explicitly\n",
    "    def __init__(self):\n",
    "        print('Employee.__init__ called')\n",
    "\n",
    "class TechnicalPerson: # also inheris object implicitly\n",
    "    def __init__(self):\n",
    "        print('TechnicalPerson.__init__ called')\n",
    "\n",
    "class Engineer(Employee,TechnicalPerson): \n",
    "    def __init__(self):\n",
    "        print('Engineer.__init__ called')\n",
    "        super().__init__()\n",
    "        print('Engineer.__init__ executed')"
   ]
  },
  {
   "cell_type": "code",
   "execution_count": 95,
   "metadata": {},
   "outputs": [
    {
     "name": "stdout",
     "output_type": "stream",
     "text": [
      "Engineer.__init__ called\n",
      "Employee.__init__ called\n",
      "Engineer.__init__ executed\n"
     ]
    }
   ],
   "source": [
    "e=Engineer()"
   ]
  },
  {
   "attachments": {},
   "cell_type": "markdown",
   "metadata": {},
   "source": [
    "### Python's Method Resolution Order (MRO)\n",
    "\n",
    "* when we call **super() or self** python follows a method resolution order to locate the function we want to use\n",
    "* it depends on the order in which classes are inherited\n",
    "\n",
    "* In our case\n",
    "    * Engineer\n",
    "        1. Employee\n",
    "        2. TechicalPerson\n",
    "#### when we call self.something()\n",
    "\n",
    "1. is there a something() defined in current class?\n",
    "    * if yes, call it.\n",
    "2. else is there a something() defined in the first listed super class\n",
    "    * if yes, call it\n",
    "\n",
    "3. else if there a someting() defined in the second listed super class\n",
    "    * if yes call it\n",
    "\n",
    "4. if not found, raise error\n",
    "\n",
    "\n",
    "## How do we call the init of second super class\n",
    "\n",
    "* we need to call the super() from the first subclass to call the super of second subclass"
   ]
  },
  {
   "cell_type": "code",
   "execution_count": 96,
   "metadata": {},
   "outputs": [],
   "source": [
    "class Employee(object): # can inherit object explicitly\n",
    "    def __init__(self):\n",
    "        print('Employee.__init__ called')\n",
    "        super().__init__()\n",
    "        print('Employee.__init__executed')\n",
    "\n",
    "class TechnicalPerson: # also inheris object implicitly\n",
    "    def __init__(self):\n",
    "        print('Technical.__init__ called')\n",
    "        super().__init__()\n",
    "        print('Technical.__init__ executed')\n",
    "\n",
    "class Engineer(Employee,TechnicalPerson): \n",
    "    def __init__(self):\n",
    "        print('Engineer.__init__ called')\n",
    "        super().__init__()\n",
    "        print('Engineer.__init__ executed')"
   ]
  },
  {
   "cell_type": "code",
   "execution_count": 97,
   "metadata": {},
   "outputs": [
    {
     "name": "stdout",
     "output_type": "stream",
     "text": [
      "Engineer.__init__ called\n",
      "Employee.__init__ called\n",
      "Technical.__init__ called\n",
      "Technical.__init__ executed\n",
      "Employee.__init__executed\n",
      "Engineer.__init__ executed\n"
     ]
    }
   ],
   "source": [
    "e=Engineer()"
   ]
  },
  {
   "attachments": {},
   "cell_type": "markdown",
   "metadata": {},
   "source": [
    "### A slightly more elaborate design\n"
   ]
  },
  {
   "cell_type": "code",
   "execution_count": 98,
   "metadata": {},
   "outputs": [],
   "source": [
    "class Employee(object): # can inherit object explicitly\n",
    "    def __init__(self):\n",
    "        print('Employee.__init__ called')\n",
    "        super().__init__()\n",
    "        print('Employee.__init__executed')\n",
    "\n",
    "class TechnicalPerson: # also inheris object implicitly\n",
    "    def __init__(self):\n",
    "        print('Technical.__init__ called')\n",
    "        super().__init__()\n",
    "        print('Technical.__init__ executed')\n",
    "\n",
    "class Engineer(Employee,TechnicalPerson): \n",
    "    def __init__(self):\n",
    "        print('Engineer.__init__ called')\n",
    "        super().__init__()\n",
    "        print('Engineer.__init__ executed')\n",
    "\n",
    "class Manager(Employee):\n",
    "    def __init__(self):\n",
    "        print('Manager.__init__ called')\n",
    "        super().__init__()\n",
    "        print('Manager.__init__ executed')\n",
    "\n",
    "class ChiefEngineer(Engineer,Manager):\n",
    "    def __init__(self):\n",
    "        print('ChiefEngineer.__init__ called')\n",
    "        super().__init__()\n",
    "        print('ChiefEngineer.__init__ executed')\n"
   ]
  },
  {
   "cell_type": "code",
   "execution_count": 100,
   "metadata": {},
   "outputs": [
    {
     "name": "stdout",
     "output_type": "stream",
     "text": [
      "ChiefEngineer.__init__ called\n",
      "Engineer.__init__ called\n",
      "Manager.__init__ called\n",
      "Employee.__init__ called\n",
      "Technical.__init__ called\n",
      "Technical.__init__ executed\n",
      "Employee.__init__executed\n",
      "Manager.__init__ executed\n",
      "Engineer.__init__ executed\n",
      "ChiefEngineer.__init__ executed\n"
     ]
    }
   ],
   "source": [
    "ce=ChiefEngineer()"
   ]
  },
  {
   "attachments": {},
   "cell_type": "markdown",
   "metadata": {},
   "source": [
    "### How to pass data to \\_\\_init\\_\\_ in Mulitple Inheritance Scenario\n",
    "\n",
    "#### Challenge\n",
    "\n",
    "1. We have more than one super class to which we need to pass data\n",
    "2. But we explcitly call super of only first super class \n"
   ]
  },
  {
   "cell_type": "code",
   "execution_count": 102,
   "metadata": {},
   "outputs": [],
   "source": [
    "class Employee:\n",
    "    def __init__(self,id,name,salary):\n",
    "        self._id=id\n",
    "        self._name=name\n",
    "        self._salary=salary\n",
    "        super().__init__() # to make MRO work\n",
    "\n",
    "class TechnicalPerson:\n",
    "    def __init__(self,name,qualifiation,specialization=None):\n",
    "        self._name=name\n",
    "        self._qualifiation=qualifiation\n",
    "        self._specialization=specialization\n",
    "        super().__init__() # to make MRO work\n",
    "\n",
    "\n",
    "class Engineer(Employee,TechnicalPerson):\n",
    "    def __init__(self, id,name,salary,quantification,specialization,project):\n",
    "        self._project=project\n",
    "        #what should I pass here?\n",
    "        super().__init__(id,name,salary)\n",
    "\n",
    "class Manager(Employee):\n",
    "     def __init__(self, id,name,salary,department):\n",
    "        self._department=department\n",
    "        self._team=[]\n",
    "        #what should I pass here?\n",
    "        super().__init__(id,name,salary)\n",
    "\n",
    "\n",
    "\n"
   ]
  },
  {
   "attachments": {},
   "cell_type": "markdown",
   "metadata": {},
   "source": [
    "### Challenge\n",
    "\n",
    "1. we call the constructor of Engineer and pass all data\n",
    "2. super().__init__ in Engineer will call Employee.__init__()\n",
    "    * it can take only \n",
    "        * id\n",
    "        * name\n",
    "        * salary\n",
    "    * but not\n",
    "        * qualificaiton\n",
    "        * sepcialaization\n",
    "    \n",
    "3. super().\\_\\_init\\_\\_() in Employee calls TechnicalPerson.\\_\\_init\\_\\_()\n",
    "    * problem is Employee class has no direct relationship with TechnicalPerson\n",
    "        * When creating Manager, Employee.\\_\\_init\\_\\_() super().__init__() doesn't call TechnicalPerson.\\_\\_init\\_\\_()\n",
    "        * when create Engineer, Employee.\\_\\_init\\_\\_() super().__init__() does call TechnicalPerson.\\_\\_init\\_\\_()\n",
    "    * It doesn't know or have what TechnicalPerson.\\_\\_init\\_\\_() needs\n",
    "        * this information is with Engineer\n",
    "            * But Engineer doesn't call TechnicalPerson.\\_\\_init\\_\\_()\n",
    "    * This violates Responsibility Principle\n",
    "        * Employee \\_\\_init\\_\\_() is expected to (sometimes) call TechnicalPerson.\\_\\_init\\_\\_()\n",
    "            * Employee has no idea of TechicalPerson\n",
    "\n",
    "\n",
    "#### Solutions to the Problem \n",
    "\n",
    "## 1. [MOST PREFERRED]  DO NOT USE MULTIPLE INHERITANCE\n",
    "\n",
    "* Generally we never need multiple inheritance\n",
    "* Remember we wanted to reduce the role of inheritance\n",
    "    * prefer Has A over Is A\n",
    "        * there is lesser chance of being two times \"Is A\"\n",
    "        * Think\n",
    "            * Vivek is Employee or\n",
    "            * Vivek has Employement\n",
    "\n",
    "* Most mulitple inheritances can avoided with a better and cleaner code\n",
    "\n",
    "##### Do You know --> Java/C# doesn't support Multiple Inheritance!\n",
    "\n",
    "\n",
    "## 2. DO NOT USE super()\n",
    "\n",
    "* instead of using super(), explicitly use super class name\n",
    "* We can explicitly call \\_\\_init\\_\\_ of all my super classes \n",
    "    * This is the right responsibility\n",
    "* My super classes need not \n",
    "    * know each other\n",
    "    * not required to pass values\n",
    "\n",
    "        \n",
    "\n",
    "    \n"
   ]
  },
  {
   "cell_type": "code",
   "execution_count": 103,
   "metadata": {},
   "outputs": [],
   "source": [
    "class Employee:\n",
    "    def __init__(self,id,name,salary):\n",
    "        self._id=id\n",
    "        self._name=name\n",
    "        self._salary=salary\n",
    "        \n",
    "\n",
    "class TechnicalPerson:\n",
    "    def __init__(self,name,qualifiation,specialization=None):\n",
    "        self._name=name\n",
    "        self._qualifiation=qualifiation\n",
    "        self._specialization=specialization\n",
    "        \n",
    "\n",
    "\n",
    "class Engineer(Employee,TechnicalPerson):\n",
    "    def __init__(self, id,name,salary,qualification,specialization,project):\n",
    "        self._project=project\n",
    "        #what should I pass here?\n",
    "        #super().__init__(id,name,salary)\n",
    "        Employee.__init__(self,id,name,salary)\n",
    "        TechnicalPerson.__init__(self,name,qualification,specialization)\n",
    "\n",
    "\n",
    "\n"
   ]
  },
  {
   "cell_type": "code",
   "execution_count": 104,
   "metadata": {},
   "outputs": [],
   "source": [
    "e=Engineer(1,'Ketan',50000,'BE','AI','ML')"
   ]
  },
  {
   "cell_type": "code",
   "execution_count": 107,
   "metadata": {},
   "outputs": [
    {
     "data": {
      "text/plain": [
       "['_id', '_name', '_project', '_qualifiation', '_salary', '_specialization']"
      ]
     },
     "execution_count": 107,
     "metadata": {},
     "output_type": "execute_result"
    }
   ],
   "source": [
    "[m for m in dir(e) if not m.startswith('__')]"
   ]
  },
  {
   "cell_type": "code",
   "execution_count": 108,
   "metadata": {},
   "outputs": [
    {
     "name": "stdout",
     "output_type": "stream",
     "text": [
      "1\n",
      "BE\n"
     ]
    }
   ],
   "source": [
    "print(e._id)\n",
    "print(e._qualifiation)"
   ]
  },
  {
   "attachments": {},
   "cell_type": "markdown",
   "metadata": {},
   "source": [
    "### Solution #3  use **kwargs to pass data instead of positional parameters\n",
    "\n",
    "* we may pass information using **kwargs \n",
    "* each \\_\\_init\\_\\_ can take what they need and ignore what they don't\n",
    "* we may define required and optional parameter easily"
   ]
  },
  {
   "cell_type": "code",
   "execution_count": 118,
   "metadata": {},
   "outputs": [],
   "source": [
    "class Employee:\n",
    "    def __init__(self,**kwargs):\n",
    "        self._id= kwargs[\"id\"] #required\n",
    "        self._name=kwargs[\"name\"]\n",
    "        self._salary=kwargs[\"salary\"]\n",
    "        super().__init__(**kwargs)\n",
    "\n",
    "    def info(self):\n",
    "        return f'{type(self).__name__}\\tId={self._id}\\tName={self._name}\\tSalary={self._salary}'\n",
    "\n",
    "        \n",
    "\n",
    "class TechnicalPerson:\n",
    "    def __init__(self,**kwargs):\n",
    "        self._name=kwargs[\"name\"]  #required\n",
    "        self._qualification=kwargs[\"qualification\"] # required\n",
    "        self._specialization=kwargs.get(\"specialization\") #optional\n",
    "        super().__init__() # DO NOT PASS **kwargs. It is going to object.__init__()\n",
    "    \n",
    "    def info(self):\n",
    "        return f'TechnicalPerson\\tqualificaiton={self._qualification}\\tSpecialization={self._specialization}'\n",
    "   \n",
    "\n",
    "\n",
    "class Engineer(Employee,TechnicalPerson):\n",
    "    def __init__(self, **kwargs):\n",
    "        self._project= kwargs.get(\"project\",\"not-assigned\")\n",
    "        super().__init__(**kwargs)\n",
    "\n",
    "    def info(self):\n",
    "        emp=Employee.info(self)\n",
    "        tech=TechnicalPerson.info(self).replace('TechnicalPerson','')\n",
    "        return emp+tech+f\"\\tproject={self._project}\"\n",
    "\n",
    "\n",
    "\n"
   ]
  },
  {
   "cell_type": "code",
   "execution_count": 119,
   "metadata": {},
   "outputs": [
    {
     "name": "stdout",
     "output_type": "stream",
     "text": [
      "Engineer\tId=1\tName=Fagun\tSalary=50000\tqualificaiton=BE\tSpecialization=None\tproject=not-assigned\n"
     ]
    }
   ],
   "source": [
    "e1=Engineer(id=1, qualification=\"BE\", name=\"Fagun\", salary=50000)\n",
    "print(e1.info())"
   ]
  },
  {
   "cell_type": "code",
   "execution_count": 121,
   "metadata": {},
   "outputs": [
    {
     "name": "stdout",
     "output_type": "stream",
     "text": [
      "Engineer\tId=2\tName=Anand\tSalary=60000\tqualificaiton=BTech\tSpecialization=None\tproject=Learning Hub\n"
     ]
    }
   ],
   "source": [
    "e2=Engineer(id=2, qualification='BTech', name=\"Anand\", salary=60000, project=\"Learning Hub\")\n",
    "print(e2.info())"
   ]
  },
  {
   "cell_type": "code",
   "execution_count": 122,
   "metadata": {},
   "outputs": [
    {
     "ename": "KeyError",
     "evalue": "'qualification'",
     "output_type": "error",
     "traceback": [
      "\u001b[0;31m---------------------------------------------------------------------------\u001b[0m",
      "\u001b[0;31mKeyError\u001b[0m                                  Traceback (most recent call last)",
      "Cell \u001b[0;32mIn[122], line 1\u001b[0m\n\u001b[0;32m----> 1\u001b[0m e3\u001b[39m=\u001b[39mEngineer(\u001b[39mid\u001b[39;49m\u001b[39m=\u001b[39;49m\u001b[39m3\u001b[39;49m, name\u001b[39m=\u001b[39;49m\u001b[39m\"\u001b[39;49m\u001b[39mKetan\u001b[39;49m\u001b[39m\"\u001b[39;49m, salary\u001b[39m=\u001b[39;49m\u001b[39m50000\u001b[39;49m)\n\u001b[1;32m      2\u001b[0m \u001b[39mprint\u001b[39m(e3\u001b[39m.\u001b[39minfo())\n",
      "Cell \u001b[0;32mIn[118], line 28\u001b[0m, in \u001b[0;36mEngineer.__init__\u001b[0;34m(self, **kwargs)\u001b[0m\n\u001b[1;32m     26\u001b[0m \u001b[39mdef\u001b[39;00m \u001b[39m__init__\u001b[39m(\u001b[39mself\u001b[39m, \u001b[39m*\u001b[39m\u001b[39m*\u001b[39mkwargs):\n\u001b[1;32m     27\u001b[0m     \u001b[39mself\u001b[39m\u001b[39m.\u001b[39m_project\u001b[39m=\u001b[39m kwargs\u001b[39m.\u001b[39mget(\u001b[39m\"\u001b[39m\u001b[39mproject\u001b[39m\u001b[39m\"\u001b[39m,\u001b[39m\"\u001b[39m\u001b[39mnot-assigned\u001b[39m\u001b[39m\"\u001b[39m)\n\u001b[0;32m---> 28\u001b[0m     \u001b[39msuper\u001b[39;49m()\u001b[39m.\u001b[39;49m\u001b[39m__init__\u001b[39;49m(\u001b[39m*\u001b[39;49m\u001b[39m*\u001b[39;49mkwargs)\n",
      "Cell \u001b[0;32mIn[118], line 6\u001b[0m, in \u001b[0;36mEmployee.__init__\u001b[0;34m(self, **kwargs)\u001b[0m\n\u001b[1;32m      4\u001b[0m \u001b[39mself\u001b[39m\u001b[39m.\u001b[39m_name\u001b[39m=\u001b[39mkwargs[\u001b[39m\"\u001b[39m\u001b[39mname\u001b[39m\u001b[39m\"\u001b[39m]\n\u001b[1;32m      5\u001b[0m \u001b[39mself\u001b[39m\u001b[39m.\u001b[39m_salary\u001b[39m=\u001b[39mkwargs[\u001b[39m\"\u001b[39m\u001b[39msalary\u001b[39m\u001b[39m\"\u001b[39m]\n\u001b[0;32m----> 6\u001b[0m \u001b[39msuper\u001b[39;49m()\u001b[39m.\u001b[39;49m\u001b[39m__init__\u001b[39;49m(\u001b[39m*\u001b[39;49m\u001b[39m*\u001b[39;49mkwargs)\n",
      "Cell \u001b[0;32mIn[118], line 16\u001b[0m, in \u001b[0;36mTechnicalPerson.__init__\u001b[0;34m(self, **kwargs)\u001b[0m\n\u001b[1;32m     14\u001b[0m \u001b[39mdef\u001b[39;00m \u001b[39m__init__\u001b[39m(\u001b[39mself\u001b[39m,\u001b[39m*\u001b[39m\u001b[39m*\u001b[39mkwargs):\n\u001b[1;32m     15\u001b[0m     \u001b[39mself\u001b[39m\u001b[39m.\u001b[39m_name\u001b[39m=\u001b[39mkwargs[\u001b[39m\"\u001b[39m\u001b[39mname\u001b[39m\u001b[39m\"\u001b[39m]  \u001b[39m#required\u001b[39;00m\n\u001b[0;32m---> 16\u001b[0m     \u001b[39mself\u001b[39m\u001b[39m.\u001b[39m_qualification\u001b[39m=\u001b[39mkwargs[\u001b[39m\"\u001b[39;49m\u001b[39mqualification\u001b[39;49m\u001b[39m\"\u001b[39;49m] \u001b[39m# required\u001b[39;00m\n\u001b[1;32m     17\u001b[0m     \u001b[39mself\u001b[39m\u001b[39m.\u001b[39m_specialization\u001b[39m=\u001b[39mkwargs\u001b[39m.\u001b[39mget(\u001b[39m\"\u001b[39m\u001b[39mspecialization\u001b[39m\u001b[39m\"\u001b[39m) \u001b[39m#optional\u001b[39;00m\n\u001b[1;32m     18\u001b[0m     \u001b[39msuper\u001b[39m()\u001b[39m.\u001b[39m\u001b[39m__init__\u001b[39m()\n",
      "\u001b[0;31mKeyError\u001b[0m: 'qualification'"
     ]
    }
   ],
   "source": [
    "e3=Engineer(id=3, name=\"Ketan\", salary=50000)\n",
    "print(e3.info())"
   ]
  },
  {
   "cell_type": "code",
   "execution_count": null,
   "metadata": {},
   "outputs": [],
   "source": []
  }
 ],
 "metadata": {
  "kernelspec": {
   "display_name": "Python 3",
   "language": "python",
   "name": "python3"
  },
  "language_info": {
   "codemirror_mode": {
    "name": "ipython",
    "version": 3
   },
   "file_extension": ".py",
   "mimetype": "text/x-python",
   "name": "python",
   "nbconvert_exporter": "python",
   "pygments_lexer": "ipython3",
   "version": "3.9.1"
  },
  "orig_nbformat": 4,
  "vscode": {
   "interpreter": {
    "hash": "bc4e78314997db9a44b6830e0aa6b75a33973256eb5fdaf587cb7b38c9328874"
   }
  }
 },
 "nbformat": 4,
 "nbformat_minor": 2
}
