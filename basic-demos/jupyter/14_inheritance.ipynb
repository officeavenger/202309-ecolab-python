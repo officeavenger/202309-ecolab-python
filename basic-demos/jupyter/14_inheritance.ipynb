{
 "cells": [
  {
   "attachments": {},
   "cell_type": "markdown",
   "metadata": {},
   "source": [
    "# Inhertiance\n",
    "\n",
    "* Inheritance allows us to create a classificiation-subclassification class hierarchy\n",
    "* It represents a broader \"**is a type of** relationship\n",
    "    * We can say \"**Tiger is a type of Animal**\n",
    "\n",
    "* Any behavior of the **inherited class** also becomes the behavior of the **inheriting class**\n",
    "* There are different terms used to describe the two classes. \n",
    "    1. class being inherited\n",
    "        * base class\n",
    "        * **super class** <-- PREFERED\n",
    "            * Represents the role clearly\n",
    "        * Any class can be super class\n",
    "            * There is no specific syntax to denote the super class.\n",
    "\n",
    "    2. class that inherits other class\n",
    "        * derived class\n",
    "        * **subclass** <—- PREFERRED\n",
    "            * Represents sub classfication\n",
    "\n",
    "\n",
    "## Simplest way to inherit\n",
    "\n",
    "* Note, the syntax is quite different from C++ style syntax\n",
    "* It looks like as if we are passing super class as an argument to sub class\n"
   ]
  },
  {
   "cell_type": "code",
   "execution_count": 1,
   "metadata": {},
   "outputs": [],
   "source": [
    "#This class will act as super class\n",
    "class Animal:\n",
    "    pass\n",
    "\n",
    "#This class is a sub class of Animal and may be super class to some other class\n",
    "class Mammal(Animal):\n",
    "    pass\n",
    "\n",
    "class Tiger(Mammal):\n",
    "    pass\n",
    "\n",
    "class Horse(Mammal):\n",
    "    pass\n",
    "\n",
    "class Reptile(Animal):\n",
    "    pass\n",
    "\n",
    "class Snake(Reptile):\n",
    "    pass\n",
    "\n",
    "class Crocodile(Reptile):\n",
    "    pass\n"
   ]
  },
  {
   "attachments": {},
   "cell_type": "markdown",
   "metadata": {},
   "source": [
    "### What is the signficance of this hierarhy\n",
    "\n",
    "* Here we have indicated\n",
    "    * Mammal is a subclass of Animal\n",
    "    * Tiger is a subclass of Mammal\n",
    "    * Tiger implicitly becomes the subclass of Animal\n",
    "\n"
   ]
  },
  {
   "cell_type": "code",
   "execution_count": 7,
   "metadata": {},
   "outputs": [
    {
     "data": {
      "text/plain": [
       "True"
      ]
     },
     "execution_count": 7,
     "metadata": {},
     "output_type": "execute_result"
    }
   ],
   "source": [
    "issubclass(Tiger,Mammal)"
   ]
  },
  {
   "cell_type": "code",
   "execution_count": 8,
   "metadata": {},
   "outputs": [],
   "source": [
    "def print_subclass(x,y):\n",
    "    relation = \"is subclass\" if issubclass(x,y) else \"is not subclass\"\n",
    "\n",
    "    print(f'{x.__name__} {relation} {y.__name__}')"
   ]
  },
  {
   "cell_type": "code",
   "execution_count": 12,
   "metadata": {},
   "outputs": [
    {
     "name": "stdout",
     "output_type": "stream",
     "text": [
      "Tiger is subclass Mammal\n",
      "Tiger is subclass Animal\n",
      "Snake is subclass Animal\n",
      "Snake is not subclass Mammal\n",
      "Snake is not subclass Tiger\n",
      "Reptile is not subclass Mammal\n",
      "Tiger is not subclass str\n"
     ]
    }
   ],
   "source": [
    "print_subclass(Tiger,Mammal)\n",
    "print_subclass(Tiger,Animal)\n",
    "print_subclass(Snake,Animal)\n",
    "print_subclass(Snake,Mammal)\n",
    "print_subclass(Snake,Tiger)\n",
    "print_subclass(Reptile,Mammal)\n",
    "print_subclass(Tiger,str)"
   ]
  },
  {
   "attachments": {},
   "cell_type": "markdown",
   "metadata": {},
   "source": [
    "### The same relationship extends even to objects\n",
    "\n",
    "* A tiger object \n",
    "    * is instance of Tiger\n",
    "    * is instance of Mammal\n",
    "    * is instance of Animal"
   ]
  },
  {
   "cell_type": "code",
   "execution_count": 13,
   "metadata": {},
   "outputs": [
    {
     "name": "stdout",
     "output_type": "stream",
     "text": [
      "True\n",
      "True\n",
      "True\n",
      "False\n",
      "False\n"
     ]
    }
   ],
   "source": [
    "t=Tiger()\n",
    "print(isinstance(t,Tiger))  #True\n",
    "print(isinstance(t,Mammal)) #True\n",
    "print(isinstance(t,Animal)) #True\n",
    "\n",
    "print(isinstance(t,Crocodile)) #False\n",
    "print(isinstance(t,list)) #False\n"
   ]
  },
  {
   "attachments": {},
   "cell_type": "markdown",
   "metadata": {},
   "source": [
    "### difference between **type()** and **isinstance**\n",
    "\n",
    "* **type()** looks for exact type\n",
    "    * type(tiger) == Tiger\n",
    "    * type(tiger) != Mammal\n",
    "\n",
    "* **isinstance()** works over class hierarcy\n",
    "    * isinstance(tiger,Tiger) #True\n",
    "    * isinstance(tiger,Mammal) #True"
   ]
  },
  {
   "cell_type": "code",
   "execution_count": 14,
   "metadata": {},
   "outputs": [
    {
     "name": "stdout",
     "output_type": "stream",
     "text": [
      "True\n",
      "False\n",
      "\n",
      "True\n",
      "True\n"
     ]
    }
   ],
   "source": [
    "t=Tiger()\n",
    "print(type(t)==Tiger) #True\n",
    "print(type(t)==Mammal) #False\n",
    "\n",
    "print()\n",
    "\n",
    "print(isinstance(t,Tiger)) #True\n",
    "print(isinstance(t,Mammal)) #True"
   ]
  },
  {
   "attachments": {},
   "cell_type": "markdown",
   "metadata": {},
   "source": [
    "### What does a subclass inherit\n",
    "\n",
    "* A **subclass** inherits all the **behaviors** of the superclass\n",
    "\n",
    "### What does subclass doesn't inherit\n",
    "\n",
    "* A **subclass** doesn't inherits the **fields/properties/state** of the superclass\n",
    "* the **fields** are not inherited because they belong to **object** and **not** to **classes**\n",
    "\n",
    "### How do we get the fields of the base class?\n",
    "\n",
    "* fields are generally attached to the object using \\_\\_init\\_\\_() method\n",
    "* And since \\_\\_init\\_\\_() is inherited, it can attach same fields to subclass objects also\n",
    "* indirectly we can also get the fields for super class in subclass\n",
    "    * but remember we didn't inherit fields\n",
    "    * we will get them because we inherited \\_\\_init\\_\\_()\n",
    "\n",
    "\n",
    "\n",
    "### A superclass candidate with fields (attached via \\_\\_init\\_\\_()) and behavior"
   ]
  },
  {
   "cell_type": "code",
   "execution_count": 39,
   "metadata": {},
   "outputs": [],
   "source": [
    "class Employee:\n",
    "    def __init__(self,id,name,salary):\n",
    "        self._id=id\n",
    "        self._salary=salary\n",
    "        self._name=name\n",
    "\n",
    "    def work(self):\n",
    "        print(f'{self._name} works as employee#{self._id} for a salary of {self._salary}')\n",
    "\n",
    "    def get_id(self): return self._id\n",
    "\n",
    "    def get_salary(self): return self._salary\n",
    "\n",
    "    def get_name(self):return self._name\n",
    "\n",
    "    def info(self): \n",
    "        return f'Employee\\tId={self._id}\\tName={self._name}\\tSalary={self._salary}'"
   ]
  },
  {
   "cell_type": "code",
   "execution_count": 42,
   "metadata": {},
   "outputs": [],
   "source": [
    "def test_employee(emp):\n",
    "    #if type(emp)==Employee:\n",
    "    if isinstance(emp,Employee):\n",
    "        print(emp.info())\n",
    "        print('id',emp.get_id())\n",
    "        print('name',emp.get_name())\n",
    "        print('salary',emp.get_salary())\n",
    "        \n",
    "        emp.work()\n",
    "    else:\n",
    "        print(f'{type(emp).__name__} is not an employee')\n",
    "    print()"
   ]
  },
  {
   "cell_type": "code",
   "execution_count": 43,
   "metadata": {},
   "outputs": [
    {
     "name": "stdout",
     "output_type": "stream",
     "text": [
      "Employee\tId=1\tName=Sanjay\tSalary=20000\n",
      "id 1\n",
      "name Sanjay\n",
      "salary 20000\n",
      "Sanjay works as employee#1 for a salary of 20000\n",
      "\n"
     ]
    }
   ],
   "source": [
    "emp=Employee(1,'Sanjay',20000)\n",
    "test_employee(emp)"
   ]
  },
  {
   "attachments": {},
   "cell_type": "markdown",
   "metadata": {},
   "source": [
    "### An Employee subclass by default gets all behaviors of Employee"
   ]
  },
  {
   "cell_type": "code",
   "execution_count": 44,
   "metadata": {},
   "outputs": [],
   "source": [
    "class Manager(Employee):\n",
    "    pass"
   ]
  },
  {
   "cell_type": "code",
   "execution_count": 45,
   "metadata": {},
   "outputs": [
    {
     "name": "stdout",
     "output_type": "stream",
     "text": [
      "Employee\tId=2\tName=Prabhat\tSalary=40000\n",
      "id 2\n",
      "name Prabhat\n",
      "salary 40000\n",
      "Prabhat works as employee#2 for a salary of 40000\n",
      "\n"
     ]
    }
   ],
   "source": [
    "m=Manager(2,\"Prabhat\",40000)\n",
    "\n",
    "test_employee(m)"
   ]
  },
  {
   "cell_type": "code",
   "execution_count": 46,
   "metadata": {},
   "outputs": [
    {
     "name": "stdout",
     "output_type": "stream",
     "text": [
      "Tiger is not an employee\n",
      "\n"
     ]
    }
   ],
   "source": [
    "test_employee(t)"
   ]
  },
  {
   "attachments": {},
   "cell_type": "markdown",
   "metadata": {},
   "source": [
    "### A subclass can add additional behavior not defined in super classes\n",
    "\n",
    "* subclass will have access to both superclass and subclass behaviors"
   ]
  },
  {
   "cell_type": "code",
   "execution_count": 47,
   "metadata": {},
   "outputs": [],
   "source": [
    "class Manager(Employee):\n",
    "    def manage_team(self):\n",
    "        print(f'{self._name} manages a team')\n",
    "\n",
    "        "
   ]
  },
  {
   "cell_type": "code",
   "execution_count": 48,
   "metadata": {},
   "outputs": [
    {
     "name": "stdout",
     "output_type": "stream",
     "text": [
      "Employee\tId=2\tName=Prabhat\tSalary=50000\n",
      "id 2\n",
      "name Prabhat\n",
      "salary 50000\n",
      "Prabhat works as employee#2 for a salary of 50000\n",
      "\n",
      "Prabhat manages a team\n"
     ]
    }
   ],
   "source": [
    "m=Manager(2, 'Prabhat',50000)\n",
    "\n",
    "test_employee(m) # tests all beahviors inherited from Employee\n",
    "\n",
    "#now we can test the new behavior\n",
    "\n",
    "m.manage_team()"
   ]
  },
  {
   "attachments": {},
   "cell_type": "markdown",
   "metadata": {},
   "source": [
    "### a subclass can also modify the existing behavior\n",
    "\n",
    "* To modify the existing behavior is easy.\n",
    "* You can simply define another function with same name and it will overwrite/**replace** the inherited one"
   ]
  },
  {
   "cell_type": "code",
   "execution_count": 64,
   "metadata": {},
   "outputs": [],
   "source": [
    "class Manager(Employee):\n",
    "    def manage_team(self):\n",
    "        print(f'{self._name} manages a team')\n",
    "    \n",
    "    def info(self):\n",
    "        return \"Manager\"\n",
    "    "
   ]
  },
  {
   "cell_type": "code",
   "execution_count": 66,
   "metadata": {},
   "outputs": [
    {
     "name": "stdout",
     "output_type": "stream",
     "text": [
      "Manager\n",
      "id 2\n",
      "name Prabhat\n",
      "salary 50000\n",
      "Prabhat works as employee#2 for a salary of 50000\n",
      "\n",
      "Employee\tId=3\tName=Amit\tSalary=20000\n",
      "id 3\n",
      "name Amit\n",
      "salary 20000\n",
      "Amit works as employee#3 for a salary of 20000\n",
      "\n"
     ]
    }
   ],
   "source": [
    "m=Manager(2,'Prabhat',50000 )\n",
    "\n",
    "test_employee(m)\n",
    "\n",
    "e=Employee(3, 'Amit',20000)\n",
    "test_employee(e)"
   ]
  },
  {
   "attachments": {},
   "cell_type": "markdown",
   "metadata": {},
   "source": [
    "### Partial override/modification\n",
    "\n",
    "* sometimes we don't want to completely replace a behavior\n",
    "    * just a slight modification\n",
    "* Use Case\n",
    "    * In info(): \n",
    "        * We may want to change the word **Employee** with the word **Manager** \n",
    "        * We may still want to display the remainging info like Id,Name,Salary\n",
    "            * There is no point in rewriting same logic\n",
    "\n",
    "#### Solution \n",
    "\n",
    "1. Replace the method completely with new method in subclass\n",
    "2. **Call the super class method to do the common (reusable) job**\n",
    "3. Make necessary modification to the result\n",
    "4. return result if needed\n",
    "\n",
    "#### What will NOT work\n",
    "\n",
    "```python\n",
    "class Manager(Employee):\n",
    "    def info(self):  #step 1\n",
    "        str= self.info() # Step 2\n",
    "        str=str.replace('Employee', 'Manager') #step 3\n",
    "        return str\n",
    "\n",
    "```\n",
    "* Here in step#2, **self.info()** calls the newly replaced function (itself)\n",
    "    * it becomes recursive\n",
    "        * endless loop\n",
    "        "
   ]
  },
  {
   "cell_type": "code",
   "execution_count": 67,
   "metadata": {},
   "outputs": [],
   "source": [
    "class Manager(Employee):\n",
    "    def info(self):  #step 1\n",
    "        str= self.info() # Step 2\n",
    "        str=str.replace('Employee', 'Manager') #step 3\n",
    "        return str\n"
   ]
  },
  {
   "cell_type": "code",
   "execution_count": 52,
   "metadata": {},
   "outputs": [
    {
     "name": "stderr",
     "output_type": "stream",
     "text": [
      "\n",
      "KeyboardInterrupt\n",
      "\n"
     ]
    }
   ],
   "source": [
    "m=Manager(2,'Prabhat',50000)\n",
    "print(m.info())"
   ]
  },
  {
   "attachments": {},
   "cell_type": "markdown",
   "metadata": {},
   "source": [
    "#### Solution #1 Call the Employee method explicitly using starndard semantic"
   ]
  },
  {
   "cell_type": "code",
   "execution_count": 68,
   "metadata": {},
   "outputs": [],
   "source": [
    "class Manager(Employee):\n",
    "    def info(self): #step 1. replaces inherited method\n",
    "        str = Employee.info(self) #step 2. Employee.info will still work!\n",
    "        str=str.replace('Employee','Manager')\n",
    "        return str\n",
    "\n"
   ]
  },
  {
   "cell_type": "code",
   "execution_count": 69,
   "metadata": {},
   "outputs": [
    {
     "name": "stdout",
     "output_type": "stream",
     "text": [
      "Manager\tId=2\tName=Prabhat\tSalary=50000\n"
     ]
    }
   ],
   "source": [
    "m=Manager(2,'Prabhat', 50000)\n",
    "\n",
    "print(m.info())"
   ]
  },
  {
   "attachments": {},
   "cell_type": "markdown",
   "metadata": {},
   "source": [
    "### Solution #2 super() method\n",
    "\n",
    "* python supports **super()** method to represent the super class \n",
    "* we can call this method instead of step#2 in Solution#1\n",
    "* There are two ways to call super()\n",
    "\n",
    "#### Solution 2.1  (Legacy Syntax from Python 2)\n",
    "\n",
    "```python\n",
    "class Manager(Employee):\n",
    "    def info(self):\n",
    "        str = super(Manager,self).info()\n",
    "```\n",
    "\n",
    "* Note\n",
    "    1. first parameter to super is the name of current class not super class\n",
    "        * it is like super of Manager\n",
    "        * **This is kind of redundant info** we are already in Manager\n",
    "\n",
    "    2. second parameter is **self** object\n",
    "        * **this is also a redundant info**\n",
    "\n",
    "    3. we don't pass **self** to info function itself that needs it.\n",
    "        * it will be passed internally"
   ]
  },
  {
   "cell_type": "code",
   "execution_count": 70,
   "metadata": {},
   "outputs": [],
   "source": [
    "class Manager(Employee):\n",
    "    def info(self): #step 1. replaces inherited method\n",
    "        str = super(Manager,self).info() #step 2. Employee.info will still work!\n",
    "        str=str.replace('Employee','Manager')\n",
    "        return str"
   ]
  },
  {
   "cell_type": "code",
   "execution_count": 71,
   "metadata": {},
   "outputs": [
    {
     "name": "stdout",
     "output_type": "stream",
     "text": [
      "Manager\tId=2\tName=Prabhat\tSalary=50000\n"
     ]
    }
   ],
   "source": [
    "m=Manager(2,'Prabhat', 50000)\n",
    "\n",
    "print(m.info())"
   ]
  },
  {
   "attachments": {},
   "cell_type": "markdown",
   "metadata": {},
   "source": [
    "#### Solution #2.2  simplified super() with python 3\n",
    "\n",
    "* Since both parameters to super() were redundant can be detected, they are now optional in python 3"
   ]
  },
  {
   "cell_type": "code",
   "execution_count": 72,
   "metadata": {},
   "outputs": [],
   "source": [
    "class Manager(Employee):\n",
    "    def info(self): #step 1. replaces inherited method\n",
    "        str = super().info() #step 2. Employee.info will still work!\n",
    "        str=str.replace('Employee','Manager')\n",
    "        return str"
   ]
  },
  {
   "cell_type": "code",
   "execution_count": 73,
   "metadata": {},
   "outputs": [
    {
     "name": "stdout",
     "output_type": "stream",
     "text": [
      "Manager\tId=2\tName=Prabhat\tSalary=50000\n"
     ]
    }
   ],
   "source": [
    "m=Manager(2,'Prabhat', 50000)\n",
    "print(m.info())"
   ]
  },
  {
   "attachments": {},
   "cell_type": "markdown",
   "metadata": {},
   "source": [
    "### Adding new behaviors to sub class\n",
    "\n",
    "* Use Case:  \n",
    "    * Manager has a team that works along with him\n",
    "        * self._team=[]\n",
    "    * We can add a member to the team\n",
    "        * add_to_team()\n",
    "    * When a manage works\n",
    "        * manager works as in employee in individual capacity\n",
    "        * the team works as a part of manager's job\n",
    "\n",
    "\n",
    "* We can define the \\_\\_init\\_\\_ method to initalize the self._team\n"
   ]
  },
  {
   "cell_type": "code",
   "execution_count": 74,
   "metadata": {},
   "outputs": [],
   "source": [
    "class Manager(Employee):\n",
    "    def __init__(self, id,name,salary):\n",
    "        self._team=[]\n",
    "\n",
    "    def add_to_team(self, other):\n",
    "        if isinstance(other, Employee):\n",
    "            self._team.append(other)\n",
    "\n",
    "    def work(self):\n",
    "        print(f'Manager works with team size {len(self._team)}')\n",
    "        for member in self._team:\n",
    "            member.work()"
   ]
  },
  {
   "cell_type": "code",
   "execution_count": 75,
   "metadata": {},
   "outputs": [
    {
     "name": "stdout",
     "output_type": "stream",
     "text": [
      "Manager works with team size 2\n",
      "Sanjay works as employee#2 for a salary of 10000\n",
      "Amit works as employee#3 for a salary of 10000\n"
     ]
    }
   ],
   "source": [
    "m=Manager(1, 'Prabhat', 20000)\n",
    "m.add_to_team(Employee(2,'Sanjay',10000))\n",
    "m.add_to_team(Employee(3,'Amit',10000))\n",
    "m.work()"
   ]
  },
  {
   "cell_type": "code",
   "execution_count": 76,
   "metadata": {},
   "outputs": [
    {
     "ename": "AttributeError",
     "evalue": "'Manager' object has no attribute '_id'",
     "output_type": "error",
     "traceback": [
      "\u001b[0;31m---------------------------------------------------------------------------\u001b[0m",
      "\u001b[0;31mAttributeError\u001b[0m                            Traceback (most recent call last)",
      "Cell \u001b[0;32mIn[76], line 1\u001b[0m\n\u001b[0;32m----> 1\u001b[0m \u001b[39mprint\u001b[39m(m\u001b[39m.\u001b[39;49minfo())\n",
      "Cell \u001b[0;32mIn[39], line 17\u001b[0m, in \u001b[0;36mEmployee.info\u001b[0;34m(self)\u001b[0m\n\u001b[1;32m     16\u001b[0m \u001b[39mdef\u001b[39;00m \u001b[39minfo\u001b[39m(\u001b[39mself\u001b[39m): \n\u001b[0;32m---> 17\u001b[0m     \u001b[39mreturn\u001b[39;00m \u001b[39mf\u001b[39m\u001b[39m'\u001b[39m\u001b[39mEmployee\u001b[39m\u001b[39m\\t\u001b[39;00m\u001b[39mId=\u001b[39m\u001b[39m{\u001b[39;00m\u001b[39mself\u001b[39m\u001b[39m.\u001b[39m_id\u001b[39m}\u001b[39;00m\u001b[39m\\t\u001b[39;00m\u001b[39mName=\u001b[39m\u001b[39m{\u001b[39;00m\u001b[39mself\u001b[39m\u001b[39m.\u001b[39m_name\u001b[39m}\u001b[39;00m\u001b[39m\\t\u001b[39;00m\u001b[39mSalary=\u001b[39m\u001b[39m{\u001b[39;00m\u001b[39mself\u001b[39m\u001b[39m.\u001b[39m_salary\u001b[39m}\u001b[39;00m\u001b[39m'\u001b[39m\n",
      "\u001b[0;31mAttributeError\u001b[0m: 'Manager' object has no attribute '_id'"
     ]
    }
   ],
   "source": [
    "print(m.info())"
   ]
  },
  {
   "cell_type": "code",
   "execution_count": null,
   "metadata": {},
   "outputs": [],
   "source": []
  }
 ],
 "metadata": {
  "kernelspec": {
   "display_name": "Python 3",
   "language": "python",
   "name": "python3"
  },
  "language_info": {
   "codemirror_mode": {
    "name": "ipython",
    "version": 3
   },
   "file_extension": ".py",
   "mimetype": "text/x-python",
   "name": "python",
   "nbconvert_exporter": "python",
   "pygments_lexer": "ipython3",
   "version": "3.9.1"
  },
  "orig_nbformat": 4,
  "vscode": {
   "interpreter": {
    "hash": "bc4e78314997db9a44b6830e0aa6b75a33973256eb5fdaf587cb7b38c9328874"
   }
  }
 },
 "nbformat": 4,
 "nbformat_minor": 2
}
