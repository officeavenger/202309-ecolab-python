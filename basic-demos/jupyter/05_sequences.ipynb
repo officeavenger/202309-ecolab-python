{
 "cells": [
  {
   "cell_type": "markdown",
   "id": "64a215e8-81cc-4f99-a21c-9166634e0150",
   "metadata": {},
   "source": [
    "# 4 Sequence\n",
    "\n",
    "* sequence is a group of values that can be accessed one by one using **for loop**\n",
    "* The values can\n",
    "      * stored (as a collection)\n",
    "      * computed on the fly\n",
    "      * accessed from external source\n",
    "\n",
    "### 4.1 Stored sequences a.k.a collections\n",
    "\n",
    "* these can be compared with\n",
    "      * **stl of c++** \n",
    "      * **collection classes of java/c#**\n",
    "\n",
    "\n",
    "* common methods\n",
    "      * len(x) ---> returns total items in sequence\n",
    "      * for-loop ---> loops through each item\n",
    "      * in ---> checks if a given item is present in the sequende or not\n",
    "\n",
    "* each sequence can have additional method or behavior that defines their purpose\n",
    "\n",
    "## 1. List\n",
    "\n",
    "* simlar to an array or ArrayList or vector\n",
    "* It is \n",
    "      * dynamic          \n",
    "      * mutable\n",
    "          * append\n",
    "          * pop()\n",
    "          * del\n",
    "          * remove()\n",
    "          * indexer\n",
    "      * indexed\n",
    "          * supports\n",
    "              * negative indexer\n",
    "              * slicers\n",
    "  \n",
    "\n",
    "\n",
    "#### 1. createing a list\n",
    "\n",
    "* a python list looks like simple array\n",
    "  "
   ]
  },
  {
   "cell_type": "code",
   "execution_count": 1,
   "id": "d9366f40-aa3c-44a1-a7de-a8f676c4b4eb",
   "metadata": {},
   "outputs": [],
   "source": [
    "def show_seq(seq):\n",
    "    print(f'{type(seq)} #{id(seq)}: {seq}')"
   ]
  },
  {
   "cell_type": "code",
   "execution_count": 2,
   "id": "e34fc34b-fbeb-46b9-8bab-2d935db11285",
   "metadata": {},
   "outputs": [
    {
     "name": "stdout",
     "output_type": "stream",
     "text": [
      "<class 'list'> #2722316366080: [1, 2, 3, 4]\n"
     ]
    }
   ],
   "source": [
    "numbers=[1,2,3,4]\n",
    "show_seq(numbers)"
   ]
  },
  {
   "cell_type": "markdown",
   "id": "076767be-080c-4831-858f-662b45f633d5",
   "metadata": {},
   "source": [
    "#### common sequence methods\n",
    "\n",
    "* len()\n",
    "* in operator\n",
    "* for loop"
   ]
  },
  {
   "cell_type": "code",
   "execution_count": 4,
   "id": "4198d60c-34f3-45f7-b1f4-6df7709ded00",
   "metadata": {},
   "outputs": [
    {
     "name": "stdout",
     "output_type": "stream",
     "text": [
      "4\n",
      "True\n",
      "False\n"
     ]
    }
   ],
   "source": [
    "print(len(numbers))\n",
    "\n",
    "print(3 in numbers)\n",
    "print(7 in numbers)"
   ]
  },
  {
   "cell_type": "markdown",
   "id": "9ade3f8b-7b0f-4c7c-b414-0ac958dd2dee",
   "metadata": {},
   "source": [
    "### for loop\n",
    "\n",
    "* unlike c style for loop,  python for doesnt loop from a min-max\n",
    "* it loops over all the items of a sequence"
   ]
  },
  {
   "cell_type": "code",
   "execution_count": 7,
   "id": "f39fa3a2-a249-45e4-a8d9-273d84c1971d",
   "metadata": {},
   "outputs": [
    {
     "name": "stdout",
     "output_type": "stream",
     "text": [
      "2 3 4 9 7 "
     ]
    }
   ],
   "source": [
    "numbers=[2,3,4,9,7]\n",
    "\n",
    "for number in numbers:\n",
    "    print(number, end=' ')"
   ]
  },
  {
   "cell_type": "markdown",
   "id": "52afbbd1-1ff4-425d-bc10-d0ba50716024",
   "metadata": {},
   "source": [
    "### simple indexer\n",
    "\n",
    "* it is 0 based indexer\n",
    "* raises error for invalid index"
   ]
  },
  {
   "cell_type": "code",
   "execution_count": 5,
   "id": "12455fe6-997d-4c96-8a20-8b9a69489005",
   "metadata": {},
   "outputs": [
    {
     "name": "stdout",
     "output_type": "stream",
     "text": [
      "3\n",
      "2\n"
     ]
    }
   ],
   "source": [
    "print(numbers[2])\n",
    "print(numbers[1])\n"
   ]
  },
  {
   "cell_type": "code",
   "execution_count": 6,
   "id": "f71742c4-9d60-48a7-b5af-c471c8a37043",
   "metadata": {},
   "outputs": [
    {
     "ename": "IndexError",
     "evalue": "list index out of range",
     "output_type": "error",
     "traceback": [
      "\u001b[1;31m---------------------------------------------------------------------------\u001b[0m",
      "\u001b[1;31mIndexError\u001b[0m                                Traceback (most recent call last)",
      "Cell \u001b[1;32mIn[6], line 1\u001b[0m\n\u001b[1;32m----> 1\u001b[0m \u001b[38;5;28mprint\u001b[39m(\u001b[43mnumbers\u001b[49m\u001b[43m[\u001b[49m\u001b[38;5;241;43m14\u001b[39;49m\u001b[43m]\u001b[49m)\n",
      "\u001b[1;31mIndexError\u001b[0m: list index out of range"
     ]
    }
   ],
   "source": [
    "print(numbers[14])"
   ]
  },
  {
   "cell_type": "markdown",
   "id": "db1344a7-77f9-45a3-a0d4-aea25453d6eb",
   "metadata": {},
   "source": [
    "### Negative indexers in python\n",
    "\n",
    "* In python indexer can be negative, in which case it accesses the items from the end\n",
    "    * -1 ---> last item\n",
    "    * -2 ---> second last item\n",
    "    * -n ---> first item where n => len(seq)"
   ]
  },
  {
   "cell_type": "code",
   "execution_count": 9,
   "id": "52fa1b10-3275-4199-aa61-c4de65333b57",
   "metadata": {},
   "outputs": [
    {
     "name": "stdout",
     "output_type": "stream",
     "text": [
      "8\n",
      "4\n",
      "2\n"
     ]
    }
   ],
   "source": [
    "numbers=[2,3,9,4,8]\n",
    "\n",
    "print(numbers[-1])\n",
    "print(numbers[-2])\n",
    "print(numbers[-len(numbers)])"
   ]
  },
  {
   "cell_type": "code",
   "execution_count": 10,
   "id": "28adbf0e-79d3-4361-a25b-4031420a96ba",
   "metadata": {},
   "outputs": [
    {
     "ename": "IndexError",
     "evalue": "list index out of range",
     "output_type": "error",
     "traceback": [
      "\u001b[1;31m---------------------------------------------------------------------------\u001b[0m",
      "\u001b[1;31mIndexError\u001b[0m                                Traceback (most recent call last)",
      "Cell \u001b[1;32mIn[10], line 1\u001b[0m\n\u001b[1;32m----> 1\u001b[0m \u001b[43mnumbers\u001b[49m\u001b[43m[\u001b[49m\u001b[38;5;241;43m-\u001b[39;49m\u001b[38;5;241;43m100\u001b[39;49m\u001b[43m]\u001b[49m\n",
      "\u001b[1;31mIndexError\u001b[0m: list index out of range"
     ]
    }
   ],
   "source": [
    "numbers[-100]"
   ]
  },
  {
   "cell_type": "markdown",
   "id": "4dea6515-41cc-496b-8efe-5e27f28c142b",
   "metadata": {},
   "source": [
    "### Slicers\n",
    "\n",
    "* Slicer is a special indexer semantic that allows us to slice a sequence based on three parameters\n",
    "   * start index (inclusive)\n",
    "   * end index (exclusive)\n",
    "   * jump/step/gap\n",
    "* the three values are separated with colon\n",
    "* all values are optional\n",
    "      * start defaults to 0\n",
    "      * end defaults to len(seq)\n",
    "      * gap defaults to 1\n"
   ]
  },
  {
   "cell_type": "code",
   "execution_count": 13,
   "id": "ac07811a-c77d-4f9c-9181-9e0dadf2f072",
   "metadata": {},
   "outputs": [
    {
     "name": "stdout",
     "output_type": "stream",
     "text": [
      "<class 'list'> #2722322601088: [0, 10, 20, 30, 40, 50, 60, 70, 80, 90, 100, 110, 120, 130, 140, 150, 160, 170, 180, 190, 200]\n"
     ]
    }
   ],
   "source": [
    "numbers=[0,10,20,30,40,50,60,70,80,90,100,110,120,130,140,150,160,170,180,190, 200]\n",
    "\n",
    "show_seq(numbers)"
   ]
  },
  {
   "cell_type": "code",
   "execution_count": 14,
   "id": "fa82b66e-9d46-4cae-bd65-56e3122d114d",
   "metadata": {},
   "outputs": [
    {
     "name": "stdout",
     "output_type": "stream",
     "text": [
      "<class 'list'> #2722322472704: [100, 110, 120, 130, 140]\n"
     ]
    }
   ],
   "source": [
    "show_seq(numbers[10:15])"
   ]
  },
  {
   "cell_type": "code",
   "execution_count": 15,
   "id": "856b5626-eb06-4842-bde8-a319fa6dce3b",
   "metadata": {},
   "outputs": [
    {
     "name": "stdout",
     "output_type": "stream",
     "text": [
      "<class 'list'> #2722316076864: [20, 50, 80, 110, 140]\n"
     ]
    }
   ],
   "source": [
    "show_seq(numbers[2:17:3])"
   ]
  },
  {
   "cell_type": "markdown",
   "id": "ba07ebe2-1377-445d-99fa-027a968542bb",
   "metadata": {},
   "source": [
    "### if we dont specify the start or end we must specify the colon"
   ]
  },
  {
   "cell_type": "code",
   "execution_count": 19,
   "id": "71b614f5-f25d-4373-8d32-bd78290c6ad9",
   "metadata": {},
   "outputs": [
    {
     "name": "stdout",
     "output_type": "stream",
     "text": [
      "<class 'list'> #2722322556288: [0, 10, 20, 30, 40, 50, 60, 70, 80, 90, 100, 110, 120, 130, 140]\n"
     ]
    }
   ],
   "source": [
    "show_seq(numbers[:15])"
   ]
  },
  {
   "cell_type": "code",
   "execution_count": 21,
   "id": "2eab4c9d-e361-434a-9474-329a2c6096ed",
   "metadata": {},
   "outputs": [
    {
     "name": "stdout",
     "output_type": "stream",
     "text": [
      "<class 'list'> #2722322880448: [0, 30, 60, 90, 120, 150, 180]\n"
     ]
    }
   ],
   "source": [
    "show_seq(numbers[::3]) # show every third item"
   ]
  },
  {
   "cell_type": "code",
   "execution_count": 23,
   "id": "e63d9285-aff0-44bf-871f-1faae98369f1",
   "metadata": {},
   "outputs": [
    {
     "name": "stdout",
     "output_type": "stream",
     "text": [
      "<class 'list'> #2722322556288: [200, 190, 180, 170, 160, 150, 140, 130, 120, 110, 100, 90, 80, 70, 60, 50, 40, 30, 20, 10, 0]\n"
     ]
    }
   ],
   "source": [
    "show_seq(numbers[::-1]) #reverse"
   ]
  },
  {
   "cell_type": "code",
   "execution_count": 24,
   "id": "6e0b9421-6f3a-4957-9952-9152500f2344",
   "metadata": {},
   "outputs": [
    {
     "name": "stdout",
     "output_type": "stream",
     "text": [
      "[200, 190, 180, 170, 160, 150, 140, 130, 120, 110, 100, 90, 80, 70, 60, 50, 40, 30, 20, 10, 0]\n"
     ]
    }
   ],
   "source": [
    "rev = numbers[::-1]\n",
    "print(rev)"
   ]
  },
  {
   "cell_type": "markdown",
   "id": "3e10f5fb-44b1-4a9d-b7c0-4f75f562858a",
   "metadata": {},
   "source": [
    "### Modifiers\n",
    "\n",
    "* we can modify a list by using\n",
    "    * set indexer\n",
    "    * append (adds item to the end)\n",
    "    * extend (adds another sequende to the end)\n",
    "    * insert item in between\n",
    "    * pop() removes item from a pos (default end)\n",
    "    * remove() removes value form the item"
   ]
  },
  {
   "cell_type": "code",
   "execution_count": 26,
   "id": "703c6264-979d-4917-b2ac-bcdb874ee456",
   "metadata": {},
   "outputs": [
    {
     "name": "stdout",
     "output_type": "stream",
     "text": [
      "<class 'list'> #2722322601088: [0, 10, 20, 30, 40, 50, 60, 70, 80, 90, 100, 110, 120, 130, 140, 150, 160, 170, 180, 190, 200]\n"
     ]
    }
   ],
   "source": [
    "show_seq(numbers)"
   ]
  },
  {
   "cell_type": "code",
   "execution_count": 27,
   "id": "c47eef6e-8ad1-4d1f-8325-f88d8aa9cf21",
   "metadata": {},
   "outputs": [
    {
     "data": {
      "text/plain": [
       "200"
      ]
     },
     "execution_count": 27,
     "metadata": {},
     "output_type": "execute_result"
    }
   ],
   "source": [
    "numbers.pop()"
   ]
  },
  {
   "cell_type": "code",
   "execution_count": 28,
   "id": "cc5728c8-bfa7-47af-8562-b4f12fc36395",
   "metadata": {},
   "outputs": [
    {
     "name": "stdout",
     "output_type": "stream",
     "text": [
      "<class 'list'> #2722322601088: [0, 10, 20, 30, 40, 50, 60, 70, 80, 90, 100, 110, 120, 130, 140, 150, 160, 170, 180, 190]\n"
     ]
    }
   ],
   "source": [
    "show_seq(numbers)"
   ]
  },
  {
   "cell_type": "code",
   "execution_count": 29,
   "id": "9145ff7c-71af-4fd5-8499-f23412c8f325",
   "metadata": {},
   "outputs": [
    {
     "name": "stdout",
     "output_type": "stream",
     "text": [
      "<class 'list'> #2722322601088: [0, 10, 20, 30, 50, 60, 70, 80, 90, 100, 110, 120, 130, 140, 150, 160, 170, 180, 190]\n"
     ]
    }
   ],
   "source": [
    "numbers.pop(4)\n",
    "show_seq(numbers)"
   ]
  },
  {
   "cell_type": "code",
   "execution_count": 32,
   "id": "859b3262-81e4-4842-bd2b-3543bb62fc8d",
   "metadata": {},
   "outputs": [],
   "source": [
    "numbers.append(200)\n",
    "numbers.insert(4,400)"
   ]
  },
  {
   "cell_type": "code",
   "execution_count": 38,
   "id": "157fe90e-0f96-4f50-a79e-5062f357010e",
   "metadata": {},
   "outputs": [
    {
     "name": "stdout",
     "output_type": "stream",
     "text": [
      "<class 'list'> #2722322601088: [0, 10, 20, 30, 400, 50, 60, 70, 80, 90, 100, 110, 120, 130, 140, 150, 160, 170, 180, 190, 200]\n"
     ]
    }
   ],
   "source": [
    "show_seq(numbers)"
   ]
  },
  {
   "cell_type": "code",
   "execution_count": 39,
   "id": "5b632cbc-ffc0-4236-a4ec-2b4452b890ca",
   "metadata": {},
   "outputs": [],
   "source": [
    "values1=[1,2,3,4,5]\n",
    "values2=[6,7,8,9,10]\n"
   ]
  },
  {
   "cell_type": "code",
   "execution_count": 40,
   "id": "e4280ba4-8a31-4805-8c33-569b6b5fbdda",
   "metadata": {},
   "outputs": [
    {
     "name": "stdout",
     "output_type": "stream",
     "text": [
      "6\n"
     ]
    }
   ],
   "source": [
    "values1.append(values2)\n",
    "print(len(values1))"
   ]
  },
  {
   "cell_type": "code",
   "execution_count": 41,
   "id": "466307be-f3b4-4e37-8bf7-f87393647bf7",
   "metadata": {},
   "outputs": [
    {
     "name": "stdout",
     "output_type": "stream",
     "text": [
      "[1, 2, 3, 4, 5, [6, 7, 8, 9, 10]]\n"
     ]
    }
   ],
   "source": [
    "print(values1)"
   ]
  },
  {
   "cell_type": "code",
   "execution_count": 44,
   "id": "e69416a0-d21d-4795-a833-4bd5f378b778",
   "metadata": {},
   "outputs": [
    {
     "name": "stdout",
     "output_type": "stream",
     "text": [
      "1\n",
      "[6, 7, 8, 9, 10]\n"
     ]
    }
   ],
   "source": [
    "print(values1[0])\n",
    "print(values1[5])"
   ]
  },
  {
   "cell_type": "code",
   "execution_count": 46,
   "id": "558094c5-d830-434b-845a-c1e6c7a03d1b",
   "metadata": {},
   "outputs": [
    {
     "name": "stdout",
     "output_type": "stream",
     "text": [
      "[1, 2, 3, 4, 5, 6, 7, 8, 9, 10]\n"
     ]
    }
   ],
   "source": [
    "values1=[1,2,3,4,5]\n",
    "values2=[6,7,8,9,10]\n",
    "\n",
    "values1.extend(values2) # add items from sequence\n",
    "print(values1)"
   ]
  },
  {
   "cell_type": "markdown",
   "id": "ce7b8cd4-66d9-4990-8379-e8efd51c6deb",
   "metadata": {},
   "source": [
    "### more helpers"
   ]
  },
  {
   "cell_type": "code",
   "execution_count": 49,
   "id": "c0c26fbb-2fd3-42e3-8b45-3c463b2ef2e1",
   "metadata": {},
   "outputs": [
    {
     "name": "stdout",
     "output_type": "stream",
     "text": [
      "2\n",
      "1\n",
      "0\n"
     ]
    }
   ],
   "source": [
    "values=[2,3,9,2,6]\n",
    "print(values.count(2))\n",
    "print(values.count(9))\n",
    "print(values.count(11))"
   ]
  },
  {
   "cell_type": "markdown",
   "id": "226ad7d8-c0da-4fdd-ac85-77f5c76c60c7",
   "metadata": {},
   "source": [
    "### tuples\n",
    "\n",
    "* is\n",
    "  * linear\n",
    "  * indexed\n",
    "  * immutable sequence\n",
    "* think of it like a read-only array of fixed values\n",
    "* it supports\n",
    "      * in\n",
    "      * for\n",
    "      * len()\n",
    "      * indexer for reading only\n",
    "          * slicer\n",
    "          * negative index\n",
    "* it doesn't support any mutable function like\n",
    "      * append()\n",
    "      * pop()\n",
    "\n",
    "\n",
    "#### To create a tuple we wrap values in parentheses"
   ]
  },
  {
   "cell_type": "code",
   "execution_count": 50,
   "id": "0cd7842b-c0d0-4358-981a-081d94825889",
   "metadata": {},
   "outputs": [
    {
     "name": "stdout",
     "output_type": "stream",
     "text": [
      "<class 'tuple'> #2722323059056: (2, 3, 9, 2, 6)\n"
     ]
    }
   ],
   "source": [
    "values=(2,3,9,2,6)\n",
    "show_seq(values)"
   ]
  },
  {
   "cell_type": "code",
   "execution_count": 51,
   "id": "779ac96c-0720-4a45-a842-de00ea0f333e",
   "metadata": {},
   "outputs": [
    {
     "name": "stdout",
     "output_type": "stream",
     "text": [
      "3\n",
      "6\n",
      "(6, 2, 9, 3, 2)\n"
     ]
    }
   ],
   "source": [
    "print(values[1])\n",
    "print(values[-1])\n",
    "print(values[::-1])"
   ]
  },
  {
   "cell_type": "code",
   "execution_count": 52,
   "id": "3f7db5d0-0bd8-4e88-9caf-52514482a379",
   "metadata": {},
   "outputs": [
    {
     "name": "stdout",
     "output_type": "stream",
     "text": [
      "True\n",
      "False\n",
      "2\n",
      "0\n"
     ]
    }
   ],
   "source": [
    "print( 2 in values)\n",
    "print(11 in values)\n",
    "print(values.count(2))\n",
    "print(values.count(11))"
   ]
  },
  {
   "cell_type": "code",
   "execution_count": 53,
   "id": "6c28ca51-9264-4ed0-bfc9-cc7f5d19e24d",
   "metadata": {},
   "outputs": [
    {
     "ename": "TypeError",
     "evalue": "'tuple' object does not support item assignment",
     "output_type": "error",
     "traceback": [
      "\u001b[1;31m---------------------------------------------------------------------------\u001b[0m",
      "\u001b[1;31mTypeError\u001b[0m                                 Traceback (most recent call last)",
      "Cell \u001b[1;32mIn[53], line 1\u001b[0m\n\u001b[1;32m----> 1\u001b[0m \u001b[43mvalues\u001b[49m\u001b[43m[\u001b[49m\u001b[38;5;241;43m1\u001b[39;49m\u001b[43m]\u001b[49m\u001b[38;5;241m=\u001b[39m\u001b[38;5;241m10\u001b[39m\n",
      "\u001b[1;31mTypeError\u001b[0m: 'tuple' object does not support item assignment"
     ]
    }
   ],
   "source": [
    "values[1]=10"
   ]
  },
  {
   "cell_type": "code",
   "execution_count": 54,
   "id": "a4658ef8-c902-40d8-95fc-4d4d06b10f59",
   "metadata": {},
   "outputs": [
    {
     "ename": "AttributeError",
     "evalue": "'tuple' object has no attribute 'append'",
     "output_type": "error",
     "traceback": [
      "\u001b[1;31m---------------------------------------------------------------------------\u001b[0m",
      "\u001b[1;31mAttributeError\u001b[0m                            Traceback (most recent call last)",
      "Cell \u001b[1;32mIn[54], line 1\u001b[0m\n\u001b[1;32m----> 1\u001b[0m \u001b[43mvalues\u001b[49m\u001b[38;5;241;43m.\u001b[39;49m\u001b[43mappend\u001b[49m(\u001b[38;5;241m10\u001b[39m)\n",
      "\u001b[1;31mAttributeError\u001b[0m: 'tuple' object has no attribute 'append'"
     ]
    }
   ],
   "source": [
    "values.append(10)"
   ]
  },
  {
   "cell_type": "code",
   "execution_count": 55,
   "id": "83566f13-9fd2-45da-8d95-1bb39144e789",
   "metadata": {},
   "outputs": [
    {
     "ename": "AttributeError",
     "evalue": "'tuple' object has no attribute 'pop'",
     "output_type": "error",
     "traceback": [
      "\u001b[1;31m---------------------------------------------------------------------------\u001b[0m",
      "\u001b[1;31mAttributeError\u001b[0m                            Traceback (most recent call last)",
      "Cell \u001b[1;32mIn[55], line 1\u001b[0m\n\u001b[1;32m----> 1\u001b[0m \u001b[43mvalues\u001b[49m\u001b[38;5;241;43m.\u001b[39;49m\u001b[43mpop\u001b[49m()\n",
      "\u001b[1;31mAttributeError\u001b[0m: 'tuple' object has no attribute 'pop'"
     ]
    }
   ],
   "source": [
    "values.pop()"
   ]
  },
  {
   "cell_type": "code",
   "execution_count": 56,
   "id": "012ee3f2-94eb-4d56-852e-dd55998c437b",
   "metadata": {},
   "outputs": [
    {
     "name": "stdout",
     "output_type": "stream",
     "text": [
      "2\t3\t9\t2\t6\t"
     ]
    }
   ],
   "source": [
    "for value in values:\n",
    "    print(value,end=\"\\t\")"
   ]
  },
  {
   "cell_type": "markdown",
   "id": "bd187512-aaae-41c5-87ce-13223767a2de",
   "metadata": {},
   "source": [
    "### Special cases\n",
    "\n",
    "* Creating a tuple of 1 Item\n",
    "* following code is not considered as tuple\n",
    "* it is a expression sorrounded in parenthese\n",
    "  "
   ]
  },
  {
   "cell_type": "code",
   "execution_count": 58,
   "id": "8cab6822-9170-4464-9e45-d19be3a09b8e",
   "metadata": {},
   "outputs": [
    {
     "name": "stdout",
     "output_type": "stream",
     "text": [
      "<class 'int'> #140705688642952: 20\n"
     ]
    }
   ],
   "source": [
    "x=(20)\n",
    "show_seq(x)"
   ]
  },
  {
   "cell_type": "markdown",
   "id": "2a8569a5-2168-4b7b-94ab-f7bc92469e56",
   "metadata": {},
   "source": [
    "#### we have to provide a trailing comma"
   ]
  },
  {
   "cell_type": "code",
   "execution_count": 59,
   "id": "f9cb3ec2-cf79-46ab-80aa-c259cab1a91e",
   "metadata": {},
   "outputs": [
    {
     "name": "stdout",
     "output_type": "stream",
     "text": [
      "<class 'tuple'> #2722317850736: (20,)\n"
     ]
    }
   ],
   "source": [
    "x=(20,)\n",
    "show_seq(x)"
   ]
  },
  {
   "cell_type": "markdown",
   "id": "7897b59c-4607-4cce-8f2e-b2c609f91dd3",
   "metadata": {},
   "source": [
    "### creating an empty tuple"
   ]
  },
  {
   "cell_type": "code",
   "execution_count": 60,
   "id": "cb151e88-f153-4494-a9e3-a208ae8f0db3",
   "metadata": {},
   "outputs": [
    {
     "name": "stdout",
     "output_type": "stream",
     "text": [
      "<class 'tuple'> #140705688700376: ()\n"
     ]
    }
   ],
   "source": [
    "x=tuple()\n",
    "show_seq(x)"
   ]
  },
  {
   "cell_type": "markdown",
   "id": "809483c6-dd46-4fdb-bf41-9894a3a2ad9c",
   "metadata": {},
   "source": [
    "## set\n",
    "\n",
    "* set is\n",
    "   * dynamic\n",
    "   * non linear (not-indexed)\n",
    "   * sequence of **unique** values\n",
    "        * duplicate values are silently ignored\n",
    " \n",
    "* supports\n",
    "   * adding of items\n",
    "   * removeing of items\n",
    "   * in keyword\n",
    "   * for keyword\n",
    "   * len()\n",
    " \n",
    "* doesn't support\n",
    "   * any indexer\n",
    " \n",
    "* creatdd by wrapping values in **{}**"
   ]
  },
  {
   "cell_type": "code",
   "execution_count": 61,
   "id": "f8e9e154-962d-4f34-9191-32ae31984f68",
   "metadata": {},
   "outputs": [
    {
     "name": "stdout",
     "output_type": "stream",
     "text": [
      "<class 'set'> #2722322034336: {9, 2, 3, 6}\n"
     ]
    }
   ],
   "source": [
    "items={2,3,9,2,6}\n",
    "\n",
    "show_seq(items)"
   ]
  },
  {
   "cell_type": "code",
   "execution_count": 62,
   "id": "41747a84-e26f-4e8a-932e-6a8567741804",
   "metadata": {},
   "outputs": [
    {
     "name": "stdout",
     "output_type": "stream",
     "text": [
      "True\n",
      "False\n"
     ]
    }
   ],
   "source": [
    "print(2 in items)\n",
    "print(11 in items)"
   ]
  },
  {
   "cell_type": "code",
   "execution_count": 63,
   "id": "657efb85-8a64-4a02-89f5-690f0b9d6daa",
   "metadata": {},
   "outputs": [
    {
     "name": "stdout",
     "output_type": "stream",
     "text": [
      "9\t2\t3\t6\t"
     ]
    }
   ],
   "source": [
    "for x in items:\n",
    "    print(x, end='\\t')"
   ]
  },
  {
   "cell_type": "code",
   "execution_count": 64,
   "id": "a4cfd211-57e7-4e1d-84c0-42d34498d67f",
   "metadata": {},
   "outputs": [
    {
     "name": "stdout",
     "output_type": "stream",
     "text": [
      "<class 'set'> #2722322034336: {2, 3, 4, 6, 7, 9}\n"
     ]
    }
   ],
   "source": [
    "items.add(4)\n",
    "items.add(2) # ignored\n",
    "items.add(7)\n",
    "items.add(9) # ignored\n",
    "show_seq(items)"
   ]
  },
  {
   "cell_type": "code",
   "execution_count": 65,
   "id": "fc8a6010-c85c-4429-ac5f-01db64c14898",
   "metadata": {},
   "outputs": [
    {
     "ename": "TypeError",
     "evalue": "'set' object is not subscriptable",
     "output_type": "error",
     "traceback": [
      "\u001b[1;31m---------------------------------------------------------------------------\u001b[0m",
      "\u001b[1;31mTypeError\u001b[0m                                 Traceback (most recent call last)",
      "Cell \u001b[1;32mIn[65], line 1\u001b[0m\n\u001b[1;32m----> 1\u001b[0m \u001b[43mitems\u001b[49m\u001b[43m[\u001b[49m\u001b[38;5;241;43m0\u001b[39;49m\u001b[43m]\u001b[49m\n",
      "\u001b[1;31mTypeError\u001b[0m: 'set' object is not subscriptable"
     ]
    }
   ],
   "source": [
    "items[0]"
   ]
  },
  {
   "cell_type": "markdown",
   "id": "539368d3-32b0-4749-992d-5d38727c45db",
   "metadata": {},
   "source": [
    "### Special set operations\n",
    "\n",
    "* supports speical operations from arithmetic set theory\n",
    "  * union\n",
    "  * itersection\n",
    "  * difference\n",
    "  * issubset\n",
    "  * isdisjoin"
   ]
  },
  {
   "cell_type": "code",
   "execution_count": 66,
   "id": "51839737-b012-402a-9bd3-67ae277bb8b9",
   "metadata": {},
   "outputs": [],
   "source": [
    "U = {1,2,3,4,5,6,7,8,9,10}\n",
    "odds={1,3,5,7,9}\n",
    "evens={0,2,4,6,8,10}\n",
    "f5={5,10}"
   ]
  },
  {
   "cell_type": "code",
   "execution_count": 69,
   "id": "ff446421-a015-4930-90d0-393e63daab38",
   "metadata": {},
   "outputs": [
    {
     "name": "stdout",
     "output_type": "stream",
     "text": [
      "True\n",
      "False\n"
     ]
    }
   ],
   "source": [
    "print(odds.issubset(U))\n",
    "print(evens.issubset(U)) # False, even as additional 0"
   ]
  },
  {
   "cell_type": "code",
   "execution_count": 70,
   "id": "57acaca9-10a7-496e-a797-d7f87d03f39c",
   "metadata": {},
   "outputs": [
    {
     "name": "stdout",
     "output_type": "stream",
     "text": [
      "True\n",
      "False\n"
     ]
    }
   ],
   "source": [
    "print(odds.isdisjoint(evens)) #True\n",
    "print(odds.isdisjoint(f5)) # false has common 5"
   ]
  },
  {
   "cell_type": "code",
   "execution_count": 71,
   "id": "ff1627ae-7512-43de-b37f-6f6350a460cf",
   "metadata": {},
   "outputs": [
    {
     "data": {
      "text/plain": [
       "{1, 3, 5, 7, 9, 10}"
      ]
     },
     "execution_count": 71,
     "metadata": {},
     "output_type": "execute_result"
    }
   ],
   "source": [
    "odds.union(f5) # {1,3,5,7,9,10}"
   ]
  },
  {
   "cell_type": "code",
   "execution_count": 72,
   "id": "ea78fa2f-3af1-4bbc-bf7a-a332addfbb40",
   "metadata": {},
   "outputs": [
    {
     "data": {
      "text/plain": [
       "{5}"
      ]
     },
     "execution_count": 72,
     "metadata": {},
     "output_type": "execute_result"
    }
   ],
   "source": [
    "odds.intersection(f5) #{5}"
   ]
  },
  {
   "cell_type": "code",
   "execution_count": 73,
   "id": "8fa15466-4c12-4d8d-b08c-d4ae306c7460",
   "metadata": {},
   "outputs": [
    {
     "data": {
      "text/plain": [
       "{1, 3, 7, 9}"
      ]
     },
     "execution_count": 73,
     "metadata": {},
     "output_type": "execute_result"
    }
   ],
   "source": [
    "odds.difference(f5) # all items in odds that are not present in f5"
   ]
  },
  {
   "cell_type": "markdown",
   "id": "58c5da08-50f0-4002-a780-4ae1660b2045",
   "metadata": {},
   "source": [
    "### udpate vesion\n",
    "\n",
    "* we have \n",
    "    * intersection_update\n",
    "        * updates current set with intersection values\n",
    "    * difference_update\n",
    "        * updates crrent set with difference values\n",
    "    * update\n",
    "        * updates currents et with union values"
   ]
  },
  {
   "cell_type": "code",
   "execution_count": 74,
   "id": "c3559c10-b9f6-4cf9-91e6-cb491d5199a8",
   "metadata": {},
   "outputs": [],
   "source": [
    "odds.difference_update(f5) # odds set will updated with value\n"
   ]
  },
  {
   "cell_type": "code",
   "execution_count": 75,
   "id": "cd336db1-3e09-4ffb-b479-0c907f62c125",
   "metadata": {},
   "outputs": [
    {
     "name": "stdout",
     "output_type": "stream",
     "text": [
      "{1, 3, 7, 9}\n"
     ]
    }
   ],
   "source": [
    "print(odds)"
   ]
  },
  {
   "cell_type": "markdown",
   "id": "727f22b1-dc8b-4c11-8c49-2b47a5b450eb",
   "metadata": {},
   "source": [
    "### dict\n",
    "\n",
    "* dictionary is\n",
    "    * dynamic\n",
    "    * non-linear\n",
    "    * sequence of key-value pair\n",
    "      * indxed on key\n",
    "      * keys are unique\n",
    "* support\n",
    "    * for ---> to loop on keys\n",
    "    * in ---> to search for keys\n",
    "    * indexer ---> to get/set value for the key\n",
    " \n",
    "* we create dict object by wrapping key-value pair (separated by colon) in **{}**"
   ]
  },
  {
   "cell_type": "code",
   "execution_count": 78,
   "id": "82e42617-4f1a-411a-858e-ce6f69e6a13a",
   "metadata": {},
   "outputs": [
    {
     "name": "stdout",
     "output_type": "stream",
     "text": [
      "<class 'dict'> #2722323384512: {'IN': 'India', 'FR': 'France', 'JP': 'Japan', 91: 'India', 'UK': 'United Kingdom'}\n"
     ]
    }
   ],
   "source": [
    "codes={ \"IN\":\"India\", \"FR\":\"France\", \"JP\":\"Japan\", 91:\"India\", 'UK':\"United Kingdom\" }\n",
    "show_seq(codes)"
   ]
  },
  {
   "cell_type": "code",
   "execution_count": 79,
   "id": "a2392ac7-f971-4b6a-b91c-6681d8de35eb",
   "metadata": {},
   "outputs": [
    {
     "name": "stdout",
     "output_type": "stream",
     "text": [
      "True\n",
      "False\n"
     ]
    }
   ],
   "source": [
    "print('IN' in codes)\n",
    "print('PK' in codes)"
   ]
  },
  {
   "cell_type": "code",
   "execution_count": 80,
   "id": "b1faaaf5-7e51-43b0-ab9f-37d5b80353ef",
   "metadata": {},
   "outputs": [
    {
     "name": "stdout",
     "output_type": "stream",
     "text": [
      "<class 'dict'> #2722323384512: {'IN': 'India', 'FR': 'France', 'JP': 'Japan', 91: 'India', 'UK': 'Great Britain', 'DE': 'Germany'}\n"
     ]
    }
   ],
   "source": [
    "codes['DE']=\"Germany\" # adds new key-value pair\n",
    "codes['UK']=\"Great Britain\" # updates current key with new value\n",
    "\n",
    "show_seq(codes)"
   ]
  },
  {
   "cell_type": "markdown",
   "id": "0aba2c69-36d5-42d1-acae-424407a19302",
   "metadata": {},
   "source": [
    "### looping over the key value"
   ]
  },
  {
   "cell_type": "code",
   "execution_count": 81,
   "id": "e2932632-9f1d-4e25-8b66-be0b93598164",
   "metadata": {},
   "outputs": [
    {
     "name": "stdout",
     "output_type": "stream",
     "text": [
      "IN\tFR\tJP\t91\tUK\tDE\t"
     ]
    }
   ],
   "source": [
    "for x in codes:\n",
    "    print(x,end=\"\\t\")"
   ]
  },
  {
   "cell_type": "code",
   "execution_count": 82,
   "id": "c88ddd67-11a3-4ad9-966f-8b4223a634be",
   "metadata": {},
   "outputs": [
    {
     "name": "stdout",
     "output_type": "stream",
     "text": [
      "IN India\n",
      "FR France\n",
      "JP Japan\n",
      "91 India\n",
      "UK Great Britain\n",
      "DE Germany\n"
     ]
    }
   ],
   "source": [
    "for key in codes:\n",
    "    print(key, codes[key])"
   ]
  },
  {
   "cell_type": "markdown",
   "id": "618477e6-6396-4c3c-a5ca-f29e59448900",
   "metadata": {},
   "source": [
    "### we can also access keys, values, pairs separately"
   ]
  },
  {
   "cell_type": "code",
   "execution_count": 83,
   "id": "425c1940-39ab-4bce-ae78-5f699ec13ffc",
   "metadata": {},
   "outputs": [
    {
     "data": {
      "text/plain": [
       "dict_keys(['IN', 'FR', 'JP', 91, 'UK', 'DE'])"
      ]
     },
     "execution_count": 83,
     "metadata": {},
     "output_type": "execute_result"
    }
   ],
   "source": [
    "codes.keys()"
   ]
  },
  {
   "cell_type": "code",
   "execution_count": 84,
   "id": "4dcaa4e9-70f1-4cc9-8018-9107ce96f9c3",
   "metadata": {},
   "outputs": [
    {
     "data": {
      "text/plain": [
       "dict_values(['India', 'France', 'Japan', 'India', 'Great Britain', 'Germany'])"
      ]
     },
     "execution_count": 84,
     "metadata": {},
     "output_type": "execute_result"
    }
   ],
   "source": [
    "codes.values()"
   ]
  },
  {
   "cell_type": "code",
   "execution_count": 85,
   "id": "410c0709-f4e6-4710-8187-673a3689816e",
   "metadata": {},
   "outputs": [
    {
     "data": {
      "text/plain": [
       "dict_items([('IN', 'India'), ('FR', 'France'), ('JP', 'Japan'), (91, 'India'), ('UK', 'Great Britain'), ('DE', 'Germany')])"
      ]
     },
     "execution_count": 85,
     "metadata": {},
     "output_type": "execute_result"
    }
   ],
   "source": [
    "codes.items()"
   ]
  },
  {
   "cell_type": "markdown",
   "id": "f6b027a4-8955-42bd-9ea0-51f7bea87357",
   "metadata": {},
   "source": [
    "### Note : each item is like a tuple"
   ]
  },
  {
   "cell_type": "code",
   "execution_count": 87,
   "id": "268cb732-ea92-48c7-8341-f69e612e0d57",
   "metadata": {},
   "outputs": [
    {
     "name": "stdout",
     "output_type": "stream",
     "text": [
      "IN India\n",
      "FR France\n",
      "JP Japan\n",
      "91 India\n",
      "UK Great Britain\n",
      "DE Germany\n"
     ]
    }
   ],
   "source": [
    "for item in codes.items():\n",
    "    print(item[0], item[1])"
   ]
  },
  {
   "cell_type": "markdown",
   "id": "5a69b5cb-4272-4b17-8059-6b02e3a4ffae",
   "metadata": {},
   "source": [
    "#### we can also de-struct tuple values in two parts"
   ]
  },
  {
   "cell_type": "code",
   "execution_count": 88,
   "id": "40352d73-ae7b-4bdf-b158-c00df85336e2",
   "metadata": {},
   "outputs": [
    {
     "name": "stdout",
     "output_type": "stream",
     "text": [
      "IN India\n",
      "FR France\n",
      "JP Japan\n",
      "91 India\n",
      "UK Great Britain\n",
      "DE Germany\n"
     ]
    }
   ],
   "source": [
    "for code,country in codes.items():\n",
    "    print(code,country)"
   ]
  },
  {
   "cell_type": "markdown",
   "id": "cac9a591-e3db-4184-b861-85aeeccbdf84",
   "metadata": {},
   "source": [
    "### Handling missing keys\n",
    "\n",
    "* dict provides two ways to fetch value of a given key\n",
    "  * indexer\n",
    "      * raises error if key is not found\n",
    "  * get()\n",
    "    * returns a user defined default if key is not found\n",
    "          * defaults to None if no user defined value is given"
   ]
  },
  {
   "cell_type": "code",
   "execution_count": 89,
   "id": "7000c07f-2a58-42bc-8a44-a34be77f98d2",
   "metadata": {},
   "outputs": [
    {
     "data": {
      "text/plain": [
       "'India'"
      ]
     },
     "execution_count": 89,
     "metadata": {},
     "output_type": "execute_result"
    }
   ],
   "source": [
    "codes[91]"
   ]
  },
  {
   "cell_type": "code",
   "execution_count": 90,
   "id": "8e565ce4-b7dd-491c-9642-a3063c9545fc",
   "metadata": {},
   "outputs": [
    {
     "ename": "KeyError",
     "evalue": "'PK'",
     "output_type": "error",
     "traceback": [
      "\u001b[1;31m---------------------------------------------------------------------------\u001b[0m",
      "\u001b[1;31mKeyError\u001b[0m                                  Traceback (most recent call last)",
      "Cell \u001b[1;32mIn[90], line 1\u001b[0m\n\u001b[1;32m----> 1\u001b[0m \u001b[43mcodes\u001b[49m\u001b[43m[\u001b[49m\u001b[38;5;124;43m'\u001b[39;49m\u001b[38;5;124;43mPK\u001b[39;49m\u001b[38;5;124;43m'\u001b[39;49m\u001b[43m]\u001b[49m\n",
      "\u001b[1;31mKeyError\u001b[0m: 'PK'"
     ]
    }
   ],
   "source": [
    "codes['PK']"
   ]
  },
  {
   "cell_type": "code",
   "execution_count": 91,
   "id": "af7faae9-034e-44e7-8c6f-780d3dcb20be",
   "metadata": {},
   "outputs": [
    {
     "data": {
      "text/plain": [
       "'India'"
      ]
     },
     "execution_count": 91,
     "metadata": {},
     "output_type": "execute_result"
    }
   ],
   "source": [
    "codes.get(91)"
   ]
  },
  {
   "cell_type": "code",
   "execution_count": 93,
   "id": "035a4769-5aef-4dd2-965e-0eb563148b45",
   "metadata": {},
   "outputs": [
    {
     "name": "stdout",
     "output_type": "stream",
     "text": [
      "None\n"
     ]
    }
   ],
   "source": [
    "print(codes.get('PK'))"
   ]
  },
  {
   "cell_type": "code",
   "execution_count": 95,
   "id": "d625764f-0109-49b6-822c-6fb51cc33b0a",
   "metadata": {},
   "outputs": [
    {
     "name": "stdout",
     "output_type": "stream",
     "text": [
      "India\n",
      "not found\n"
     ]
    }
   ],
   "source": [
    "print(codes.get('IN','not found'))\n",
    "print(codes.get('PK','not found'))"
   ]
  },
  {
   "cell_type": "markdown",
   "id": "c1b62df5-c0d4-4ff2-a048-86dc2cfb8ac8",
   "metadata": {},
   "source": [
    "### Special case\n",
    "\n",
    "* we often use **string** as the key\n",
    "* in case your **dict** has all **str** key during initalization we can use a special syntax\n",
    "* we pass the parameter to **dict** function as key-value pair\n",
    "  * Note key is not quoted\n",
    "  * we are using = and not :"
   ]
  },
  {
   "cell_type": "code",
   "execution_count": 96,
   "id": "9f77b7e6-6c05-4941-b002-f2b72ef140a8",
   "metadata": {},
   "outputs": [
    {
     "name": "stdout",
     "output_type": "stream",
     "text": [
      "<class 'dict'> #2722316346944: {'IN': 'India', 'JP': 'Japan', 'FR': 'France'}\n"
     ]
    }
   ],
   "source": [
    "codes = dict( IN=\"India\", JP=\"Japan\", FR=\"France\" )\n",
    "show_seq(codes)"
   ]
  },
  {
   "cell_type": "code",
   "execution_count": null,
   "id": "9d977c77-9dca-4bfe-8c32-4453f3e7157f",
   "metadata": {},
   "outputs": [],
   "source": []
  }
 ],
 "metadata": {
  "kernelspec": {
   "display_name": "Python 3 (ipykernel)",
   "language": "python",
   "name": "python3"
  },
  "language_info": {
   "codemirror_mode": {
    "name": "ipython",
    "version": 3
   },
   "file_extension": ".py",
   "mimetype": "text/x-python",
   "name": "python",
   "nbconvert_exporter": "python",
   "pygments_lexer": "ipython3",
   "version": "3.11.5"
  }
 },
 "nbformat": 4,
 "nbformat_minor": 5
}
