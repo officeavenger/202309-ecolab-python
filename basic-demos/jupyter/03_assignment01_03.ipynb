{
 "cells": [
  {
   "cell_type": "markdown",
   "metadata": {},
   "source": [
    "## Assignment 1 (Find the largest Number)\n",
    "\n",
    "### solution#1"
   ]
  },
  {
   "cell_type": "code",
   "execution_count": 3,
   "metadata": {},
   "outputs": [
    {
     "name": "stdin",
     "output_type": "stream",
     "text": [
      "total values? 5\n",
      "number#1?  2\n",
      "number#2?  9\n",
      "number#3?  5\n",
      "number#4?  4\n",
      "number#5?  1\n"
     ]
    },
    {
     "name": "stdout",
     "output_type": "stream",
     "text": [
      "highest is 9\n"
     ]
    }
   ],
   "source": [
    "\n",
    "total=int(input(\"total values?\"))\n",
    "count=0\n",
    "max=None\n",
    "\n",
    "while count<total:\n",
    "    count+=1\n",
    "    value=int(input(f\"number#{count}? \"))\n",
    "    if max==None or value>max:\n",
    "        max=value\n",
    "\n",
    "print(f'highest is {max}')\n",
    "\n"
   ]
  },
  {
   "cell_type": "markdown",
   "metadata": {},
   "source": [
    "### Solution #2\n"
   ]
  },
  {
   "cell_type": "code",
   "execution_count": 4,
   "metadata": {},
   "outputs": [
    {
     "name": "stdin",
     "output_type": "stream",
     "text": [
      "total values? 5\n",
      "number#1?  4\n",
      "number#2?  0\n",
      "number#3?  1\n",
      "number#4?  9\n",
      "number#5?  2\n"
     ]
    },
    {
     "name": "stdout",
     "output_type": "stream",
     "text": [
      "highest is 9\n"
     ]
    }
   ],
   "source": [
    "\n",
    "total=int(input(\"total values?\"))\n",
    "count=1\n",
    "max=int(input(f'number#1? '))\n",
    "\n",
    "while count<total:\n",
    "    count+=1\n",
    "    value=int(input(f\"number#{count}? \"))\n",
    "    if value>max:\n",
    "        max=value\n",
    "\n",
    "print(f'highest is {max}')\n",
    "\n"
   ]
  },
  {
   "cell_type": "markdown",
   "metadata": {},
   "source": [
    "### Assignment #2 Find the second largest number in given set\n",
    "\n"
   ]
  },
  {
   "cell_type": "code",
   "execution_count": 5,
   "metadata": {},
   "outputs": [
    {
     "name": "stdin",
     "output_type": "stream",
     "text": [
      "total values? 5\n",
      "number#1? 2\n",
      "number#2?  5\n",
      "number#3?  1\n",
      "number#4?  0\n",
      "number#5?  1\n"
     ]
    },
    {
     "name": "stdout",
     "output_type": "stream",
     "text": [
      "second highest is 2\n"
     ]
    }
   ],
   "source": [
    "\n",
    "total=int(input(\"total values?\"))\n",
    "\n",
    "count=1\n",
    "max=int(input(\"number#1?\"))\n",
    "max2=None # we don't know yet\n",
    "\n",
    "while count<total:\n",
    "    count+=1\n",
    "    value=int(input(f\"number#{count}? \"))\n",
    "    if value>max:\n",
    "        max2=max\n",
    "        max=value\n",
    "    elif value<max and (max2==None or value>max2) :\n",
    "        max2=value\n",
    "\n",
    "if max!=max2:\n",
    "    print(f'second highest is {max2}')\n",
    "else:\n",
    "    print(f'All values are same. No second hightest')\n",
    "\n"
   ]
  },
  {
   "cell_type": "markdown",
   "metadata": {},
   "source": [
    "### Assignment #3  Find All Primes in a given range"
   ]
  },
  {
   "cell_type": "code",
   "execution_count": 6,
   "metadata": {},
   "outputs": [],
   "source": [
    "def is_prime(number):\n",
    "    if number<2:\n",
    "        return False\n",
    "    test=2\n",
    "    while test<number:\n",
    "        if number%test==0:\n",
    "            return False\n",
    "        test+=1\n",
    "\n",
    "    return True\n",
    "\n",
    "def find_primes(min,max):\n",
    "    count=min\n",
    "    while count<max:\n",
    "        if is_prime(count):\n",
    "            print(count,end='\\t')\n",
    "        count+=1\n",
    "\n",
    "    print()"
   ]
  },
  {
   "cell_type": "code",
   "execution_count": 7,
   "metadata": {},
   "outputs": [
    {
     "name": "stdout",
     "output_type": "stream",
     "text": [
      "2\t3\t5\t7\t11\t13\t17\t19\t23\t29\t31\t37\t41\t43\t47\t\n"
     ]
    }
   ],
   "source": [
    "find_primes(0,50)"
   ]
  },
  {
   "cell_type": "code",
   "execution_count": 8,
   "metadata": {},
   "outputs": [
    {
     "name": "stdout",
     "output_type": "stream",
     "text": [
      "53\t59\t61\t67\t71\t73\t79\t83\t89\t97\t\n"
     ]
    }
   ],
   "source": [
    "find_primes(50,100)"
   ]
  },
  {
   "cell_type": "markdown",
   "metadata": {},
   "source": [
    "## Assignment 4  Week day related to current date\n",
    "\n",
    "### Solution Flow\n",
    "\n",
    "1. We take a reference date whose day value is known **01/01/2004** was a sunday\n",
    "2. We need to find the difference%7 between our date (input) and the reference date\n",
    "    * 0 ---> Sunday\n",
    "    * 1 ---> Monday\n",
    "    * ...\n",
    "  \n",
    "3. Let us divide our requirement in smaller functions\n",
    "\n",
    "\n",
    "### 4.1 get_week_day_name( index)"
   ]
  },
  {
   "cell_type": "code",
   "execution_count": 17,
   "metadata": {},
   "outputs": [],
   "source": [
    "def week_day_name(index):\n",
    "    if index==0: return \"Sunday\"\n",
    "    elif index==1: return \"Monday\"\n",
    "    elif index==2: return \"Tuesday\"\n",
    "    elif index==3: return \"Wednesday\"\n",
    "    elif index==4: return \"Thursday\"\n",
    "    elif index==5: return \"Friday\"\n",
    "    elif index==6: return \"Saturday\"\n",
    "    "
   ]
  },
  {
   "cell_type": "code",
   "execution_count": 18,
   "metadata": {},
   "outputs": [
    {
     "data": {
      "text/plain": [
       "'Friday'"
      ]
     },
     "execution_count": 18,
     "metadata": {},
     "output_type": "execute_result"
    }
   ],
   "source": [
    "week_day_name(5)"
   ]
  },
  {
   "cell_type": "code",
   "execution_count": 19,
   "metadata": {},
   "outputs": [
    {
     "data": {
      "text/plain": [
       "'Sunday'"
      ]
     },
     "execution_count": 19,
     "metadata": {},
     "output_type": "execute_result"
    }
   ],
   "source": [
    "week_day_name(0)"
   ]
  },
  {
   "cell_type": "markdown",
   "metadata": {},
   "source": [
    "### Part 2 To find the difference we will need to know how many days each month has"
   ]
  },
  {
   "cell_type": "code",
   "execution_count": 26,
   "metadata": {},
   "outputs": [],
   "source": [
    "def is_leap_year(year):\n",
    "    return (year%100!=0 and year%4==0) or year%400==0\n",
    "\n",
    "def days_in_month(month , year=1990):\n",
    "    if month==2:\n",
    "        return 28+int(is_leap_year(year))        \n",
    "    elif (month<8 and month%2!=0) or (month>=8 and month%2==0):\n",
    "        return 31\n",
    "    else:\n",
    "        return 30\n",
    "    "
   ]
  },
  {
   "cell_type": "code",
   "execution_count": 29,
   "metadata": {},
   "outputs": [
    {
     "name": "stdout",
     "output_type": "stream",
     "text": [
      "31\t28\t31\t30\t31\t30\t31\t31\t30\t31\t30\t31\t\n",
      "leap feb 29\n"
     ]
    }
   ],
   "source": [
    "m=1\n",
    "while m<=12:\n",
    "    print(days_in_month(m),end=\"\\t\")\n",
    "    m+=1\n",
    "\n",
    "print('\\nleap feb', days_in_month(2,1996))"
   ]
  },
  {
   "cell_type": "markdown",
   "metadata": {},
   "source": [
    "### How do I find difference of input_date and ref_date?\n",
    "\n",
    "* let us start with a base date (01/01/0000)\n",
    "* and find the gap from this date\n",
    "\n",
    "* assume current date is 30/01/1948\n",
    "\n",
    "<pre>\n",
    "\n",
    "01/01/0000 |------------days1----------------|(30/01/1948)\n",
    "01/01/0000 |------------days2----------------|--------------------------| (01/01/2004)\n",
    "                                                   (days2-days1)%7\n",
    "\n",
    "</pre>\n",
    "\n",
    "\n",
    "* let us write a function to find out **date_value** for a given date where day_value is days elapsed since beginig of time"
   ]
  },
  {
   "cell_type": "code",
   "execution_count": 82,
   "metadata": {},
   "outputs": [],
   "source": [
    "def date_value(day ,month, year):\n",
    "    value=0\n",
    "    y=year-1\n",
    "    # total days elapsed till the end of previous year\n",
    "    value = y * 365 + y//4  - y//100 + y//400\n",
    "\n",
    "    # add total days passed till previous month of this year\n",
    "    m=1\n",
    "    while m<month:\n",
    "        #print(f'Adding {days_in_month(m,year)} for {m}/{year}')\n",
    "        value+= days_in_month(m,year)\n",
    "        m+=1\n",
    "\n",
    "    #add days of this month\n",
    "    value+=day\n",
    "    return value\n",
    "    "
   ]
  },
  {
   "cell_type": "code",
   "execution_count": null,
   "metadata": {},
   "outputs": [],
   "source": []
  },
  {
   "cell_type": "markdown",
   "metadata": {},
   "source": [
    "\n",
    "#### find week_day_name for a given date"
   ]
  },
  {
   "cell_type": "code",
   "execution_count": 83,
   "metadata": {},
   "outputs": [],
   "source": [
    "def date_to_week_day(date,month,year):\n",
    "    ref_date = date_value(1,1,2006)\n",
    "    input_date= date_value(date,month,year)\n",
    "    diff= (input_date-ref_date) % 7\n",
    "    return week_day_name(diff)"
   ]
  },
  {
   "cell_type": "code",
   "execution_count": 84,
   "metadata": {},
   "outputs": [
    {
     "data": {
      "text/plain": [
       "'Thursday'"
      ]
     },
     "execution_count": 84,
     "metadata": {},
     "output_type": "execute_result"
    }
   ],
   "source": [
    "date_to_week_day(21,9,2023)"
   ]
  },
  {
   "cell_type": "code",
   "execution_count": 85,
   "metadata": {},
   "outputs": [
    {
     "data": {
      "text/plain": [
       "'Friday'"
      ]
     },
     "execution_count": 85,
     "metadata": {},
     "output_type": "execute_result"
    }
   ],
   "source": [
    "date_to_week_day(30,1,1948)"
   ]
  },
  {
   "cell_type": "markdown",
   "metadata": {},
   "source": [
    "### Putting them together"
   ]
  },
  {
   "cell_type": "code",
   "execution_count": 88,
   "metadata": {},
   "outputs": [],
   "source": [
    "def week_day_name(index):\n",
    "    if index==0: return \"Sunday\"\n",
    "    elif index==1: return \"Monday\"\n",
    "    elif index==2: return \"Tuesday\"\n",
    "    elif index==3: return \"Wednesday\"\n",
    "    elif index==4: return \"Thursday\"\n",
    "    elif index==5: return \"Friday\"\n",
    "    elif index==6: return \"Saturday\"\n",
    "\n",
    "def is_leap_year(year):\n",
    "    return (year%100!=0 and year%4==0) or year%400==0\n",
    "\n",
    "def days_in_month(month , year=1990):\n",
    "    if month==2:\n",
    "        return 28+int(is_leap_year(year))        \n",
    "    elif (month<8 and month%2!=0) or (month>=8 and month%2==0):\n",
    "        return 31\n",
    "    else:\n",
    "        return 30\n",
    "\n",
    "\n",
    "def date_value(day ,month, year):\n",
    "    value=0\n",
    "    y=year-1\n",
    "    # total days elapsed till the end of previous year\n",
    "    value = y * 365 + y//4  - y//100 + y//400\n",
    "\n",
    "    # add total days passed till previous month of this year\n",
    "    m=1\n",
    "    while m<month:\n",
    "        #print(f'Adding {days_in_month(m,year)} for {m}/{year}')\n",
    "        value+= days_in_month(m,year)\n",
    "        m+=1\n",
    "\n",
    "    #add days of this month\n",
    "    value+=day\n",
    "    return value\n",
    "\n",
    "def date_to_week_day(date,month,year):\n",
    "    ref_date = date_value(1,1,2006)\n",
    "    input_date= date_value(date,month,year)\n",
    "    diff= (input_date-ref_date) % 7\n",
    "    return week_day_name(diff)\n"
   ]
  },
  {
   "cell_type": "code",
   "execution_count": null,
   "metadata": {},
   "outputs": [],
   "source": []
  }
 ],
 "metadata": {
  "kernelspec": {
   "display_name": "Python 3 (ipykernel)",
   "language": "python",
   "name": "python3"
  },
  "language_info": {
   "codemirror_mode": {
    "name": "ipython",
    "version": 3
   },
   "file_extension": ".py",
   "mimetype": "text/x-python",
   "name": "python",
   "nbconvert_exporter": "python",
   "pygments_lexer": "ipython3",
   "version": "3.11.5"
  }
 },
 "nbformat": 4,
 "nbformat_minor": 4
}
