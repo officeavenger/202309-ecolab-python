{
 "cells": [
  {
   "attachments": {},
   "cell_type": "markdown",
   "metadata": {},
   "source": [
    "# Scope Rules\n",
    "\n",
    "* Most C++ style languages supports scope rules like\n",
    "    * public\n",
    "        * accessible everywhere\n",
    "    * private\n",
    "        * accessible only within classes\n",
    "    * protected\n",
    "        * accessible by class and subclass\n",
    "    * internal/pacakge\n",
    "        * accessible within the modules\n",
    "\n",
    "### Python DOESN'T HAVE SCOPE RULES!\n",
    "\n",
    "* All memembers are always **public**\n",
    "* They can be modified from anywhere in the code.\n",
    "\n",
    "## Python's scope convention\n",
    "\n",
    "* because python doesn't supports scopes, we do it using convention\n",
    "* any class member that begins with an underscore is considered private\n",
    "    * they don't really become private\n",
    "    * we are expected not to access them directly.\n",
    "        * there implementation may change tomorrow\n",
    "        * external codes are not supposed to access them"
   ]
  },
  {
   "cell_type": "code",
   "execution_count": 1,
   "metadata": {},
   "outputs": [],
   "source": [
    "class BankAccount:\n",
    "    def __init__(self, accountNumber, name, password, balance, interestRate):\n",
    "        #it is ok to access it from outside\n",
    "        self.accountNumber = accountNumber \n",
    "        self.name=name \n",
    "    \n",
    "        # please don't directly  to access the below members\n",
    "        self._password = password\n",
    "        self._balance = balance\n",
    "        self._interestRate = interestRate\n",
    "        "
   ]
  },
  {
   "cell_type": "code",
   "execution_count": 2,
   "metadata": {},
   "outputs": [],
   "source": [
    "a1=BankAccount(1,'Vivek','p@ss',20000,12)"
   ]
  },
  {
   "cell_type": "code",
   "execution_count": 3,
   "metadata": {},
   "outputs": [
    {
     "data": {
      "text/plain": [
       "'Vivek'"
      ]
     },
     "execution_count": 3,
     "metadata": {},
     "output_type": "execute_result"
    }
   ],
   "source": [
    "a1.name # it is ok to access"
   ]
  },
  {
   "cell_type": "code",
   "execution_count": 4,
   "metadata": {},
   "outputs": [
    {
     "data": {
      "text/plain": [
       "'p@ss'"
      ]
     },
     "execution_count": 4,
     "metadata": {},
     "output_type": "execute_result"
    }
   ],
   "source": [
    "a1._password #we shouldn't directly access. but it can be accessed"
   ]
  },
  {
   "attachments": {},
   "cell_type": "markdown",
   "metadata": {},
   "source": [
    "### We may provide getter/setter to access those members"
   ]
  },
  {
   "cell_type": "code",
   "execution_count": 6,
   "metadata": {},
   "outputs": [],
   "source": [
    "class BankAccount:\n",
    "    def __init__(self, accountNumber, name, password, balance, interestRate):\n",
    "        #it is ok to access it from outside\n",
    "        self.accountNumber = accountNumber \n",
    "        self.name=name \n",
    "    \n",
    "        # please don't directly  to access the below members\n",
    "        self._password = password\n",
    "        self._balance = balance\n",
    "        self._interestRate = interestRate\n",
    "\n",
    "    def get_balance(self): \n",
    "        return self._balance\n",
    "    \n",
    "    def get_interest_rate(self): return self._interestRate\n",
    "\n",
    "    def set_interest_rate(self, newRate): \n",
    "        delta= self._interestRate/10\n",
    "        if newRate>= self._interestRate - delta and newRate<= self._interestRate+delta:\n",
    "            self._interestRate = newRate\n",
    "    \n",
    "    def authenticate(self, password):\n",
    "        return self._password==password\n",
    "    \n",
    "    def change_password(self, oldPassword, newPassword):\n",
    "        if self.authenticate(oldPassword):\n",
    "            self._password=newPassword"
   ]
  },
  {
   "cell_type": "code",
   "execution_count": 7,
   "metadata": {},
   "outputs": [],
   "source": [
    "a=BankAccount(1,'Vivek','p@ss',20000,12)\n",
    "\n"
   ]
  },
  {
   "cell_type": "code",
   "execution_count": 8,
   "metadata": {},
   "outputs": [
    {
     "data": {
      "text/plain": [
       "False"
      ]
     },
     "execution_count": 8,
     "metadata": {},
     "output_type": "execute_result"
    }
   ],
   "source": [
    "a.authenticate(\"Hi\")"
   ]
  },
  {
   "cell_type": "code",
   "execution_count": 9,
   "metadata": {},
   "outputs": [
    {
     "data": {
      "text/plain": [
       "True"
      ]
     },
     "execution_count": 9,
     "metadata": {},
     "output_type": "execute_result"
    }
   ],
   "source": [
    "a.authenticate(\"p@ss\")"
   ]
  },
  {
   "cell_type": "code",
   "execution_count": 10,
   "metadata": {},
   "outputs": [],
   "source": [
    "a.change_password(\"pass\",\"pass2\")"
   ]
  },
  {
   "cell_type": "code",
   "execution_count": 11,
   "metadata": {},
   "outputs": [
    {
     "data": {
      "text/plain": [
       "False"
      ]
     },
     "execution_count": 11,
     "metadata": {},
     "output_type": "execute_result"
    }
   ],
   "source": [
    "a.authenticate(\"pass2\")"
   ]
  },
  {
   "cell_type": "code",
   "execution_count": 12,
   "metadata": {},
   "outputs": [
    {
     "data": {
      "text/plain": [
       "'p@ss'"
      ]
     },
     "execution_count": 12,
     "metadata": {},
     "output_type": "execute_result"
    }
   ],
   "source": [
    "a._password # shouldn't access"
   ]
  },
  {
   "cell_type": "code",
   "execution_count": 13,
   "metadata": {},
   "outputs": [
    {
     "data": {
      "text/plain": [
       "12"
      ]
     },
     "execution_count": 13,
     "metadata": {},
     "output_type": "execute_result"
    }
   ],
   "source": [
    "a.set_interest_rate(15) # should fail\n",
    "\n",
    "a.get_interest_rate()"
   ]
  },
  {
   "cell_type": "code",
   "execution_count": 14,
   "metadata": {},
   "outputs": [
    {
     "data": {
      "text/plain": [
       "13"
      ]
     },
     "execution_count": 14,
     "metadata": {},
     "output_type": "execute_result"
    }
   ],
   "source": [
    "a.set_interest_rate(13) # should work\n",
    "a.get_interest_rate()"
   ]
  },
  {
   "attachments": {},
   "cell_type": "markdown",
   "metadata": {},
   "source": [
    "## A **more** private convention\n",
    "\n",
    "* In python, we can make a **more priavate** convention\n",
    "* we can use double underscore prefix \"**\\_\\_**\" They are more difficult to break"
   ]
  },
  {
   "cell_type": "code",
   "execution_count": 18,
   "metadata": {},
   "outputs": [],
   "source": [
    "class BankAccount:\n",
    "    def __init__(self, accountNumber, password, balance):\n",
    "        self._accountNumber=accountNumber\n",
    "        self.__password=password\n",
    "        self.__balance=balance\n",
    "\n",
    "    def info(self):\n",
    "        return f\"AccountNumber={self._accountNumber}\\tBalance={self.__balance}\"\n",
    "\n"
   ]
  },
  {
   "cell_type": "code",
   "execution_count": 23,
   "metadata": {},
   "outputs": [
    {
     "name": "stdout",
     "output_type": "stream",
     "text": [
      "AccountNumber=1\tBalance=20000\n"
     ]
    }
   ],
   "source": [
    "a=BankAccount(1,\"p@ss\",20000)\n",
    "print(a.info())"
   ]
  },
  {
   "cell_type": "code",
   "execution_count": 24,
   "metadata": {},
   "outputs": [
    {
     "name": "stdout",
     "output_type": "stream",
     "text": [
      "1\n",
      "AccountNumber=10\tBalance=20000\n"
     ]
    }
   ],
   "source": [
    "print(a._accountNumber) # shouldn't try to access\n",
    "\n",
    "# ore modify. But can do it\n",
    "a._accountNumber =10\n",
    "\n",
    "print(a.info())"
   ]
  },
  {
   "attachments": {},
   "cell_type": "markdown",
   "metadata": {},
   "source": [
    "#### modifying double underscored members"
   ]
  },
  {
   "cell_type": "code",
   "execution_count": 25,
   "metadata": {},
   "outputs": [
    {
     "name": "stdout",
     "output_type": "stream",
     "text": [
      "100000\n"
     ]
    }
   ],
   "source": [
    "a.__balance=100000\n",
    "print(a.__balance)"
   ]
  },
  {
   "attachments": {},
   "cell_type": "markdown",
   "metadata": {},
   "source": [
    "### Is it really modified?"
   ]
  },
  {
   "cell_type": "code",
   "execution_count": 26,
   "metadata": {},
   "outputs": [
    {
     "name": "stdout",
     "output_type": "stream",
     "text": [
      "AccountNumber=10\tBalance=20000\n"
     ]
    }
   ],
   "source": [
    "print(a.info())"
   ]
  },
  {
   "attachments": {},
   "cell_type": "markdown",
   "metadata": {},
   "source": [
    "### What is really happening?\n",
    "\n",
    "* python internally changes the name of **double underscored prefixed members**\n",
    "* it addes additional prefix of **\\_ClassName\\_**\n",
    "\n",
    "```python\n",
    "class BankAccount:\n",
    "    def __init__(self, accountNumber, balance, password):\n",
    "        self._accountNumber = accountNumber # saved as it is\n",
    "        self.__balance=balance # saved as self._BankAcount__balance = balance\n",
    "\n",
    "    def deposit(self, amount):\n",
    "        self.__balance+=amount # self._BankAccount__balance+=amount\n",
    "```\n",
    "\n",
    "* This conversion takes place in all class methods\n",
    "* This conversion doesn't take place when we access the value from outside"
   ]
  },
  {
   "cell_type": "code",
   "execution_count": 27,
   "metadata": {},
   "outputs": [
    {
     "name": "stdout",
     "output_type": "stream",
     "text": [
      "['_BankAccount__balance', '_BankAccount__password', '__class__', '__delattr__', '__dict__', '__dir__', '__doc__', '__eq__', '__format__', '__ge__', '__getattribute__', '__gt__', '__hash__', '__init__', '__init_subclass__', '__le__', '__lt__', '__module__', '__ne__', '__new__', '__reduce__', '__reduce_ex__', '__repr__', '__setattr__', '__sizeof__', '__str__', '__subclasshook__', '__weakref__', '_accountNumber', 'info']\n"
     ]
    }
   ],
   "source": [
    "a= BankAccount(1,'p@ss',20000)\n",
    "print(dir(a))"
   ]
  },
  {
   "attachments": {},
   "cell_type": "markdown",
   "metadata": {},
   "source": [
    "### if we try to modify from outside, a new field is added "
   ]
  },
  {
   "cell_type": "code",
   "execution_count": 28,
   "metadata": {},
   "outputs": [
    {
     "name": "stdout",
     "output_type": "stream",
     "text": [
      "['_BankAccount__balance', '_BankAccount__password', '__balance', '__class__', '__delattr__', '__dict__', '__dir__', '__doc__', '__eq__', '__format__', '__ge__', '__getattribute__', '__gt__', '__hash__', '__init__', '__init_subclass__', '__le__', '__lt__', '__module__', '__ne__', '__new__', '__reduce__', '__reduce_ex__', '__repr__', '__setattr__', '__sizeof__', '__str__', '__subclasshook__', '__weakref__', '_accountNumber', 'info']\n"
     ]
    }
   ],
   "source": [
    "a.__balance=1000000\n",
    "\n",
    "print(dir(a))"
   ]
  },
  {
   "attachments": {},
   "cell_type": "markdown",
   "metadata": {},
   "source": [
    "### The original field (with modified names) doesn't change"
   ]
  },
  {
   "cell_type": "code",
   "execution_count": 29,
   "metadata": {},
   "outputs": [
    {
     "name": "stdout",
     "output_type": "stream",
     "text": [
      "AccountNumber=1\tBalance=20000\n"
     ]
    }
   ],
   "source": [
    "print(a.info()) #internally uses original field with modified name"
   ]
  },
  {
   "cell_type": "markdown",
   "metadata": {},
   "source": [
    "### Now that we know it, we can break it!"
   ]
  },
  {
   "cell_type": "code",
   "execution_count": 31,
   "metadata": {},
   "outputs": [
    {
     "name": "stdout",
     "output_type": "stream",
     "text": [
      "AccountNumber=1\tBalance=100000\n"
     ]
    }
   ],
   "source": [
    "a=BankAccount(1,'p@ss',20000)\n",
    "\n",
    "a._BankAccount__balance=100000 #MUST NEVER DO IT\n",
    "\n",
    "print(a.info())"
   ]
  },
  {
   "cell_type": "code",
   "execution_count": null,
   "metadata": {},
   "outputs": [],
   "source": []
  }
 ],
 "metadata": {
  "kernelspec": {
   "display_name": "Python 3",
   "language": "python",
   "name": "python3"
  },
  "language_info": {
   "codemirror_mode": {
    "name": "ipython",
    "version": 3
   },
   "file_extension": ".py",
   "mimetype": "text/x-python",
   "name": "python",
   "nbconvert_exporter": "python",
   "pygments_lexer": "ipython3",
   "version": "3.9.1"
  },
  "orig_nbformat": 4,
  "vscode": {
   "interpreter": {
    "hash": "bc4e78314997db9a44b6830e0aa6b75a33973256eb5fdaf587cb7b38c9328874"
   }
  }
 },
 "nbformat": 4,
 "nbformat_minor": 2
}
