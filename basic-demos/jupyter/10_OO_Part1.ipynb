{
 "cells": [
  {
   "cell_type": "markdown",
   "metadata": {},
   "source": [
    "## What is Object Oriented Programming?\n",
    "\n",
    "* object oriented programming allows us to model **objects** as per the domain requirement\n",
    "* here we need to describe what a **triangle** is \n",
    "* Like C++/Java/C# even in python to describe an **object** we need to create a **class** \n",
    "\n",
    "# Python Object Modelling is very different from C++/Java/C# model (Not just semantically)\n",
    "\n",
    "\n",
    "### Main Role of a Python class\n",
    "\n",
    "* It is **NOT** to describe state/behavior of an object\n",
    "    * This may be a side aspect\n",
    "\n",
    "* The Main job is to provide a type identity to an Object\n",
    "* There will be three key points\n",
    "\n",
    "1. We can create a new object \n",
    "2. The new object will have type of current class\n",
    "3. The new object will have a unique id\n",
    "\n",
    "#### The simplest Triangle class"
   ]
  },
  {
   "cell_type": "code",
   "execution_count": 1,
   "metadata": {},
   "outputs": [],
   "source": [
    "class Triangle:\n",
    "    pass"
   ]
  },
  {
   "cell_type": "markdown",
   "metadata": {},
   "source": [
    "### What can we do with a simple blank Triangle class?\n",
    "\n",
    "\n",
    "#### 1. we can create an object of this type\n",
    "\n",
    "* Note to C++/Java/C# programmers\n",
    "    * python doesn't have **new** keyword.\n",
    "    * every object that is created is **new** \n",
    "* we just call the constructor to create the object"
   ]
  },
  {
   "cell_type": "code",
   "execution_count": 2,
   "metadata": {},
   "outputs": [],
   "source": [
    "t1= Triangle()"
   ]
  },
  {
   "cell_type": "markdown",
   "metadata": {},
   "source": [
    "#### 2. The object has a type and id\n",
    "\n",
    "##### Note\n",
    "* Here \\_\\_main\\_\\_ indicate the global module name \n",
    "* Since we are not imporing it from some other module "
   ]
  },
  {
   "cell_type": "code",
   "execution_count": 3,
   "metadata": {},
   "outputs": [
    {
     "name": "stdout",
     "output_type": "stream",
     "text": [
      "<class '__main__.Triangle'>\n",
      "4438149728\n"
     ]
    }
   ],
   "source": [
    "print(type(t1))\n",
    "print(id(t1))"
   ]
  },
  {
   "cell_type": "markdown",
   "metadata": {},
   "source": [
    "#### 3. we can profgrammetically check if a given object is triangle or not"
   ]
  },
  {
   "cell_type": "code",
   "execution_count": 4,
   "metadata": {},
   "outputs": [
    {
     "name": "stdout",
     "output_type": "stream",
     "text": [
      "True\n",
      "False\n",
      "True\n"
     ]
    }
   ],
   "source": [
    "print(isinstance(t1,Triangle)) # True\n",
    "print(isinstance(t1, list)) #False\n",
    "print(type(t1)==Triangle)"
   ]
  },
  {
   "cell_type": "markdown",
   "metadata": {},
   "source": [
    "#### A simple helper to return the normal members of an object"
   ]
  },
  {
   "cell_type": "code",
   "execution_count": 5,
   "metadata": {},
   "outputs": [],
   "source": [
    "def members(obj):\n",
    "    return [member for member in dir(obj) if not member.startswith(\"__\")]\n"
   ]
  },
  {
   "cell_type": "markdown",
   "metadata": {},
   "source": [
    "### What can be the use of this empty Triangle object?\n",
    "\n",
    "* we can add properties to triangle object after it has been created \n",
    "\n",
    "## Very Very IMPORTANT\n",
    "\n",
    "* In c++/Java/c#, \n",
    "    * we must define all properties, fields and methods in the class before we can use it\n",
    "\n",
    "* In python \n",
    "    * we can add new state/behavior to an object after it has been created.\n"
   ]
  },
  {
   "cell_type": "code",
   "execution_count": 6,
   "metadata": {},
   "outputs": [],
   "source": [
    "class Triangle:\n",
    "    pass"
   ]
  },
  {
   "cell_type": "code",
   "execution_count": 7,
   "metadata": {},
   "outputs": [
    {
     "data": {
      "text/plain": [
       "[]"
      ]
     },
     "execution_count": 7,
     "metadata": {},
     "output_type": "execute_result"
    }
   ],
   "source": [
    "t=Triangle()\n",
    "members(t)"
   ]
  },
  {
   "cell_type": "markdown",
   "metadata": {},
   "source": [
    "#### Now we can add properties to an object"
   ]
  },
  {
   "cell_type": "code",
   "execution_count": 8,
   "metadata": {},
   "outputs": [
    {
     "data": {
      "text/plain": [
       "['s1', 's2', 's3']"
      ]
     },
     "execution_count": 8,
     "metadata": {},
     "output_type": "execute_result"
    }
   ],
   "source": [
    "t.s1=3\n",
    "t.s2=4\n",
    "t.s3=5\n",
    "members(t)"
   ]
  },
  {
   "cell_type": "code",
   "execution_count": 9,
   "metadata": {},
   "outputs": [
    {
     "name": "stdout",
     "output_type": "stream",
     "text": [
      "3 4 5\n"
     ]
    }
   ],
   "source": [
    "print(t.s1,t.s2,t.s3)"
   ]
  },
  {
   "cell_type": "markdown",
   "metadata": {},
   "source": [
    "### How does it help?\n",
    "\n",
    "* Now we can redfine our perimeter() function\n",
    "* Here we are not passing three different objects\n",
    "* But we are using single object with three sides"
   ]
  },
  {
   "cell_type": "code",
   "execution_count": 10,
   "metadata": {},
   "outputs": [],
   "source": [
    "def perimeter(t):\n",
    "    if t.s1>0 and t.s2>0 and t.s3>0 and \\\n",
    "        t.s1+t.s2 > t.s3 and \\\n",
    "        t.s2+t.s3 > t.s1 and \\\n",
    "        t.s1+t.s3 > t.s2:\n",
    "        return t.s1+t.s2+t.s3\n",
    "    else:\n",
    "        return float('nan')\n"
   ]
  },
  {
   "cell_type": "code",
   "execution_count": 11,
   "metadata": {},
   "outputs": [],
   "source": [
    "#valid triangle\n",
    "t1 = Triangle()\n",
    "t1.s1=3\n",
    "t1.s2=4\n",
    "t1.s3=5\n",
    "\n",
    "#invalid triangle\n",
    "t2 = Triangle()\n",
    "t2.s1=4\n",
    "t2.s2=8\n",
    "t2.s3=16  "
   ]
  },
  {
   "cell_type": "code",
   "execution_count": 12,
   "metadata": {},
   "outputs": [
    {
     "name": "stdout",
     "output_type": "stream",
     "text": [
      "12\n"
     ]
    }
   ],
   "source": [
    "print(perimeter(t1))"
   ]
  },
  {
   "cell_type": "code",
   "execution_count": 13,
   "metadata": {},
   "outputs": [
    {
     "name": "stdout",
     "output_type": "stream",
     "text": [
      "nan\n"
     ]
    }
   ],
   "source": [
    "print(perimeter(t2))"
   ]
  },
  {
   "cell_type": "markdown",
   "metadata": {},
   "source": [
    "### Problem#2 solved\n",
    "\n",
    "* earlier perimeter was taking three indvidiual values\n",
    "    * those values may belong to different triangles\n",
    "    * something that is not a triangle\n",
    "\n",
    "* now we take a single object\n",
    "    * we can't pass unrelated values\n",
    "    * those values are all related\n",
    "\n",
    "\n",
    "#### But are we sure it is a Triangle?"
   ]
  },
  {
   "cell_type": "code",
   "execution_count": 14,
   "metadata": {},
   "outputs": [],
   "source": [
    "class Circle: \n",
    "    pass"
   ]
  },
  {
   "cell_type": "code",
   "execution_count": 15,
   "metadata": {},
   "outputs": [
    {
     "ename": "AttributeError",
     "evalue": "'Circle' object has no attribute 's1'",
     "output_type": "error",
     "traceback": [
      "\u001b[0;31m---------------------------------------------------------------------------\u001b[0m",
      "\u001b[0;31mAttributeError\u001b[0m                            Traceback (most recent call last)",
      "Cell \u001b[0;32mIn[15], line 4\u001b[0m\n\u001b[1;32m      1\u001b[0m c\u001b[39m=\u001b[39mCircle()\n\u001b[1;32m      2\u001b[0m c\u001b[39m.\u001b[39mradius\u001b[39m=\u001b[39m\u001b[39m7\u001b[39m\n\u001b[0;32m----> 4\u001b[0m perimeter(c)\n",
      "Cell \u001b[0;32mIn[10], line 2\u001b[0m, in \u001b[0;36mperimeter\u001b[0;34m(t)\u001b[0m\n\u001b[1;32m      1\u001b[0m \u001b[39mdef\u001b[39;00m \u001b[39mperimeter\u001b[39m(t):\n\u001b[0;32m----> 2\u001b[0m     \u001b[39mif\u001b[39;00m t\u001b[39m.\u001b[39;49ms1\u001b[39m>\u001b[39m\u001b[39m0\u001b[39m \u001b[39mand\u001b[39;00m t\u001b[39m.\u001b[39ms2\u001b[39m>\u001b[39m\u001b[39m0\u001b[39m \u001b[39mand\u001b[39;00m t\u001b[39m.\u001b[39ms3\u001b[39m>\u001b[39m\u001b[39m0\u001b[39m \u001b[39mand\u001b[39;00m \\\n\u001b[1;32m      3\u001b[0m         t\u001b[39m.\u001b[39ms1\u001b[39m+\u001b[39mt\u001b[39m.\u001b[39ms2 \u001b[39m>\u001b[39m t\u001b[39m.\u001b[39ms3 \u001b[39mand\u001b[39;00m \\\n\u001b[1;32m      4\u001b[0m         t\u001b[39m.\u001b[39ms2\u001b[39m+\u001b[39mt\u001b[39m.\u001b[39ms3 \u001b[39m>\u001b[39m t\u001b[39m.\u001b[39ms1 \u001b[39mand\u001b[39;00m \\\n\u001b[1;32m      5\u001b[0m         t\u001b[39m.\u001b[39ms1\u001b[39m+\u001b[39mt\u001b[39m.\u001b[39ms3 \u001b[39m>\u001b[39m t\u001b[39m.\u001b[39ms2:\n\u001b[1;32m      6\u001b[0m         \u001b[39mreturn\u001b[39;00m t\u001b[39m.\u001b[39ms1\u001b[39m+\u001b[39mt\u001b[39m.\u001b[39ms2\u001b[39m+\u001b[39mt\u001b[39m.\u001b[39ms3\n\u001b[1;32m      7\u001b[0m     \u001b[39melse\u001b[39;00m:\n",
      "\u001b[0;31mAttributeError\u001b[0m: 'Circle' object has no attribute 's1'"
     ]
    }
   ],
   "source": [
    "c=Circle()\n",
    "c.radius=7\n",
    "\n",
    "perimeter(c)"
   ]
  },
  {
   "cell_type": "markdown",
   "metadata": {},
   "source": [
    "#### How do I make sure perimeter works only for Triangle and not for others?\n",
    "\n",
    "##### Assignment 5.1\n",
    "\n",
    "* make sure perimeter works only for Triangle\n",
    "* What if I also want to calculate the perimeter of Circle"
   ]
  },
  {
   "cell_type": "code",
   "execution_count": 16,
   "metadata": {},
   "outputs": [],
   "source": [
    "def perimeter(t):\n",
    "    if isinstance(t,Triangle ) and \\\n",
    "        t.s1>0 and t.s2>0 and t.s3>0 and \\\n",
    "        t.s1+t.s2 > t.s3 and \\\n",
    "        t.s2+t.s3 > t.s1 and \\\n",
    "        t.s1+t.s3 > t.s2:\n",
    "        return t.s1+t.s2+t.s3\n",
    "    else:\n",
    "        return float('nan')"
   ]
  },
  {
   "cell_type": "code",
   "execution_count": 17,
   "metadata": {},
   "outputs": [
    {
     "data": {
      "text/plain": [
       "12"
      ]
     },
     "execution_count": 17,
     "metadata": {},
     "output_type": "execute_result"
    }
   ],
   "source": [
    "perimeter(t1)"
   ]
  },
  {
   "cell_type": "code",
   "execution_count": 18,
   "metadata": {},
   "outputs": [
    {
     "data": {
      "text/plain": [
       "nan"
      ]
     },
     "execution_count": 18,
     "metadata": {},
     "output_type": "execute_result"
    }
   ],
   "source": [
    "perimeter(c)"
   ]
  },
  {
   "cell_type": "markdown",
   "metadata": {},
   "source": [
    "#### What if user creates a Triangle but doesn't specify the sides?"
   ]
  },
  {
   "cell_type": "code",
   "execution_count": 19,
   "metadata": {},
   "outputs": [
    {
     "ename": "AttributeError",
     "evalue": "'Triangle' object has no attribute 's1'",
     "output_type": "error",
     "traceback": [
      "\u001b[0;31m---------------------------------------------------------------------------\u001b[0m",
      "\u001b[0;31mAttributeError\u001b[0m                            Traceback (most recent call last)",
      "Cell \u001b[0;32mIn[19], line 3\u001b[0m\n\u001b[1;32m      1\u001b[0m t3\u001b[39m=\u001b[39mTriangle()\n\u001b[0;32m----> 3\u001b[0m perimeter(t3)\n",
      "Cell \u001b[0;32mIn[16], line 3\u001b[0m, in \u001b[0;36mperimeter\u001b[0;34m(t)\u001b[0m\n\u001b[1;32m      1\u001b[0m \u001b[39mdef\u001b[39;00m \u001b[39mperimeter\u001b[39m(t):\n\u001b[1;32m      2\u001b[0m     \u001b[39mif\u001b[39;00m \u001b[39misinstance\u001b[39m(t,Triangle ) \u001b[39mand\u001b[39;00m \\\n\u001b[0;32m----> 3\u001b[0m         t\u001b[39m.\u001b[39;49ms1\u001b[39m>\u001b[39m\u001b[39m0\u001b[39m \u001b[39mand\u001b[39;00m t\u001b[39m.\u001b[39ms2\u001b[39m>\u001b[39m\u001b[39m0\u001b[39m \u001b[39mand\u001b[39;00m t\u001b[39m.\u001b[39ms3\u001b[39m>\u001b[39m\u001b[39m0\u001b[39m \u001b[39mand\u001b[39;00m \\\n\u001b[1;32m      4\u001b[0m         t\u001b[39m.\u001b[39ms1\u001b[39m+\u001b[39mt\u001b[39m.\u001b[39ms2 \u001b[39m>\u001b[39m t\u001b[39m.\u001b[39ms3 \u001b[39mand\u001b[39;00m \\\n\u001b[1;32m      5\u001b[0m         t\u001b[39m.\u001b[39ms2\u001b[39m+\u001b[39mt\u001b[39m.\u001b[39ms3 \u001b[39m>\u001b[39m t\u001b[39m.\u001b[39ms1 \u001b[39mand\u001b[39;00m \\\n\u001b[1;32m      6\u001b[0m         t\u001b[39m.\u001b[39ms1\u001b[39m+\u001b[39mt\u001b[39m.\u001b[39ms3 \u001b[39m>\u001b[39m t\u001b[39m.\u001b[39ms2:\n\u001b[1;32m      7\u001b[0m         \u001b[39mreturn\u001b[39;00m t\u001b[39m.\u001b[39ms1\u001b[39m+\u001b[39mt\u001b[39m.\u001b[39ms2\u001b[39m+\u001b[39mt\u001b[39m.\u001b[39ms3\n\u001b[1;32m      8\u001b[0m     \u001b[39melse\u001b[39;00m:\n",
      "\u001b[0;31mAttributeError\u001b[0m: 'Triangle' object has no attribute 's1'"
     ]
    }
   ],
   "source": [
    "t3=Triangle()\n",
    "\n",
    "perimeter(t3)"
   ]
  },
  {
   "cell_type": "markdown",
   "metadata": {},
   "source": [
    "### How can I initialize a Triangle?\n"
   ]
  },
  {
   "cell_type": "code",
   "execution_count": 20,
   "metadata": {},
   "outputs": [],
   "source": [
    "def create(s1,s2,s3):\n",
    "    t=Triangle()\n",
    "    t.s1=s1\n",
    "    t.s2=s2\n",
    "    t.s3=s3\n",
    "    return t\n",
    "\n"
   ]
  },
  {
   "cell_type": "code",
   "execution_count": 21,
   "metadata": {},
   "outputs": [
    {
     "data": {
      "text/plain": [
       "12"
      ]
     },
     "execution_count": 21,
     "metadata": {},
     "output_type": "execute_result"
    }
   ],
   "source": [
    "t=create(3,4,5)\n",
    "perimeter(t)"
   ]
  },
  {
   "cell_type": "code",
   "execution_count": 22,
   "metadata": {},
   "outputs": [
    {
     "data": {
      "text/plain": [
       "nan"
      ]
     },
     "execution_count": 22,
     "metadata": {},
     "output_type": "execute_result"
    }
   ],
   "source": [
    "t2=create(3,4,12)\n",
    "perimeter(t2)"
   ]
  },
  {
   "cell_type": "markdown",
   "metadata": {},
   "source": [
    "### More Triangle Related Behaviors\n",
    "\n",
    "* we may need to have additional behaviors like \n",
    "    1. area() ... returns area of triangle\n",
    "    2. info() ... returns printable info about triangle\n",
    "    3. draw() ... draws a traingle (prints the info)\n",
    "\n",
    "* area(), info() and draw() should work for valid triangles only\n",
    "    \n",
    "\n",
    "#### All Triangle related code"
   ]
  },
  {
   "cell_type": "code",
   "execution_count": 23,
   "metadata": {},
   "outputs": [],
   "source": [
    "from math import sqrt\n",
    "\n",
    "class Triangle:\n",
    "    pass\n",
    "\n",
    "def create(s1,s2,s3):\n",
    "    t=Triangle()\n",
    "    t.s1=s1\n",
    "    t.s2=s2\n",
    "    t.s3=s3\n",
    "    return t\n",
    "\n",
    "def is_valid(t):\n",
    "    return isinstance(t,Triangle ) and \\\n",
    "        t.s1>0 and t.s2>0 and t.s3>0 and \\\n",
    "        t.s1+t.s2 > t.s3 and \\\n",
    "        t.s2+t.s3 > t.s1 and \\\n",
    "        t.s1+t.s3 > t.s2\n",
    "\n",
    "def perimeter(t):\n",
    "    return t.s1+t.s2+t.s3 if is_valid(t) else float('nan')\n",
    "\n",
    "def area(t):\n",
    "    if is_valid(t):\n",
    "        s=perimeter(t)/2\n",
    "        sqrt(s*(s-t.s1)*(s-t.s2)*(s-t.s3))\n",
    "\n",
    "def info(t):\n",
    "    return f'Triangle<{t.s1},{t.s2},{t.s3}>' if is_valid(t) else '<Invalid Triangle>'\n",
    "\n",
    "def draw(t):\n",
    "    print(info(t))\n",
    "    "
   ]
  },
  {
   "cell_type": "code",
   "execution_count": 24,
   "metadata": {},
   "outputs": [],
   "source": [
    "def test_triangle(s1,s2,s3):\n",
    "    t=create(s1,s2,s3)\n",
    "    draw(t)\n",
    "    if is_valid(t):\n",
    "        print(f'Area={area(t)}')\n",
    "        print(f'Perimeter={area(t)}')\n",
    "        "
   ]
  },
  {
   "cell_type": "code",
   "execution_count": 25,
   "metadata": {},
   "outputs": [
    {
     "name": "stdout",
     "output_type": "stream",
     "text": [
      "Triangle<3,4,5>\n",
      "Area=None\n",
      "Perimeter=None\n"
     ]
    }
   ],
   "source": [
    "test_triangle(3,4,5)"
   ]
  },
  {
   "cell_type": "code",
   "execution_count": 26,
   "metadata": {},
   "outputs": [
    {
     "name": "stdout",
     "output_type": "stream",
     "text": [
      "<Invalid Triangle>\n"
     ]
    }
   ],
   "source": [
    "test_triangle(3,4,12)"
   ]
  },
  {
   "attachments": {},
   "cell_type": "markdown",
   "metadata": {},
   "source": [
    "## Is is a good idea that Python allows us to add fields to an object after it is created?\n",
    "\n",
    "* In c++ like languages, all fields and behaviors of a object is predefined in a class\n",
    "* But in python related information can be added externally to the object\n",
    "* we have an empty class to represent Triangle\n",
    "\n",
    "\n",
    "### Is it a good OO model?\n",
    "\n",
    "* The functions we have created are not part of the class\n",
    "\n",
    "* we can add new fields about which class knows nothing. \n",
    "\n",
    "## Why this is a good OO model?\n",
    "\n",
    "* In real world objects evolve over a period of time \n",
    "* classes are compile time entities\n",
    "    * to change them you need to change the source code\n",
    "* objects are runtime entities\n",
    "    * you can create them at runtime\n",
    "    * you can change their property values at runtime\n",
    "\n",
    "* object allows a more dynamic scalable design\n",
    "\n"
   ]
  },
  {
   "attachments": {},
   "cell_type": "markdown",
   "metadata": {},
   "source": [
    "# How do I represent a Circle's behavior\n",
    "\n",
    "* even Circle has \n",
    "    * perimeter()\n",
    "    * area()\n",
    "    * draw()\n",
    "\n",
    "## Approach#1 calculate based on type"
   ]
  },
  {
   "cell_type": "code",
   "execution_count": 42,
   "metadata": {},
   "outputs": [],
   "source": [
    "import math\n",
    "def perimeter(shape):\n",
    "    result=float('nan')\n",
    "    if isinstance(shape, Triangle):\n",
    "        if is_valid(shape):\n",
    "            result=shape.s1+shape.s2+shape.s3\n",
    "    else:\n",
    "        if shape.radius>0:\n",
    "            result= 2* math.pi*shape.radius\n",
    "    return result"
   ]
  },
  {
   "cell_type": "code",
   "execution_count": 43,
   "metadata": {},
   "outputs": [
    {
     "name": "stdout",
     "output_type": "stream",
     "text": [
      "12\n"
     ]
    }
   ],
   "source": [
    "t=create(3,4,5)\n",
    "print(perimeter(t))"
   ]
  },
  {
   "cell_type": "code",
   "execution_count": 44,
   "metadata": {},
   "outputs": [
    {
     "data": {
      "text/plain": [
       "43.982297150257104"
      ]
     },
     "execution_count": 44,
     "metadata": {},
     "output_type": "execute_result"
    }
   ],
   "source": [
    "c=Circle()\n",
    "c.radius=7\n",
    "perimeter(c)"
   ]
  },
  {
   "attachments": {},
   "cell_type": "markdown",
   "metadata": {},
   "source": [
    "### Problem --> VIOLATES SINGLE RESPONSIBILITY PRINCIPLE\n",
    "\n",
    "* Here perimeter() is responsible for calculating the perimeter of both circle and triangle\n",
    "* It violates SRP\n",
    "* Since it is responsible for Triangle and Circle both, it also will have to handle for other shapes like\n",
    "    * Rectangle\n",
    "    * Pentagon"
   ]
  },
  {
   "cell_type": "code",
   "execution_count": 51,
   "metadata": {},
   "outputs": [],
   "source": [
    "class Rectangle:\n",
    "    pass\n",
    "\n",
    "\n",
    "import math\n",
    "def perimeter(shape):\n",
    "    result=float('nan')\n",
    "    \n",
    "    if isinstance(shape, Triangle):\n",
    "        if is_valid(shape):\n",
    "            result=shape.s1+shape.s2+shape.s3\n",
    "    if isinstance(shape,Rectangle):\n",
    "        result=2*(shape.width+shape.height)\n",
    "        \n",
    "    else:\n",
    "        if shape.radius>0:\n",
    "            result= 2* math.pi*shape.radius\n",
    "    return result"
   ]
  },
  {
   "cell_type": "code",
   "execution_count": 52,
   "metadata": {},
   "outputs": [
    {
     "data": {
      "text/plain": [
       "14"
      ]
     },
     "execution_count": 52,
     "metadata": {},
     "output_type": "execute_result"
    }
   ],
   "source": [
    "r=Rectangle()\n",
    "r.width=3\n",
    "r.height=4\n",
    "\n",
    "perimeter(r)"
   ]
  },
  {
   "cell_type": "code",
   "execution_count": 55,
   "metadata": {},
   "outputs": [
    {
     "data": {
      "text/plain": [
       "43.982297150257104"
      ]
     },
     "execution_count": 55,
     "metadata": {},
     "output_type": "execute_result"
    }
   ],
   "source": [
    "perimeter(c)"
   ]
  },
  {
   "cell_type": "code",
   "execution_count": 56,
   "metadata": {},
   "outputs": [
    {
     "ename": "AttributeError",
     "evalue": "'Triangle' object has no attribute 'radius'",
     "output_type": "error",
     "traceback": [
      "\u001b[0;31m---------------------------------------------------------------------------\u001b[0m",
      "\u001b[0;31mAttributeError\u001b[0m                            Traceback (most recent call last)",
      "Cell \u001b[0;32mIn[56], line 1\u001b[0m\n\u001b[0;32m----> 1\u001b[0m perimeter(t)\n",
      "Cell \u001b[0;32mIn[51], line 16\u001b[0m, in \u001b[0;36mperimeter\u001b[0;34m(shape)\u001b[0m\n\u001b[1;32m     13\u001b[0m     result\u001b[39m=\u001b[39m\u001b[39m2\u001b[39m\u001b[39m*\u001b[39m(shape\u001b[39m.\u001b[39mwidth\u001b[39m+\u001b[39mshape\u001b[39m.\u001b[39mheight)\n\u001b[1;32m     15\u001b[0m \u001b[39melse\u001b[39;00m:\n\u001b[0;32m---> 16\u001b[0m     \u001b[39mif\u001b[39;00m shape\u001b[39m.\u001b[39;49mradius\u001b[39m>\u001b[39m\u001b[39m0\u001b[39m:\n\u001b[1;32m     17\u001b[0m         result\u001b[39m=\u001b[39m \u001b[39m2\u001b[39m\u001b[39m*\u001b[39m math\u001b[39m.\u001b[39mpi\u001b[39m*\u001b[39mshape\u001b[39m.\u001b[39mradius\n\u001b[1;32m     18\u001b[0m \u001b[39mreturn\u001b[39;00m result\n",
      "\u001b[0;31mAttributeError\u001b[0m: 'Triangle' object has no attribute 'radius'"
     ]
    }
   ],
   "source": [
    "perimeter(t)"
   ]
  },
  {
   "attachments": {},
   "cell_type": "markdown",
   "metadata": {},
   "source": [
    "#### Problem -> Violation of Open Close Principle\n",
    "\n",
    "* when we modify and existing code, we may break it\n",
    "    * we may introduce bugs\n",
    "    * we may change it in such a way that it is not acceptable to every client (stakeholder)\n",
    "\n",
    "* Here the perimeter function will change everytime we want to introduce a new Shape\n",
    "    * OCP is violated because SRP is violated.\n",
    "\n",
    "\n",
    "## Solution --> Your design should follow SRP\n",
    "\n",
    "* there should be different perimeter function for different Shape\n",
    "\n",
    "#### What!!! Multiple Perimeter functions!!! Won't it make the code big and complex!!!\n",
    "\n",
    "* many function doesn't make code bigger\n",
    "    * sometimes they make it smaller\n",
    "    * Always they make it simpler and more managable\n",
    "\n",
    "* Fear of creating too many small component is the number one reason for  a bad design\n",
    "\n",
    "* Always prefer many small classes than few very big class"
   ]
  },
  {
   "attachments": {},
   "cell_type": "markdown",
   "metadata": {},
   "source": [
    "## Approach 2  Create separate perimeter for each shape\n",
    "\n",
    "* each perimeter contains the logic for one shape only."
   ]
  },
  {
   "cell_type": "code",
   "execution_count": 57,
   "metadata": {},
   "outputs": [],
   "source": [
    "def perimeter(triangle):\n",
    "    return triangle.s1+triangle.s2+triangle.s3 if is_valid(triangle) else float('nan')\n",
    "\n",
    "def perimeter(circle):\n",
    "    return 2*math.pi*circle.radius if circle.radius>0 else float('nan')\n",
    "\n",
    "def perimeter(rectangle):\n",
    "    return 2*(rectangle.width+rectangle.height) if rectangle.width>0 and rectangle.height>0 else float('nan')"
   ]
  },
  {
   "cell_type": "code",
   "execution_count": 58,
   "metadata": {},
   "outputs": [
    {
     "data": {
      "text/plain": [
       "20"
      ]
     },
     "execution_count": 58,
     "metadata": {},
     "output_type": "execute_result"
    }
   ],
   "source": [
    "r=Rectangle()\n",
    "r.width=7\n",
    "r.height=3\n",
    "perimeter(r)"
   ]
  },
  {
   "cell_type": "code",
   "execution_count": 59,
   "metadata": {},
   "outputs": [
    {
     "ename": "AttributeError",
     "evalue": "'Circle' object has no attribute 'width'",
     "output_type": "error",
     "traceback": [
      "\u001b[0;31m---------------------------------------------------------------------------\u001b[0m",
      "\u001b[0;31mAttributeError\u001b[0m                            Traceback (most recent call last)",
      "Cell \u001b[0;32mIn[59], line 3\u001b[0m\n\u001b[1;32m      1\u001b[0m c\u001b[39m=\u001b[39mCircle()\n\u001b[1;32m      2\u001b[0m c\u001b[39m.\u001b[39mraidus\u001b[39m=\u001b[39m\u001b[39m7\u001b[39m\n\u001b[0;32m----> 3\u001b[0m perimeter(c)\n",
      "Cell \u001b[0;32mIn[57], line 8\u001b[0m, in \u001b[0;36mperimeter\u001b[0;34m(rectangle)\u001b[0m\n\u001b[1;32m      7\u001b[0m \u001b[39mdef\u001b[39;00m \u001b[39mperimeter\u001b[39m(rectangle):\n\u001b[0;32m----> 8\u001b[0m     \u001b[39mreturn\u001b[39;00m \u001b[39m2\u001b[39m\u001b[39m*\u001b[39m(rectangle\u001b[39m.\u001b[39mwidth\u001b[39m+\u001b[39mrectangle\u001b[39m.\u001b[39mheight) \u001b[39mif\u001b[39;00m rectangle\u001b[39m.\u001b[39;49mwidth\u001b[39m>\u001b[39m\u001b[39m0\u001b[39m \u001b[39mand\u001b[39;00m rectangle\u001b[39m.\u001b[39mheight\u001b[39m>\u001b[39m\u001b[39m0\u001b[39m \u001b[39melse\u001b[39;00m \u001b[39mfloat\u001b[39m(\u001b[39m'\u001b[39m\u001b[39mnan\u001b[39m\u001b[39m'\u001b[39m)\n",
      "\u001b[0;31mAttributeError\u001b[0m: 'Circle' object has no attribute 'width'"
     ]
    }
   ],
   "source": [
    "c=Circle()\n",
    "c.raidus=7\n",
    "perimeter(c)"
   ]
  },
  {
   "attachments": {},
   "cell_type": "markdown",
   "metadata": {},
   "source": [
    "### Problem: python doesn't support function overloading\n",
    "\n",
    "* In python a function name is just like a reference\n",
    "* When we create a new function with same name as that of existing one, it overwrites the reference\n",
    "* perimeter(circle) overwrites perimeter(triangle)\n",
    "* perimeter(rectangle) overwrites perimeter(circle)\n",
    "\n",
    "#### Other languages\n",
    "\n",
    "* even other languages that support overloading may face the challenge as each function takes same number of arguments\n",
    "\n",
    "\n",
    "\n",
    "\n",
    "## How do I write separate perimeter functions for Different shapes if overloading is not allowed?\n",
    "\n",
    "\n",
    "### Solution#1   use prefixes to names (~~LEAST~~ **NOT** RECOMMENDED)"
   ]
  },
  {
   "cell_type": "code",
   "execution_count": 60,
   "metadata": {},
   "outputs": [],
   "source": [
    "def triangle_perimeter(triangle):\n",
    "    return triangle.s1+triangle.s2+triangle.s3 if is_valid(triangle) else float('nan')\n",
    "\n",
    "def circle_perimeter(circle):\n",
    "    return 2*math.pi*circle.radius if circle.radius>0 else float('nan')\n",
    "\n",
    "def rectangle_perimeter(rectangle):\n",
    "    return 2*(rectangle.width+rectangle.height) if rectangle.width>0 and rectangle.height>0 else float('nan')"
   ]
  },
  {
   "cell_type": "code",
   "execution_count": 62,
   "metadata": {},
   "outputs": [
    {
     "data": {
      "text/plain": [
       "43.982297150257104"
      ]
     },
     "execution_count": 62,
     "metadata": {},
     "output_type": "execute_result"
    }
   ],
   "source": [
    "c=Circle()\n",
    "c.radius=7\n",
    "circle_perimeter(c)"
   ]
  },
  {
   "cell_type": "code",
   "execution_count": 63,
   "metadata": {},
   "outputs": [
    {
     "data": {
      "text/plain": [
       "12"
      ]
     },
     "execution_count": 63,
     "metadata": {},
     "output_type": "execute_result"
    }
   ],
   "source": [
    "triangle_create=create\n",
    "t=triangle_create(3,4,5)\n",
    "triangle_perimeter(t)"
   ]
  },
  {
   "cell_type": "code",
   "execution_count": 64,
   "metadata": {},
   "outputs": [
    {
     "data": {
      "text/plain": [
       "20"
      ]
     },
     "execution_count": 64,
     "metadata": {},
     "output_type": "execute_result"
    }
   ],
   "source": [
    "r=Rectangle()\n",
    "r.width=7\n",
    "r.height=3\n",
    "rectangle_perimeter(r)"
   ]
  },
  {
   "attachments": {},
   "cell_type": "markdown",
   "metadata": {},
   "source": [
    "### Solution #2  Use Modules\n",
    "\n",
    "* create separate modules for each shape\n",
    "* then we can have functions with same name present in those modules\n",
    "* modules must be created in python file"
   ]
  },
  {
   "cell_type": "code",
   "execution_count": 67,
   "metadata": {},
   "outputs": [
    {
     "name": "stdout",
     "output_type": "stream",
     "text": [
      "Overwriting triangle.py\n"
     ]
    }
   ],
   "source": [
    "%%file triangle.py\n",
    "\n",
    "class Triangle:\n",
    "    pass\n",
    "\n",
    "def create(s1,s2,s3):\n",
    "    t=Triangle()\n",
    "    t.s1=s1\n",
    "    t.s2=s2\n",
    "    t.s3=s3\n",
    "    return t\n",
    "\n",
    "def perimeter(t):\n",
    "    #validation removed for simplicity\n",
    "    return t.s1+t.s2+t.s3\n",
    "\n",
    "# other functions not shown for simplicity\n"
   ]
  },
  {
   "cell_type": "code",
   "execution_count": 68,
   "metadata": {},
   "outputs": [
    {
     "name": "stdout",
     "output_type": "stream",
     "text": [
      "Writing circle.py\n"
     ]
    }
   ],
   "source": [
    "%%file circle.py\n",
    "\n",
    "import math \n",
    "\n",
    "class Circle:\n",
    "    pass\n",
    "\n",
    "def create(radius):\n",
    "    c=Circle()\n",
    "    c.radius=radius\n",
    "    return c\n",
    "\n",
    "def perimeter(circle):\n",
    "    return 2 * math.pi * circle.radius\n",
    "\n"
   ]
  },
  {
   "attachments": {},
   "cell_type": "markdown",
   "metadata": {},
   "source": [
    "### Now we can use the codes from the modules"
   ]
  },
  {
   "cell_type": "code",
   "execution_count": 69,
   "metadata": {},
   "outputs": [],
   "source": [
    "import circle\n",
    "import triangle"
   ]
  },
  {
   "cell_type": "code",
   "execution_count": 75,
   "metadata": {},
   "outputs": [
    {
     "data": {
      "text/plain": [
       "12"
      ]
     },
     "execution_count": 75,
     "metadata": {},
     "output_type": "execute_result"
    }
   ],
   "source": [
    "t=triangle.create(3,4,5)\n",
    "triangle.perimeter(t)"
   ]
  },
  {
   "cell_type": "code",
   "execution_count": 76,
   "metadata": {},
   "outputs": [
    {
     "data": {
      "text/plain": [
       "43.982297150257104"
      ]
     },
     "execution_count": 76,
     "metadata": {},
     "output_type": "execute_result"
    }
   ],
   "source": [
    "\n",
    "c=circle.create(7)\n",
    "circle.perimeter(c)"
   ]
  },
  {
   "attachments": {},
   "cell_type": "markdown",
   "metadata": {},
   "source": [
    "### Advantage\n",
    "\n",
    "* now we have two separate modules\n",
    "    * triangle\n",
    "    * circle\n",
    "* both can have functions with same name without overwriting each other\n",
    "    * they belong to different object\n",
    "\n",
    "* you can think of the design as similar to name change (using dot instead of underscore)\n",
    "\n",
    "* the advantage is if you need only triangle (and not circle) you can import names and use without prefix"
   ]
  },
  {
   "cell_type": "code",
   "execution_count": 72,
   "metadata": {},
   "outputs": [
    {
     "data": {
      "text/plain": [
       "12"
      ]
     },
     "execution_count": 72,
     "metadata": {},
     "output_type": "execute_result"
    }
   ],
   "source": [
    "from triangle import create,perimeter\n",
    "\n",
    "t=create(3,4,5)\n",
    "perimeter(t)"
   ]
  },
  {
   "cell_type": "code",
   "execution_count": 73,
   "metadata": {},
   "outputs": [
    {
     "data": {
      "text/plain": [
       "43.982297150257104"
      ]
     },
     "execution_count": 73,
     "metadata": {},
     "output_type": "execute_result"
    }
   ],
   "source": [
    "from circle import create,perimeter\n",
    "c=create(7)\n",
    "perimeter(c)"
   ]
  },
  {
   "attachments": {},
   "cell_type": "markdown",
   "metadata": {},
   "source": [
    "#### Problem: now the second import will overwrite the first import\n",
    "\n",
    "* perimeter imported from circle has overrwritten perimeter imported from triangle"
   ]
  },
  {
   "cell_type": "code",
   "execution_count": 74,
   "metadata": {},
   "outputs": [
    {
     "ename": "AttributeError",
     "evalue": "'Triangle' object has no attribute 'radius'",
     "output_type": "error",
     "traceback": [
      "\u001b[0;31m---------------------------------------------------------------------------\u001b[0m",
      "\u001b[0;31mAttributeError\u001b[0m                            Traceback (most recent call last)",
      "Cell \u001b[0;32mIn[74], line 1\u001b[0m\n\u001b[0;32m----> 1\u001b[0m perimeter(t)\n",
      "File \u001b[0;32m~/works/corporate/202309-ecolab-python/basic-demos/jupyter/circle.py:13\u001b[0m, in \u001b[0;36mperimeter\u001b[0;34m(circle)\u001b[0m\n\u001b[1;32m     12\u001b[0m \u001b[39mdef\u001b[39;00m \u001b[39mperimeter\u001b[39m(circle):\n\u001b[0;32m---> 13\u001b[0m     \u001b[39mreturn\u001b[39;00m \u001b[39m2\u001b[39m \u001b[39m*\u001b[39m math\u001b[39m.\u001b[39mpi \u001b[39m*\u001b[39m circle\u001b[39m.\u001b[39;49mradius\n",
      "\u001b[0;31mAttributeError\u001b[0m: 'Triangle' object has no attribute 'radius'"
     ]
    }
   ],
   "source": [
    "perimeter(t)"
   ]
  },
  {
   "attachments": {},
   "cell_type": "markdown",
   "metadata": {},
   "source": [
    "#### Recommendation : prefer alias import over name import\n",
    "\n",
    "## Approach #3 Use Class instead of Module\n",
    "\n",
    "* To be continued..."
   ]
  },
  {
   "cell_type": "markdown",
   "metadata": {},
   "source": []
  }
 ],
 "metadata": {
  "kernelspec": {
   "display_name": "Python 3 (ipykernel)",
   "language": "python",
   "name": "python3"
  },
  "language_info": {
   "codemirror_mode": {
    "name": "ipython",
    "version": 3
   },
   "file_extension": ".py",
   "mimetype": "text/x-python",
   "name": "python",
   "nbconvert_exporter": "python",
   "pygments_lexer": "ipython3",
   "version": "3.9.1"
  },
  "vscode": {
   "interpreter": {
    "hash": "bc4e78314997db9a44b6830e0aa6b75a33973256eb5fdaf587cb7b38c9328874"
   }
  }
 },
 "nbformat": 4,
 "nbformat_minor": 4
}
