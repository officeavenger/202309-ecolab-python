{
 "cells": [
  {
   "attachments": {},
   "cell_type": "markdown",
   "metadata": {},
   "source": [
    "# Linked List\n",
    "\n",
    "* internally stores **values** in objects called **Node**\n",
    "    * **Node** is part of internal implementation details\n",
    "\n",
    "#### Node\n"
   ]
  },
  {
   "cell_type": "code",
   "execution_count": 1,
   "metadata": {},
   "outputs": [],
   "source": [
    "class Node:\n",
    "    def __init__(self, value,next=None, previous=None):\n",
    "        self._value=value\n",
    "        self._next=next\n",
    "        self._previous=previous"
   ]
  },
  {
   "attachments": {},
   "cell_type": "markdown",
   "metadata": {},
   "source": [
    "### LinkedList\n",
    "\n",
    "* this is the main class user will be interacting with\n",
    "* Node is expected to work inside LinkedList\n",
    "* Although node properties (_value, _next,_previous) are marked protected (against outside code) it is ok to access it from LinkedList\n",
    "    * LinkedList completely owns the Node\n",
    "    * The two should be part of same module\n",
    "    * Node has no role outside LinkedList\n"
   ]
  },
  {
   "cell_type": "code",
   "execution_count": 5,
   "metadata": {},
   "outputs": [],
   "source": [
    "class LinkedList:\n",
    "    def __init__(self):\n",
    "        self._first=None\n",
    "\n",
    "    def append(self, value):\n",
    "        if self._first==None: # list is empty\n",
    "            self._first=Node(value)\n",
    "        else: # add to the end of a non-empty list\n",
    "            n=self._first\n",
    "            while n._next:\n",
    "                n=n._next\n",
    "            n._next=Node(value, previous=n)\n",
    "\n",
    "    def info(self):\n",
    "        if self._first==None: \n",
    "            return \"LinkedList(empty)\"\n",
    "        str=\"LinkedList(\\t\"\n",
    "        n=self._first\n",
    "        while n:\n",
    "            str+=f'{n._value}\\t'\n",
    "            n=n._next\n",
    "        str+=\")\"\n",
    "        return str\n",
    "\n",
    "    def size(self):\n",
    "        c=0\n",
    "        n=self._first\n",
    "        while n:\n",
    "            c+=1\n",
    "            n=n._next\n",
    "        return c\n",
    "            "
   ]
  },
  {
   "cell_type": "code",
   "execution_count": 6,
   "metadata": {},
   "outputs": [
    {
     "name": "stdout",
     "output_type": "stream",
     "text": [
      "LinkedList(empty)\n"
     ]
    }
   ],
   "source": [
    "l1 = LinkedList()\n",
    "\n",
    "print(l1.info())\n",
    "\n"
   ]
  },
  {
   "cell_type": "code",
   "execution_count": 7,
   "metadata": {},
   "outputs": [
    {
     "name": "stdout",
     "output_type": "stream",
     "text": [
      "size 5\n",
      "LinkedList(\t2\t3\t9\t2\t6\t)\n"
     ]
    }
   ],
   "source": [
    "for value in [2,3,9,2,6]:\n",
    "    l1.append(value)\n",
    "\n",
    "print('size', l1.size())\n",
    "\n",
    "print(l1.info())"
   ]
  },
  {
   "cell_type": "code",
   "execution_count": 10,
   "metadata": {},
   "outputs": [],
   "source": [
    "def get(list,index):\n",
    "    n=list._first\n",
    "    for i in range(index):\n",
    "        n=n._next\n",
    "        if n==None:\n",
    "            break\n",
    "    else:\n",
    "        return n._value\n"
   ]
  },
  {
   "cell_type": "code",
   "execution_count": 11,
   "metadata": {},
   "outputs": [
    {
     "data": {
      "text/plain": [
       "9"
      ]
     },
     "execution_count": 11,
     "metadata": {},
     "output_type": "execute_result"
    }
   ],
   "source": [
    "get(l1,2)"
   ]
  },
  {
   "attachments": {},
   "cell_type": "markdown",
   "metadata": {},
   "source": [
    "### We can make this \"get\" function a part of LinkedList easily"
   ]
  },
  {
   "cell_type": "code",
   "execution_count": 12,
   "metadata": {},
   "outputs": [],
   "source": [
    "LinkedList.get=get"
   ]
  },
  {
   "cell_type": "code",
   "execution_count": 13,
   "metadata": {},
   "outputs": [
    {
     "data": {
      "text/plain": [
       "2"
      ]
     },
     "execution_count": 13,
     "metadata": {},
     "output_type": "execute_result"
    }
   ],
   "source": [
    "l1.get(3)"
   ]
  },
  {
   "cell_type": "code",
   "execution_count": 14,
   "metadata": {},
   "outputs": [],
   "source": [
    "def set(list,index,value):\n",
    "    n=list._first\n",
    "    for i in range(index):\n",
    "        n=n._next\n",
    "        if n==None:\n",
    "            break\n",
    "    else:\n",
    "        n._value=value\n",
    "\n",
    "LinkedList.set=set"
   ]
  },
  {
   "cell_type": "code",
   "execution_count": 31,
   "metadata": {},
   "outputs": [
    {
     "name": "stdout",
     "output_type": "stream",
     "text": [
      "0\n",
      "1\n",
      "2\n",
      "3\n",
      "4\n",
      "LinkedList(\t0\t10\t20\t30\t40\t)\n"
     ]
    }
   ],
   "source": [
    "l2=LinkedList()\n",
    "for i in range(5):\n",
    "    l2.append(i)\n",
    "    \n",
    "for i in range(l2.size()):\n",
    "    print(l2.get(i))\n",
    "    l2.set(i, i*10)\n",
    "\n",
    "print(l2.info())\n"
   ]
  },
  {
   "cell_type": "code",
   "execution_count": 32,
   "metadata": {},
   "outputs": [],
   "source": [
    "def insert(list, index, value):\n",
    "    y=list._first\n",
    "    for i in range(index):\n",
    "        y=y._next\n",
    "        if y==None:\n",
    "            return\n",
    "\n",
    "    \n",
    "\n",
    "    x=y._previous\n",
    "\n",
    "    new_node=Node(value,previous=x,next=y)\n",
    "    \n",
    "    if x:\n",
    "        x._next=new_node\n",
    "    else:\n",
    "        list._first=new_node\n",
    "\n",
    "    y._previous=new_node\n",
    "   \n",
    "LinkedList.insert=insert\n",
    "\n",
    "\n",
    "\n",
    "\n"
   ]
  },
  {
   "cell_type": "code",
   "execution_count": 33,
   "metadata": {},
   "outputs": [
    {
     "name": "stdout",
     "output_type": "stream",
     "text": [
      "LinkedList(\t0\t10\t20\t30\t40\t)\n"
     ]
    }
   ],
   "source": [
    "print(l2.info())"
   ]
  },
  {
   "cell_type": "code",
   "execution_count": 34,
   "metadata": {},
   "outputs": [
    {
     "name": "stdout",
     "output_type": "stream",
     "text": [
      "LinkedList(\t0\t10\t15\t20\t30\t40\t)\n"
     ]
    }
   ],
   "source": [
    "l2.insert(2,15)\n",
    "print(l2.info())"
   ]
  },
  {
   "cell_type": "code",
   "execution_count": 35,
   "metadata": {},
   "outputs": [
    {
     "name": "stdout",
     "output_type": "stream",
     "text": [
      "LinkedList(\t100\t0\t10\t15\t20\t30\t40\t)\n"
     ]
    }
   ],
   "source": [
    "l2.insert(0,100)\n",
    "print(l2.info())"
   ]
  },
  {
   "cell_type": "code",
   "execution_count": 36,
   "metadata": {},
   "outputs": [],
   "source": [
    "def remove(list, index):\n",
    "    n=list._first\n",
    "    for i in range(index):\n",
    "        n=n._next\n",
    "        if n==None:\n",
    "            return\n",
    "    x= n._previous\n",
    "    y= n._next\n",
    "\n",
    "    if x:\n",
    "        x._next=y\n",
    "    else:\n",
    "        list._first=y\n",
    "\n",
    "    if y:\n",
    "        y._previous=x\n",
    "    return n._value\n",
    "\n",
    "LinkedList.remove=remove"
   ]
  },
  {
   "cell_type": "code",
   "execution_count": 37,
   "metadata": {},
   "outputs": [
    {
     "name": "stdout",
     "output_type": "stream",
     "text": [
      "LinkedList(\t100\t0\t10\t15\t20\t30\t40\t)\n"
     ]
    }
   ],
   "source": [
    "print(l2.info())"
   ]
  },
  {
   "cell_type": "code",
   "execution_count": 38,
   "metadata": {},
   "outputs": [
    {
     "data": {
      "text/plain": [
       "10"
      ]
     },
     "execution_count": 38,
     "metadata": {},
     "output_type": "execute_result"
    }
   ],
   "source": [
    "l2.remove(2) #10"
   ]
  },
  {
   "cell_type": "code",
   "execution_count": 39,
   "metadata": {},
   "outputs": [
    {
     "name": "stdout",
     "output_type": "stream",
     "text": [
      "LinkedList(\t100\t0\t15\t20\t30\t40\t)\n"
     ]
    }
   ],
   "source": [
    "print(l2.info())"
   ]
  },
  {
   "cell_type": "code",
   "execution_count": 40,
   "metadata": {},
   "outputs": [
    {
     "name": "stdout",
     "output_type": "stream",
     "text": [
      "100\n",
      "LinkedList(\t0\t15\t20\t30\t40\t)\n"
     ]
    }
   ],
   "source": [
    "print(l2.remove(0)) #100\n",
    "print(l2.info())"
   ]
  },
  {
   "cell_type": "code",
   "execution_count": 41,
   "metadata": {},
   "outputs": [
    {
     "name": "stdout",
     "output_type": "stream",
     "text": [
      "40\n",
      "LinkedList(\t0\t15\t20\t30\t)\n"
     ]
    }
   ],
   "source": [
    "print(l2.remove(l2.size()-1)) #40\n",
    "print(l2.info())"
   ]
  },
  {
   "attachments": {},
   "cell_type": "markdown",
   "metadata": {},
   "source": [
    "### Putting LinkedList class together"
   ]
  },
  {
   "cell_type": "code",
   "execution_count": 42,
   "metadata": {},
   "outputs": [],
   "source": [
    "class Node:\n",
    "    def __init__(self, value,next=None, previous=None):\n",
    "        self._value=value\n",
    "        self._next=next\n",
    "        self._previous=previous\n",
    "        \n",
    "class LinkedList:\n",
    "    def __init__(self):\n",
    "        self._first=None\n",
    "\n",
    "    def append(self, value):\n",
    "        if self._first==None: # list is empty\n",
    "            self._first=Node(value)\n",
    "        else: # add to the end of a non-empty list\n",
    "            n=self._first\n",
    "            while n._next:\n",
    "                n=n._next\n",
    "            n._next=Node(value, previous=n)\n",
    "\n",
    "    def info(self):\n",
    "        if self._first==None: \n",
    "            return \"LinkedList(empty)\"\n",
    "        str=\"LinkedList(\\t\"\n",
    "        n=self._first\n",
    "        while n:\n",
    "            str+=f'{n._value}\\t'\n",
    "            n=n._next\n",
    "        str+=\")\"\n",
    "        return str\n",
    "\n",
    "    def size(self):\n",
    "        c=0\n",
    "        n=self._first\n",
    "        while n:\n",
    "            c+=1\n",
    "            n=n._next\n",
    "        return c\n",
    "            \n",
    "    def get(list,index):\n",
    "        n=list._first\n",
    "        for i in range(index):\n",
    "            n=n._next\n",
    "            if n==None:\n",
    "                break\n",
    "        else:\n",
    "            return n._value\n",
    "\n",
    "    def set(list,index,value):\n",
    "        n=list._first\n",
    "        for i in range(index):\n",
    "            n=n._next\n",
    "            if n==None:\n",
    "                break\n",
    "        else:\n",
    "            n._value=value\n",
    "\n",
    "    def insert(list, index, value):\n",
    "        y=list._first\n",
    "        for i in range(index):\n",
    "            y=y._next\n",
    "            if y==None:\n",
    "                return\n",
    "\n",
    "        \n",
    "\n",
    "        x=y._previous\n",
    "\n",
    "        new_node=Node(value,previous=x,next=y)\n",
    "        \n",
    "        if x:\n",
    "            x._next=new_node\n",
    "        else:\n",
    "            list._first=new_node\n",
    "\n",
    "        y._previous=new_node\n",
    "\n",
    "    def remove(list, index):\n",
    "        n=list._first\n",
    "        for i in range(index):\n",
    "            n=n._next\n",
    "            if n==None:\n",
    "                return\n",
    "        x= n._previous\n",
    "        y= n._next\n",
    "\n",
    "        if x:\n",
    "            x._next=y\n",
    "        else:\n",
    "            list._first=y\n",
    "\n",
    "        if y:\n",
    "            y._previous=x\n",
    "        return n._value\n",
    "    "
   ]
  },
  {
   "cell_type": "code",
   "execution_count": 43,
   "metadata": {},
   "outputs": [
    {
     "name": "stdout",
     "output_type": "stream",
     "text": [
      "LinkedList(\t10\t20\t30\t40\t50\t60\t70\t80\t90\t100\t)\n"
     ]
    }
   ],
   "source": [
    "l=LinkedList()\n",
    "for n in range(10,101,10):\n",
    "    l.append(n)\n",
    "\n",
    "print(l.info())"
   ]
  },
  {
   "cell_type": "code",
   "execution_count": 44,
   "metadata": {},
   "outputs": [
    {
     "name": "stdout",
     "output_type": "stream",
     "text": [
      "LinkedList(\t0\t10\t20\t30\t40\t50\t55\t60\t70\t80\t90\t100\t)\n"
     ]
    }
   ],
   "source": [
    "l.insert(0,0)\n",
    "l.insert(6,55)\n",
    "print(l.info())"
   ]
  },
  {
   "cell_type": "code",
   "execution_count": 45,
   "metadata": {},
   "outputs": [
    {
     "name": "stdout",
     "output_type": "stream",
     "text": [
      "70\n",
      "0\n",
      "100\n",
      "LinkedList(\t10\t20\t30\t40\t50\t55\t60\t80\t90\t)\n"
     ]
    }
   ],
   "source": [
    "print(l.remove(8))#70\n",
    "print(l.remove(0))#0\n",
    "print(l.remove(l.size()-1))\n",
    "print(l.info())"
   ]
  },
  {
   "cell_type": "code",
   "execution_count": 46,
   "metadata": {},
   "outputs": [
    {
     "name": "stdout",
     "output_type": "stream",
     "text": [
      "LinkedList(\t1.0\t2.0\t3.0\t4.0\t5.0\t5.5\t6.0\t8.0\t9.0\t)\n"
     ]
    }
   ],
   "source": [
    "for x in range(l.size()):\n",
    "    l.set(x, l.get(x)/10)\n",
    "\n",
    "print(l.info())"
   ]
  },
  {
   "attachments": {},
   "cell_type": "markdown",
   "metadata": {},
   "source": [
    "### Need Optimization —> Avoid Redundant Logic\n",
    "\n",
    "* Several of our function need to reach a node at given index\n",
    "    * get\n",
    "    * set\n",
    "    * insert\n",
    "    * remove\n",
    "\n",
    "* they have similar repeated logic\n",
    "\n",
    "\n",
    "#### Assignment 8.2\n",
    "\n",
    "* Rewrite the LinkedList code to remove the redundancy of code."
   ]
  },
  {
   "cell_type": "code",
   "execution_count": 55,
   "metadata": {},
   "outputs": [],
   "source": [
    "class Node:\n",
    "    def __init__(self, value,next=None, previous=None):\n",
    "        self._value=value\n",
    "        self._next=next\n",
    "        self._previous=previous\n",
    "        \n",
    "class LinkedList:\n",
    "    def __init__(self):\n",
    "        self._first=None\n",
    "\n",
    "    def append(self, value):\n",
    "        if self._first==None: # list is empty\n",
    "            self._first=Node(value)\n",
    "        else: # add to the end of a non-empty list\n",
    "            n=self._first\n",
    "            while n._next:\n",
    "                n=n._next\n",
    "            n._next=Node(value, previous=n)\n",
    "\n",
    "    def info(self):\n",
    "        if self._first==None: \n",
    "            return \"LinkedList(empty)\"\n",
    "        str=\"LinkedList(\\t\"\n",
    "        n=self._first\n",
    "        while n:\n",
    "            str+=f'{n._value}\\t'\n",
    "            n=n._next\n",
    "        str+=\")\"\n",
    "        return str\n",
    "\n",
    "    def size(self):\n",
    "        c=0\n",
    "        n=self._first\n",
    "        while n:\n",
    "            c+=1\n",
    "            n=n._next\n",
    "        return c\n",
    "\n",
    "    def __locate(self,index):\n",
    "        if index>=self.size():\n",
    "            return None\n",
    "        \n",
    "        n=self._first\n",
    "        for i in range(index):\n",
    "            n=n._next\n",
    "            \n",
    "        return n\n",
    "\n",
    "\n",
    "             \n",
    "    def get(self,index):\n",
    "        n=self.__locate(index)\n",
    "        return n._value if n else None\n",
    "    \n",
    "\n",
    "    def set(self,index,value):\n",
    "        n=self.__locate(index)\n",
    "        if n:\n",
    "            n._value=value\n",
    "\n",
    "    def insert(self, index, value):\n",
    "        y=self.__locate(index)\n",
    "        if not y:\n",
    "            return \n",
    "        \n",
    "        x=y._previous \n",
    "\n",
    "        new_node=Node(value,previous=x,next=y)\n",
    "        \n",
    "        if x:\n",
    "            x._next=new_node\n",
    "        else:\n",
    "            self._first=new_node\n",
    "\n",
    "        y._previous=new_node\n",
    "\n",
    "    def remove(self, index):\n",
    "        n=self.__locate(index)\n",
    "        if not n:\n",
    "            return\n",
    "        \n",
    "        x= n._previous\n",
    "        y= n._next\n",
    "\n",
    "        if x:\n",
    "            x._next=y\n",
    "        else:\n",
    "            self._first=y\n",
    "\n",
    "        if y:\n",
    "            y._previous=x\n",
    "        return n._value\n",
    "    "
   ]
  },
  {
   "cell_type": "code",
   "execution_count": 62,
   "metadata": {},
   "outputs": [
    {
     "name": "stdout",
     "output_type": "stream",
     "text": [
      "LinkedList(\t10\t20\t30\t40\t50\t60\t70\t80\t90\t100\t)\n"
     ]
    }
   ],
   "source": [
    "l=LinkedList()\n",
    "for n in range(10,101,10):\n",
    "    l.append(n)\n",
    "\n",
    "print(l.info())"
   ]
  },
  {
   "cell_type": "code",
   "execution_count": 63,
   "metadata": {},
   "outputs": [
    {
     "name": "stdout",
     "output_type": "stream",
     "text": [
      "LinkedList(\t1.0\t2.0\t3.0\t4.0\t5.0\t6.0\t7.0\t8.0\t9.0\t10.0\t)\n"
     ]
    }
   ],
   "source": [
    "for i in range(l.size()):\n",
    "    l.set(i, l.get(i)/10)\n",
    "\n",
    "print(l.info())"
   ]
  },
  {
   "cell_type": "code",
   "execution_count": 64,
   "metadata": {},
   "outputs": [
    {
     "name": "stdout",
     "output_type": "stream",
     "text": [
      "LinkedList(\t0\t1.0\t2.0\t3.0\t4.0\t5.0\t5.5\t6.0\t7.0\t8.0\t9.0\t10.0\t)\n"
     ]
    }
   ],
   "source": [
    "l.insert(5,5.5)\n",
    "l.insert(0,0)\n",
    "\n",
    "print(l.info())"
   ]
  },
  {
   "cell_type": "code",
   "execution_count": 65,
   "metadata": {},
   "outputs": [
    {
     "name": "stdout",
     "output_type": "stream",
     "text": [
      "0\n",
      "10.0\n",
      "3.0\n",
      "LinkedList(\t1.0\t2.0\t4.0\t5.0\t5.5\t6.0\t7.0\t8.0\t9.0\t)\n"
     ]
    }
   ],
   "source": [
    "print(l.remove(0)) #0\n",
    "print(l.remove(l.size()-1)) #10\n",
    "print(l.remove(2)) #3\n",
    "print(l.info())"
   ]
  },
  {
   "cell_type": "code",
   "execution_count": null,
   "metadata": {},
   "outputs": [],
   "source": []
  }
 ],
 "metadata": {
  "kernelspec": {
   "display_name": "Python 3",
   "language": "python",
   "name": "python3"
  },
  "language_info": {
   "codemirror_mode": {
    "name": "ipython",
    "version": 3
   },
   "file_extension": ".py",
   "mimetype": "text/x-python",
   "name": "python",
   "nbconvert_exporter": "python",
   "pygments_lexer": "ipython3",
   "version": "3.9.1 (default, Jan 20 2021, 14:43:58) \n[Clang 11.0.0 (clang-1100.0.33.16)]"
  },
  "orig_nbformat": 4,
  "vscode": {
   "interpreter": {
    "hash": "bc4e78314997db9a44b6830e0aa6b75a33973256eb5fdaf587cb7b38c9328874"
   }
  }
 },
 "nbformat": 4,
 "nbformat_minor": 2
}
