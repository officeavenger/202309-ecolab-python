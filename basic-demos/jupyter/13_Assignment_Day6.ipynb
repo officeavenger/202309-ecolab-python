{
 "cells": [
  {
   "attachments": {},
   "cell_type": "markdown",
   "metadata": {},
   "source": [
    "## Assignment Day #6 -->  Create an Object Model for LinkedList\n",
    "\n",
    "* We should be able to create multiple linkedlist objects\n",
    "* It should support following operations\n",
    "    * append() —> add at the end of the list\n",
    "    * insert() —> insert at a given position\n",
    "    * get() --> get value from a given position\n",
    "    * set() —> set value at a given position\n",
    "    * size() —> size of the list\n",
    "    * info() --> create the list info\n",
    "    * remove() --> remove and return an item from a given position\n",
    "    * clear() --> remove all items\n",
    "\n",
    "* You are **NOT SUPPOSED TO USE**\n",
    "    * any built-in/third party sequences like list,set,tuple,... \n",
    "    * write your own logic\n",
    "\n",
    "* You may use either a single linked list or a double linked list \n"
   ]
  },
  {
   "cell_type": "code",
   "execution_count": null,
   "metadata": {},
   "outputs": [],
   "source": []
  }
 ],
 "metadata": {
  "kernelspec": {
   "display_name": "Python 3",
   "language": "python",
   "name": "python3"
  },
  "language_info": {
   "name": "python",
   "version": "3.9.1 (default, Jan 20 2021, 14:43:58) \n[Clang 11.0.0 (clang-1100.0.33.16)]"
  },
  "orig_nbformat": 4,
  "vscode": {
   "interpreter": {
    "hash": "bc4e78314997db9a44b6830e0aa6b75a33973256eb5fdaf587cb7b38c9328874"
   }
  }
 },
 "nbformat": 4,
 "nbformat_minor": 2
}
