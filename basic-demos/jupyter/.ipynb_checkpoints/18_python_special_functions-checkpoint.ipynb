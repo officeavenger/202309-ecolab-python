{
 "cells": [
  {
   "attachments": {},
   "cell_type": "markdown",
   "metadata": {},
   "source": [
    "### Python special functions\n",
    "\n",
    "* python classes contains several special functions that are prefixed and suffixed with double underscores \\_\\_\n",
    "* they have special meaning and purposes.\n",
    "* some of them are always available\n",
    "    * some of them can be added for special effects\n"
   ]
  },
  {
   "cell_type": "code",
   "execution_count": 1,
   "metadata": {},
   "outputs": [],
   "source": [
    "\n",
    "class Person:\n",
    "    pass"
   ]
  },
  {
   "cell_type": "code",
   "execution_count": 2,
   "metadata": {},
   "outputs": [
    {
     "name": "stdout",
     "output_type": "stream",
     "text": [
      "['__class__', '__delattr__', '__dict__', '__dir__', '__doc__', '__eq__', '__format__', '__ge__', '__getattribute__', '__gt__', '__hash__', '__init__', '__init_subclass__', '__le__', '__lt__', '__module__', '__ne__', '__new__', '__reduce__', '__reduce_ex__', '__repr__', '__setattr__', '__sizeof__', '__str__', '__subclasshook__', '__weakref__']\n"
     ]
    }
   ],
   "source": [
    "print(dir(Person))"
   ]
  },
  {
   "attachments": {},
   "cell_type": "markdown",
   "metadata": {},
   "source": [
    "### What does these functions do?\n",
    "\n",
    "* They have special predfined job as per python\n",
    "* Example\n",
    "    * \\_\\_init\\_\\_()  is called to initalize the object properties\n",
    "    * python automatically calls this funciton during object creation\n",
    "\n",
    "* These functions can be classified in different categories\n",
    "\n",
    "#### 1. Lifecycle Management\n",
    "\n",
    "* these functions handles the life cycle  of an object \n",
    "* \\_\\_new\\_\\_()\n",
    "    * called to allocate memory\n",
    "* \\_\\_init\\_\\_() \n",
    "    * called to initalize the object\n",
    "* \\_\\_del\\_\\_()  \n",
    "    * called when objedct is deleted from the memory"
   ]
  },
  {
   "cell_type": "code",
   "execution_count": 6,
   "metadata": {},
   "outputs": [],
   "source": [
    "class Person:\n",
    "    \n",
    "\n",
    "    def __init__(self,name):\n",
    "        self._name=name\n",
    "        print('__init__ is called')\n",
    "\n",
    "    def __del__(self):\n",
    "        print(f'__del__ called for {self._name}')\n",
    "\n"
   ]
  },
  {
   "cell_type": "code",
   "execution_count": 7,
   "metadata": {},
   "outputs": [
    {
     "name": "stdout",
     "output_type": "stream",
     "text": [
      "__init__ is called\n",
      "__init__ is called\n"
     ]
    }
   ],
   "source": [
    "p1=Person('Sanjay')\n",
    "p2=Person('Prabhat')"
   ]
  },
  {
   "attachments": {},
   "cell_type": "markdown",
   "metadata": {},
   "source": [
    "### \\_\\_del\\_\\_ will be called if\n",
    "\n",
    "* we call **del obj**\n",
    "* or we assign a different to the reference"
   ]
  },
  {
   "cell_type": "code",
   "execution_count": 8,
   "metadata": {},
   "outputs": [
    {
     "name": "stdout",
     "output_type": "stream",
     "text": [
      "__del__ called for Sanjay\n"
     ]
    }
   ],
   "source": [
    "del p1\n"
   ]
  },
  {
   "cell_type": "code",
   "execution_count": 9,
   "metadata": {},
   "outputs": [
    {
     "name": "stdout",
     "output_type": "stream",
     "text": [
      "__del__ called for Prabhat\n"
     ]
    }
   ],
   "source": [
    "p2='Hi' # now Person object will be deleted"
   ]
  },
  {
   "attachments": {},
   "cell_type": "markdown",
   "metadata": {},
   "source": [
    "### 2. converter functions\n",
    "\n",
    "* these functions can convert an object from one type to another\n",
    "\n",
    "#### 2.1. \\_\\_str\\_\\_\n",
    "\n",
    "* can convert an object to a _printable string_ format\n",
    "* this function is automatically called by print() function\n",
    "* it can also be called using str(obj) function\n"
   ]
  },
  {
   "cell_type": "code",
   "execution_count": 11,
   "metadata": {},
   "outputs": [],
   "source": [
    "class Person:\n",
    "    def __init__(self,name):\n",
    "        self._name=name"
   ]
  },
  {
   "cell_type": "code",
   "execution_count": 13,
   "metadata": {},
   "outputs": [
    {
     "name": "stdout",
     "output_type": "stream",
     "text": [
      "<__main__.Person object at 0x110242970>\n"
     ]
    }
   ],
   "source": [
    "p=Person('Sanjay')\n",
    "print(p)"
   ]
  },
  {
   "attachments": {},
   "cell_type": "markdown",
   "metadata": {},
   "source": [
    "##### this message is not very useful. we can decide what it should print"
   ]
  },
  {
   "cell_type": "code",
   "execution_count": 14,
   "metadata": {},
   "outputs": [],
   "source": [
    "class Person:\n",
    "    def __init__(self,name):\n",
    "        self._name=name\n",
    "\n",
    "    def __str__(self):\n",
    "        return f'Person({self._name})'"
   ]
  },
  {
   "cell_type": "code",
   "execution_count": 15,
   "metadata": {},
   "outputs": [
    {
     "name": "stdout",
     "output_type": "stream",
     "text": [
      "Person(Prabhat)\n",
      "Person(Prabhat)\n"
     ]
    }
   ],
   "source": [
    "p=Person('Prabhat')\n",
    "\n",
    "print(str(p))\n",
    "\n",
    "print(p)"
   ]
  },
  {
   "cell_type": "code",
   "execution_count": 16,
   "metadata": {},
   "outputs": [
    {
     "data": {
      "text/plain": [
       "<__main__.Person at 0x1101672b0>"
      ]
     },
     "execution_count": 16,
     "metadata": {},
     "output_type": "execute_result"
    }
   ],
   "source": [
    "p"
   ]
  },
  {
   "attachments": {},
   "cell_type": "markdown",
   "metadata": {},
   "source": [
    "#### 2.1 \\_\\_str\\_\\_\n",
    "\n",
    "* it is automatically called by print()\n",
    "* it can be a great replacement for our **info()** functions \n",
    "* but shell doesn't use this function\n",
    "    * shell uses a different function instead\n",
    "\n",
    "#### 2.2 \\_\\_repr\\_\\_ (Representation)\n",
    "\n",
    "* it generates strign for internal representation\n",
    "* it can be similar to \\_\\_str\\_\\_"
   ]
  },
  {
   "cell_type": "code",
   "execution_count": 17,
   "metadata": {},
   "outputs": [
    {
     "data": {
      "text/plain": [
       "<__main__.Person at 0x1101672b0>"
      ]
     },
     "execution_count": 17,
     "metadata": {},
     "output_type": "execute_result"
    }
   ],
   "source": [
    "p"
   ]
  },
  {
   "cell_type": "code",
   "execution_count": 18,
   "metadata": {},
   "outputs": [],
   "source": [
    "Person.__repr__=Person.__str__\n"
   ]
  },
  {
   "cell_type": "code",
   "execution_count": 19,
   "metadata": {},
   "outputs": [
    {
     "data": {
      "text/plain": [
       "Person(Prabhat)"
      ]
     },
     "execution_count": 19,
     "metadata": {},
     "output_type": "execute_result"
    }
   ],
   "source": [
    "p"
   ]
  },
  {
   "attachments": {},
   "cell_type": "markdown",
   "metadata": {},
   "source": [
    "#### 2. More converters\n",
    "\n",
    "* other converters to popular type includes\n",
    "    * \\_\\_int\\_\\_()\n",
    "        * called when we call int(obj) --> obj.__int__()\n",
    "\n",
    "    * \\_\\_float\\_\\_()\n",
    "\n",
    "    * \\_\\_bool\\_\\_()\n",
    "\n",
    "\n",
    "### 3. Operator overloading\n",
    "\n",
    "* we can overload predefined operators to work for user defined types\n",
    "* the operators can be arithmetic, relational, special\n",
    "#### 3.1 Arithmetic\n",
    "*  x + y —>   x.\\_\\_add\\_\\_(y)\n",
    "*  x - y —>   x.\\_\\_sub\\_\\_(y)\n",
    "*  x * y —>   x.\\_\\_mul\\_\\_(y)\n",
    "*  x / y —>   x.\\_\\_div\\_\\_(y)\n",
    "*  x // y —>   x.\\_\\_intdiv\\_\\_(y)\n",
    "*  x % y —>   x.\\_\\_mod\\_\\_(y)\n",
    "*  x << y —>   x.\\_\\_lshift\\_\\_(y)\n",
    "*  x >> y —>   x.\\_\\_rshift\\_\\_(y)\n",
    "\n",
    "#### 3.2 Relational\n",
    "\n",
    "*  x > y —>   x.\\_\\_gt\\_\\_(y)\n",
    "*  x < y —>   x.\\_\\_lt\\_\\_(y)\n",
    "*  x == y —>   x.\\_\\_eq\\_\\_(y)\n",
    "*  x != y —>   x.\\_\\_ne\\_\\_(y)\n",
    "*  x <= y —>   x.\\_\\_le\\_\\_(y)\n",
    "*  x >= y —>   x.\\_\\_ge\\_\\_(y)\n",
    "\n",
    "### 4. Special Operations\n",
    "\n",
    "* len(x) =>  x.\\_\\_len\\_\\_()\n",
    "* z = x[20]  =>  z = x.\\_\\_getitem\\_\\_(20)\n",
    "* x[2] =5  =>  x.\\_\\_setitem\\_\\_(2,5)\n",
    "\n",
    "    "
   ]
  },
  {
   "attachments": {},
   "cell_type": "markdown",
   "metadata": {},
   "source": [
    "## Revisiting LinkedList\n",
    "\n",
    "### Change Log\n",
    "\n",
    "1. Introduce Proper exception\n",
    "2. Replace size with len(x)\n",
    "3. Replace get/set with indexer\n",
    "4. Replace info() with str"
   ]
  },
  {
   "cell_type": "code",
   "execution_count": 29,
   "metadata": {},
   "outputs": [],
   "source": [
    "class Node:\n",
    "    def __init__(self, value,next=None, previous=None):\n",
    "        self._value=value\n",
    "        self._next=next\n",
    "        self._previous=previous\n",
    "        \n",
    "class LinkedList:\n",
    "    def __init__(self, *args):\n",
    "        self._first=None\n",
    "        self.append(*args)\n",
    "\n",
    "    def append(self, *args):\n",
    "        for value in args:\n",
    "            self._append(value)\n",
    "\n",
    "\n",
    "    def _append(self, value):\n",
    "        if self._first==None: # list is empty\n",
    "            self._first=Node(value)\n",
    "        else: # add to the end of a non-empty list\n",
    "            n=self._first\n",
    "            while n._next:\n",
    "                n=n._next\n",
    "            n._next=Node(value, previous=n)\n",
    "\n",
    "    #def info(self):\n",
    "    def __str__(self):\n",
    "        if self._first==None: \n",
    "            return \"LinkedList(empty)\"\n",
    "        str=\"LinkedList(\\t\"\n",
    "        n=self._first\n",
    "        while n:\n",
    "            str+=f'{n._value}\\t'\n",
    "            n=n._next\n",
    "        str+=\")\"\n",
    "        return str\n",
    "\n",
    "    #def size(self):\n",
    "    def __len__(self):\n",
    "        c=0\n",
    "        n=self._first\n",
    "        while n:\n",
    "            c+=1\n",
    "            n=n._next\n",
    "        return c\n",
    "\n",
    "    def __locate(self,index):\n",
    "        if index>=len(self):\n",
    "            raise IndexError(f'Invalid Index :{index}')\n",
    "        \n",
    "        n=self._first\n",
    "        for i in range(index):\n",
    "            n=n._next\n",
    "            \n",
    "        return n\n",
    "\n",
    "\n",
    "             \n",
    "    #def get(self,index):\n",
    "    def __getitem__(self,index):\n",
    "        n=self.__locate(index)\n",
    "        return n._value  #if n else None\n",
    "    \n",
    "\n",
    "    #def set(self,index,value):\n",
    "    def __setitem__(self,index,value):\n",
    "        n=self.__locate(index)\n",
    "        n._value=value\n",
    "\n",
    "    def insert(self, index, value):\n",
    "        y=self.__locate(index)\n",
    "        x=y._previous \n",
    "\n",
    "        new_node=Node(value,previous=x,next=y)\n",
    "        \n",
    "        if x:\n",
    "            x._next=new_node\n",
    "        else:\n",
    "            self._first=new_node\n",
    "\n",
    "        y._previous=new_node\n",
    "\n",
    "    def remove(self, index):\n",
    "        n=self.__locate(index)\n",
    "        \n",
    "        x= n._previous\n",
    "        y= n._next\n",
    "\n",
    "        if x:\n",
    "            x._next=y\n",
    "        else:\n",
    "            self._first=y\n",
    "\n",
    "        if y:\n",
    "            y._previous=x\n",
    "        return n._value\n",
    "    "
   ]
  },
  {
   "cell_type": "code",
   "execution_count": 30,
   "metadata": {},
   "outputs": [
    {
     "name": "stdout",
     "output_type": "stream",
     "text": [
      "LinkedList(empty)\n",
      "0\n"
     ]
    }
   ],
   "source": [
    "l=LinkedList()\n",
    "print(l)\n",
    "print(len(l))"
   ]
  },
  {
   "cell_type": "code",
   "execution_count": 31,
   "metadata": {},
   "outputs": [
    {
     "name": "stdout",
     "output_type": "stream",
     "text": [
      "LinkedList(\t2\t3\t9\t2\t5\t)\n",
      "5\n"
     ]
    }
   ],
   "source": [
    "for x in [2,3,9,2,5]:\n",
    "    l.append(x)\n",
    "\n",
    "print(l)\n",
    "print(len(l))"
   ]
  },
  {
   "cell_type": "code",
   "execution_count": 32,
   "metadata": {},
   "outputs": [
    {
     "name": "stdout",
     "output_type": "stream",
     "text": [
      "2\n",
      "3\n",
      "9\n",
      "2\n",
      "5\n",
      "LinkedList(\t6\t9\t27\t6\t15\t)\n"
     ]
    }
   ],
   "source": [
    "for i in range(len(l)):\n",
    "    print(l[i])\n",
    "    l[i]*=3\n",
    "\n",
    "print(l)"
   ]
  },
  {
   "cell_type": "code",
   "execution_count": 33,
   "metadata": {},
   "outputs": [
    {
     "name": "stdout",
     "output_type": "stream",
     "text": [
      "LinkedList(\t5\t9\t2\t1\t)\n",
      "LinkedList(\t5\t9\t2\t1\t8\t2\t4\t1\t)\n"
     ]
    }
   ],
   "source": [
    "l2=LinkedList(5,9,2,1)\n",
    "print(l2)\n",
    "\n",
    "l2.append(8,2,4,1)\n",
    "\n",
    "print(l2)"
   ]
  },
  {
   "cell_type": "code",
   "execution_count": 34,
   "metadata": {},
   "outputs": [
    {
     "name": "stdout",
     "output_type": "stream",
     "text": [
      "27\n"
     ]
    }
   ],
   "source": [
    "print(l[2])"
   ]
  },
  {
   "cell_type": "code",
   "execution_count": 35,
   "metadata": {},
   "outputs": [
    {
     "ename": "IndexError",
     "evalue": "Invalid Index :100",
     "output_type": "error",
     "traceback": [
      "\u001b[0;31m---------------------------------------------------------------------------\u001b[0m",
      "\u001b[0;31mIndexError\u001b[0m                                Traceback (most recent call last)",
      "Cell \u001b[0;32mIn[35], line 1\u001b[0m\n\u001b[0;32m----> 1\u001b[0m \u001b[39mprint\u001b[39m(l[\u001b[39m100\u001b[39;49m])\n",
      "Cell \u001b[0;32mIn[29], line 61\u001b[0m, in \u001b[0;36mLinkedList.__getitem__\u001b[0;34m(self, index)\u001b[0m\n\u001b[1;32m     60\u001b[0m \u001b[39mdef\u001b[39;00m \u001b[39m__getitem__\u001b[39m(\u001b[39mself\u001b[39m,index):\n\u001b[0;32m---> 61\u001b[0m     n\u001b[39m=\u001b[39m\u001b[39mself\u001b[39;49m\u001b[39m.\u001b[39;49m__locate(index)\n\u001b[1;32m     62\u001b[0m     \u001b[39mreturn\u001b[39;00m n\u001b[39m.\u001b[39m_value\n",
      "Cell \u001b[0;32mIn[29], line 49\u001b[0m, in \u001b[0;36mLinkedList.__locate\u001b[0;34m(self, index)\u001b[0m\n\u001b[1;32m     47\u001b[0m \u001b[39mdef\u001b[39;00m \u001b[39m__locate\u001b[39m(\u001b[39mself\u001b[39m,index):\n\u001b[1;32m     48\u001b[0m     \u001b[39mif\u001b[39;00m index\u001b[39m>\u001b[39m\u001b[39m=\u001b[39m\u001b[39mlen\u001b[39m(\u001b[39mself\u001b[39m):\n\u001b[0;32m---> 49\u001b[0m         \u001b[39mraise\u001b[39;00m \u001b[39mIndexError\u001b[39;00m(\u001b[39mf\u001b[39m\u001b[39m'\u001b[39m\u001b[39mInvalid Index :\u001b[39m\u001b[39m{\u001b[39;00mindex\u001b[39m}\u001b[39;00m\u001b[39m'\u001b[39m)\n\u001b[1;32m     51\u001b[0m     n\u001b[39m=\u001b[39m\u001b[39mself\u001b[39m\u001b[39m.\u001b[39m_first\n\u001b[1;32m     52\u001b[0m     \u001b[39mfor\u001b[39;00m i \u001b[39min\u001b[39;00m \u001b[39mrange\u001b[39m(index):\n",
      "\u001b[0;31mIndexError\u001b[0m: Invalid Index :100"
     ]
    }
   ],
   "source": [
    "print(l[100])"
   ]
  },
  {
   "attachments": {},
   "cell_type": "markdown",
   "metadata": {},
   "source": [
    "### Performance of the code\n",
    "\n",
    "* how fast is our LinkedList working\n",
    "* how much time is it taking to\n",
    "    * add items to list\n",
    "    * access items from list"
   ]
  },
  {
   "cell_type": "code",
   "execution_count": 36,
   "metadata": {},
   "outputs": [],
   "source": [
    "def create_list(size):\n",
    "    l=LinkedList()\n",
    "    for x in range(1,size+1):\n",
    "        l.append(x)\n",
    "\n",
    "    return l\n",
    "\n",
    "\n",
    "def sum_list(l):\n",
    "    sum=0;\n",
    "    for i in range(len(l)):\n",
    "        sum+=l[i]\n",
    "    return sum"
   ]
  },
  {
   "cell_type": "code",
   "execution_count": 37,
   "metadata": {},
   "outputs": [
    {
     "name": "stdout",
     "output_type": "stream",
     "text": [
      "5050\n"
     ]
    }
   ],
   "source": [
    "l= create_list(100)\n",
    "s = sum_list(l)\n",
    "print(s)"
   ]
  },
  {
   "cell_type": "code",
   "execution_count": 44,
   "metadata": {},
   "outputs": [],
   "source": [
    "max=50000"
   ]
  },
  {
   "cell_type": "code",
   "execution_count": 45,
   "metadata": {},
   "outputs": [],
   "source": [
    "import time\n",
    "\n",
    "start=time.time()\n",
    "l=create_list(max)\n",
    "end=time.time()\n",
    "print(f'Total time taken to create list is {end-start}')"
   ]
  },
  {
   "cell_type": "markdown",
   "metadata": {},
   "source": []
  },
  {
   "cell_type": "code",
   "execution_count": 41,
   "metadata": {},
   "outputs": [
    {
     "name": "stdout",
     "output_type": "stream",
     "text": [
      "sum is 500500\n",
      "Total time taken to sum list is 0.5742218494415283\n"
     ]
    }
   ],
   "source": [
    "\n",
    "\n",
    "start=time.time()\n",
    "sum=sum_list(l)\n",
    "end=time.time()\n",
    "print(f'sum is {sum}')\n",
    "print(f'Total time taken to sum list is {end-start}')"
   ]
  },
  {
   "cell_type": "code",
   "execution_count": null,
   "metadata": {},
   "outputs": [],
   "source": []
  },
  {
   "attachments": {},
   "cell_type": "markdown",
   "metadata": {},
   "source": [
    "### Assignment\n",
    "\n",
    "* How can we improve the performance of  \n",
    "    * adding item to list\n",
    "    * accessing the items\n",
    "\n",
    "* add functionality to use\n",
    "    * 20 in linkedlist\n",
    "    * linkedlist.count(5)\n",
    "    * while linkedlist:  linkedlist.remove(0)\n",
    "            * should stop after removing all items from the list\n",
    "    \n",
    "\n",
    "\n",
    "\n",
    "\n"
   ]
  }
 ],
 "metadata": {
  "kernelspec": {
   "display_name": "Python 3",
   "language": "python",
   "name": "python3"
  },
  "language_info": {
   "codemirror_mode": {
    "name": "ipython",
    "version": 3
   },
   "file_extension": ".py",
   "mimetype": "text/x-python",
   "name": "python",
   "nbconvert_exporter": "python",
   "pygments_lexer": "ipython3",
   "version": "3.9.1"
  },
  "orig_nbformat": 4,
  "vscode": {
   "interpreter": {
    "hash": "bc4e78314997db9a44b6830e0aa6b75a33973256eb5fdaf587cb7b38c9328874"
   }
  }
 },
 "nbformat": 4,
 "nbformat_minor": 2
}
