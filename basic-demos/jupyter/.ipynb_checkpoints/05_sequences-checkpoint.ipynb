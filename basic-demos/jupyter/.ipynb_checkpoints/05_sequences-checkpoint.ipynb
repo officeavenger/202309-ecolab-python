{
 "cells": [
  {
   "cell_type": "markdown",
   "id": "64a215e8-81cc-4f99-a21c-9166634e0150",
   "metadata": {},
   "source": [
    "# 4 Sequence\n",
    "\n",
    "* sequence is a group of values that can be accessed one by one using **for loop**\n",
    "* The values can\n",
    "      * stored (as a collection)\n",
    "      * computed on the fly\n",
    "      * accessed from external source\n",
    "\n",
    "### 4.1 Stored sequences a.k.a collections\n",
    "\n",
    "* these can be compared with\n",
    "      * **stl of c++** \n",
    "      * **collection classes of java/c#**\n",
    "\n",
    "\n",
    "* common methods\n",
    "      * len(x) ---> returns total items in sequence\n",
    "      * for-loop ---> loops through each item\n",
    "      * in ---> checks if a given item is present in the sequende or not\n",
    "\n",
    "* each sequence can have additional method or behavior that defines their purpose\n",
    "\n",
    "## 1. List\n",
    "\n",
    "* simlar to an array or ArrayList or vector\n",
    "* It is \n",
    "      * dynamic          \n",
    "      * mutable\n",
    "          * append\n",
    "          * pop()\n",
    "          * del\n",
    "          * remove()\n",
    "          * indexer\n",
    "      * indexed\n",
    "          * supports\n",
    "              * negative indexer\n",
    "              * slicers\n",
    "  \n",
    "\n",
    "\n",
    "#### 1. createing a list\n",
    "\n",
    "* a python list looks like simple array\n",
    "  "
   ]
  },
  {
   "cell_type": "code",
   "execution_count": 1,
   "id": "d9366f40-aa3c-44a1-a7de-a8f676c4b4eb",
   "metadata": {},
   "outputs": [],
   "source": [
    "def show_seq(seq):\n",
    "    print(f'{type(seq)} #{id(seq)}: {seq}')"
   ]
  },
  {
   "cell_type": "code",
   "execution_count": 2,
   "id": "e34fc34b-fbeb-46b9-8bab-2d935db11285",
   "metadata": {},
   "outputs": [
    {
     "name": "stdout",
     "output_type": "stream",
     "text": [
      "<class 'list'> #2722316366080: [1, 2, 3, 4]\n"
     ]
    }
   ],
   "source": [
    "numbers=[1,2,3,4]\n",
    "show_seq(numbers)"
   ]
  },
  {
   "cell_type": "markdown",
   "id": "076767be-080c-4831-858f-662b45f633d5",
   "metadata": {},
   "source": [
    "#### common sequence methods\n",
    "\n",
    "* len()\n",
    "* in operator\n",
    "* for loop"
   ]
  },
  {
   "cell_type": "code",
   "execution_count": 4,
   "id": "4198d60c-34f3-45f7-b1f4-6df7709ded00",
   "metadata": {},
   "outputs": [
    {
     "name": "stdout",
     "output_type": "stream",
     "text": [
      "4\n",
      "True\n",
      "False\n"
     ]
    }
   ],
   "source": [
    "print(len(numbers))\n",
    "\n",
    "print(3 in numbers)\n",
    "print(7 in numbers)"
   ]
  },
  {
   "cell_type": "markdown",
   "id": "9ade3f8b-7b0f-4c7c-b414-0ac958dd2dee",
   "metadata": {},
   "source": [
    "### for loop\n",
    "\n",
    "* unlike c style for loop,  python for doesnt loop from a min-max\n",
    "* it loops over all the items of a sequence"
   ]
  },
  {
   "cell_type": "code",
   "execution_count": 7,
   "id": "f39fa3a2-a249-45e4-a8d9-273d84c1971d",
   "metadata": {},
   "outputs": [
    {
     "name": "stdout",
     "output_type": "stream",
     "text": [
      "2 3 4 9 7 "
     ]
    }
   ],
   "source": [
    "numbers=[2,3,4,9,7]\n",
    "\n",
    "for number in numbers:\n",
    "    print(number, end=' ')"
   ]
  },
  {
   "cell_type": "markdown",
   "id": "52afbbd1-1ff4-425d-bc10-d0ba50716024",
   "metadata": {},
   "source": [
    "### simple indexer\n",
    "\n",
    "* it is 0 based indexer\n",
    "* raises error for invalid index"
   ]
  },
  {
   "cell_type": "code",
   "execution_count": 5,
   "id": "12455fe6-997d-4c96-8a20-8b9a69489005",
   "metadata": {},
   "outputs": [
    {
     "name": "stdout",
     "output_type": "stream",
     "text": [
      "3\n",
      "2\n"
     ]
    }
   ],
   "source": [
    "print(numbers[2])\n",
    "print(numbers[1])\n"
   ]
  },
  {
   "cell_type": "code",
   "execution_count": 6,
   "id": "f71742c4-9d60-48a7-b5af-c471c8a37043",
   "metadata": {},
   "outputs": [
    {
     "ename": "IndexError",
     "evalue": "list index out of range",
     "output_type": "error",
     "traceback": [
      "\u001b[1;31m---------------------------------------------------------------------------\u001b[0m",
      "\u001b[1;31mIndexError\u001b[0m                                Traceback (most recent call last)",
      "Cell \u001b[1;32mIn[6], line 1\u001b[0m\n\u001b[1;32m----> 1\u001b[0m \u001b[38;5;28mprint\u001b[39m(\u001b[43mnumbers\u001b[49m\u001b[43m[\u001b[49m\u001b[38;5;241;43m14\u001b[39;49m\u001b[43m]\u001b[49m)\n",
      "\u001b[1;31mIndexError\u001b[0m: list index out of range"
     ]
    }
   ],
   "source": [
    "print(numbers[14])"
   ]
  },
  {
   "cell_type": "markdown",
   "id": "db1344a7-77f9-45a3-a0d4-aea25453d6eb",
   "metadata": {},
   "source": [
    "### Negative indexers in python\n",
    "\n",
    "* In python indexer can be negative, in which case it accesses the items from the end\n",
    "    * -1 ---> last item\n",
    "    * -2 ---> second last item\n",
    "    * -n ---> first item where n => len(seq)"
   ]
  },
  {
   "cell_type": "code",
   "execution_count": 9,
   "id": "52fa1b10-3275-4199-aa61-c4de65333b57",
   "metadata": {},
   "outputs": [
    {
     "name": "stdout",
     "output_type": "stream",
     "text": [
      "8\n",
      "4\n",
      "2\n"
     ]
    }
   ],
   "source": [
    "numbers=[2,3,9,4,8]\n",
    "\n",
    "print(numbers[-1])\n",
    "print(numbers[-2])\n",
    "print(numbers[-len(numbers)])"
   ]
  },
  {
   "cell_type": "code",
   "execution_count": 10,
   "id": "28adbf0e-79d3-4361-a25b-4031420a96ba",
   "metadata": {},
   "outputs": [
    {
     "ename": "IndexError",
     "evalue": "list index out of range",
     "output_type": "error",
     "traceback": [
      "\u001b[1;31m---------------------------------------------------------------------------\u001b[0m",
      "\u001b[1;31mIndexError\u001b[0m                                Traceback (most recent call last)",
      "Cell \u001b[1;32mIn[10], line 1\u001b[0m\n\u001b[1;32m----> 1\u001b[0m \u001b[43mnumbers\u001b[49m\u001b[43m[\u001b[49m\u001b[38;5;241;43m-\u001b[39;49m\u001b[38;5;241;43m100\u001b[39;49m\u001b[43m]\u001b[49m\n",
      "\u001b[1;31mIndexError\u001b[0m: list index out of range"
     ]
    }
   ],
   "source": [
    "numbers[-100]"
   ]
  },
  {
   "cell_type": "markdown",
   "id": "4dea6515-41cc-496b-8efe-5e27f28c142b",
   "metadata": {},
   "source": [
    "### Slicers\n",
    "\n",
    "* Slicer is a special indexer semantic that allows us to slice a sequence based on three parameters\n",
    "   * start index (inclusive)\n",
    "   * end index (exclusive)\n",
    "   * jump/step/gap\n",
    "* the three values are separated with colon\n",
    "* all values are optional\n",
    "      * start defaults to 0\n",
    "      * end defaults to len(seq)\n",
    "      * gap defaults to 1\n"
   ]
  },
  {
   "cell_type": "code",
   "execution_count": 13,
   "id": "ac07811a-c77d-4f9c-9181-9e0dadf2f072",
   "metadata": {},
   "outputs": [
    {
     "name": "stdout",
     "output_type": "stream",
     "text": [
      "<class 'list'> #2722322601088: [0, 10, 20, 30, 40, 50, 60, 70, 80, 90, 100, 110, 120, 130, 140, 150, 160, 170, 180, 190, 200]\n"
     ]
    }
   ],
   "source": [
    "numbers=[0,10,20,30,40,50,60,70,80,90,100,110,120,130,140,150,160,170,180,190, 200]\n",
    "\n",
    "show_seq(numbers)"
   ]
  },
  {
   "cell_type": "code",
   "execution_count": 14,
   "id": "fa82b66e-9d46-4cae-bd65-56e3122d114d",
   "metadata": {},
   "outputs": [
    {
     "name": "stdout",
     "output_type": "stream",
     "text": [
      "<class 'list'> #2722322472704: [100, 110, 120, 130, 140]\n"
     ]
    }
   ],
   "source": [
    "show_seq(numbers[10:15])"
   ]
  },
  {
   "cell_type": "code",
   "execution_count": 15,
   "id": "856b5626-eb06-4842-bde8-a319fa6dce3b",
   "metadata": {},
   "outputs": [
    {
     "name": "stdout",
     "output_type": "stream",
     "text": [
      "<class 'list'> #2722316076864: [20, 50, 80, 110, 140]\n"
     ]
    }
   ],
   "source": [
    "show_seq(numbers[2:17:3])"
   ]
  },
  {
   "cell_type": "markdown",
   "id": "ba07ebe2-1377-445d-99fa-027a968542bb",
   "metadata": {},
   "source": [
    "### if we dont specify the start or end we must specify the colon"
   ]
  },
  {
   "cell_type": "code",
   "execution_count": 19,
   "id": "71b614f5-f25d-4373-8d32-bd78290c6ad9",
   "metadata": {},
   "outputs": [
    {
     "name": "stdout",
     "output_type": "stream",
     "text": [
      "<class 'list'> #2722322556288: [0, 10, 20, 30, 40, 50, 60, 70, 80, 90, 100, 110, 120, 130, 140]\n"
     ]
    }
   ],
   "source": [
    "show_seq(numbers[:15])"
   ]
  },
  {
   "cell_type": "code",
   "execution_count": 21,
   "id": "2eab4c9d-e361-434a-9474-329a2c6096ed",
   "metadata": {},
   "outputs": [
    {
     "name": "stdout",
     "output_type": "stream",
     "text": [
      "<class 'list'> #2722322880448: [0, 30, 60, 90, 120, 150, 180]\n"
     ]
    }
   ],
   "source": [
    "show_seq(numbers[::3]) # show every third item"
   ]
  },
  {
   "cell_type": "code",
   "execution_count": 23,
   "id": "e63d9285-aff0-44bf-871f-1faae98369f1",
   "metadata": {},
   "outputs": [
    {
     "name": "stdout",
     "output_type": "stream",
     "text": [
      "<class 'list'> #2722322556288: [200, 190, 180, 170, 160, 150, 140, 130, 120, 110, 100, 90, 80, 70, 60, 50, 40, 30, 20, 10, 0]\n"
     ]
    }
   ],
   "source": [
    "show_seq(numbers[::-1]) #reverse"
   ]
  },
  {
   "cell_type": "code",
   "execution_count": 24,
   "id": "6e0b9421-6f3a-4957-9952-9152500f2344",
   "metadata": {},
   "outputs": [
    {
     "name": "stdout",
     "output_type": "stream",
     "text": [
      "[200, 190, 180, 170, 160, 150, 140, 130, 120, 110, 100, 90, 80, 70, 60, 50, 40, 30, 20, 10, 0]\n"
     ]
    }
   ],
   "source": [
    "rev = numbers[::-1]\n",
    "print(rev)"
   ]
  },
  {
   "cell_type": "markdown",
   "id": "3e10f5fb-44b1-4a9d-b7c0-4f75f562858a",
   "metadata": {},
   "source": [
    "### Modifiers\n",
    "\n",
    "* we can modify a list by using\n",
    "    * set indexer\n",
    "    * append (adds item to the end)\n",
    "    * extend (adds another sequende to the end)\n",
    "    * insert item in between\n",
    "    * pop() removes item from a pos (default end)\n",
    "    * remove() removes value form the item"
   ]
  },
  {
   "cell_type": "code",
   "execution_count": 26,
   "id": "703c6264-979d-4917-b2ac-bcdb874ee456",
   "metadata": {},
   "outputs": [
    {
     "name": "stdout",
     "output_type": "stream",
     "text": [
      "<class 'list'> #2722322601088: [0, 10, 20, 30, 40, 50, 60, 70, 80, 90, 100, 110, 120, 130, 140, 150, 160, 170, 180, 190, 200]\n"
     ]
    }
   ],
   "source": [
    "show_seq(numbers)"
   ]
  },
  {
   "cell_type": "code",
   "execution_count": 27,
   "id": "c47eef6e-8ad1-4d1f-8325-f88d8aa9cf21",
   "metadata": {},
   "outputs": [
    {
     "data": {
      "text/plain": [
       "200"
      ]
     },
     "execution_count": 27,
     "metadata": {},
     "output_type": "execute_result"
    }
   ],
   "source": [
    "numbers.pop()"
   ]
  },
  {
   "cell_type": "code",
   "execution_count": 28,
   "id": "cc5728c8-bfa7-47af-8562-b4f12fc36395",
   "metadata": {},
   "outputs": [
    {
     "name": "stdout",
     "output_type": "stream",
     "text": [
      "<class 'list'> #2722322601088: [0, 10, 20, 30, 40, 50, 60, 70, 80, 90, 100, 110, 120, 130, 140, 150, 160, 170, 180, 190]\n"
     ]
    }
   ],
   "source": [
    "show_seq(numbers)"
   ]
  },
  {
   "cell_type": "code",
   "execution_count": 29,
   "id": "9145ff7c-71af-4fd5-8499-f23412c8f325",
   "metadata": {},
   "outputs": [
    {
     "name": "stdout",
     "output_type": "stream",
     "text": [
      "<class 'list'> #2722322601088: [0, 10, 20, 30, 50, 60, 70, 80, 90, 100, 110, 120, 130, 140, 150, 160, 170, 180, 190]\n"
     ]
    }
   ],
   "source": [
    "numbers.pop(4)\n",
    "show_seq(numbers)"
   ]
  },
  {
   "cell_type": "code",
   "execution_count": 32,
   "id": "859b3262-81e4-4842-bd2b-3543bb62fc8d",
   "metadata": {},
   "outputs": [],
   "source": [
    "numbers.append(200)\n",
    "numbers.insert(4,400)"
   ]
  },
  {
   "cell_type": "code",
   "execution_count": 38,
   "id": "157fe90e-0f96-4f50-a79e-5062f357010e",
   "metadata": {},
   "outputs": [
    {
     "name": "stdout",
     "output_type": "stream",
     "text": [
      "<class 'list'> #2722322601088: [0, 10, 20, 30, 400, 50, 60, 70, 80, 90, 100, 110, 120, 130, 140, 150, 160, 170, 180, 190, 200]\n"
     ]
    }
   ],
   "source": [
    "show_seq(numbers)"
   ]
  },
  {
   "cell_type": "code",
   "execution_count": 39,
   "id": "5b632cbc-ffc0-4236-a4ec-2b4452b890ca",
   "metadata": {},
   "outputs": [],
   "source": [
    "values1=[1,2,3,4,5]\n",
    "values2=[6,7,8,9,10]\n"
   ]
  },
  {
   "cell_type": "code",
   "execution_count": null,
   "id": "e4280ba4-8a31-4805-8c33-569b6b5fbdda",
   "metadata": {},
   "outputs": [],
   "source": []
  }
 ],
 "metadata": {
  "kernelspec": {
   "display_name": "Python 3 (ipykernel)",
   "language": "python",
   "name": "python3"
  },
  "language_info": {
   "codemirror_mode": {
    "name": "ipython",
    "version": 3
   },
   "file_extension": ".py",
   "mimetype": "text/x-python",
   "name": "python",
   "nbconvert_exporter": "python",
   "pygments_lexer": "ipython3",
   "version": "3.11.5"
  }
 },
 "nbformat": 4,
 "nbformat_minor": 5
}
