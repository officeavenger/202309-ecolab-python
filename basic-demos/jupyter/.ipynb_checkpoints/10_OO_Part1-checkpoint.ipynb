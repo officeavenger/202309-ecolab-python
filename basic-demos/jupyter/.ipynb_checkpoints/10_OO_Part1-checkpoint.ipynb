{
 "cells": [
  {
   "cell_type": "markdown",
   "metadata": {},
   "source": [
    "## What is Object Oriented Programming?\n",
    "\n",
    "* object oriented programming allows us to model **objects** as per the domain requirement\n",
    "* here we need to describe what a **triangle** is \n",
    "* Like C++/Java/C# even in python to describe an **object** we need to create a **class** \n",
    "\n",
    "# Python Object Modelling is very different from C++/Java/C# model (Not just semantically)\n",
    "\n",
    "\n",
    "### Main Role of a Python class\n",
    "\n",
    "* It is **NOT** to describe state/behavior of an object\n",
    "    * This may be a side aspect\n",
    "\n",
    "* The Main job is to provide a type identity to an Object\n",
    "* There will be three key points\n",
    "\n",
    "1. We can create a new object \n",
    "2. The new object will have type of current class\n",
    "3. The new object will have a unique id\n",
    "\n",
    "#### The simplest Triangle class"
   ]
  },
  {
   "cell_type": "code",
   "execution_count": 1,
   "metadata": {},
   "outputs": [],
   "source": [
    "class Triangle:\n",
    "    pass"
   ]
  },
  {
   "cell_type": "markdown",
   "metadata": {},
   "source": [
    "### What can we do with a simple blank Triangle class?\n",
    "\n",
    "\n",
    "#### 1. we can create an object of this type\n",
    "\n",
    "* Note to C++/Java/C# programmers\n",
    "    * python doesn't have **new** keyword.\n",
    "    * every object that is created is **new** \n",
    "* we just call the constructor to create the object"
   ]
  },
  {
   "cell_type": "code",
   "execution_count": 2,
   "metadata": {},
   "outputs": [],
   "source": [
    "t1= Triangle()"
   ]
  },
  {
   "cell_type": "markdown",
   "metadata": {},
   "source": [
    "#### 2. The object has a type and id\n",
    "\n",
    "##### Note\n",
    "* Here \\_\\_main\\_\\_ indicate the global module name \n",
    "* Since we are not imporing it from some other module "
   ]
  },
  {
   "cell_type": "code",
   "execution_count": 3,
   "metadata": {},
   "outputs": [
    {
     "name": "stdout",
     "output_type": "stream",
     "text": [
      "<class '__main__.Triangle'>\n",
      "140302042846688\n"
     ]
    }
   ],
   "source": [
    "print(type(t1))\n",
    "print(id(t1))"
   ]
  },
  {
   "cell_type": "code",
   "execution_count": 4,
   "metadata": {},
   "outputs": [
    {
     "data": {
      "text/plain": [
       "True"
      ]
     },
     "execution_count": 4,
     "metadata": {},
     "output_type": "execute_result"
    }
   ],
   "source": [
    "type(t1)==Triangle"
   ]
  },
  {
   "cell_type": "markdown",
   "metadata": {},
   "source": [
    "#### 3. we can profgrammetically check if a given object is triangle or not"
   ]
  },
  {
   "cell_type": "code",
   "execution_count": 5,
   "metadata": {},
   "outputs": [
    {
     "name": "stdout",
     "output_type": "stream",
     "text": [
      "True\n",
      "False\n",
      "True\n"
     ]
    }
   ],
   "source": [
    "print(isinstance(t1,Triangle)) # True\n",
    "print(isinstance(t1, list)) #False\n",
    "print(type(t1)==Triangle)"
   ]
  },
  {
   "cell_type": "markdown",
   "metadata": {},
   "source": [
    "#### A simple helper to return the normal members of an object"
   ]
  },
  {
   "cell_type": "code",
   "execution_count": 5,
   "metadata": {},
   "outputs": [],
   "source": [
    "def members(obj):\n",
    "    return [member for member in dir(obj) if not member.startswith(\"__\")]\n"
   ]
  },
  {
   "cell_type": "markdown",
   "metadata": {},
   "source": [
    "### What can be the use of this empty Triangle object?\n",
    "\n",
    "* we can add properties to triangle object after it has been created \n",
    "\n",
    "## Very Very IMPORTANT\n",
    "\n",
    "* In c++/Java/c#, \n",
    "    * we must define all properties, fields and methods in the class before we can use it\n",
    "\n",
    "* In python \n",
    "    * we can add new state/behavior to an object after it has been created.\n"
   ]
  },
  {
   "cell_type": "code",
   "execution_count": 24,
   "metadata": {},
   "outputs": [],
   "source": [
    "class Triangle:\n",
    "    pass"
   ]
  },
  {
   "cell_type": "code",
   "execution_count": 25,
   "metadata": {},
   "outputs": [
    {
     "data": {
      "text/plain": [
       "[]"
      ]
     },
     "execution_count": 25,
     "metadata": {},
     "output_type": "execute_result"
    }
   ],
   "source": [
    "t=Triangle()\n",
    "members(t)"
   ]
  },
  {
   "cell_type": "markdown",
   "metadata": {},
   "source": [
    "#### Now we can add properties to an object"
   ]
  },
  {
   "cell_type": "code",
   "execution_count": 26,
   "metadata": {},
   "outputs": [
    {
     "data": {
      "text/plain": [
       "['s1', 's2', 's3']"
      ]
     },
     "execution_count": 26,
     "metadata": {},
     "output_type": "execute_result"
    }
   ],
   "source": [
    "t.s1=3\n",
    "t.s2=4\n",
    "t.s3=5\n",
    "members(t)"
   ]
  },
  {
   "cell_type": "code",
   "execution_count": 27,
   "metadata": {},
   "outputs": [
    {
     "name": "stdout",
     "output_type": "stream",
     "text": [
      "3 4 5\n"
     ]
    }
   ],
   "source": [
    "print(t.s1,t.s2,t.s3)"
   ]
  },
  {
   "cell_type": "markdown",
   "metadata": {},
   "source": [
    "### How does it help?\n",
    "\n",
    "* Now we can redfine our perimeter() function\n",
    "* Here we are not passing three different objects\n",
    "* But we are using single object with three sides"
   ]
  },
  {
   "cell_type": "code",
   "execution_count": 29,
   "metadata": {},
   "outputs": [],
   "source": [
    "def perimeter(t):\n",
    "    if t.s1>0 and t.s2>0 and t.s3>0 and \\\n",
    "        t.s1+t.s2 > t.s3 and \\\n",
    "        t.s2+t.s3 > t.s1 and \\\n",
    "        t.s1+t.s3 > t.s2:\n",
    "        return t.s1+t.s2+t.s3\n",
    "    else:\n",
    "        return float('nan')\n"
   ]
  },
  {
   "cell_type": "code",
   "execution_count": 30,
   "metadata": {},
   "outputs": [],
   "source": [
    "#valid triangle\n",
    "t1 = Triangle()\n",
    "t1.s1=3\n",
    "t1.s2=4\n",
    "t1.s3=5\n",
    "\n",
    "#invalid triangle\n",
    "t2 = Triangle()\n",
    "t2.s1=4\n",
    "t2.s2=8\n",
    "t2.s3=16  "
   ]
  },
  {
   "cell_type": "code",
   "execution_count": 31,
   "metadata": {},
   "outputs": [
    {
     "name": "stdout",
     "output_type": "stream",
     "text": [
      "12\n"
     ]
    }
   ],
   "source": [
    "print(perimeter(t1))"
   ]
  },
  {
   "cell_type": "code",
   "execution_count": 32,
   "metadata": {},
   "outputs": [
    {
     "name": "stdout",
     "output_type": "stream",
     "text": [
      "nan\n"
     ]
    }
   ],
   "source": [
    "print(perimeter(t2))"
   ]
  },
  {
   "cell_type": "markdown",
   "metadata": {},
   "source": [
    "### Problem#2 solved\n",
    "\n",
    "* earlier perimeter was taking three indvidiual values\n",
    "    * those values may belong to different triangles\n",
    "    * something that is not a triangle\n",
    "\n",
    "* now we take a single object\n",
    "    * we can't pass unrelated values\n",
    "    * those values are all related\n",
    "\n",
    "\n",
    "#### But are we sure it is a Triangle?"
   ]
  },
  {
   "cell_type": "code",
   "execution_count": 33,
   "metadata": {},
   "outputs": [],
   "source": [
    "class Circle: \n",
    "    pass"
   ]
  },
  {
   "cell_type": "code",
   "execution_count": 34,
   "metadata": {},
   "outputs": [
    {
     "ename": "AttributeError",
     "evalue": "'Circle' object has no attribute 's1'",
     "output_type": "error",
     "traceback": [
      "\u001b[0;31m---------------------------------------------------------------------------\u001b[0m",
      "\u001b[0;31mAttributeError\u001b[0m                            Traceback (most recent call last)",
      "Cell \u001b[0;32mIn[34], line 4\u001b[0m\n\u001b[1;32m      1\u001b[0m c\u001b[39m=\u001b[39mCircle()\n\u001b[1;32m      2\u001b[0m c\u001b[39m.\u001b[39mradius\u001b[39m=\u001b[39m\u001b[39m7\u001b[39m\n\u001b[0;32m----> 4\u001b[0m perimeter(c)\n",
      "Cell \u001b[0;32mIn[29], line 2\u001b[0m, in \u001b[0;36mperimeter\u001b[0;34m(t)\u001b[0m\n\u001b[1;32m      1\u001b[0m \u001b[39mdef\u001b[39;00m \u001b[39mperimeter\u001b[39m(t):\n\u001b[0;32m----> 2\u001b[0m     \u001b[39mif\u001b[39;00m t\u001b[39m.\u001b[39;49ms1\u001b[39m>\u001b[39m\u001b[39m0\u001b[39m \u001b[39mand\u001b[39;00m t\u001b[39m.\u001b[39ms2\u001b[39m>\u001b[39m\u001b[39m0\u001b[39m \u001b[39mand\u001b[39;00m t\u001b[39m.\u001b[39ms3\u001b[39m>\u001b[39m\u001b[39m0\u001b[39m \u001b[39mand\u001b[39;00m \\\n\u001b[1;32m      3\u001b[0m         t\u001b[39m.\u001b[39ms1\u001b[39m+\u001b[39mt\u001b[39m.\u001b[39ms2 \u001b[39m>\u001b[39m t\u001b[39m.\u001b[39ms3 \u001b[39mand\u001b[39;00m \\\n\u001b[1;32m      4\u001b[0m         t\u001b[39m.\u001b[39ms2\u001b[39m+\u001b[39mt\u001b[39m.\u001b[39ms3 \u001b[39m>\u001b[39m t\u001b[39m.\u001b[39ms1 \u001b[39mand\u001b[39;00m \\\n\u001b[1;32m      5\u001b[0m         t\u001b[39m.\u001b[39ms1\u001b[39m+\u001b[39mt\u001b[39m.\u001b[39ms3 \u001b[39m>\u001b[39m t\u001b[39m.\u001b[39ms2:\n\u001b[1;32m      6\u001b[0m         \u001b[39mreturn\u001b[39;00m t\u001b[39m.\u001b[39ms1\u001b[39m+\u001b[39mt\u001b[39m.\u001b[39ms2\u001b[39m+\u001b[39mt\u001b[39m.\u001b[39ms3\n\u001b[1;32m      7\u001b[0m     \u001b[39melse\u001b[39;00m:\n",
      "\u001b[0;31mAttributeError\u001b[0m: 'Circle' object has no attribute 's1'"
     ]
    }
   ],
   "source": [
    "c=Circle()\n",
    "c.radius=7\n",
    "\n",
    "perimeter(c)"
   ]
  },
  {
   "cell_type": "markdown",
   "metadata": {},
   "source": [
    "#### How do I make sure perimeter works only for Triangle and not for others?\n",
    "\n",
    "##### Assignment 5.1\n",
    "\n",
    "* make sure perimeter works only for Triangle\n",
    "* What if I also want to calculate the perimeter of Circle"
   ]
  },
  {
   "cell_type": "code",
   "execution_count": 35,
   "metadata": {},
   "outputs": [],
   "source": [
    "def perimeter(t):\n",
    "    if isinstance(t,Triangle ) and \\\n",
    "        t.s1>0 and t.s2>0 and t.s3>0 and \\\n",
    "        t.s1+t.s2 > t.s3 and \\\n",
    "        t.s2+t.s3 > t.s1 and \\\n",
    "        t.s1+t.s3 > t.s2:\n",
    "        return t.s1+t.s2+t.s3\n",
    "    else:\n",
    "        return float('nan')"
   ]
  },
  {
   "cell_type": "code",
   "execution_count": 36,
   "metadata": {},
   "outputs": [
    {
     "data": {
      "text/plain": [
       "12"
      ]
     },
     "execution_count": 36,
     "metadata": {},
     "output_type": "execute_result"
    }
   ],
   "source": [
    "perimeter(t1)"
   ]
  },
  {
   "cell_type": "code",
   "execution_count": 37,
   "metadata": {},
   "outputs": [
    {
     "data": {
      "text/plain": [
       "nan"
      ]
     },
     "execution_count": 37,
     "metadata": {},
     "output_type": "execute_result"
    }
   ],
   "source": [
    "perimeter(c)"
   ]
  },
  {
   "cell_type": "markdown",
   "metadata": {},
   "source": [
    "#### What if user creates a Triangle but doesn't specify the sides?"
   ]
  },
  {
   "cell_type": "code",
   "execution_count": 38,
   "metadata": {},
   "outputs": [
    {
     "ename": "AttributeError",
     "evalue": "'Triangle' object has no attribute 's1'",
     "output_type": "error",
     "traceback": [
      "\u001b[0;31m---------------------------------------------------------------------------\u001b[0m",
      "\u001b[0;31mAttributeError\u001b[0m                            Traceback (most recent call last)",
      "Cell \u001b[0;32mIn[38], line 3\u001b[0m\n\u001b[1;32m      1\u001b[0m t3\u001b[39m=\u001b[39mTriangle()\n\u001b[0;32m----> 3\u001b[0m perimeter(t3)\n",
      "Cell \u001b[0;32mIn[35], line 3\u001b[0m, in \u001b[0;36mperimeter\u001b[0;34m(t)\u001b[0m\n\u001b[1;32m      1\u001b[0m \u001b[39mdef\u001b[39;00m \u001b[39mperimeter\u001b[39m(t):\n\u001b[1;32m      2\u001b[0m     \u001b[39mif\u001b[39;00m \u001b[39misinstance\u001b[39m(t,Triangle ) \u001b[39mand\u001b[39;00m \\\n\u001b[0;32m----> 3\u001b[0m         t\u001b[39m.\u001b[39;49ms1\u001b[39m>\u001b[39m\u001b[39m0\u001b[39m \u001b[39mand\u001b[39;00m t\u001b[39m.\u001b[39ms2\u001b[39m>\u001b[39m\u001b[39m0\u001b[39m \u001b[39mand\u001b[39;00m t\u001b[39m.\u001b[39ms3\u001b[39m>\u001b[39m\u001b[39m0\u001b[39m \u001b[39mand\u001b[39;00m \\\n\u001b[1;32m      4\u001b[0m         t\u001b[39m.\u001b[39ms1\u001b[39m+\u001b[39mt\u001b[39m.\u001b[39ms2 \u001b[39m>\u001b[39m t\u001b[39m.\u001b[39ms3 \u001b[39mand\u001b[39;00m \\\n\u001b[1;32m      5\u001b[0m         t\u001b[39m.\u001b[39ms2\u001b[39m+\u001b[39mt\u001b[39m.\u001b[39ms3 \u001b[39m>\u001b[39m t\u001b[39m.\u001b[39ms1 \u001b[39mand\u001b[39;00m \\\n\u001b[1;32m      6\u001b[0m         t\u001b[39m.\u001b[39ms1\u001b[39m+\u001b[39mt\u001b[39m.\u001b[39ms3 \u001b[39m>\u001b[39m t\u001b[39m.\u001b[39ms2:\n\u001b[1;32m      7\u001b[0m         \u001b[39mreturn\u001b[39;00m t\u001b[39m.\u001b[39ms1\u001b[39m+\u001b[39mt\u001b[39m.\u001b[39ms2\u001b[39m+\u001b[39mt\u001b[39m.\u001b[39ms3\n\u001b[1;32m      8\u001b[0m     \u001b[39melse\u001b[39;00m:\n",
      "\u001b[0;31mAttributeError\u001b[0m: 'Triangle' object has no attribute 's1'"
     ]
    }
   ],
   "source": [
    "t3=Triangle()\n",
    "\n",
    "perimeter(t3)"
   ]
  },
  {
   "cell_type": "markdown",
   "metadata": {},
   "source": [
    "### How can I initialize a Triangle?\n"
   ]
  },
  {
   "cell_type": "code",
   "execution_count": 41,
   "metadata": {},
   "outputs": [],
   "source": [
    "def create(s1,s2,s3):\n",
    "    t=Triangle()\n",
    "    t.s1=s1\n",
    "    t.s2=s2\n",
    "    t.s3=s3\n",
    "    return t\n",
    "\n"
   ]
  },
  {
   "cell_type": "code",
   "execution_count": 42,
   "metadata": {},
   "outputs": [
    {
     "data": {
      "text/plain": [
       "12"
      ]
     },
     "execution_count": 42,
     "metadata": {},
     "output_type": "execute_result"
    }
   ],
   "source": [
    "t=create(3,4,5)\n",
    "perimeter(t)"
   ]
  },
  {
   "cell_type": "code",
   "execution_count": 44,
   "metadata": {},
   "outputs": [
    {
     "data": {
      "text/plain": [
       "nan"
      ]
     },
     "execution_count": 44,
     "metadata": {},
     "output_type": "execute_result"
    }
   ],
   "source": [
    "t2=create(3,4,12)\n",
    "perimeter(t2)"
   ]
  },
  {
   "cell_type": "markdown",
   "metadata": {},
   "source": [
    "### More Triangle Related Behaviors\n",
    "\n",
    "* we may need to have additional behaviors like \n",
    "    1. area() ... returns area of triangle\n",
    "    2. info() ... returns printable info about triangle\n",
    "    3. draw() ... draws a traingle (prints the info)\n",
    "\n",
    "* area(), info() and draw() should work for valid triangles only\n",
    "    \n",
    "\n",
    "#### All Triangle related code"
   ]
  },
  {
   "cell_type": "code",
   "execution_count": 45,
   "metadata": {},
   "outputs": [],
   "source": [
    "from math import sqrt\n",
    "\n",
    "class Triangle:\n",
    "    pass\n",
    "\n",
    "def create(s1,s2,s3):\n",
    "    t=Triangle()\n",
    "    t.s1=s1\n",
    "    t.s2=s2\n",
    "    t.s3=s3\n",
    "    return t\n",
    "\n",
    "def is_valid(t):\n",
    "    return isinstance(t,Triangle ) and \\\n",
    "        t.s1>0 and t.s2>0 and t.s3>0 and \\\n",
    "        t.s1+t.s2 > t.s3 and \\\n",
    "        t.s2+t.s3 > t.s1 and \\\n",
    "        t.s1+t.s3 > t.s2\n",
    "\n",
    "def perimeter(t):\n",
    "    return t.s1+t.s2+t.s3 if is_valid(t) else float('nan')\n",
    "\n",
    "def area(t):\n",
    "    if is_valid(t):\n",
    "        s=perimeter(t)/2\n",
    "        sqrt(s*(s-t.s1)*(s-t.s2)*(s-t.s3))\n",
    "\n",
    "def info(t):\n",
    "    return f'Triangle<{t.s1},{t.s2},{t.s3}>' if is_valid(t) else '<Invalid Triangle>'\n",
    "\n",
    "def draw(t):\n",
    "    print(info(t))\n",
    "    "
   ]
  },
  {
   "cell_type": "code",
   "execution_count": 46,
   "metadata": {},
   "outputs": [],
   "source": [
    "def test_triangle(s1,s2,s3):\n",
    "    t=create(s1,s2,s3)\n",
    "    draw(t)\n",
    "    if is_valid(t):\n",
    "        print(f'Area={area(t)}')\n",
    "        print(f'Perimeter={area(t)}')\n",
    "        "
   ]
  },
  {
   "cell_type": "code",
   "execution_count": 47,
   "metadata": {},
   "outputs": [
    {
     "name": "stdout",
     "output_type": "stream",
     "text": [
      "Triangle<3,4,5>\n",
      "Area=None\n",
      "Perimeter=None\n"
     ]
    }
   ],
   "source": [
    "test_triangle(3,4,5)"
   ]
  },
  {
   "cell_type": "code",
   "execution_count": 48,
   "metadata": {},
   "outputs": [
    {
     "name": "stdout",
     "output_type": "stream",
     "text": [
      "<Invalid Triangle>\n"
     ]
    }
   ],
   "source": [
    "test_triangle(3,4,12)"
   ]
  },
  {
   "cell_type": "markdown",
   "metadata": {},
   "source": [
    "## Is is a good idea that Python allows us to add fields to an object after it is created?\n",
    "\n",
    "* In c++ like languages, all fields and behaviors of a object is predefined in a class\n",
    "* But in python related information can be added externally to the object\n",
    "* we have an empty class to represent Triangle\n",
    "\n",
    "\n",
    "### Is it a good OO model?\n",
    "\n",
    "* The functions we have created are not part of the class\n",
    "\n",
    "* we can add new fields about which class knows nothing. "
   ]
  },
  {
   "cell_type": "markdown",
   "metadata": {},
   "source": []
  }
 ],
 "metadata": {
  "kernelspec": {
   "display_name": "Python 3 (ipykernel)",
   "language": "python",
   "name": "python3"
  },
  "language_info": {
   "codemirror_mode": {
    "name": "ipython",
    "version": 3
   },
   "file_extension": ".py",
   "mimetype": "text/x-python",
   "name": "python",
   "nbconvert_exporter": "python",
   "pygments_lexer": "ipython3",
   "version": "3.8.1"
  },
  "vscode": {
   "interpreter": {
    "hash": "bc4e78314997db9a44b6830e0aa6b75a33973256eb5fdaf587cb7b38c9328874"
   }
  }
 },
 "nbformat": 4,
 "nbformat_minor": 4
}
