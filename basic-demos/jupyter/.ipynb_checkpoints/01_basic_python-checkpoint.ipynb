{
 "cells": [
  {
   "cell_type": "markdown",
   "metadata": {},
   "source": [
    "Chapter 1  Basic Python\n",
    "\n",
    "* Here we will learn basic elements of python\n",
    "* unlike c style language python doesn't have or need  a main function\n",
    "* we can write our logic directly in the script file."
   ]
  },
  {
   "cell_type": "code",
   "execution_count": 1,
   "metadata": {},
   "outputs": [
    {
     "name": "stdout",
     "output_type": "stream",
     "text": [
      "Hello World\n"
     ]
    }
   ],
   "source": [
    "print('Hello World')"
   ]
  },
  {
   "cell_type": "markdown",
   "metadata": {},
   "source": [
    "Code Explanation\n",
    "\n",
    "* print() is an existing function\n",
    "* we can print 0 or more comma separated values using a single print\n",
    "* by default each print will end with a new line"
   ]
  },
  {
   "cell_type": "code",
   "execution_count": 2,
   "metadata": {},
   "outputs": [
    {
     "name": "stdout",
     "output_type": "stream",
     "text": [
      "1 2 3 4\n",
      "hello world python\n"
     ]
    }
   ],
   "source": [
    "print(1,2,3,4)\n",
    "print('hello','world','python')"
   ]
  },
  {
   "cell_type": "markdown",
   "metadata": {},
   "source": [
    "### More about print() \n",
    "* by default a print function has following nature\n",
    "    * it **sep**arates different values in same print statement with a blank space\n",
    "    * it **end**s the print statement with a new line.\n",
    "\n",
    "### But we can override these defaults by supplying alternative **named argument**\n",
    "* **sep** to indicate the separator\n",
    "* **end** to indicate the end character"
   ]
  },
  {
   "cell_type": "code",
   "execution_count": 3,
   "metadata": {},
   "outputs": [
    {
     "name": "stdout",
     "output_type": "stream",
     "text": [
      "1,2,3,4\n"
     ]
    }
   ],
   "source": [
    "print(1,2,3,4, sep=',')"
   ]
  },
  {
   "cell_type": "code",
   "execution_count": 5,
   "metadata": {},
   "outputs": [
    {
     "name": "stdout",
     "output_type": "stream",
     "text": [
      "1\n",
      "2\n",
      "3\n",
      "4\n"
     ]
    }
   ],
   "source": [
    "print(1,2,3,4,sep='\\n')"
   ]
  },
  {
   "cell_type": "code",
   "execution_count": 8,
   "metadata": {},
   "outputs": [
    {
     "name": "stdout",
     "output_type": "stream",
     "text": [
      "1 2 3 4 5\t6 7 8\n"
     ]
    }
   ],
   "source": [
    "print(1,2,3,4,5, end='\\t')\n",
    "print(6,7,8)"
   ]
  },
  {
   "cell_type": "markdown",
   "metadata": {},
   "source": [
    "### Python Data Types\n",
    "\n",
    "* python supports standard data types\n",
    "    1. int\n",
    "        * doesn't have multiple ints like ~~short, signed, unsigned,  long~~\n",
    "    2. float\n",
    "        * doesn't have multiple  floats like ~~double, long double, decimal~~\n",
    "    3. str\n",
    "        * no spearate single ~~char~~\n",
    "        * can be quoted with\n",
    "            * single quotes **'Hello World'** \n",
    "            * double quotes **\"Hello World\"**\n",
    "            * tripple quotes **'''Hello World'''** or **\"\"\"Hello World\"\"\"**\n",
    "                * will discuss later.\n",
    "\n",
    "    4. bool\n",
    "        * represents **True** and **False**\n",
    "        \n",
    "\n",
    "* we have a special function **type()** that can tell you the type of a **value**\n"
   ]
  },
  {
   "cell_type": "code",
   "execution_count": 9,
   "metadata": {},
   "outputs": [
    {
     "name": "stdout",
     "output_type": "stream",
     "text": [
      "<class 'int'>\n",
      "<class 'str'>\n",
      "<class 'str'>\n",
      "<class 'float'>\n",
      "<class 'float'>\n"
     ]
    }
   ],
   "source": [
    "print(type(20))\n",
    "print(type('Hi'))\n",
    "print(type('x'))\n",
    "print(type(20.1))\n",
    "print(type(20/2)) # int/int => float"
   ]
  },
  {
   "cell_type": "markdown",
   "metadata": {},
   "source": [
    "### Variables in Python\n",
    "\n",
    "* a variable in python is typeless.\n",
    "    * we can declare a variable of type **int**\n",
    "    * A variable is created the first time it is assigned a value.\n",
    "    * unless you assign a value, a variable is not in existence\n",
    "\n",
    " "
   ]
  },
  {
   "cell_type": "code",
   "execution_count": 10,
   "metadata": {},
   "outputs": [
    {
     "ename": "SyntaxError",
     "evalue": "invalid syntax (2273377368.py, line 1)",
     "output_type": "error",
     "traceback": [
      "\u001b[1;36m  Cell \u001b[1;32mIn[10], line 1\u001b[1;36m\u001b[0m\n\u001b[1;33m    int x\u001b[0m\n\u001b[1;37m        ^\u001b[0m\n\u001b[1;31mSyntaxError\u001b[0m\u001b[1;31m:\u001b[0m invalid syntax\n"
     ]
    }
   ],
   "source": [
    "int x"
   ]
  },
  {
   "cell_type": "code",
   "execution_count": 11,
   "metadata": {},
   "outputs": [
    {
     "ename": "NameError",
     "evalue": "name 'x' is not defined",
     "output_type": "error",
     "traceback": [
      "\u001b[1;31m---------------------------------------------------------------------------\u001b[0m",
      "\u001b[1;31mNameError\u001b[0m                                 Traceback (most recent call last)",
      "Cell \u001b[1;32mIn[11], line 1\u001b[0m\n\u001b[1;32m----> 1\u001b[0m \u001b[39mprint\u001b[39m(x)\n",
      "\u001b[1;31mNameError\u001b[0m: name 'x' is not defined"
     ]
    }
   ],
   "source": [
    "print(x)"
   ]
  },
  {
   "cell_type": "code",
   "execution_count": 13,
   "metadata": {},
   "outputs": [
    {
     "name": "stdout",
     "output_type": "stream",
     "text": [
      "20\n"
     ]
    }
   ],
   "source": [
    "a=20\n",
    "print(a)"
   ]
  },
  {
   "cell_type": "markdown",
   "metadata": {},
   "source": [
    "* a variable can refer to different value at different point in time\n",
    "    * can be compared to \n",
    "        * **var/let** of **JavaScript**\n",
    "        * **object** of **Java** (not exactly)\n",
    "        * **dynamic** of **C#** (exactly)\n",
    "* it will reflect the type of value being pointed. not its own type"
   ]
  },
  {
   "cell_type": "code",
   "execution_count": 12,
   "metadata": {},
   "outputs": [
    {
     "name": "stdout",
     "output_type": "stream",
     "text": [
      "<class 'int'> 20\n",
      "<class 'str'> Hello World\n"
     ]
    }
   ],
   "source": [
    "x=20\n",
    "print(type(x),x)\n",
    "\n",
    "x=\"Hello World\"\n",
    "print(type(x),x)"
   ]
  },
  {
   "cell_type": "markdown",
   "metadata": {},
   "source": [
    "### input() statement in python\n",
    "* A python code can take console input using **input(prompt)**\n",
    "* Input always reads user input as **str**"
   ]
  },
  {
   "cell_type": "code",
   "execution_count": 15,
   "metadata": {},
   "outputs": [
    {
     "name": "stdout",
     "output_type": "stream",
     "text": [
      "<class 'str'> 90\n"
     ]
    }
   ],
   "source": [
    "x=input('enter some value')\n",
    "print(type(x),x)"
   ]
  },
  {
   "cell_type": "markdown",
   "metadata": {},
   "source": [
    "#### Converter Functions\n",
    "\n",
    "* we have basic converters to convert values from one type another (where possible)\n",
    "    * str(value) ---> conver to string\n",
    "    * int(value) ---> convert to int\n",
    "    * float(value) ---> convert to float\n",
    "    * bool(value) ---> convert to bool\n",
    "\n"
   ]
  },
  {
   "cell_type": "code",
   "execution_count": 18,
   "metadata": {},
   "outputs": [
    {
     "name": "stdout",
     "output_type": "stream",
     "text": [
      "sum of  10 and 20 is 30\n"
     ]
    }
   ],
   "source": [
    "x=int(input('number1? '))\n",
    "y=int(input('number2? '))\n",
    "\n",
    "print('sum of ', x, 'and', y, 'is', x+y)"
   ]
  },
  {
   "cell_type": "code",
   "execution_count": 19,
   "metadata": {},
   "outputs": [
    {
     "ename": "ValueError",
     "evalue": "invalid literal for int() with base 10: 'Hi'",
     "output_type": "error",
     "traceback": [
      "\u001b[1;31m---------------------------------------------------------------------------\u001b[0m",
      "\u001b[1;31mValueError\u001b[0m                                Traceback (most recent call last)",
      "Cell \u001b[1;32mIn[19], line 1\u001b[0m\n\u001b[1;32m----> 1\u001b[0m x\u001b[39m=\u001b[39m\u001b[39mint\u001b[39;49m(\u001b[39minput\u001b[39;49m(\u001b[39m'\u001b[39;49m\u001b[39mnumber1? \u001b[39;49m\u001b[39m'\u001b[39;49m))\n\u001b[0;32m      2\u001b[0m y\u001b[39m=\u001b[39m\u001b[39mint\u001b[39m(\u001b[39minput\u001b[39m(\u001b[39m'\u001b[39m\u001b[39mnumber2? \u001b[39m\u001b[39m'\u001b[39m))\n\u001b[0;32m      4\u001b[0m \u001b[39mprint\u001b[39m(\u001b[39m'\u001b[39m\u001b[39msum of \u001b[39m\u001b[39m'\u001b[39m, x, \u001b[39m'\u001b[39m\u001b[39mand\u001b[39m\u001b[39m'\u001b[39m, y, \u001b[39m'\u001b[39m\u001b[39mis\u001b[39m\u001b[39m'\u001b[39m, x\u001b[39m+\u001b[39my)\n",
      "\u001b[1;31mValueError\u001b[0m: invalid literal for int() with base 10: 'Hi'"
     ]
    }
   ],
   "source": [
    "x=int(input('number1? '))\n",
    "y=int(input('number2? '))\n",
    "\n",
    "print('sum of ', x, 'and', y, 'is', x+y)"
   ]
  },
  {
   "cell_type": "markdown",
   "metadata": {},
   "source": [
    "#### converter and input are independent functions\n",
    "\n",
    "* we can use converter for any value and not related to input\n",
    "\n",
    "### Jupyter is a REPL (shell/terminal)\n",
    "\n",
    "* It doesn't need a explicit **print** to print the value\n",
    "    * But a normal **.py** file needs to print a value"
   ]
  },
  {
   "cell_type": "code",
   "execution_count": 21,
   "metadata": {},
   "outputs": [
    {
     "data": {
      "text/plain": [
       "int"
      ]
     },
     "execution_count": 21,
     "metadata": {},
     "output_type": "execute_result"
    }
   ],
   "source": [
    "type(20+30)"
   ]
  },
  {
   "cell_type": "markdown",
   "metadata": {},
   "source": [
    "### But if there are multiple lines in a single **cell** it will print only the last result"
   ]
  },
  {
   "cell_type": "code",
   "execution_count": 22,
   "metadata": {},
   "outputs": [
    {
     "data": {
      "text/plain": [
       "0.6666666666666666"
      ]
     },
     "execution_count": 22,
     "metadata": {},
     "output_type": "execute_result"
    }
   ],
   "source": [
    "20+30\n",
    "20-30\n",
    "20*30\n",
    "20/30"
   ]
  },
  {
   "cell_type": "markdown",
   "metadata": {},
   "source": [
    "#### If you want to print everything, use explicit print\n"
   ]
  },
  {
   "cell_type": "code",
   "execution_count": 23,
   "metadata": {},
   "outputs": [
    {
     "name": "stdout",
     "output_type": "stream",
     "text": [
      "50\n",
      "-10\n",
      "600\n",
      "0.6666666666666666\n"
     ]
    }
   ],
   "source": [
    "print(20+30)\n",
    "print(20-30)\n",
    "print(20*30)\n",
    "print(20/30)"
   ]
  },
  {
   "cell_type": "markdown",
   "metadata": {},
   "source": [
    "### More About Strings\n",
    "\n",
    "* A python string can be quoted using single quote, double quote or tripple quote\n",
    "* there is no difference between single quotes and double quotes\n",
    "    * but we must use same qutoe to start and end.\n",
    "\n",
    "### tripple qutoed string\n",
    "\n",
    "* A tripple quoted string represents a multi-line string\n",
    "    * single and double quoted strings doesn't support multi-line\n",
    "* It preserves the white spaces like (\\n and \\t)\n",
    "* It is useful for representing large texts like\n",
    "    * paragraph\n",
    "    * Address\n",
    "    * Formatted HTML"
   ]
  },
  {
   "cell_type": "code",
   "execution_count": 28,
   "metadata": {},
   "outputs": [
    {
     "ename": "SyntaxError",
     "evalue": "unterminated string literal (detected at line 1) (2320310169.py, line 1)",
     "output_type": "error",
     "traceback": [
      "\u001b[1;36m  Cell \u001b[1;32mIn[28], line 1\u001b[1;36m\u001b[0m\n\u001b[1;33m    info='Title=The Accursed God\u001b[0m\n\u001b[1;37m         ^\u001b[0m\n\u001b[1;31mSyntaxError\u001b[0m\u001b[1;31m:\u001b[0m unterminated string literal (detected at line 1)\n"
     ]
    }
   ],
   "source": [
    "info='Title=The Accursed God\n",
    "Author=Vivek Dutta Mishra\n",
    "'"
   ]
  },
  {
   "cell_type": "code",
   "execution_count": 29,
   "metadata": {},
   "outputs": [
    {
     "name": "stdout",
     "output_type": "stream",
     "text": [
      "\n",
      "Title:  The Accursed God\n",
      "Author: Vivek Dutta Mishra\n",
      "Rating: 4.6\n",
      "Price: Rs 399\n",
      "\n"
     ]
    }
   ],
   "source": [
    "info='''\n",
    "Title:  The Accursed God\n",
    "Author: Vivek Dutta Mishra\n",
    "Rating: 4.6\n",
    "Price: Rs 399\n",
    "'''\n",
    "\n",
    "print(info)"
   ]
  },
  {
   "cell_type": "code",
   "execution_count": 30,
   "metadata": {},
   "outputs": [
    {
     "data": {
      "text/plain": [
       "'\\nTitle:  The Accursed God\\nAuthor: Vivek Dutta Mishra\\nRating: 4.6\\nPrice: Rs 399\\n'"
      ]
     },
     "execution_count": 30,
     "metadata": {},
     "output_type": "execute_result"
    }
   ],
   "source": [
    "info"
   ]
  },
  {
   "cell_type": "code",
   "execution_count": 31,
   "metadata": {},
   "outputs": [
    {
     "name": "stdout",
     "output_type": "stream",
     "text": [
      "\n",
      "<html>\n",
      "    <head><title>Book Info</title></head>\n",
      "    <body>\n",
      "        <h1>The Accursed God</h1>\n",
      "        <p> by Vivek Dutta Mishra</p>\n",
      "    </body>\n",
      "</html>\n",
      "\n"
     ]
    }
   ],
   "source": [
    "html=\"\"\"\n",
    "<html>\n",
    "    <head><title>Book Info</title></head>\n",
    "    <body>\n",
    "        <h1>The Accursed God</h1>\n",
    "        <p> by Vivek Dutta Mishra</p>\n",
    "    </body>\n",
    "</html>\n",
    "\"\"\"\n",
    "\n",
    "print(html)"
   ]
  },
  {
   "cell_type": "markdown",
   "metadata": {},
   "source": [
    "### Another use (hack) of python tripple quoted string\n",
    "\n",
    "* we can use a tripple quoted string (or any string or any value) as a comment\n",
    "* if we write a string and don't refer it \n",
    "    * It will still exist\n",
    "    * but it will have no runtime singinficiance\n",
    "* we can consider such texts as comment.\n",
    "\n",
    "\n",
    "### Formatted String\n",
    "\n",
    "* Python 3.5+ supports **f-string**\n",
    "* Here the string is prefixed with **f**\n",
    "* We can inject python expression in the string in **{}**\n",
    "    * works with all types string (single,double tripple quoted)"
   ]
  },
  {
   "cell_type": "code",
   "execution_count": 32,
   "metadata": {},
   "outputs": [
    {
     "name": "stdout",
     "output_type": "stream",
     "text": [
      "sum of 20 and 30 is 50 \n"
     ]
    }
   ],
   "source": [
    "x=20\n",
    "y=30\n",
    "output = f\"sum of {x} and {y} is {x+y} \"\n",
    "print(output)"
   ]
  },
  {
   "cell_type": "markdown",
   "metadata": {},
   "source": [
    "### Statements\n",
    "\n",
    "* A python statement doesn't necessarily end with a semicolon.\n",
    "    * but we can use semicolons if we want.\n",
    "    * it is important if we are writing multiple statements on same physical line\n",
    "        * generally not a recommended practice"
   ]
  },
  {
   "cell_type": "code",
   "execution_count": 33,
   "metadata": {},
   "outputs": [
    {
     "name": "stdout",
     "output_type": "stream",
     "text": [
      "40\n"
     ]
    }
   ],
   "source": [
    "a=20; print(a*2)\n"
   ]
  },
  {
   "cell_type": "markdown",
   "metadata": {},
   "source": [
    "### Python Statements\n",
    "\n",
    "* python supports standard branching and looping statements like\n",
    "    * **if** \n",
    "    * **while**\n",
    "    * **for**\n",
    "        * for is different from standard c-sytle for loop\n",
    "\n",
    "* python doesn't support\n",
    "    * **do-while**\n",
    "    * **switch-case**\n",
    "\n",
    "\n",
    "#### block of code\n",
    "\n",
    "* most branching/looping statement needs one or more statement as a combined block\n",
    "* in c-style language this block is formed by wrapping in **{}** \n",
    "* In python statements at same indent level form a block\n",
    "    * unlike c-style languages we can **indent/unindent** without a reason\n",
    "    * it must follow a rule\n",
    "\n",
    "* indent can be done using \n",
    "    * one or more blank space\n",
    "    * tab **(recommended)**\n",
    "\n",
    "\n",
    "\n",
    "## if statement\n",
    "\n",
    "#### simple if\n",
    "\n",
    "```python\n",
    "if condition:\n",
    "    statement1\n",
    "    statement2\n",
    "\n",
    "statement3\n",
    "\n",
    "```\n",
    "\n",
    "* note a colon at the end of condition\n",
    "* if condition is true statement1 and 2 are executed\n",
    "* statement3 is out of if and executed regardless of condition"
   ]
  },
  {
   "cell_type": "code",
   "execution_count": 38,
   "metadata": {},
   "outputs": [
    {
     "name": "stdout",
     "output_type": "stream",
     "text": [
      "-10\n"
     ]
    }
   ],
   "source": [
    "x=int(input('enter a value?'))\n",
    "if x>0:\n",
    "    print('Thats positive',end=' ')\n",
    "\n",
    "print(x)"
   ]
  },
  {
   "cell_type": "markdown",
   "metadata": {},
   "source": [
    "### elseif (elif) and else\n",
    "\n",
    "```python\n",
    "if condition:\n",
    "    statement1\n",
    "    statement2\n",
    "    statement3\n",
    "elif condition2:\n",
    "    statement4\n",
    "    statement5\n",
    "elif condition3:\n",
    "    statement6\n",
    "    statement7\n",
    "else:\n",
    "    statement8\n",
    "\n",
    "out_of_if_statement\n",
    "```"
   ]
  },
  {
   "cell_type": "markdown",
   "metadata": {},
   "source": [
    "### while statement\n",
    "\n",
    "* like standard while loop\n",
    "* loops as long as the condition is true\n",
    "* should include statement to change the conditional condition\n",
    "\n",
    "```python\n",
    "\n",
    "while condition:\n",
    "    statement1\n",
    "    statement2\n",
    "\n",
    "out_of_while_statement\n",
    "```"
   ]
  },
  {
   "cell_type": "code",
   "execution_count": 39,
   "metadata": {},
   "outputs": [
    {
     "name": "stdout",
     "output_type": "stream",
     "text": [
      "Hello World\n",
      "Hello World\n",
      "Hello World\n",
      "Hello World\n",
      "Hello World\n",
      "Hello World\n",
      "Hello World\n",
      "Hello World\n",
      "Hello World\n",
      "end of program\n"
     ]
    }
   ],
   "source": [
    "x=1\n",
    "while x<10:\n",
    "    print('Hello World')\n",
    "    x+=1 # python doesn't have x++\n",
    "\n",
    "print('end of program')"
   ]
  },
  {
   "cell_type": "markdown",
   "metadata": {},
   "source": [
    "#### break and continue\n",
    "\n",
    "* just like C sytle language we have break and continue\n",
    "* break breaks out of the loop \n",
    "* continue goes back to the loop condition\n",
    "\n",
    "## Mighty Else Statement\n",
    "\n",
    "* else statement is associated not only with **if** but with many other statements like\n",
    "    * while\n",
    "    * for\n",
    "    * try\n",
    "\n",
    "#### while-else\n",
    "\n",
    "* else can be used with while statement\n",
    "\n",
    "```python\n",
    "while condition:\n",
    "    statement1\n",
    "    statement2\n",
    "else:\n",
    "    statement3\n",
    "\n",
    "statement4\n",
    "```\n",
    "\n",
    "* statement3 is secuted if\n",
    "    * condition was initially false and loop never executed\n",
    "    * condition was intiallly true and eventually became false"
   ]
  },
  {
   "cell_type": "code",
   "execution_count": 44,
   "metadata": {},
   "outputs": [
    {
     "name": "stdout",
     "output_type": "stream",
     "text": [
      "counting 10-5\n",
      "while-else\n",
      "program ends\n"
     ]
    }
   ],
   "source": [
    "min=10\n",
    "max=int(input('max?'))\n",
    "print(f'counting {min}-{max}')\n",
    "count=min\n",
    "while count<max:\n",
    "    print(count)\n",
    "    count+=1\n",
    "else:\n",
    "    print('while-else')\n",
    "\n",
    "print('program ends')"
   ]
  },
  {
   "cell_type": "markdown",
   "metadata": {},
   "source": [
    "#### Is there any siutation where else will not execute\n",
    "\n",
    "* when we come out of loop and condition is still true\n",
    "* when we use break to come out.\n",
    "    * can be used to test we used a break.\n",
    "\n"
   ]
  },
  {
   "cell_type": "code",
   "execution_count": 47,
   "metadata": {},
   "outputs": [
    {
     "name": "stdout",
     "output_type": "stream",
     "text": [
      "counting 10-21\n",
      "10\t11\t12\t13\t14\t15\t16\t17\t18\t19\t20\t\n",
      "program ends\n"
     ]
    }
   ],
   "source": [
    "min=10\n",
    "max=int(input('max?'))\n",
    "print(f'counting {min}-{max}')\n",
    "count=min\n",
    "while count<max:\n",
    "    print(count,end='\\t')\n",
    "    count+=1\n",
    "    if count>20:\n",
    "        break\n",
    "else:\n",
    "    print('\\nwhile-else')\n",
    "\n",
    "print('\\nprogram ends')"
   ]
  },
  {
   "cell_type": "code",
   "execution_count": null,
   "metadata": {},
   "outputs": [],
   "source": []
  }
 ],
 "metadata": {
  "kernelspec": {
   "display_name": "Python 3",
   "language": "python",
   "name": "python3"
  },
  "language_info": {
   "codemirror_mode": {
    "name": "ipython",
    "version": 3
   },
   "file_extension": ".py",
   "mimetype": "text/x-python",
   "name": "python",
   "nbconvert_exporter": "python",
   "pygments_lexer": "ipython3",
   "version": "3.11.5"
  },
  "orig_nbformat": 4
 },
 "nbformat": 4,
 "nbformat_minor": 2
}
