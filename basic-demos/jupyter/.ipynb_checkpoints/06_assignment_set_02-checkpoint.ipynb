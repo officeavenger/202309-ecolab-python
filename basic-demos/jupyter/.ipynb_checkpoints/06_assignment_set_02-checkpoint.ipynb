{
 "cells": [
  {
   "cell_type": "markdown",
   "id": "c916bf61-cf6d-47a2-aa75-2c3ba49b67da",
   "metadata": {},
   "source": [
    "### Frequency\n",
    "\n"
   ]
  },
  {
   "cell_type": "code",
   "execution_count": 1,
   "id": "48d3248d-d1c8-45e1-8ef9-6cf4adea9c4f",
   "metadata": {},
   "outputs": [],
   "source": [
    "def frequency(values):\n",
    "    \n",
    "    table=dict()\n",
    "\n",
    "    for value in values:\n",
    "        table[value]=table.get(value,0)+1\n",
    "\n",
    "    return table"
   ]
  },
  {
   "cell_type": "code",
   "execution_count": 2,
   "id": "ba7b1b4b-dff2-436e-a4ec-7b8ac160bd9c",
   "metadata": {},
   "outputs": [
    {
     "data": {
      "text/plain": [
       "{2: 8, 3: 3, 4: 2, 5: 1}"
      ]
     },
     "execution_count": 2,
     "metadata": {},
     "output_type": "execute_result"
    }
   ],
   "source": [
    "frequency([2,2,3,3,2,2,2,4,2,2,2,3,4,5])"
   ]
  },
  {
   "cell_type": "markdown",
   "id": "5fcd5523-9161-4bb5-833a-a1a41cde42e4",
   "metadata": {},
   "source": [
    "### Histrogram\n",
    "\n",
    "* plot the histogram for a given frequency distribution\n",
    "* "
   ]
  },
  {
   "cell_type": "code",
   "execution_count": 5,
   "id": "9c25885e-2203-4d95-a337-44951706821a",
   "metadata": {},
   "outputs": [],
   "source": [
    "def plot_histogram( frequency_table):\n",
    "    design='==='\n",
    "    for (item,frequency) in frequency_table.items():\n",
    "        print(f'{item}|{design*frequency} {frequency}')"
   ]
  },
  {
   "cell_type": "code",
   "execution_count": 6,
   "id": "ae79b4dc-1089-4669-af33-8796eb5eb8e7",
   "metadata": {},
   "outputs": [
    {
     "name": "stdout",
     "output_type": "stream",
     "text": [
      "2|================== 6\n",
      "3|====== 2\n",
      "4|============ 4\n",
      "9|=== 1\n",
      "8|========= 3\n"
     ]
    }
   ],
   "source": [
    "plot_histogram({ 2:6, 3:2, 4:4, 9:1, 8:3})"
   ]
  },
  {
   "cell_type": "markdown",
   "id": "69bf936b-606f-4fcd-9c3a-38af4b07ef0a",
   "metadata": {},
   "source": [
    "### What if I don't want to plot_histogram but get the output to be printed later"
   ]
  },
  {
   "cell_type": "code",
   "execution_count": 7,
   "id": "c64302ad-9eba-4ee8-9be6-14ea88560870",
   "metadata": {},
   "outputs": [],
   "source": [
    "def get_histogram( frequency_table):\n",
    "    output='';\n",
    "    design='==='\n",
    "    for (item,frequency) in frequency_table.items():\n",
    "        output+=f'{item}|{design*frequency} {frequency}\\n'\n",
    "    return output"
   ]
  },
  {
   "cell_type": "code",
   "execution_count": 8,
   "id": "4f7d98d4-bfb2-488e-9d96-bb6ec4fead33",
   "metadata": {},
   "outputs": [
    {
     "data": {
      "text/plain": [
       "'2|================== 6\\n3|====== 2\\n4|============ 4\\n9|=== 1\\n8|========= 3\\n'"
      ]
     },
     "execution_count": 8,
     "metadata": {},
     "output_type": "execute_result"
    }
   ],
   "source": [
    "get_histogram({ 2:6, 3:2, 4:4, 9:1, 8:3})"
   ]
  },
  {
   "cell_type": "code",
   "execution_count": 9,
   "id": "cbd0a3dd-2936-4d2b-b9a5-7387b8b0662f",
   "metadata": {},
   "outputs": [
    {
     "name": "stdout",
     "output_type": "stream",
     "text": [
      "Printing Histogram for {2: 6, 3: 2, 4: 4, 9: 1, 8: 3}\n",
      "2|================== 6\n",
      "3|====== 2\n",
      "4|============ 4\n",
      "9|=== 1\n",
      "8|========= 3\n",
      "\n"
     ]
    }
   ],
   "source": [
    "table={ 2:6, 3:2, 4:4, 9:1, 8:3}\n",
    "output=get_histogram(table)\n",
    "\n",
    "print(f'Printing Histogram for {table}')\n",
    "print(output)"
   ]
  },
  {
   "cell_type": "markdown",
   "id": "84eaf1a2-d202-4be9-8d1a-a5e48ab9475f",
   "metadata": {},
   "source": [
    "### Assignment #3 Print Calendar\n",
    "\n",
    "#### Code so far..."
   ]
  },
  {
   "cell_type": "code",
   "execution_count": 3,
   "id": "0f1b6e10-9f86-4288-8074-c83b16e87fa3",
   "metadata": {},
   "outputs": [],
   "source": [
    "def week_day_name(index):\n",
    "    if index==0: return \"Sunday\"\n",
    "    elif index==1: return \"Monday\"\n",
    "    elif index==2: return \"Tuesday\"\n",
    "    elif index==3: return \"Wednesday\"\n",
    "    elif index==4: return \"Thursday\"\n",
    "    elif index==5: return \"Friday\"\n",
    "    elif index==6: return \"Saturday\"\n",
    "\n",
    "def is_leap_year(year):\n",
    "    return (year%100!=0 and year%4==0) or year%400==0\n",
    "\n",
    "def days_in_month(month , year):\n",
    "    if month==2:\n",
    "        return 28+int(is_leap_year(year))        \n",
    "    elif (month<8 and month%2!=0) or (month>=8 and month%2==0):\n",
    "        return 31\n",
    "    else:\n",
    "        return 30\n",
    "\n",
    "\n",
    "def date_value(day ,month, year):\n",
    "    value=0\n",
    "    y=year-1\n",
    "    # total days elapsed till the end of previous year\n",
    "    value = y * 365 + y//4  - y//100 + y//400\n",
    "\n",
    "    # add total days passed till previous month of this year\n",
    "    m=1\n",
    "    while m<month:\n",
    "        #print(f'Adding {days_in_month(m,year)} for {m}/{year}')\n",
    "        value+= days_in_month(m,year)\n",
    "        m+=1\n",
    "\n",
    "    #add days of this month\n",
    "    value+=day\n",
    "    return value\n",
    "\n",
    "def date_to_week_day(date,month,year):\n",
    "    ref_date = date_value(1,1,2006)\n",
    "    input_date= date_value(date,month,year)\n",
    "    diff= (input_date-ref_date) % 7\n",
    "    return diff\n",
    "\n",
    "def day_name(index):\n",
    "    day_names=(\"Sunday\",\"Monday\",\"Tuesday\",\"Wednesday\",\"Thursday\",\"Friday\",\"Saturday\")\n",
    "    return day_names[index]\n",
    "\n",
    "def date_to_day_name(date,month,year):\n",
    "    diff=date_to_week_day(date,month,year)\n",
    "    return day_name(diff)"
   ]
  },
  {
   "cell_type": "code",
   "execution_count": 4,
   "id": "075e56c3-9c55-41be-86b4-7b624f71bf1b",
   "metadata": {},
   "outputs": [
    {
     "ename": "NameError",
     "evalue": "name 'i' is not defined",
     "output_type": "error",
     "traceback": [
      "\u001b[1;31m---------------------------------------------------------------------------\u001b[0m",
      "\u001b[1;31mNameError\u001b[0m                                 Traceback (most recent call last)",
      "Cell \u001b[1;32mIn[4], line 1\u001b[0m\n\u001b[1;32m----> 1\u001b[0m \u001b[43mprint_calendar_vertical\u001b[49m\u001b[43m(\u001b[49m\u001b[38;5;241;43m10\u001b[39;49m\u001b[43m,\u001b[49m\u001b[43m \u001b[49m\u001b[38;5;241;43m2023\u001b[39;49m\u001b[43m)\u001b[49m\n",
      "Cell \u001b[1;32mIn[1], line 5\u001b[0m, in \u001b[0;36mprint_calendar_vertical\u001b[1;34m(month, year)\u001b[0m\n\u001b[0;32m      3\u001b[0m \u001b[38;5;28mmax\u001b[39m\u001b[38;5;241m=\u001b[39mdays_in_month(month,year)\n\u001b[0;32m      4\u001b[0m \u001b[38;5;28;01mfor\u001b[39;00m row \u001b[38;5;129;01min\u001b[39;00m \u001b[38;5;28mrange\u001b[39m(\u001b[38;5;241m7\u001b[39m):\n\u001b[1;32m----> 5\u001b[0m     \u001b[38;5;28mprint\u001b[39m( day_name(\u001b[43mi\u001b[49m)\u001b[38;5;241m.\u001b[39mupper()[\u001b[38;5;241m0\u001b[39m:\u001b[38;5;241m3\u001b[39m], end\u001b[38;5;241m=\u001b[39m\u001b[38;5;124m\"\u001b[39m\u001b[38;5;130;01m\\t\u001b[39;00m\u001b[38;5;124m\"\u001b[39m)\n\u001b[0;32m      6\u001b[0m     \u001b[38;5;28mprint\u001b[39m()\n",
      "\u001b[1;31mNameError\u001b[0m: name 'i' is not defined"
     ]
    }
   ],
   "source": [
    "print_calendar_vertical(10, 2023)\n"
   ]
  },
  {
   "cell_type": "code",
   "execution_count": 5,
   "id": "558e8e39-5836-4763-b0f2-8f6ab476b113",
   "metadata": {},
   "outputs": [],
   "source": [
    "def print_calendar_horizontal(month,year):\n",
    "    startDay=date_to_week_day(1,month,year)\n",
    "    days=days_in_month(month,year)\n",
    "    week=['Sun','Mon','Tue','wed','thu','fri','Sat']\n",
    "    for i in week:\n",
    "        print(i.upper(),end=\"\\t\")\n",
    "    d=1\n",
    "    i=0\n",
    "    print()\n",
    "    while(d<=days):\n",
    "        if(i==0):\n",
    "            print((startDay)*\"\\t\",end=\"\")\n",
    "            i+=1\n",
    "            \n",
    "        for j in range(startDay,7):\n",
    "            print(d,end=\"\\t\")\n",
    "            d+=1\n",
    "        print()\n",
    "        startDay=0\n",
    "    \n"
   ]
  },
  {
   "cell_type": "code",
   "execution_count": 6,
   "id": "f914441c-1192-4fee-aa4d-966f38dfa183",
   "metadata": {},
   "outputs": [
    {
     "name": "stdout",
     "output_type": "stream",
     "text": [
      "SUN\tMON\tTUE\tWED\tTHU\tFRI\tSAT\t\n",
      "\t\t\t\t\t1\t2\t\n",
      "3\t4\t5\t6\t7\t8\t9\t\n",
      "10\t11\t12\t13\t14\t15\t16\t\n",
      "17\t18\t19\t20\t21\t22\t23\t\n",
      "24\t25\t26\t27\t28\t29\t30\t\n"
     ]
    }
   ],
   "source": [
    "print_calendar_horizontal(9,2023)"
   ]
  },
  {
   "cell_type": "code",
   "execution_count": 7,
   "id": "bdc32cc9-a0c5-499f-ba40-379473261a32",
   "metadata": {},
   "outputs": [],
   "source": [
    "def print_calendar(month,year):\n",
    "    for i in range(7):\n",
    "        print( day_name(i).upper()[0:3], end=\"\\t\")\n",
    "    print()\n",
    "    \n",
    "    position = date_to_week_day(1,month,year)\n",
    "    print(\"\\t\"*position, end=\"\")\n",
    "\n",
    "    for day in range(1, days_in_month(month,year)+1):\n",
    "        print(day,end=\"\\t\")\n",
    "        position+=1\n",
    "        if position%7==0:\n",
    "            print()\n"
   ]
  },
  {
   "cell_type": "code",
   "execution_count": null,
   "id": "f45a9fb4-000f-494d-bdce-b71715fb1dd3",
   "metadata": {},
   "outputs": [],
   "source": []
  }
 ],
 "metadata": {
  "kernelspec": {
   "display_name": "Python 3 (ipykernel)",
   "language": "python",
   "name": "python3"
  },
  "language_info": {
   "codemirror_mode": {
    "name": "ipython",
    "version": 3
   },
   "file_extension": ".py",
   "mimetype": "text/x-python",
   "name": "python",
   "nbconvert_exporter": "python",
   "pygments_lexer": "ipython3",
   "version": "3.11.5"
  }
 },
 "nbformat": 4,
 "nbformat_minor": 5
}
