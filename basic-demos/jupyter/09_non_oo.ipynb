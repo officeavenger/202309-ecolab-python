{
 "cells": [
  {
   "attachments": {},
   "cell_type": "markdown",
   "metadata": {},
   "source": [
    "## Non OO Design\n",
    "\n",
    "* Let us create a function to find the perimeter of a triangle"
   ]
  },
  {
   "cell_type": "code",
   "execution_count": 1,
   "metadata": {},
   "outputs": [],
   "source": [
    "def perimeter(s1,s2,s3):\n",
    "    return s1+s2+s3\n"
   ]
  },
  {
   "cell_type": "code",
   "execution_count": 10,
   "metadata": {},
   "outputs": [],
   "source": [
    "t1_s1=3\n",
    "t1_s2=4\n",
    "t1_s3=5\n",
    "\n"
   ]
  },
  {
   "cell_type": "code",
   "execution_count": 11,
   "metadata": {},
   "outputs": [],
   "source": [
    "t2_s1=4\n",
    "t2_s2=8\n",
    "t2_s3=16\n"
   ]
  },
  {
   "cell_type": "code",
   "execution_count": 12,
   "metadata": {},
   "outputs": [
    {
     "name": "stdout",
     "output_type": "stream",
     "text": [
      "12\n",
      "28\n"
     ]
    }
   ],
   "source": [
    "t1_p= perimeter(t1_s1,t1_s2,t1_s3)\n",
    "print(t1_p)\n",
    "\n",
    "t2_p= perimeter(t2_s1,t2_s2,t2_s3)\n",
    "print(t2_p)"
   ]
  },
  {
   "attachments": {},
   "cell_type": "markdown",
   "metadata": {},
   "source": [
    "### The Code Works! Why do we need OO?\n",
    "\n",
    "* in the current design we can easily calculate the perimeter of Triangle even without OO approach\n",
    "* why do we need OO approach?\n",
    "\n",
    "#### Problem #1  second set of data t2_s1, t2_s2, and t2_s3 doesn't form a valid triangle\n",
    "\n",
    "* the perimeter() function isn't calculating perimeter\n",
    "    * it is summing 3 numbers\n",
    "    * it doesn't know triangle rule\n",
    "\n",
    "\n",
    "\n",
    "\n"
   ]
  },
  {
   "cell_type": "code",
   "execution_count": 13,
   "metadata": {},
   "outputs": [
    {
     "name": "stdout",
     "output_type": "stream",
     "text": [
      "-6\n"
     ]
    }
   ],
   "source": [
    "print(perimeter(-1,-2,-3))"
   ]
  },
  {
   "attachments": {},
   "cell_type": "markdown",
   "metadata": {},
   "source": [
    "#### Problem #1 Solution\n",
    "\n",
    "* include the triangle rule in the perimeter function\n",
    "\n",
    "#### Triangle rule\n",
    "\n",
    "* sum of every two sides of a triangle should be greater than the third"
   ]
  },
  {
   "cell_type": "code",
   "execution_count": 31,
   "metadata": {},
   "outputs": [],
   "source": [
    "def perimeter(s1,s2,s3):\n",
    "  \n",
    "    if s1>0 and s2>0 and s3>0 and s1<s2+s3 and s2<s1+s3 and s3<s1+s2:\n",
    "        return s1+s2+s3\n",
    "    else:\n",
    "        return float(\"nan\")"
   ]
  },
  {
   "cell_type": "code",
   "execution_count": 32,
   "metadata": {},
   "outputs": [
    {
     "data": {
      "text/plain": [
       "12"
      ]
     },
     "execution_count": 32,
     "metadata": {},
     "output_type": "execute_result"
    }
   ],
   "source": [
    "perimeter(t1_s1,t1_s2,t1_s3)"
   ]
  },
  {
   "cell_type": "code",
   "execution_count": 34,
   "metadata": {},
   "outputs": [
    {
     "data": {
      "text/plain": [
       "nan"
      ]
     },
     "execution_count": 34,
     "metadata": {},
     "output_type": "execute_result"
    }
   ],
   "source": [
    "perimeter(t2_s1,t2_s2,t2_s3)"
   ]
  },
  {
   "cell_type": "code",
   "execution_count": 35,
   "metadata": {},
   "outputs": [
    {
     "data": {
      "text/plain": [
       "nan"
      ]
     },
     "execution_count": 35,
     "metadata": {},
     "output_type": "execute_result"
    }
   ],
   "source": [
    "perimeter(-1,-2,4)"
   ]
  },
  {
   "attachments": {},
   "cell_type": "markdown",
   "metadata": {},
   "source": [
    "#### Problem #2  perimeter is NOT calculating perimeter of a triangle but of three numbers\n",
    "\n",
    "* the perimeter doesn't know if the values are related to\n",
    "    * one object or different objects\n",
    "    * if the value is actually sides of triangle or something else\n",
    "\n",
    "* In the first example below we have passed \n",
    "    * one side of t1\n",
    "    * other side of t2\n",
    "    * unrelated number 10\n",
    "* In the second example below we are passing\n",
    "    * age, height and wieght of a man\n",
    "\n",
    "* The perimeter still calculates the perimeter\n",
    "    * it shouldn't do that"
   ]
  },
  {
   "cell_type": "code",
   "execution_count": 39,
   "metadata": {},
   "outputs": [
    {
     "data": {
      "text/plain": [
       "21"
      ]
     },
     "execution_count": 39,
     "metadata": {},
     "output_type": "execute_result"
    }
   ],
   "source": [
    "perimeter(t1_s1, t2_s2, 10)"
   ]
  },
  {
   "cell_type": "code",
   "execution_count": 40,
   "metadata": {},
   "outputs": [
    {
     "data": {
      "text/plain": [
       "190"
      ]
     },
     "execution_count": 40,
     "metadata": {},
     "output_type": "execute_result"
    }
   ],
   "source": [
    "manAge=60\n",
    "manHt=61\n",
    "manWt=69\n",
    "\n",
    "perimeter(manAge, manHt, manWt)"
   ]
  },
  {
   "attachments": {},
   "cell_type": "markdown",
   "metadata": {},
   "source": [
    "### What is the main problem?\n",
    "\n",
    "* we don't have a **triangle**\n",
    "* we just have a function that works on numbers\n",
    "    * since we can pass 3 values the three values can be unrelated to each other\n",
    "    * since we are passing numbers, those numbers can be anything\n",
    "* perimeter should work on a **triangle**\n",
    "\n",
    "## What is a Triangle, is missing here"
   ]
  },
  {
   "cell_type": "markdown",
   "metadata": {},
   "source": []
  }
 ],
 "metadata": {
  "kernelspec": {
   "display_name": "Python 3",
   "language": "python",
   "name": "python3"
  },
  "language_info": {
   "codemirror_mode": {
    "name": "ipython",
    "version": 3
   },
   "file_extension": ".py",
   "mimetype": "text/x-python",
   "name": "python",
   "nbconvert_exporter": "python",
   "pygments_lexer": "ipython3",
   "version": "3.9.1"
  },
  "orig_nbformat": 4,
  "vscode": {
   "interpreter": {
    "hash": "bc4e78314997db9a44b6830e0aa6b75a33973256eb5fdaf587cb7b38c9328874"
   }
  }
 },
 "nbformat": 4,
 "nbformat_minor": 2
}
