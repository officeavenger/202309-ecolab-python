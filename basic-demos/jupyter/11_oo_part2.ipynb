{
 "cells": [
  {
   "attachments": {},
   "cell_type": "markdown",
   "metadata": {},
   "source": [
    "## Story so far...\n",
    "\n",
    "#### 1. About the Class\n",
    "\n",
    "* We have a class (Triangle) \n",
    "    * It has no property or method\n",
    "    \n",
    "* The role of class is to \n",
    "    1. create the object :   **t=Triangle()**\n",
    "    2. identify object type:  **is_instance(t,Triangle)**\n",
    "    \n",
    "#### 2. About the Object\n",
    "\n",
    "* we can add new properties to the object after it is created\n",
    "    * it can be considered as a group of properties associated with single entity\n",
    "\n",
    "#### 3. About behaviors\n",
    "\n",
    "* we can defines functions that are supposed to operate on a given object type\n",
    "* we can validate object type and required properties before taking actions\n",
    "\n",
    "\n",
    "#### Problem\n",
    "\n",
    "* different objects (e.g. Cricle, Triangle, Rectangle) have similar behaviors (eg. area(), perimeter() )\n",
    "* python doesn't support overloading\n",
    "    * it overwrites\n",
    "* we need a way to represent same behavior for different type of objects\n",
    "\n",
    "#### Solutions\n",
    "\n",
    "1. use name prefixes to change behavior names\n",
    "    * circle_perimeter()\n",
    "    * triangle_perimeter()\n",
    "\n",
    "2. Use Modules to represent the behavior\n",
    "\n",
    "\n",
    "\n",
    "## Solution 3  Use Class as Replacement of Module\n",
    "\n",
    "### 3.1 Even class is an Object"
   ]
  },
  {
   "cell_type": "code",
   "execution_count": 4,
   "metadata": {},
   "outputs": [
    {
     "name": "stdout",
     "output_type": "stream",
     "text": [
      "<class 'type'>\n"
     ]
    }
   ],
   "source": [
    "class Circle:\n",
    "    pass\n",
    "\n",
    "print(type(Circle))"
   ]
  },
  {
   "attachments": {},
   "cell_type": "markdown",
   "metadata": {},
   "source": [
    "#### 3.2 Methods are also objects (We already know this)"
   ]
  },
  {
   "cell_type": "code",
   "execution_count": 2,
   "metadata": {},
   "outputs": [],
   "source": [
    "import math\n",
    "NAN = float('nan')\n",
    "\n",
    "def perimeter(circle):\n",
    "    return 2*math.pi*circle.radius if circle.radius>0 else NAN\n",
    "\n",
    "def create(radius):\n",
    "    c=Circle()\n",
    "    c.radius=radius\n",
    "    return c"
   ]
  },
  {
   "cell_type": "code",
   "execution_count": 3,
   "metadata": {},
   "outputs": [
    {
     "name": "stdout",
     "output_type": "stream",
     "text": [
      "<class 'function'>\n",
      "<class 'function'>\n"
     ]
    }
   ],
   "source": [
    "print(type(perimeter))\n",
    "print(type(create))"
   ]
  },
  {
   "attachments": {},
   "cell_type": "markdown",
   "metadata": {},
   "source": [
    "#### 3.3 an object can have other object as property\n",
    "\n",
    "* circle object can have side\n",
    "* **Circle class object** can have perimeter"
   ]
  },
  {
   "cell_type": "code",
   "execution_count": 6,
   "metadata": {},
   "outputs": [],
   "source": [
    "Circle.perimeter=perimeter\n",
    "Circle.create=create"
   ]
  },
  {
   "attachments": {},
   "cell_type": "markdown",
   "metadata": {},
   "source": [
    "### I can do the same for Triangle\n",
    "* The next set of create() and perimeter() will overrwrite previous global periemter() and create() that we created for circle\n",
    "* but it will NOT overwrite the methods attached to Circle classes\n",
    "    * it will only overwrite global names"
   ]
  },
  {
   "cell_type": "code",
   "execution_count": 10,
   "metadata": {},
   "outputs": [],
   "source": [
    "import math\n",
    "NAN = float('nan')\n",
    "\n",
    "\n",
    "class Circle:\n",
    "    pass\n",
    "\n",
    "\n",
    "def perimeter(circle):\n",
    "    return 2*math.pi*circle.radius if circle.radius>0 else NAN\n",
    "\n",
    "def create(radius):\n",
    "    c=Circle()\n",
    "    c.radius=radius\n",
    "    return c\n",
    "\n",
    "\n",
    "\n",
    "Circle.perimeter=perimeter\n",
    "Circle.create=create\n",
    "\n",
    "class Triangle:\n",
    "    pass\n",
    "\n",
    "# this create will overwrite previous create\n",
    "# but it will not effect Circle.create\n",
    "def create(s1,s2,s3):\n",
    "    t=Triangle()\n",
    "    t.s1=s1\n",
    "    t.s2=s2\n",
    "    t.s3=s3\n",
    "    return t\n",
    "\n",
    "def perimeter(t):\n",
    "    return t.s1+t.s2+t.s3\n",
    "\n",
    "Triangle.create=create # new create\n",
    "Triangle.perimeter=perimeter # new perimeter\n"
   ]
  },
  {
   "cell_type": "code",
   "execution_count": 11,
   "metadata": {},
   "outputs": [
    {
     "data": {
      "text/plain": [
       "12"
      ]
     },
     "execution_count": 11,
     "metadata": {},
     "output_type": "execute_result"
    }
   ],
   "source": [
    "t=Triangle.create(3,4,5)\n",
    "Triangle.perimeter(t)"
   ]
  },
  {
   "cell_type": "code",
   "execution_count": 12,
   "metadata": {},
   "outputs": [
    {
     "data": {
      "text/plain": [
       "43.982297150257104"
      ]
     },
     "execution_count": 12,
     "metadata": {},
     "output_type": "execute_result"
    }
   ],
   "source": [
    "c=Circle.create(7)\n",
    "Circle.perimeter(c)"
   ]
  },
  {
   "attachments": {},
   "cell_type": "markdown",
   "metadata": {},
   "source": [
    "### What have we achieved \n",
    "\n",
    "1. Earlier a class was used only for \n",
    "    a. creating the object\n",
    "    b. providing object a type identification\n",
    "\n",
    "2. Now we are using class to group methods related to the object that class\n",
    "    * Here it is acting more like a Module\n",
    "        * A module is also an object that groups all methods present in python script\n",
    "\n",
    "\n",
    "\n",
    "## Simplified class syntax\n",
    "\n",
    "* instead of creating a global function and then assigning to the class, we can also add those methods in the body of the class definition\n",
    "* This is a semantic convinience which has exact same menaing as the code above.\n"
   ]
  },
  {
   "cell_type": "code",
   "execution_count": 17,
   "metadata": {},
   "outputs": [],
   "source": [
    "class Circle:\n",
    "    def create(radius):\n",
    "        c=Circle()\n",
    "        c.radius=radius\n",
    "        return c\n",
    "    \n",
    "    def is_valid(circle):\n",
    "        return isinstance(circle, Circle) and circle.radius>0\n",
    "    \n",
    "    def perimeter(circle):\n",
    "        return 2*math.pi*circle.radius if Circle.is_valid(circle) else NAN\n",
    "    \n",
    "    def area(circle):\n",
    "        return math.pi*circle.radius*circle.radius if Circle.is_valid(circle) else NAN\n",
    "    \n",
    "    def info(circle):\n",
    "        return f\"Circle({circle.radius})\" if Circle.is_valid(circle) else \"Circle(invalid)\"\n",
    "    \n",
    "    def draw(circle,surface='Screen'):\n",
    "    \n",
    "        print(f'drawing {Circle.info(circle)} on {surface}')"
   ]
  },
  {
   "cell_type": "code",
   "execution_count": 18,
   "metadata": {},
   "outputs": [],
   "source": [
    "def test_circle(radius):\n",
    "    c=Circle.create(radius)\n",
    "    Circle.draw(c,'Paper')\n",
    "    if Circle.is_valid(c):\n",
    "        print('Perimeter', Circle.perimeter(c))\n",
    "        print('Area', Circle.area(c))\n",
    "\n",
    "    print()"
   ]
  },
  {
   "cell_type": "code",
   "execution_count": 19,
   "metadata": {},
   "outputs": [
    {
     "name": "stdout",
     "output_type": "stream",
     "text": [
      "drawing Circle(7) on Paper\n",
      "Perimeter 43.982297150257104\n",
      "Area 153.93804002589985\n",
      "\n",
      "drawing Circle(invalid) on Paper\n",
      "\n"
     ]
    }
   ],
   "source": [
    "test_circle(7)\n",
    "\n",
    "test_circle(-7)"
   ]
  },
  {
   "attachments": {},
   "cell_type": "markdown",
   "metadata": {},
   "source": [
    "## Magic Python Syntax for object methods\n",
    "\n",
    "* Generally a class contains methods that operate of the object of that class\n",
    "    * they represent object's behavior\n",
    "    * Example\n",
    "        * Circle.area calculates area of the circle object \n",
    "        * Cricle.draw draws the circle object \n",
    "\n",
    "#### But the symantic of method call is redundant\n",
    "\n",
    "* consider the code snippet below\n",
    "\n",
    "```python\n",
    "c = Circle.create(7)\n",
    "\n",
    "p = Circle.perimeter(c)\n",
    "\n",
    "Circle.draw(c, \"canvas\" )\n",
    "\n",
    "```\n",
    "\n",
    "* How many times '**circle**' appears in call of **perimeter()** function?\n",
    "    1. Circle (the class)\n",
    "    2. c is the Circle object\n",
    "\n",
    "* This is redundant code.\n",
    "\n",
    "* Python tends to simplify this code.\n",
    "\n",
    "```python\n",
    "p = c.perimeter()  # Circle.perimeter(c)\n",
    "```\n",
    "\n",
    "* This semantic works only if\n",
    "    * a class method takes object of the same class as the first parameter"
   ]
  },
  {
   "cell_type": "code",
   "execution_count": 20,
   "metadata": {},
   "outputs": [
    {
     "name": "stdout",
     "output_type": "stream",
     "text": [
      "43.982297150257104 43.982297150257104\n"
     ]
    }
   ],
   "source": [
    "c=Circle.create(7)\n",
    "\n",
    "p1= Circle.perimeter(c)  # same as below\n",
    "\n",
    "p2 = c.perimeter() # internally converted to Circle.perimeter(c)\n",
    "\n",
    "print(p1,p2)"
   ]
  },
  {
   "attachments": {},
   "cell_type": "markdown",
   "metadata": {},
   "source": [
    "#### This will also work with Triangle created with external function"
   ]
  },
  {
   "cell_type": "code",
   "execution_count": 21,
   "metadata": {},
   "outputs": [
    {
     "data": {
      "text/plain": [
       "12"
      ]
     },
     "execution_count": 21,
     "metadata": {},
     "output_type": "execute_result"
    }
   ],
   "source": [
    "t=Triangle.create(3,4,5)\n",
    "\n",
    "t.perimeter() # Triangle.perimeter(t)"
   ]
  },
  {
   "attachments": {},
   "cell_type": "markdown",
   "metadata": {},
   "source": [
    "#### What if the function takes more than one parameter?\n",
    "\n",
    "```python\n",
    "c=Circle.create(7)\n",
    "\n",
    "Circle.draw(c,\"paper\")\n",
    "```\n",
    "\n",
    "* we can still use the object notation\n",
    "    * we will pass one parameter less.\n",
    "\n",
    "* the object invoking the function is passed as the first argument to that function\n",
    "\n",
    "* any argument we pass is shifted by one place\n",
    "\n"
   ]
  },
  {
   "cell_type": "code",
   "execution_count": 22,
   "metadata": {},
   "outputs": [
    {
     "name": "stdout",
     "output_type": "stream",
     "text": [
      "drawing Circle(7) on Canva\n"
     ]
    }
   ],
   "source": [
    "c=Circle.create(7)\n",
    "\n",
    "c.draw('Canva') # Circle.draw(c,'Cavas')"
   ]
  },
  {
   "attachments": {},
   "cell_type": "markdown",
   "metadata": {},
   "source": [
    "### This syntax doesn't work if class method doesn't take class object as first parameter\n",
    "\n",
    "* We can't use this syntax with create function below\n",
    "\n",
    "\n",
    "```python\n",
    "c = Circle.create(7)\n",
    "```\n",
    "\n",
    "\n",
    "* create function takes a number (int/float). it doesn't take circle\n",
    "* we can't use this object notation with current version of create"
   ]
  },
  {
   "cell_type": "code",
   "execution_count": 23,
   "metadata": {},
   "outputs": [
    {
     "ename": "TypeError",
     "evalue": "create() takes 1 positional argument but 2 were given",
     "output_type": "error",
     "traceback": [
      "\u001b[0;31m---------------------------------------------------------------------------\u001b[0m",
      "\u001b[0;31mTypeError\u001b[0m                                 Traceback (most recent call last)",
      "Cell \u001b[0;32mIn[23], line 3\u001b[0m\n\u001b[1;32m      1\u001b[0m c \u001b[39m=\u001b[39m Circle()\n\u001b[0;32m----> 3\u001b[0m c\u001b[39m.\u001b[39;49mcreate(\u001b[39m7\u001b[39;49m) \u001b[39m# Circle.create(c,7)\u001b[39;00m\n",
      "\u001b[0;31mTypeError\u001b[0m: create() takes 1 positional argument but 2 were given"
     ]
    }
   ],
   "source": [
    "c = Circle()\n",
    "\n",
    "c.create(7) # Circle.create(c,7)"
   ]
  },
  {
   "attachments": {},
   "cell_type": "markdown",
   "metadata": {},
   "source": [
    "### A word on convention\n",
    "\n",
    "* it is tiresome and redundant to say 'class method that takes class object as first parameter'\n",
    "* python community created a convention to avoid this long phrase\n",
    "* we name this first parameter as **self**\n",
    "    * It can be compared with **this** of c++ styles languages\n",
    "        * But it is **NOT** exactly like **this** \n",
    "\n",
    "\n",
    "#### self vs this\n",
    "\n",
    "* 'this' is a keyword, 'self' is a user defined convention\n",
    "* 'this' is always called 'this', you can use any name inplace of 'self'\n",
    "    * in our example we have used 'circle'\n",
    "\n",
    "* 'this' is passed by compiler implcitly, 'self' is always passed explicitly\n",
    "\n",
    "* writing **this.raidus** is mostly optional (needed only in case of ambiguity)\n",
    "    * **self.radius** is required everytime. It is NOT optional\n",
    "\n",
    "\n",
    "\n",
    "## How do I make the below code work?\n",
    "\n"
   ]
  },
  {
   "cell_type": "code",
   "execution_count": 24,
   "metadata": {},
   "outputs": [
    {
     "ename": "TypeError",
     "evalue": "create() takes 1 positional argument but 2 were given",
     "output_type": "error",
     "traceback": [
      "\u001b[0;31m---------------------------------------------------------------------------\u001b[0m",
      "\u001b[0;31mTypeError\u001b[0m                                 Traceback (most recent call last)",
      "Cell \u001b[0;32mIn[24], line 3\u001b[0m\n\u001b[1;32m      1\u001b[0m c\u001b[39m=\u001b[39mCircle()\n\u001b[0;32m----> 3\u001b[0m c\u001b[39m.\u001b[39;49mcreate(\u001b[39m7\u001b[39;49m)\n\u001b[1;32m      5\u001b[0m c\u001b[39m.\u001b[39mdraw(\u001b[39m'\u001b[39m\u001b[39mpaper\u001b[39m\u001b[39m'\u001b[39m)\n",
      "\u001b[0;31mTypeError\u001b[0m: create() takes 1 positional argument but 2 were given"
     ]
    }
   ],
   "source": [
    "c=Circle()\n",
    "\n",
    "c.create(7)\n",
    "\n",
    "c.draw('paper')"
   ]
  },
  {
   "attachments": {},
   "cell_type": "markdown",
   "metadata": {},
   "source": [
    "### Redefining Circle class"
   ]
  },
  {
   "cell_type": "code",
   "execution_count": 40,
   "metadata": {},
   "outputs": [],
   "source": [
    "class Circle:\n",
    "    def create(self,radius):\n",
    "        #c=Circle()\n",
    "        self.radius=radius\n",
    "        #return c\n",
    "    \n",
    "    def is_valid(self):\n",
    "        return isinstance(self, Circle) and self.radius>0\n",
    "    \n",
    "    def perimeter(self):\n",
    "        return 2 * math.pi * self.radius if self.is_valid() else NAN\n",
    "    \n",
    "    def area(self):\n",
    "        return math.pi * self.radius * self.radius if Circle.is_valid(self) else NAN\n",
    "    \n",
    "    def info(self):\n",
    "        return f\"Circle({self.radius})\" if self.is_valid() else \"Circle(invalid)\"\n",
    "    \n",
    "    def draw(self,surface='Screen'):\n",
    "        if self.is_valid():\n",
    "            print(f'drawing {self.info()} on {surface}')\n",
    "        else:\n",
    "            print(f\"can't draw invalid circle\")"
   ]
  },
  {
   "cell_type": "code",
   "execution_count": 41,
   "metadata": {},
   "outputs": [],
   "source": [
    "def test_circle(radius):\n",
    "    #c = Circle.create(radius)\n",
    "\n",
    "    c=Circle()\n",
    "    c.create(radius)\n",
    "    c.draw('Paper')\n",
    "    if c.is_valid():\n",
    "        print('Perimeter', c.perimeter())\n",
    "        print('Area', c.area())\n",
    "\n",
    "    print()"
   ]
  },
  {
   "cell_type": "code",
   "execution_count": 42,
   "metadata": {},
   "outputs": [
    {
     "name": "stdout",
     "output_type": "stream",
     "text": [
      "drawing Circle(7) on Paper\n",
      "Perimeter 43.982297150257104\n",
      "Area 153.93804002589985\n",
      "\n",
      "can't draw invalid circle\n",
      "\n"
     ]
    }
   ],
   "source": [
    "test_circle(7)\n",
    "\n",
    "test_circle(-1)"
   ]
  },
  {
   "attachments": {},
   "cell_type": "markdown",
   "metadata": {},
   "source": [
    "### When is the circle Created?\n",
    "\n"
   ]
  },
  {
   "cell_type": "code",
   "execution_count": 43,
   "metadata": {},
   "outputs": [
    {
     "data": {
      "text/plain": [
       "43.982297150257104"
      ]
     },
     "execution_count": 43,
     "metadata": {},
     "output_type": "execute_result"
    }
   ],
   "source": [
    "c = Circle()\n",
    "\n",
    "c.create(7)\n",
    "\n",
    "c.perimeter()"
   ]
  },
  {
   "attachments": {},
   "cell_type": "markdown",
   "metadata": {},
   "source": [
    "#### When is the circle created -- on line #1 or line #3?\n",
    "\n",
    "##### if it is created on line #1\n",
    "\n",
    "* what is the raidus of this circle?\n",
    "* what will be the perimeter on line #2?\n",
    "* how will the circle look like on line #2?\n",
    "* **how can we have a circle without radius?**\n",
    "* what are we doning on line #3 when we say **c.create()** \n",
    "\n",
    "#### if it is created on line #3\n",
    "\n",
    "* what have we done on line #1?\n",
    "* what will be the **type(c)** on line #2\n",
    "* what will be the **id(c)** one line#2\n",
    "* if object doesn't exist, how is it being called a **circle** or has an **id**?\n",
    "\n",
    "\n",
    "### What is the main problem?\n",
    "\n",
    "* There are two different circles we are talking about\n",
    "\n",
    "#### 1. Geometric circle\n",
    "\n",
    "* doesn't exist till it has a radius (line #3)\n",
    "* programming is all about representing this **domain object**\n",
    "\n",
    "#### 2. Python circle (in memory/ semantic)\n",
    "\n",
    "* gets created using **constructor syntax** \n",
    "* it is python's syntax. but domain object doesn't exist anymore\n",
    "\n",
    "### Ideally there should be no gap between the two stages.\n",
    "\n",
    "\n",
    "## Python's internal process for creating an object\n",
    "\n",
    "* when we try to create a python object \n",
    "\n",
    "```python\n",
    "c = Circle()\n",
    "```\n",
    "* We are calling the **constructor**  called **Circle** \n",
    "* This constructor has same name as that of class \n",
    "    * It is same as C++ style languages\n",
    "\n",
    "\n",
    "* This constructor internally calls two functions\n",
    "* It is conceptually similar to below code\n",
    "\n",
    "```python\n",
    "class Circle:\n",
    "    def Circle():\n",
    "        c=Circle.__new__() # 1. allocates memory. This is python's cricle\n",
    "        c.__init__() # 2. initialized the values. This is geometric circle requirement\n",
    "        return c\n",
    "```\n",
    "\n",
    "* In python we never override default constructor\n",
    "* We rarely need to make changes to **\\_\\_new\\_\\_()**\n",
    "* But we can define our own **\\_\\_init\\_\\_(self)**\n"
   ]
  },
  {
   "cell_type": "code",
   "execution_count": 44,
   "metadata": {},
   "outputs": [],
   "source": [
    "class Circle:\n",
    "    def __init__(self):\n",
    "        print('circle.__init__(self) called')"
   ]
  },
  {
   "cell_type": "code",
   "execution_count": 45,
   "metadata": {},
   "outputs": [
    {
     "name": "stdout",
     "output_type": "stream",
     "text": [
      "circle.__init__(self) called\n"
     ]
    }
   ],
   "source": [
    "c=Circle() # internally calls __init__"
   ]
  },
  {
   "attachments": {},
   "cell_type": "markdown",
   "metadata": {},
   "source": [
    "### we can pass parameters to \\_\\_init\\_\\_\n",
    "\n",
    "* default \\_\\_init\\_\\_ takes only 1 parameter (self)\n",
    "* but we can overwrite \\_\\_init\\_\\_ to take more parameters\n",
    "* since we don't call \\_\\_init\\_\\_ ourself, we need to pass it to constructor\n"
   ]
  },
  {
   "cell_type": "code",
   "execution_count": 46,
   "metadata": {},
   "outputs": [],
   "source": [
    "class Circle:\n",
    "    def __init__(self, radius):\n",
    "        self.radius=radius"
   ]
  },
  {
   "attachments": {},
   "cell_type": "markdown",
   "metadata": {},
   "source": [
    "### Now we can't call Circle constructor without parameter"
   ]
  },
  {
   "cell_type": "code",
   "execution_count": 47,
   "metadata": {},
   "outputs": [
    {
     "ename": "TypeError",
     "evalue": "__init__() missing 1 required positional argument: 'radius'",
     "output_type": "error",
     "traceback": [
      "\u001b[0;31m---------------------------------------------------------------------------\u001b[0m",
      "\u001b[0;31mTypeError\u001b[0m                                 Traceback (most recent call last)",
      "Cell \u001b[0;32mIn[47], line 1\u001b[0m\n\u001b[0;32m----> 1\u001b[0m c\u001b[39m=\u001b[39mCircle() \u001b[39m# internall calls c.__init__()\u001b[39;00m\n",
      "\u001b[0;31mTypeError\u001b[0m: __init__() missing 1 required positional argument: 'radius'"
     ]
    }
   ],
   "source": [
    "c=Circle() # internall calls c.__init__()"
   ]
  },
  {
   "cell_type": "code",
   "execution_count": 48,
   "metadata": {},
   "outputs": [
    {
     "name": "stdout",
     "output_type": "stream",
     "text": [
      "7\n"
     ]
    }
   ],
   "source": [
    "c=Circle(7) # internally calls c.__init__(7) --> Circle.__init__(c,7)\n",
    "\n",
    "print(c.radius)"
   ]
  },
  {
   "attachments": {},
   "cell_type": "markdown",
   "metadata": {},
   "source": [
    "### \\_\\_init\\_\\_ vs constructor\n",
    "\n",
    "* **\\_\\_init\\_\\_** is often referred as **constructor**\n",
    "    * it has a similar job as a c++ style constructor\n",
    "        * initalize the object\n",
    "\n",
    "* But \\_\\_init\\_\\_ is not a constructor.\n",
    "    * it is a special method called from within the constructor\n",
    "    * it has subtle differences from the constructor  of C++ style languages\n",
    "\n",
    "\n",
    "## VERY IMPORTANT\n",
    "\n",
    "* A Python class NEVER defines an object's properties (fields/state/values).\n",
    "    * they are added as convinience by \\_\\_init\\_\\_ method\n",
    "        * \\_\\_init\\_\\_ is more a convinience that semantic compulsion\n",
    "\n",
    "* we don't declare them as part of class definition\n",
    "* we can still add additional properties after the object is created"
   ]
  },
  {
   "cell_type": "code",
   "execution_count": 50,
   "metadata": {},
   "outputs": [
    {
     "data": {
      "text/plain": [
       "['color', 'radius']"
      ]
     },
     "execution_count": 50,
     "metadata": {},
     "output_type": "execute_result"
    }
   ],
   "source": [
    "c=Circle(7)\n",
    "c.color='blue'\n",
    "\n",
    "[m for m in dir(c) if not m.startswith('__')]"
   ]
  },
  {
   "cell_type": "code",
   "execution_count": 51,
   "metadata": {},
   "outputs": [
    {
     "ename": "AttributeError",
     "evalue": "'Circle' object has no attribute 'perimeter'",
     "output_type": "error",
     "traceback": [
      "\u001b[0;31m---------------------------------------------------------------------------\u001b[0m",
      "\u001b[0;31mAttributeError\u001b[0m                            Traceback (most recent call last)",
      "Cell \u001b[0;32mIn[51], line 1\u001b[0m\n\u001b[0;32m----> 1\u001b[0m c\u001b[39m.\u001b[39;49mperimeter()\n",
      "\u001b[0;31mAttributeError\u001b[0m: 'Circle' object has no attribute 'perimeter'"
     ]
    }
   ],
   "source": [
    "c.perimeter()"
   ]
  },
  {
   "attachments": {},
   "cell_type": "markdown",
   "metadata": {},
   "source": [
    "#### Complete circle code"
   ]
  },
  {
   "cell_type": "code",
   "execution_count": 64,
   "metadata": {},
   "outputs": [],
   "source": [
    "class Circle:\n",
    "    def __init__(self,radius):\n",
    "        self.radius=radius\n",
    "        \n",
    "        \n",
    "    \n",
    "    def is_valid(self):\n",
    "        return isinstance(self, Circle) and self.radius>0\n",
    "    \n",
    "    def perimeter(self):\n",
    "        return 2 * math.pi * self.radius if self.is_valid() else NAN\n",
    "    \n",
    "    def area(self):\n",
    "        return math.pi * self.radius * self.radius if Circle.is_valid(self) else NAN\n",
    "    \n",
    "    def info(self):\n",
    "        return f\"Circle({self.radius})\" if self.is_valid() else \"Circle(invalid)\"\n",
    "    \n",
    "    def draw(self,surface='Screen'):\n",
    "        if self.is_valid():\n",
    "            print(f'drawing {self.info()} on {surface}')\n",
    "        else:\n",
    "            print(f\"can't draw invalid circle\")"
   ]
  },
  {
   "cell_type": "code",
   "execution_count": 65,
   "metadata": {},
   "outputs": [
    {
     "name": "stdout",
     "output_type": "stream",
     "text": [
      "drawing Circle(7) on paper\n"
     ]
    }
   ],
   "source": [
    "c=Circle(7)\n",
    "c.draw('paper')"
   ]
  },
  {
   "cell_type": "markdown",
   "metadata": {},
   "source": []
  }
 ],
 "metadata": {
  "kernelspec": {
   "display_name": "Python 3",
   "language": "python",
   "name": "python3"
  },
  "language_info": {
   "codemirror_mode": {
    "name": "ipython",
    "version": 3
   },
   "file_extension": ".py",
   "mimetype": "text/x-python",
   "name": "python",
   "nbconvert_exporter": "python",
   "pygments_lexer": "ipython3",
   "version": "3.9.1"
  },
  "orig_nbformat": 4,
  "vscode": {
   "interpreter": {
    "hash": "bc4e78314997db9a44b6830e0aa6b75a33973256eb5fdaf587cb7b38c9328874"
   }
  }
 },
 "nbformat": 4,
 "nbformat_minor": 2
}
