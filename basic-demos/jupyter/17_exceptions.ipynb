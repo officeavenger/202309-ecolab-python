{
 "cells": [
  {
   "attachments": {},
   "cell_type": "markdown",
   "metadata": {},
   "source": [
    "## What is an Exception?\n",
    "\n",
    "* ~~unexpected interruptions~~\n",
    "    * exception must be expected\n",
    "        * if not you may not be in a position to manage it\n",
    "* event that ~~stops~~  the execution of normal flow\n",
    "* **undeseriable condition** that may lead to **undesirable results**\n",
    "* exception Handling is managing the situation to eliminate/reduce the bad impact!\n",
    "    * exception MUST BE expected\n",
    "\n",
    "### Realworld scenario\n",
    "\n",
    "* A road accident\n",
    "    * undeseriable\n",
    "    * ~~unexpected~~\n",
    "    * ~~in~~frequent\n",
    "* we may not want but must be **prepared** to handle the undesired situation\n",
    "    * Why else we use halmet/seat-belt\n",
    "\n",
    "* Things may go wrong. We have to be prepared to handle the situaion\n",
    "\n",
    "\n",
    "### Programming scenario\n",
    "\n",
    "* exception may be an undseriable situation caused due to\n",
    "    * invalid input\n",
    "        * wrong sides of triangle\n",
    "        * withdrawal attempt from an account with\n",
    "            * invalid password\n",
    "            * insufficient balance\n",
    "        * trying to insert into a linkedlist at an invalid index\n",
    "\n",
    "    * hardware/software failure\n",
    "        * invalid or missing file\n",
    "        * network outage\n",
    "        * invalid/missing permission\n",
    "\n",
    "\n",
    "## Two Parts of Exception Handling\n",
    "\n",
    "### 1. Source of Exception\n",
    "\n",
    "* This is the point where exception occurs\n",
    "* The main cause of the problem\n",
    "\n",
    "### 2. Exception Handler\n",
    "\n",
    "* This is where we handle the exception\n",
    "* ideally the source and handler must be two distinct elements (methods/object)\n",
    "* if a problem occurs in a function and it handles it, it is not an exception situation.\n",
    "\n",
    "* The below code is NOT exception handling\n",
    "\n",
    "```python\n",
    "def withdraw(self, amount, password):\n",
    "    if self._password!=password:\n",
    "        print('invalid password')\n",
    "```\n",
    "\n",
    "\n",
    "## Three Stages in Exception life cycle\n",
    "\n",
    "1. source realizes that we have an exception\n",
    "    * it returns a value to indicate problem\n",
    "\n",
    "```python\n",
    "def perimeter(t):\n",
    "    if t.is_valid():\n",
    "        return t.s1+t.s2+t.s3 # result\n",
    "    else:\n",
    "        return float('nan') # exception signal\n",
    "```\n",
    "\n",
    "2. the handler checks for the signal and handles the problem\n",
    "\n",
    "```python\n",
    "def main():\n",
    "    t=Triangle(3,4,9)\n",
    "    p=t.perimeter()\n",
    "    if p is float('nan'): #check for problem\n",
    "        print('You have invalid Triangle. Please provice write sides')\n",
    "        #we may ask to re-enter here\n",
    "\n",
    "    else:\n",
    "        # your standard business logic\n",
    "        print(p)\n",
    "\n",
    "3. There may be intermediatery between source and target who will have to pass the information\n",
    "\n",
    "\n",
    "```python\n",
    "def main():\n",
    "    get_cash()\n",
    "\n",
    "def get_cash():\n",
    "    account=int(input('account'))\n",
    "    amount=int(input('amount'))\n",
    "    password=input('password')\n",
    "\n",
    "    def response= bank.withdraw(account,amount,password)\n",
    "    if response is False:\n",
    "        #handle the problem\n",
    "        print('sorry withdrawal failed)\n",
    "    else:\n",
    "        dispense(amount)\n",
    "\n",
    "\n",
    "class Bank:\n",
    "    def withdraw(self, accountNumber,amount,password):\n",
    "        account=self._get_account(accountNumber)\n",
    "        if account is None:\n",
    "            return False\n",
    "        response= account.withdraw(amount,password)\n",
    "        if response == float('NAN'):\n",
    "            return False\n",
    "        else\n",
    "            return True\n",
    "\n",
    "\n",
    "class BankAccount:\n",
    "    def withdraw(self, amount, password):\n",
    "        if amount>self._balance:\n",
    "            return float('nan')\n",
    "        elif password!=self._password:\n",
    "            return float('nan')\n",
    "        else:\n",
    "            return amount\n",
    "```\n",
    "        "
   ]
  },
  {
   "attachments": {},
   "cell_type": "markdown",
   "metadata": {},
   "source": [
    "## Problem with the traditional mechanism\n",
    "\n",
    "### 1. No standard or specific object to represent exception signal\n",
    "* we use common values like\n",
    "    * None\n",
    "    * False\n",
    "    * NAN\n",
    "    * 0\n",
    "    * -1\n",
    "\n",
    "### 2. in sending the signal we often loose the actual meaning of error\n",
    "    * False may say operation failed\n",
    "    * It can't tell whey exactly it failed.\n",
    "\n",
    "### 3. we use same if/return to handle exception \n",
    "\n",
    "    * it is difficcult to separate **normal flow** and **exceptional flow**\n",
    "\n",
    "### 4. Any intermediate function between source and target must check and pass the signal\n",
    "    * leads to unwanted code bloat\n",
    "\n",
    "## OO exception handling\n",
    "\n",
    "### 1. exception is a special object\n",
    "\n",
    "* In python it should be a subclass of exception\n",
    "* Advantage\n",
    "    1. You have a special object to indicate error\n",
    "    2. This object can contains details of what exactly happened.\n",
    "\n",
    "### 2. We don't ~~return~~ the exception. we **raise** them\n",
    "\n",
    "  * in c++ style languages, the keyword is  **throw**\n",
    "\n",
    "### 3. handler doesn't check for signal with ~~if~~ . It checks with **except**\n",
    "  * in C++ style languages, the keywrod is **catch**\n",
    "\n",
    "\n",
    "### 4. we must be prepared for the exception. This is represented by a **try** block\n",
    "\n",
    "* try represents the code for whcich we **except** the exception\n",
    "\n",
    "\n",
    "# Let us start by looking at some standard exceptions\n",
    "\n",
    "* In python every error is denoted by different exception object\n",
    "* It includes\n",
    "    * semnatical errors\n",
    "    * logical errors"
   ]
  },
  {
   "cell_type": "code",
   "execution_count": 2,
   "metadata": {},
   "outputs": [
    {
     "ename": "ZeroDivisionError",
     "evalue": "division by zero",
     "output_type": "error",
     "traceback": [
      "\u001b[0;31m---------------------------------------------------------------------------\u001b[0m",
      "\u001b[0;31mZeroDivisionError\u001b[0m                         Traceback (most recent call last)",
      "Cell \u001b[0;32mIn[2], line 1\u001b[0m\n\u001b[0;32m----> 1\u001b[0m \u001b[39m2\u001b[39;49m\u001b[39m/\u001b[39;49m\u001b[39m0\u001b[39;49m\n",
      "\u001b[0;31mZeroDivisionError\u001b[0m: division by zero"
     ]
    }
   ],
   "source": [
    "2/0"
   ]
  },
  {
   "cell_type": "code",
   "execution_count": 3,
   "metadata": {},
   "outputs": [],
   "source": [
    "numbers=(2,3,9,2,6)"
   ]
  },
  {
   "cell_type": "code",
   "execution_count": 4,
   "metadata": {},
   "outputs": [
    {
     "ename": "IndexError",
     "evalue": "tuple index out of range",
     "output_type": "error",
     "traceback": [
      "\u001b[0;31m---------------------------------------------------------------------------\u001b[0m",
      "\u001b[0;31mIndexError\u001b[0m                                Traceback (most recent call last)",
      "Cell \u001b[0;32mIn[4], line 1\u001b[0m\n\u001b[0;32m----> 1\u001b[0m numbers[\u001b[39m10\u001b[39;49m]\n",
      "\u001b[0;31mIndexError\u001b[0m: tuple index out of range"
     ]
    }
   ],
   "source": [
    "numbers[10]"
   ]
  },
  {
   "cell_type": "code",
   "execution_count": 5,
   "metadata": {},
   "outputs": [
    {
     "ename": "TypeError",
     "evalue": "'tuple' object does not support item assignment",
     "output_type": "error",
     "traceback": [
      "\u001b[0;31m---------------------------------------------------------------------------\u001b[0m",
      "\u001b[0;31mTypeError\u001b[0m                                 Traceback (most recent call last)",
      "Cell \u001b[0;32mIn[5], line 1\u001b[0m\n\u001b[0;32m----> 1\u001b[0m numbers[\u001b[39m0\u001b[39;49m]\u001b[39m=\u001b[39m\u001b[39m1\u001b[39m\n",
      "\u001b[0;31mTypeError\u001b[0m: 'tuple' object does not support item assignment"
     ]
    }
   ],
   "source": [
    "numbers[0]=1"
   ]
  },
  {
   "cell_type": "code",
   "execution_count": 6,
   "metadata": {},
   "outputs": [
    {
     "ename": "NameError",
     "evalue": "name 'call_a_method_that_doesnt_exist' is not defined",
     "output_type": "error",
     "traceback": [
      "\u001b[0;31m---------------------------------------------------------------------------\u001b[0m",
      "\u001b[0;31mNameError\u001b[0m                                 Traceback (most recent call last)",
      "Cell \u001b[0;32mIn[6], line 1\u001b[0m\n\u001b[0;32m----> 1\u001b[0m call_a_method_that_doesnt_exist()\n",
      "\u001b[0;31mNameError\u001b[0m: name 'call_a_method_that_doesnt_exist' is not defined"
     ]
    }
   ],
   "source": [
    "call_a_method_that_doesnt_exist()"
   ]
  },
  {
   "cell_type": "code",
   "execution_count": 7,
   "metadata": {},
   "outputs": [],
   "source": [
    "countries=dict(IN='INDIA', JP='JAPAN')"
   ]
  },
  {
   "cell_type": "code",
   "execution_count": 8,
   "metadata": {},
   "outputs": [
    {
     "ename": "KeyError",
     "evalue": "'DE'",
     "output_type": "error",
     "traceback": [
      "\u001b[0;31m---------------------------------------------------------------------------\u001b[0m",
      "\u001b[0;31mKeyError\u001b[0m                                  Traceback (most recent call last)",
      "Cell \u001b[0;32mIn[8], line 1\u001b[0m\n\u001b[0;32m----> 1\u001b[0m countries[\u001b[39m'\u001b[39;49m\u001b[39mDE\u001b[39;49m\u001b[39m'\u001b[39;49m]\n",
      "\u001b[0;31mKeyError\u001b[0m: 'DE'"
     ]
    }
   ],
   "source": [
    "countries['DE']"
   ]
  },
  {
   "cell_type": "code",
   "execution_count": 9,
   "metadata": {},
   "outputs": [
    {
     "ename": "IndentationError",
     "evalue": "unexpected indent (3698335909.py, line 2)",
     "output_type": "error",
     "traceback": [
      "\u001b[0;36m  Cell \u001b[0;32mIn[9], line 2\u001b[0;36m\u001b[0m\n\u001b[0;31m    y=20\u001b[0m\n\u001b[0m    ^\u001b[0m\n\u001b[0;31mIndentationError\u001b[0m\u001b[0;31m:\u001b[0m unexpected indent\n"
     ]
    }
   ],
   "source": [
    "x=10\n",
    "    y=20"
   ]
  },
  {
   "attachments": {},
   "cell_type": "markdown",
   "metadata": {},
   "source": [
    "\n",
    "#### A code that doesn't have exceptions\n",
    "\n",
    "* may work in some situation\n",
    "* may fail in another situation"
   ]
  },
  {
   "cell_type": "code",
   "execution_count": 11,
   "metadata": {},
   "outputs": [],
   "source": [
    "def show_all(values, count):\n",
    "    for i in range(count):\n",
    "        print(values[i])\n",
    "\n",
    "items=[2,3,9,2,6]"
   ]
  },
  {
   "cell_type": "code",
   "execution_count": 12,
   "metadata": {},
   "outputs": [
    {
     "name": "stdout",
     "output_type": "stream",
     "text": [
      "2\n",
      "3\n",
      "9\n"
     ]
    }
   ],
   "source": [
    "show_all(items,3)"
   ]
  },
  {
   "cell_type": "code",
   "execution_count": 13,
   "metadata": {},
   "outputs": [
    {
     "name": "stdout",
     "output_type": "stream",
     "text": [
      "2\n",
      "3\n",
      "9\n",
      "2\n",
      "6\n"
     ]
    },
    {
     "ename": "IndexError",
     "evalue": "list index out of range",
     "output_type": "error",
     "traceback": [
      "\u001b[0;31m---------------------------------------------------------------------------\u001b[0m",
      "\u001b[0;31mIndexError\u001b[0m                                Traceback (most recent call last)",
      "Cell \u001b[0;32mIn[13], line 1\u001b[0m\n\u001b[0;32m----> 1\u001b[0m show_all(items,\u001b[39m10\u001b[39;49m)\n",
      "Cell \u001b[0;32mIn[11], line 3\u001b[0m, in \u001b[0;36mshow_all\u001b[0;34m(values, count)\u001b[0m\n\u001b[1;32m      1\u001b[0m \u001b[39mdef\u001b[39;00m \u001b[39mshow_all\u001b[39m(values, count):\n\u001b[1;32m      2\u001b[0m     \u001b[39mfor\u001b[39;00m i \u001b[39min\u001b[39;00m \u001b[39mrange\u001b[39m(count):\n\u001b[0;32m----> 3\u001b[0m         \u001b[39mprint\u001b[39m(values[i])\n",
      "\u001b[0;31mIndexError\u001b[0m: list index out of range"
     ]
    }
   ],
   "source": [
    "show_all(items,10)"
   ]
  },
  {
   "attachments": {},
   "cell_type": "markdown",
   "metadata": {},
   "source": [
    "### Handling the exception \n",
    "\n",
    "* if you expect that a certain code may **raise** exception\n",
    "\n",
    "1. put the code under a try block\n",
    "2. write an except block to handle the problem"
   ]
  },
  {
   "cell_type": "code",
   "execution_count": 14,
   "metadata": {},
   "outputs": [],
   "source": [
    "def show_all(values, count):\n",
    "    try:\n",
    "        for i in range(count):\n",
    "            print(values[i])\n",
    "    except:\n",
    "        print('no more items')\n",
    "items=[2,3,9,2,6]"
   ]
  },
  {
   "cell_type": "code",
   "execution_count": 16,
   "metadata": {},
   "outputs": [
    {
     "name": "stdout",
     "output_type": "stream",
     "text": [
      "2\n",
      "3\n",
      "9\n",
      "2\n"
     ]
    }
   ],
   "source": [
    "show_all(items, 4)"
   ]
  },
  {
   "cell_type": "code",
   "execution_count": 18,
   "metadata": {},
   "outputs": [
    {
     "name": "stdout",
     "output_type": "stream",
     "text": [
      "2\n",
      "3\n",
      "9\n",
      "2\n",
      "6\n",
      "no more items\n"
     ]
    }
   ],
   "source": [
    "show_all(items,20)"
   ]
  },
  {
   "attachments": {},
   "cell_type": "markdown",
   "metadata": {},
   "source": [
    "### An example with try-except\n",
    "\n",
    "#### forutne_teller\n",
    "* will tell our fortune based on a lucky number"
   ]
  },
  {
   "cell_type": "code",
   "execution_count": 31,
   "metadata": {},
   "outputs": [],
   "source": [
    "def get_fortune(lucky_number):\n",
    "\n",
    "    fortunes=['','You have a great day ahead','Luck is on your side','Be cautious today','Success will follow you']\n",
    "    if lucky_number<0:\n",
    "        return too_much_negativity()\n",
    "    elif lucky_number==0:\n",
    "        return 2/0\n",
    "    return fortunes[lucky_number]\n",
    "\n",
    "def find_fortune(lucky_number):\n",
    "    fortune=get_fortune(int(lucky_number))\n",
    "    return fortune\n",
    "\n",
    "\n",
    "def fortune_teller(lucky_number):\n",
    "    fortune=find_fortune(lucky_number)\n",
    "    print('Your Fortune:', fortune)"
   ]
  },
  {
   "cell_type": "code",
   "execution_count": 32,
   "metadata": {},
   "outputs": [
    {
     "name": "stdout",
     "output_type": "stream",
     "text": [
      "Your Fortune: Luck is on your side\n"
     ]
    }
   ],
   "source": [
    "fortune_teller(2)"
   ]
  },
  {
   "cell_type": "code",
   "execution_count": 33,
   "metadata": {},
   "outputs": [
    {
     "name": "stdout",
     "output_type": "stream",
     "text": [
      "Your Fortune: Be cautious today\n"
     ]
    }
   ],
   "source": [
    "fortune_teller(3)"
   ]
  },
  {
   "cell_type": "code",
   "execution_count": 34,
   "metadata": {},
   "outputs": [
    {
     "ename": "IndexError",
     "evalue": "list index out of range",
     "output_type": "error",
     "traceback": [
      "\u001b[0;31m---------------------------------------------------------------------------\u001b[0m",
      "\u001b[0;31mIndexError\u001b[0m                                Traceback (most recent call last)",
      "Cell \u001b[0;32mIn[34], line 1\u001b[0m\n\u001b[0;32m----> 1\u001b[0m fortune_teller(\u001b[39m20\u001b[39;49m)\n\u001b[1;32m      2\u001b[0m \u001b[39mprint\u001b[39m(\u001b[39m'\u001b[39m\u001b[39mfortune predicted\u001b[39m\u001b[39m'\u001b[39m)\n",
      "Cell \u001b[0;32mIn[31], line 16\u001b[0m, in \u001b[0;36mfortune_teller\u001b[0;34m(lucky_number)\u001b[0m\n\u001b[1;32m     15\u001b[0m \u001b[39mdef\u001b[39;00m \u001b[39mfortune_teller\u001b[39m(lucky_number):\n\u001b[0;32m---> 16\u001b[0m     fortune\u001b[39m=\u001b[39mfind_fortune(lucky_number)\n\u001b[1;32m     17\u001b[0m     \u001b[39mprint\u001b[39m(\u001b[39m'\u001b[39m\u001b[39mYour Fortune:\u001b[39m\u001b[39m'\u001b[39m, fortune)\n",
      "Cell \u001b[0;32mIn[31], line 11\u001b[0m, in \u001b[0;36mfind_fortune\u001b[0;34m(lucky_number)\u001b[0m\n\u001b[1;32m     10\u001b[0m \u001b[39mdef\u001b[39;00m \u001b[39mfind_fortune\u001b[39m(lucky_number):\n\u001b[0;32m---> 11\u001b[0m     fortune\u001b[39m=\u001b[39mget_fortune(\u001b[39mint\u001b[39;49m(lucky_number))\n\u001b[1;32m     12\u001b[0m     \u001b[39mreturn\u001b[39;00m fortune\n",
      "Cell \u001b[0;32mIn[31], line 8\u001b[0m, in \u001b[0;36mget_fortune\u001b[0;34m(lucky_number)\u001b[0m\n\u001b[1;32m      6\u001b[0m \u001b[39melif\u001b[39;00m lucky_number\u001b[39m==\u001b[39m\u001b[39m0\u001b[39m:\n\u001b[1;32m      7\u001b[0m     \u001b[39mreturn\u001b[39;00m \u001b[39m2\u001b[39m\u001b[39m/\u001b[39m\u001b[39m0\u001b[39m\n\u001b[0;32m----> 8\u001b[0m \u001b[39mreturn\u001b[39;00m fortunes[lucky_number]\n",
      "\u001b[0;31mIndexError\u001b[0m: list index out of range"
     ]
    }
   ],
   "source": [
    "fortune_teller(20)\n",
    "print('fortune predicted')"
   ]
  },
  {
   "cell_type": "code",
   "execution_count": 35,
   "metadata": {},
   "outputs": [
    {
     "ename": "NameError",
     "evalue": "name 'too_much_negativity' is not defined",
     "output_type": "error",
     "traceback": [
      "\u001b[0;31m---------------------------------------------------------------------------\u001b[0m",
      "\u001b[0;31mNameError\u001b[0m                                 Traceback (most recent call last)",
      "Cell \u001b[0;32mIn[35], line 1\u001b[0m\n\u001b[0;32m----> 1\u001b[0m fortune_teller(\u001b[39m-\u001b[39;49m\u001b[39m2\u001b[39;49m)\n\u001b[1;32m      2\u001b[0m \u001b[39mprint\u001b[39m(\u001b[39m'\u001b[39m\u001b[39mfortune predicted\u001b[39m\u001b[39m'\u001b[39m)\n",
      "Cell \u001b[0;32mIn[31], line 16\u001b[0m, in \u001b[0;36mfortune_teller\u001b[0;34m(lucky_number)\u001b[0m\n\u001b[1;32m     15\u001b[0m \u001b[39mdef\u001b[39;00m \u001b[39mfortune_teller\u001b[39m(lucky_number):\n\u001b[0;32m---> 16\u001b[0m     fortune\u001b[39m=\u001b[39mfind_fortune(lucky_number)\n\u001b[1;32m     17\u001b[0m     \u001b[39mprint\u001b[39m(\u001b[39m'\u001b[39m\u001b[39mYour Fortune:\u001b[39m\u001b[39m'\u001b[39m, fortune)\n",
      "Cell \u001b[0;32mIn[31], line 11\u001b[0m, in \u001b[0;36mfind_fortune\u001b[0;34m(lucky_number)\u001b[0m\n\u001b[1;32m     10\u001b[0m \u001b[39mdef\u001b[39;00m \u001b[39mfind_fortune\u001b[39m(lucky_number):\n\u001b[0;32m---> 11\u001b[0m     fortune\u001b[39m=\u001b[39mget_fortune(\u001b[39mint\u001b[39;49m(lucky_number))\n\u001b[1;32m     12\u001b[0m     \u001b[39mreturn\u001b[39;00m fortune\n",
      "Cell \u001b[0;32mIn[31], line 5\u001b[0m, in \u001b[0;36mget_fortune\u001b[0;34m(lucky_number)\u001b[0m\n\u001b[1;32m      3\u001b[0m fortunes\u001b[39m=\u001b[39m[\u001b[39m'\u001b[39m\u001b[39m'\u001b[39m,\u001b[39m'\u001b[39m\u001b[39mYou have a great day ahead\u001b[39m\u001b[39m'\u001b[39m,\u001b[39m'\u001b[39m\u001b[39mLuck is on your side\u001b[39m\u001b[39m'\u001b[39m,\u001b[39m'\u001b[39m\u001b[39mBe cautious today\u001b[39m\u001b[39m'\u001b[39m,\u001b[39m'\u001b[39m\u001b[39mSuccess will follow you\u001b[39m\u001b[39m'\u001b[39m]\n\u001b[1;32m      4\u001b[0m \u001b[39mif\u001b[39;00m lucky_number\u001b[39m<\u001b[39m\u001b[39m0\u001b[39m:\n\u001b[0;32m----> 5\u001b[0m     \u001b[39mreturn\u001b[39;00m too_much_negativity()\n\u001b[1;32m      6\u001b[0m \u001b[39melif\u001b[39;00m lucky_number\u001b[39m==\u001b[39m\u001b[39m0\u001b[39m:\n\u001b[1;32m      7\u001b[0m     \u001b[39mreturn\u001b[39;00m \u001b[39m2\u001b[39m\u001b[39m/\u001b[39m\u001b[39m0\u001b[39m\n",
      "\u001b[0;31mNameError\u001b[0m: name 'too_much_negativity' is not defined"
     ]
    }
   ],
   "source": [
    "fortune_teller(-2)\n",
    "print('fortune predicted')"
   ]
  },
  {
   "cell_type": "code",
   "execution_count": 36,
   "metadata": {},
   "outputs": [
    {
     "ename": "ZeroDivisionError",
     "evalue": "division by zero",
     "output_type": "error",
     "traceback": [
      "\u001b[0;31m---------------------------------------------------------------------------\u001b[0m",
      "\u001b[0;31mZeroDivisionError\u001b[0m                         Traceback (most recent call last)",
      "Cell \u001b[0;32mIn[36], line 1\u001b[0m\n\u001b[0;32m----> 1\u001b[0m fortune_teller(\u001b[39m0\u001b[39;49m)\n\u001b[1;32m      2\u001b[0m \u001b[39mprint\u001b[39m(\u001b[39m'\u001b[39m\u001b[39mfortune predicted\u001b[39m\u001b[39m'\u001b[39m)\n",
      "Cell \u001b[0;32mIn[31], line 16\u001b[0m, in \u001b[0;36mfortune_teller\u001b[0;34m(lucky_number)\u001b[0m\n\u001b[1;32m     15\u001b[0m \u001b[39mdef\u001b[39;00m \u001b[39mfortune_teller\u001b[39m(lucky_number):\n\u001b[0;32m---> 16\u001b[0m     fortune\u001b[39m=\u001b[39mfind_fortune(lucky_number)\n\u001b[1;32m     17\u001b[0m     \u001b[39mprint\u001b[39m(\u001b[39m'\u001b[39m\u001b[39mYour Fortune:\u001b[39m\u001b[39m'\u001b[39m, fortune)\n",
      "Cell \u001b[0;32mIn[31], line 11\u001b[0m, in \u001b[0;36mfind_fortune\u001b[0;34m(lucky_number)\u001b[0m\n\u001b[1;32m     10\u001b[0m \u001b[39mdef\u001b[39;00m \u001b[39mfind_fortune\u001b[39m(lucky_number):\n\u001b[0;32m---> 11\u001b[0m     fortune\u001b[39m=\u001b[39mget_fortune(\u001b[39mint\u001b[39;49m(lucky_number))\n\u001b[1;32m     12\u001b[0m     \u001b[39mreturn\u001b[39;00m fortune\n",
      "Cell \u001b[0;32mIn[31], line 7\u001b[0m, in \u001b[0;36mget_fortune\u001b[0;34m(lucky_number)\u001b[0m\n\u001b[1;32m      5\u001b[0m     \u001b[39mreturn\u001b[39;00m too_much_negativity()\n\u001b[1;32m      6\u001b[0m \u001b[39melif\u001b[39;00m lucky_number\u001b[39m==\u001b[39m\u001b[39m0\u001b[39m:\n\u001b[0;32m----> 7\u001b[0m     \u001b[39mreturn\u001b[39;00m \u001b[39m2\u001b[39;49m\u001b[39m/\u001b[39;49m\u001b[39m0\u001b[39;49m\n\u001b[1;32m      8\u001b[0m \u001b[39mreturn\u001b[39;00m fortunes[lucky_number]\n",
      "\u001b[0;31mZeroDivisionError\u001b[0m: division by zero"
     ]
    }
   ],
   "source": [
    "fortune_teller(0)\n",
    "print('fortune predicted')"
   ]
  },
  {
   "cell_type": "code",
   "execution_count": 37,
   "metadata": {},
   "outputs": [
    {
     "ename": "ValueError",
     "evalue": "invalid literal for int() with base 10: 'Hi'",
     "output_type": "error",
     "traceback": [
      "\u001b[0;31m---------------------------------------------------------------------------\u001b[0m",
      "\u001b[0;31mValueError\u001b[0m                                Traceback (most recent call last)",
      "Cell \u001b[0;32mIn[37], line 1\u001b[0m\n\u001b[0;32m----> 1\u001b[0m fortune_teller(\u001b[39m'\u001b[39;49m\u001b[39mHi\u001b[39;49m\u001b[39m'\u001b[39;49m)\n\u001b[1;32m      2\u001b[0m \u001b[39mprint\u001b[39m(\u001b[39m'\u001b[39m\u001b[39mfortune predicted\u001b[39m\u001b[39m'\u001b[39m)\n",
      "Cell \u001b[0;32mIn[31], line 16\u001b[0m, in \u001b[0;36mfortune_teller\u001b[0;34m(lucky_number)\u001b[0m\n\u001b[1;32m     15\u001b[0m \u001b[39mdef\u001b[39;00m \u001b[39mfortune_teller\u001b[39m(lucky_number):\n\u001b[0;32m---> 16\u001b[0m     fortune\u001b[39m=\u001b[39mfind_fortune(lucky_number)\n\u001b[1;32m     17\u001b[0m     \u001b[39mprint\u001b[39m(\u001b[39m'\u001b[39m\u001b[39mYour Fortune:\u001b[39m\u001b[39m'\u001b[39m, fortune)\n",
      "Cell \u001b[0;32mIn[31], line 11\u001b[0m, in \u001b[0;36mfind_fortune\u001b[0;34m(lucky_number)\u001b[0m\n\u001b[1;32m     10\u001b[0m \u001b[39mdef\u001b[39;00m \u001b[39mfind_fortune\u001b[39m(lucky_number):\n\u001b[0;32m---> 11\u001b[0m     fortune\u001b[39m=\u001b[39mget_fortune(\u001b[39mint\u001b[39;49m(lucky_number))\n\u001b[1;32m     12\u001b[0m     \u001b[39mreturn\u001b[39;00m fortune\n",
      "\u001b[0;31mValueError\u001b[0m: invalid literal for int() with base 10: 'Hi'"
     ]
    }
   ],
   "source": [
    "fortune_teller('Hi')\n",
    "print('fortune predicted')"
   ]
  },
  {
   "cell_type": "code",
   "execution_count": 38,
   "metadata": {},
   "outputs": [],
   "source": [
    "\n",
    "def fortune_teller(lucky_number):\n",
    "    try:\n",
    "        fortune=find_fortune(lucky_number)\n",
    "        print('Your Fortune:', fortune)\n",
    "    except:\n",
    "        print('Your fortune is foggy!')"
   ]
  },
  {
   "cell_type": "code",
   "execution_count": 42,
   "metadata": {},
   "outputs": [],
   "source": [
    "def test_fortune_teller():\n",
    "    fortune_teller(2)\n",
    "    fortune_teller(20)\n",
    "    fortune_teller(-1)\n",
    "    fortune_teller(0)\n",
    "    fortune_teller('Hi')\n",
    "    fortune_teller(4)"
   ]
  },
  {
   "cell_type": "code",
   "execution_count": 43,
   "metadata": {},
   "outputs": [
    {
     "name": "stdout",
     "output_type": "stream",
     "text": [
      "Your Fortune: Luck is on your side\n",
      "Your fortune is foggy!\n",
      "Your fortune is foggy!\n",
      "Your fortune is foggy!\n",
      "Your fortune is foggy!\n",
      "Your Fortune: Success will follow you\n"
     ]
    }
   ],
   "source": [
    "test_fortune_teller()"
   ]
  },
  {
   "attachments": {},
   "cell_type": "markdown",
   "metadata": {},
   "source": [
    "### except => problem solved\n",
    "\n",
    "* once we encounter and except, the problem is considered solved.\n",
    "* the application shall not crash\n",
    "\n",
    "### But we don't want **foggy** fortune\n",
    "\n",
    "* we would like to what exactly happened.\n",
    "* except can take  exception variable"
   ]
  },
  {
   "cell_type": "code",
   "execution_count": 47,
   "metadata": {},
   "outputs": [],
   "source": [
    "def fortune_teller(lucky_number):\n",
    "    try:\n",
    "        fortune=find_fortune(lucky_number)\n",
    "        print('Your Fortune:', fortune)\n",
    "    except Exception as ex:\n",
    "        print(f'Your fortune is foggy because of \"{ex}\"')"
   ]
  },
  {
   "cell_type": "code",
   "execution_count": 48,
   "metadata": {},
   "outputs": [
    {
     "name": "stdout",
     "output_type": "stream",
     "text": [
      "Your Fortune: Luck is on your side\n",
      "Your fortune is foggy because of \"list index out of range\"\n",
      "Your fortune is foggy because of \"name 'too_much_negativity' is not defined\"\n",
      "Your fortune is foggy because of \"division by zero\"\n",
      "Your fortune is foggy because of \"invalid literal for int() with base 10: 'Hi'\"\n",
      "Your Fortune: Success will follow you\n"
     ]
    }
   ],
   "source": [
    "test_fortune_teller()"
   ]
  },
  {
   "attachments": {},
   "cell_type": "markdown",
   "metadata": {},
   "source": [
    "### But these error messages are not friendly and we may not want to handle all of them in the same way\n",
    "\n",
    "* we can write multiple except block after a try\n"
   ]
  },
  {
   "cell_type": "code",
   "execution_count": 49,
   "metadata": {},
   "outputs": [],
   "source": [
    "def fortune_teller(lucky_number):\n",
    "    try:\n",
    "        fortune=find_fortune(lucky_number)\n",
    "        print('Your Fortune:', fortune)\n",
    "    except IndexError as ex:\n",
    "        print(f'You are over-ambitious')\n",
    "    except NameError :\n",
    "        print(f'There is too much negativity arround you')\n",
    "    except ZeroDivisionError:\n",
    "        print(f'You have No Luck')\n",
    "    except ValueError:\n",
    "        print(f'You should learn number system')"
   ]
  },
  {
   "cell_type": "code",
   "execution_count": 50,
   "metadata": {},
   "outputs": [],
   "source": [
    "def test_fortune_teller():\n",
    "    lucky_numbers=[2,-1,0,'Hi',3,100]\n",
    "    for lucky_number in lucky_numbers:\n",
    "        print(f'testing fortune for {lucky_number}: ', end=\"\\n\\t\")\n",
    "        fortune_teller(lucky_number)"
   ]
  },
  {
   "cell_type": "code",
   "execution_count": 51,
   "metadata": {},
   "outputs": [
    {
     "name": "stdout",
     "output_type": "stream",
     "text": [
      "testing fortune for 2: \n",
      "\tYour Fortune: Luck is on your side\n",
      "testing fortune for -1: \n",
      "\tThere is too much negativity arround you\n",
      "testing fortune for 0: \n",
      "\tYou have No Luck\n",
      "testing fortune for Hi: \n",
      "\tYou should learn number system\n",
      "testing fortune for 3: \n",
      "\tYour Fortune: Be cautious today\n",
      "testing fortune for 100: \n",
      "\tYou are over-ambitious\n"
     ]
    }
   ],
   "source": [
    "test_fortune_teller()"
   ]
  },
  {
   "attachments": {},
   "cell_type": "markdown",
   "metadata": {},
   "source": [
    "### User defined exceptions\n",
    "\n",
    "* for user specific needs we may have to create our own exceptions \n",
    "* our exceptions should be **raised** instead of **return**\n",
    "\n",
    "#### we can raise any object."
   ]
  },
  {
   "cell_type": "code",
   "execution_count": 52,
   "metadata": {},
   "outputs": [
    {
     "ename": "TypeError",
     "evalue": "exceptions must derive from BaseException",
     "output_type": "error",
     "traceback": [
      "\u001b[0;31m---------------------------------------------------------------------------\u001b[0m",
      "\u001b[0;31mTypeError\u001b[0m                                 Traceback (most recent call last)",
      "Cell \u001b[0;32mIn[52], line 1\u001b[0m\n\u001b[0;32m----> 1\u001b[0m \u001b[39mraise\u001b[39;00m \u001b[39m0\u001b[39m\n",
      "\u001b[0;31mTypeError\u001b[0m: exceptions must derive from BaseException"
     ]
    }
   ],
   "source": [
    "raise 0"
   ]
  },
  {
   "cell_type": "code",
   "execution_count": 53,
   "metadata": {},
   "outputs": [
    {
     "ename": "TypeError",
     "evalue": "exceptions must derive from BaseException",
     "output_type": "error",
     "traceback": [
      "\u001b[0;31m---------------------------------------------------------------------------\u001b[0m",
      "\u001b[0;31mTypeError\u001b[0m                                 Traceback (most recent call last)",
      "Cell \u001b[0;32mIn[53], line 4\u001b[0m\n\u001b[1;32m      1\u001b[0m \u001b[39mclass\u001b[39;00m \u001b[39mMyException\u001b[39;00m:\n\u001b[1;32m      2\u001b[0m     \u001b[39mpass\u001b[39;00m\n\u001b[0;32m----> 4\u001b[0m \u001b[39mraise\u001b[39;00m MyException()\n",
      "\u001b[0;31mTypeError\u001b[0m: exceptions must derive from BaseException"
     ]
    }
   ],
   "source": [
    "class MyException:\n",
    "    pass\n",
    "\n",
    "raise MyException()"
   ]
  },
  {
   "cell_type": "markdown",
   "metadata": {},
   "source": [
    "### creating user defined exception\n",
    "\n",
    "1. We need to define our own class\n",
    "2. The class should be a sub class of BaseException or its subclass"
   ]
  },
  {
   "cell_type": "code",
   "execution_count": 54,
   "metadata": {},
   "outputs": [],
   "source": [
    "class MyException(BaseException):\n",
    "    pass"
   ]
  },
  {
   "cell_type": "code",
   "execution_count": 55,
   "metadata": {},
   "outputs": [
    {
     "ename": "MyException",
     "evalue": "",
     "output_type": "error",
     "traceback": [
      "\u001b[0;31m---------------------------------------------------------------------------\u001b[0m",
      "\u001b[0;31mMyException\u001b[0m                               Traceback (most recent call last)",
      "Cell \u001b[0;32mIn[55], line 1\u001b[0m\n\u001b[0;32m----> 1\u001b[0m \u001b[39mraise\u001b[39;00m MyException()\n",
      "\u001b[0;31mMyException\u001b[0m: "
     ]
    }
   ],
   "source": [
    "raise MyException()"
   ]
  },
  {
   "cell_type": "code",
   "execution_count": 56,
   "metadata": {},
   "outputs": [
    {
     "ename": "MyException",
     "evalue": "My Message",
     "output_type": "error",
     "traceback": [
      "\u001b[0;31m---------------------------------------------------------------------------\u001b[0m",
      "\u001b[0;31mMyException\u001b[0m                               Traceback (most recent call last)",
      "Cell \u001b[0;32mIn[56], line 1\u001b[0m\n\u001b[0;32m----> 1\u001b[0m \u001b[39mraise\u001b[39;00m MyException(\u001b[39m\"\u001b[39m\u001b[39mMy Message\u001b[39m\u001b[39m\"\u001b[39m)\n",
      "\u001b[0;31mMyException\u001b[0m: My Message"
     ]
    }
   ],
   "source": [
    "raise MyException(\"My Message\")"
   ]
  },
  {
   "attachments": {},
   "cell_type": "markdown",
   "metadata": {},
   "source": [
    "### Creating Exception Hierarchy\n",
    "\n",
    "* we may create multiple subclasses to represent our idea"
   ]
  },
  {
   "cell_type": "code",
   "execution_count": 57,
   "metadata": {},
   "outputs": [],
   "source": [
    "class LuckException(BaseException):\n",
    "    def __init__(self,lucky_number, message=None):\n",
    "        super().__init__(message)\n",
    "\n",
    "class NegativeLuckException(LuckException):\n",
    "    pass\n",
    "\n",
    "class ZeroLuckException(LuckException):\n",
    "    def __init__(self,message=\"Zero doesn't bring Luck\"):\n",
    "        super().__init__(0,message)\n",
    "\n",
    "class AmbitionException(LuckException):\n",
    "    pass"
   ]
  },
  {
   "cell_type": "code",
   "execution_count": 64,
   "metadata": {},
   "outputs": [],
   "source": [
    "def get_fortune(lucky_number):\n",
    "    \n",
    "    fortunes=['','You have a great day ahead','Luck is on your side','Be cautious today','Success will follow you']\n",
    "    if lucky_number<0:\n",
    "        raise NegativeLuckException(lucky_number,'You have too much of negativity around your')\n",
    "    elif lucky_number==0:\n",
    "        raise ZeroLuckException()\n",
    "    return fortunes[lucky_number]\n",
    "\n",
    "def find_fortune(lucky_number):\n",
    "    forutne=None\n",
    "    try:\n",
    "        fortune=get_fortune(int(lucky_number))\n",
    "        print('fortune fetched')\n",
    "    except IndexError:\n",
    "        raise AmbitionException(lucky_number)\n",
    "    except ValueError:\n",
    "        fortune= \"You should Learn Number System\"\n",
    "    return fortune\n",
    "\n",
    "def fortune_teller(lucky_number):\n",
    "    try:\n",
    "        fortune=find_fortune(lucky_number)\n",
    "        print('Your Fortune:', fortune)\n",
    "    except LuckException as e:\n",
    "        print(f'Something making probelm in reading your luck: {e}')"
   ]
  },
  {
   "cell_type": "code",
   "execution_count": 65,
   "metadata": {},
   "outputs": [
    {
     "name": "stdout",
     "output_type": "stream",
     "text": [
      "testing fortune for 2: \n",
      "\tfortune fetched\n",
      "Your Fortune: Luck is on your side\n",
      "testing fortune for -1: \n",
      "\tSomething making probelm in reading your luck: You have too much of negativity around your\n",
      "testing fortune for 0: \n",
      "\tSomething making probelm in reading your luck: Zero doesn't bring Luck\n",
      "testing fortune for Hi: \n",
      "\tYour Fortune: You should Learn Number System\n",
      "testing fortune for 3: \n",
      "\tfortune fetched\n",
      "Your Fortune: Be cautious today\n",
      "testing fortune for 100: \n",
      "\tSomething making probelm in reading your luck: None\n"
     ]
    }
   ],
   "source": [
    "test_fortune_teller()"
   ]
  },
  {
   "attachments": {},
   "cell_type": "markdown",
   "metadata": {},
   "source": [
    "### Note\n",
    "\n"
   ]
  },
  {
   "attachments": {},
   "cell_type": "markdown",
   "metadata": {},
   "source": [
    "## Finally\n",
    "\n",
    "* In exception programming there is no gurantee that a piece of code will always run\n",
    "* consider the function find_fortune\n",
    "\n",
    "```python\n",
    "def find_fortune(lucky_number):\n",
    "    forutne=None\n",
    "    try:\n",
    "        fortune=get_fortune(int(lucky_number))\n",
    "        print('fortune fetched')\n",
    "    except IndexError:\n",
    "        raise AmbitionException(lucky_number)\n",
    "    except ValueError:\n",
    "        fortune= \"You should Learn Number System\"\n",
    "    return fortune\n",
    "\n",
    "```\n",
    "\n",
    "* there is no gurantee that\n",
    "\n",
    "1. try will execute fully\n",
    "    * we may get an exception\n",
    "2. any of the except will execute\n",
    "    * we may not get those exceptions\n",
    "3. code after try-except will execute\n",
    "    * we may have unhandled exception\n",
    "\n",
    "\n",
    "### How do we ensure some code runs, no matter what?\n",
    "\n",
    "* a try may have one (and only one) finally\n",
    "* it will always exceute after\n",
    "    1. successful completion of try or\n",
    "    2. if exception is thrown and handled, it is called after executing except\n",
    "    3. if exception is thrown but not handled, it is called before leaving this function"
   ]
  },
  {
   "cell_type": "code",
   "execution_count": 67,
   "metadata": {},
   "outputs": [],
   "source": [
    "def find_fortune(lucky_number):\n",
    "    forutne=None\n",
    "    try:\n",
    "        fortune=get_fortune(int(lucky_number))\n",
    "        print('fortune fetched')\n",
    "    except IndexError:\n",
    "        raise AmbitionException(lucky_number)\n",
    "    except ValueError:\n",
    "        fortune= \"You should Learn Number System\"\n",
    "    finally:\n",
    "        print('finally called')\n",
    "    return fortune\n"
   ]
  },
  {
   "cell_type": "code",
   "execution_count": 68,
   "metadata": {},
   "outputs": [
    {
     "name": "stdout",
     "output_type": "stream",
     "text": [
      "testing fortune for 2: \n",
      "\tfortune fetched\n",
      "finally called\n",
      "Your Fortune: Luck is on your side\n",
      "testing fortune for -1: \n",
      "\tfinally called\n",
      "Something making probelm in reading your luck: You have too much of negativity around your\n",
      "testing fortune for 0: \n",
      "\tfinally called\n",
      "Something making probelm in reading your luck: Zero doesn't bring Luck\n",
      "testing fortune for Hi: \n",
      "\tfinally called\n",
      "Your Fortune: You should Learn Number System\n",
      "testing fortune for 3: \n",
      "\tfortune fetched\n",
      "finally called\n",
      "Your Fortune: Be cautious today\n",
      "testing fortune for 100: \n",
      "\tfinally called\n",
      "Something making probelm in reading your luck: None\n"
     ]
    }
   ],
   "source": [
    "test_fortune_teller()"
   ]
  },
  {
   "cell_type": "code",
   "execution_count": null,
   "metadata": {},
   "outputs": [],
   "source": []
  }
 ],
 "metadata": {
  "kernelspec": {
   "display_name": "Python 3",
   "language": "python",
   "name": "python3"
  },
  "language_info": {
   "codemirror_mode": {
    "name": "ipython",
    "version": 3
   },
   "file_extension": ".py",
   "mimetype": "text/x-python",
   "name": "python",
   "nbconvert_exporter": "python",
   "pygments_lexer": "ipython3",
   "version": "3.9.1"
  },
  "orig_nbformat": 4,
  "vscode": {
   "interpreter": {
    "hash": "bc4e78314997db9a44b6830e0aa6b75a33973256eb5fdaf587cb7b38c9328874"
   }
  }
 },
 "nbformat": 4,
 "nbformat_minor": 2
}
